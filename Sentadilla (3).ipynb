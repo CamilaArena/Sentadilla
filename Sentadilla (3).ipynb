{
  "cells": [
    {
      "cell_type": "code",
      "execution_count": null,
      "metadata": {
        "id": "KVMPhypc9WG0"
      },
      "outputs": [],
      "source": [
        "!pip install mediapipe"
      ]
    },
    {
      "cell_type": "code",
      "execution_count": 27,
      "metadata": {
        "id": "ZsNaOuEZ_55x"
      },
      "outputs": [],
      "source": [
        "import cv2\n",
        "import pandas as pd\n",
        "import mediapipe as mp\n",
        "import numpy as np\n",
        "import pandas as pd\n",
        "import matplotlib.pyplot as plt\n",
        "import plotly.express as px\n",
        "import plotly.graph_objects as go\n",
        "from scipy.signal import savgol_filter\n",
        "from scipy.interpolate import interp1d\n",
        "import math"
      ]
    },
    {
      "cell_type": "code",
      "source": [
        "from google.colab import drive\n",
        "drive.mount('/content/drive')"
      ],
      "metadata": {
        "id": "lXkXbY191HGT",
        "colab": {
          "base_uri": "https://localhost:8080/"
        },
        "outputId": "dd994727-923c-49ce-ef4e-5db3fb2d4388"
      },
      "execution_count": 3,
      "outputs": [
        {
          "output_type": "stream",
          "name": "stdout",
          "text": [
            "Mounted at /content/drive\n"
          ]
        }
      ]
    },
    {
      "cell_type": "markdown",
      "source": [
        "# Rutas\n",
        "Definición de las rutas de input y output"
      ],
      "metadata": {
        "id": "nDZniePjb73C"
      }
    },
    {
      "cell_type": "code",
      "source": [
        "video_path = '/content/drive/MyDrive/Física Muscle-up/lat_tincho.mov'\n",
        "output_video_path = '/content/drive/MyDrive/Física Muscle-up/tracked_video.mp4'\n",
        "output_csv_path = '/content/drive/MyDrive/Física Muscle-up/pose_data.csv'"
      ],
      "metadata": {
        "id": "JCz2CKTYcAFg"
      },
      "execution_count": 4,
      "outputs": []
    },
    {
      "cell_type": "markdown",
      "source": [
        "#Input usuario\n",
        "peso persona"
      ],
      "metadata": {
        "id": "Id245ec7bv0b"
      }
    },
    {
      "cell_type": "code",
      "source": [
        "peso_persona = 65 #kg\n",
        "altura_persona = 176 #cm\n",
        "peso_pesa = 140 #kg"
      ],
      "metadata": {
        "id": "hy06JpEJbxUL"
      },
      "execution_count": 5,
      "outputs": []
    },
    {
      "cell_type": "markdown",
      "metadata": {
        "id": "4aZewwxEBz_O"
      },
      "source": [
        "#Crear columnas del dataframe\n",
        "\n",
        "Procesa el video y almacena los datos de las poses. Define las columnas para un DataFrame donde se guardarán las coordenadas de las articulaciones detectadas en cada cuadro del video."
      ]
    },
    {
      "cell_type": "markdown",
      "source": [],
      "metadata": {
        "id": "_N_vm-UIxRzO"
      }
    },
    {
      "cell_type": "code",
      "execution_count": 6,
      "metadata": {
        "id": "mFNyLuI-B522",
        "colab": {
          "base_uri": "https://localhost:8080/"
        },
        "outputId": "880eb1a3-380b-406d-fe26-45c4638195fa"
      },
      "outputs": [
        {
          "output_type": "stream",
          "name": "stdout",
          "text": [
            "Width: 2160\n",
            "Height: 3840\n",
            "Frames per second: 60.0\n",
            "tiempo_por_frame: 0.016666666666666666\n"
          ]
        }
      ],
      "source": [
        "mp_drawing = mp.solutions.drawing_utils\n",
        "mp_pose = mp.solutions.pose\n",
        "\n",
        "cap = cv2.VideoCapture(video_path)\n",
        "\n",
        "video_height = int(cap.get(cv2.CAP_PROP_FRAME_HEIGHT))\n",
        "video_width = int(cap.get(cv2.CAP_PROP_FRAME_WIDTH))\n",
        "video_fps = cap.get(cv2.CAP_PROP_FPS)\n",
        "tiempo_por_frame = 1/video_fps\n",
        "\n",
        "print(\"Width:\", video_width)\n",
        "print(\"Height:\", video_height)\n",
        "print(\"Frames per second:\", video_fps)\n",
        "print(\"tiempo_por_frame:\", tiempo_por_frame)\n",
        "\n",
        "# Defino cuales son las articulaciones que me interesa estudiar\n",
        "articulaciones = [\n",
        "    mp_pose.PoseLandmark.LEFT_WRIST,\n",
        "    mp_pose.PoseLandmark.RIGHT_WRIST,\n",
        "    mp_pose.PoseLandmark.LEFT_HIP,\n",
        "    mp_pose.PoseLandmark.RIGHT_HIP,\n",
        "    mp_pose.PoseLandmark.LEFT_KNEE,\n",
        "    mp_pose.PoseLandmark.RIGHT_KNEE,\n",
        "    mp_pose.PoseLandmark.LEFT_ANKLE,\n",
        "    mp_pose.PoseLandmark.RIGHT_ANKLE\n",
        "]\n",
        "\n",
        "columns = ['frame_number']\n",
        "for landmark in articulaciones:\n",
        "    columns.append(landmark.name + '_X')\n",
        "    columns.append(landmark.name + '_Y')\n",
        "    columns.append(landmark.name + '_Z')\n",
        "columns.append(\"Tiempo\")\n",
        "columns.append(\"VelocidadAngular\")\n",
        "columns.append(\"Velocidad(Rodilla)_X\")\n",
        "columns.append(\"Velocidad(Rodilla)_Y\")\n",
        "columns.append(\"Velocidad(Cadera)_X\")\n",
        "columns.append(\"Velocidad(Cadera)_Y\")\n",
        "columns.append(\"Aceleracion(Rodilla)_X\")\n",
        "columns.append(\"Aceleracion(Rodilla)_Y\")\n",
        "columns.append(\"Aceleracion(Cadera)_X\")\n",
        "columns.append(\"Aceleracion(Cadera)_Y\")\n",
        "columns.append(\"Torque(Rodilla)\")\n",
        "columns.append(\"Torque(Cadera)\")\n",
        "\n",
        "df_completo = pd.DataFrame(columns=columns)\n",
        "\n",
        "pose = mp_pose.Pose(min_detection_confidence=0.5, min_tracking_confidence=0.5)\n",
        "\n",
        "video_writer = cv2.VideoWriter(output_video_path, cv2.VideoWriter_fourcc(*'mp4v'), video_fps, (int(cap.get(3)), int(cap.get(4))))"
      ]
    },
    {
      "cell_type": "markdown",
      "metadata": {
        "id": "a8mI-HB8E5BK"
      },
      "source": [
        "# Función para calcular ángulo\n",
        "Esta función toma tres puntos y calcula el ángulo formado por los segmentos de línea que conectan estos puntos."
      ]
    },
    {
      "cell_type": "code",
      "execution_count": 7,
      "metadata": {
        "id": "1raudG1LFygC"
      },
      "outputs": [],
      "source": [
        "def calculate_angle(a, b, c):\n",
        "  #articulaciones convertidas en arreglos para poder usar sus datos en las coordenadas X e Y\n",
        "  art_1 = np.array(a)\n",
        "  art_2 = np.array(b)\n",
        "  art_3 = np.array(c)\n",
        "\n",
        "  radians = np.arctan2(c[1]-b[1], c[0]-b[0]) - np.arctan2(a[1]-b[1], a[0]-b[0])\n",
        "\n",
        "  #El ángulo calculado se convierte de radianes a grados y se toma el valor absoluto --> Grados = Radianes * 180 / π\n",
        "  angle = np.abs(radians*180.0/np.pi)\n",
        "\n",
        "  #Se normaliza el ángulo calculado para asegurarse de que esté en el rango de 0 a 180 grados.\n",
        "  if angle>180.0:\n",
        "    angle = 360-angle\n",
        "\n",
        "  return angle"
      ]
    },
    {
      "cell_type": "markdown",
      "metadata": {
        "id": "bUKj8O5kHJ09"
      },
      "source": [
        "#Función extraer posiciones\n",
        "Toma un conjunto de landmarks y una lista de nombres de articulaciones. Luego, itera sobre cada nombre de parte del cuerpo proporcionado y extrae las coordenadas (x, y, z) del landmark correspondiente a esa parte del cuerpo. Estas coordenadas se agrupan en una lista y se devuelve una lista que contiene todas estas listas de coordenadas."
      ]
    },
    {
      "cell_type": "code",
      "execution_count": 8,
      "metadata": {
        "id": "eFtMNHSNHNnE"
      },
      "outputs": [],
      "source": [
        "# formato output:([[x1, y1, z1], [x2, y2, z2], [x3, y3, z3]]).\n",
        "def extraer_posiciones(df, frame_number, *articulaciones):\n",
        "    data = []\n",
        "    # Buscar la fila correspondiente al número de frame\n",
        "    row = df[df['frame_number'] == frame_number]\n",
        "\n",
        "    for articulacion in articulaciones:\n",
        "        x = row[articulacion+ '_X'].iloc[0]\n",
        "        y = row[articulacion+ '_Y'].iloc[0]\n",
        "        z = row[articulacion+ '_Z'].iloc[0]\n",
        "\n",
        "        data.append([x, y, z])\n",
        "    return data"
      ]
    },
    {
      "cell_type": "markdown",
      "source": [
        "# Función para extraer velocidad\n",
        "\n",
        "Dado un dataframe y un numero de frame, retorna la velocidad instantánea correspondiente a la fila con el numero de frame pasado por parámetro."
      ],
      "metadata": {
        "id": "seofBpbQGctX"
      }
    },
    {
      "cell_type": "code",
      "source": [
        "def extraer_velocidad(df, frame_number):\n",
        "    # Buscar la fila correspondiente al número de frame\n",
        "    row = df[df['frame_number'] == frame_number]\n",
        "    return row[\"Velocidad(Cadera)\"].iloc[0]"
      ],
      "metadata": {
        "id": "_RqfbXCtoXRz"
      },
      "execution_count": 9,
      "outputs": []
    },
    {
      "cell_type": "markdown",
      "metadata": {
        "id": "oqNhNlPrYKPq"
      },
      "source": [
        "#Función para convertir coordenadas normalizadas a metros"
      ]
    },
    {
      "cell_type": "code",
      "execution_count": 10,
      "metadata": {
        "id": "LyEQOtuxYTPO"
      },
      "outputs": [],
      "source": [
        "def coordenadas_a_distancia(a, b):\n",
        "    # Calcula la diferencia en coordenadas normalizadas\n",
        "    dx = b[0] - a[0]\n",
        "    dy = b[1] - a[1]\n",
        "\n",
        "    # Relación pixel-distancia en el eje x y en el eje y\n",
        "    # primer coordenada: proporción de x\n",
        "    # segunda coordenada: porporcion de y\n",
        "    relacion_pixel_distancia = (0.58/0.292, 0.614)\n",
        "\n",
        "    # Convierte la diferencia en píxeles a distancia real usando la relación pixel-distancia\n",
        "    distancia_x = dx * relacion_pixel_distancia[0]\n",
        "    distancia_y = dy * relacion_pixel_distancia[1]\n",
        "\n",
        "    # Calcula la distancia euclidiana en el mundo real\n",
        "    return (distancia_x**2 + distancia_y**2)**0.5\n"
      ]
    },
    {
      "cell_type": "markdown",
      "source": [
        "# Velocidad angular\n",
        "Calcula la velocidad angular entre tres puntos a, b y c\n",
        "\n",
        "\n",
        "Retorna la velocidad angular en radianes por segundo.\n",
        "\n",
        "La velocidad angular (ω) es una medida de la rapidez con la que un objeto rota alrededor de un eje específico.\n",
        "\n",
        "Se define como el cambio en el ángulo (θ) que recorre el objeto por unidad de tiempo."
      ],
      "metadata": {
        "id": "GHR-CQI4Z_JV"
      }
    },
    {
      "cell_type": "code",
      "source": [
        "def velocidad_angular(angulo_inicial, angulo_final, delta_tiempo):\n",
        "    # Calcular el cambio en el ángulo\n",
        "    delta_theta = angulo_final - angulo_inicial\n",
        "\n",
        "    # Calcular la velocidad angular\n",
        "    # Recordar que omega = theta punto = vel angular = Delta theta / Delta t\n",
        "    # Donde Delta theta es el cambio en rotación angular y Delta t es el cambio en el tiempo\n",
        "    # ENTONCES: la velocidad angular se calcula dividiendo la diferencia total del ángulo (delta_theta) por el tiempo transcurrido entre las mediciones (1 / frame_rate).\n",
        "    angular_velocity = delta_theta / delta_tiempo\n",
        "    return angular_velocity"
      ],
      "metadata": {
        "id": "sBWY6u8LaCbm"
      },
      "execution_count": 11,
      "outputs": []
    },
    {
      "cell_type": "markdown",
      "source": [
        "# Funcion para obtener Centro de Masa\n",
        "\n",
        "---\n",
        "\n",
        "\n",
        "Es el punto donde se puede considerar que toda la masa del objeto está distribuida uniformemente.\n",
        "\n",
        "Centro de masa = (sumatoria de las masas * sumatoria de las posiciones)/masa total\n",
        "\n",
        "\n"
      ],
      "metadata": {
        "id": "Z25IwCrZK7tu"
      }
    },
    {
      "cell_type": "code",
      "source": [
        "def obtenerCentroDeMasa():\n",
        "   # suponiendo que la persona pesa 65kg y la barra viendo los discos pesa otros 60kg\n",
        "    masaTotal = 125 # en kilos\n",
        "    SumatoriaX = 0\n",
        "    SumatoriaY = 0\n",
        "\n",
        "    while cap.isOpened():\n",
        "        ret, frame = cap.read()\n",
        "\n",
        "        if not ret:\n",
        "            break\n",
        "\n",
        "        for landmark in mp_pose.PoseLandmark:\n",
        "            SumatoriaX += masaTotal*results.pose_landmarks.landmark[landmark].x\n",
        "            SumatoriaY += masaTotal*results.pose_landmarks.landmark[landmark].y\n",
        "\n",
        "\n",
        "    SumatoriaX /= masaTotal\n",
        "    SumatoriaY /= masaTotal\n",
        "\n",
        "    # preguntar si lo que vamos a retornar nos va a dar la posicion de un frame o que nos de una coordenada\n",
        "    # deberia dar coordenada\n",
        "    return (SumatoriaX , SumatoriaY)"
      ],
      "metadata": {
        "id": "TnAOibp6LDJ_"
      },
      "execution_count": 12,
      "outputs": []
    },
    {
      "cell_type": "markdown",
      "source": [
        "#Dibujar diagrama"
      ],
      "metadata": {
        "id": "Cvq7b-RgIZFY"
      }
    },
    {
      "cell_type": "code",
      "source": [
        "def diagrama_cuerpo(frame_number):\n",
        "  #centro = obtenerCentroDeMasa()\n",
        "  left_wrist,right_wrist,left_ankle =  extraer_posiciones(df_completo,frame_number,'LEFT_WRIST','RIGHT_WRIST','LEFT_ANKLE')\n",
        "  print()\n",
        "  centro = ( (left_wrist[0] + right_wrist[0]) / 2 , (left_wrist[1] + left_ankle[1]) / 2 )\n",
        "  cv2.circle(image, (int(centro[0] * video_width) , int(centro[1] * video_height)) , 20, (255,0,255), -1,3)\n",
        "  # Grafico Peso\n",
        "  cv2.arrowedLine(image, (int(centro[0] * video_width) , int(centro[1] * video_height)) , (int(centro[0]* video_width) , int(centro[1]* video_height + video_height/6) ) , (255,0,0), 4)\n",
        "  # Grafico normal\n",
        "  cv2.arrowedLine(image, (int(centro[0] * video_width) , int(centro[1] * video_height)) , (int(centro[0]* video_width) , int(centro[1]* video_height - video_height/6) ) , (255,0,0), 4)\n",
        "  textoPeso =  str(peso_persona + peso_pesa)+\" Peso\"\n",
        "  textoNormal =  str(peso_persona + peso_pesa)+\" Normal\"\n",
        "\n",
        "  cv2.putText(image, textoPeso, (int(centro[0]* video_width) , int(centro[1]* video_height + video_height/6) ), cv2.FONT_HERSHEY_SIMPLEX, 2, (255, 255, 255), 4, cv2.LINE_AA)\n",
        "  cv2.putText(image, textoPeso, (int(centro[0]* video_width) , int(centro[1]* video_height - video_height/6) ), cv2.FONT_HERSHEY_SIMPLEX, 2, (255, 255, 255), 4, cv2.LINE_AA)\n",
        "  #cv2.line(image, int(centro[0]) * video_width , int(centro[0]-20) * video_width , (255,0,0), 4) #peso\n",
        "\n"
      ],
      "metadata": {
        "id": "8d6B6KSwIcW3"
      },
      "execution_count": 13,
      "outputs": []
    },
    {
      "cell_type": "markdown",
      "source": [
        "# Diagrama de cuerpo libre / Peso, Normal y Fuerza\n"
      ],
      "metadata": {
        "id": "_AZtT7fVclH2"
      }
    },
    {
      "cell_type": "code",
      "source": [
        "import matplotlib.pyplot as plt\n",
        "\n",
        "def diagramaDeCuerpo():\n",
        "    # Valores fijos se encuentran declarados al inicio\n",
        "    # Valor de la gravedad / aceleracion m/s2\n",
        "    g = 9.81\n",
        "    # Peso del cuerpo = 637\n",
        "    peso_cuerpo = masa_persona * g\n",
        "    # Peso de la barra / Evaluamos la barra y sus discos como un cuerpo = 1372N\n",
        "    peso_barra = masa_pesa * g\n",
        "\n",
        "    # Normal de la barra = 1372N\n",
        "    normal_barra = peso_barra\n",
        "    # Normal del cuerpo = 2009\n",
        "    normal_cuerpo = normal_barra + peso_cuerpo\n",
        "\n",
        "    # Tomaremos un valor estático para simular la fuerza realizada por la persona para levantar la barra. Se aplica sobre el cuerpo\n",
        "    # Segunda ley de Newton: sumatoria de fuerzas = masa * aceleracion. La fuerza debe ser mayor que 1372N\n",
        "    fuerza_empuje = 1400\n",
        "\n",
        "    if normal_cuerpo > 0:\n",
        "        normal_direccion_cuerpo = \"Upward\"\n",
        "        peso_direccion_cuerpo = \"Upward\"\n",
        "    else:\n",
        "        normal_direccion_cuerpo = \"Downward\"\n",
        "        peso_direccion_cuerpo = \"Downward\"\n",
        "\n",
        "    if normal_barra > 0:\n",
        "        normal_direccion_barra = \"Upward\"\n",
        "        peso_direccion_barra = \"Upward\"\n",
        "    else:\n",
        "        normal_direccion_barra = \"Downward\"\n",
        "        peso_direccion_barra = \"Downward\"\n",
        "\n",
        "    if fuerza_empuje > 0:\n",
        "        fuerza_direccion_cuerpo = \"Upward\"\n",
        "    else:\n",
        "        fuerza_direccion_cuerpo = \"Downward\"\n",
        "\n",
        "    return normal_direccion_cuerpo, peso_direccion_cuerpo, normal_direccion_barra, peso_direccion_barra, fuerza_direccion_cuerpo\n",
        "\n",
        "def generate_free_body_diagrams():\n",
        "    # Figura y ejes\n",
        "    fig, axs = plt.subplots(1, 3, figsize=(15, 5))\n",
        "\n",
        "    # Diagrama de cuerpo libre de la barra\n",
        "    axs[0].arrow(0, 0, 0, -1372, head_width=50, head_length=100, fc='red', ec='red')\n",
        "    axs[0].arrow(0, 0, 0, -637, head_width=50, head_length=100, fc='blue', ec='blue')\n",
        "    axs[0].set_xlim(-2000, 2000)\n",
        "    axs[0].set_ylim(-2000, 2000)\n",
        "    axs[0].set_xlabel('X')\n",
        "    axs[0].set_ylabel('Y')\n",
        "    axs[0].set_title('Diagrama de Cuerpo libre - Barra')\n",
        "\n",
        "    # Diagrama de cuerpo libre para el cuerpo\n",
        "    axs[1].arrow(0, 0, 0, -2009, head_width=50, head_length=100, fc='red', ec='red')\n",
        "    axs[1].arrow(0, 0, 0, -1400, head_width=50, head_length=100, fc='green', ec='green')\n",
        "    axs[1].arrow(0, 0, 0, -637, head_width=50, head_length=100, fc='blue', ec='blue')\n",
        "    axs[1].set_xlim(-2000, 2000)\n",
        "    axs[1].set_ylim(-2000, 2000)\n",
        "    axs[1].set_xlabel('X')\n",
        "    axs[1].set_ylabel('Y')\n",
        "    axs[1].set_title('Diagrama de cuerpo libre - Cuerpo')\n",
        "\n",
        "    # Diagrama de cuerpo libre del cuerpo con la barra encima\n",
        "    axs[2].arrow(0, 0, 0, -2009, head_width=50, head_length=100, fc='red', ec='red')\n",
        "    axs[2].arrow(0, 0, 0, -2772, head_width=50, head_length=100, fc='green', ec='green')\n",
        "    axs[2].arrow(0, 0, 0, -1372, head_width=50, head_length=100, fc='blue', ec='blue')\n",
        "    axs[2].arrow(0, -1372, 0, -637, head_width=50, head_length=100, fc='blue', ec='blue')\n",
        "    axs[2].set_xlim(-2000, 2000)\n",
        "    axs[2].set_ylim(-4000, 0)\n",
        "    axs[2].set_xlabel('X')\n",
        "    axs[2].set_ylabel('Y')\n",
        "    axs[2].set_title('Diagrama de cuerpo libre - Cuerpo con la barra')\n",
        "\n",
        "    plt.tight_layout()\n",
        "    plt.show()\n",
        "\n",
        "#Funciones para ejecutar el codigo\n",
        "diagramaDeCuerpo()\n",
        "generate_free_body_diagrams()"
      ],
      "metadata": {
        "id": "4l2D0_JAc0cM",
        "colab": {
          "base_uri": "https://localhost:8080/",
          "height": 327
        },
        "outputId": "64ab59e5-1af1-43f9-8b35-74ed9067cb61"
      },
      "execution_count": 14,
      "outputs": [
        {
          "output_type": "error",
          "ename": "NameError",
          "evalue": "name 'masa_persona' is not defined",
          "traceback": [
            "\u001b[0;31m---------------------------------------------------------------------------\u001b[0m",
            "\u001b[0;31mNameError\u001b[0m                                 Traceback (most recent call last)",
            "\u001b[0;32m<ipython-input-14-2966ac574226>\u001b[0m in \u001b[0;36m<cell line: 80>\u001b[0;34m()\u001b[0m\n\u001b[1;32m     78\u001b[0m \u001b[0;34m\u001b[0m\u001b[0m\n\u001b[1;32m     79\u001b[0m \u001b[0;31m#Funciones para ejecutar el codigo\u001b[0m\u001b[0;34m\u001b[0m\u001b[0;34m\u001b[0m\u001b[0m\n\u001b[0;32m---> 80\u001b[0;31m \u001b[0mdiagramaDeCuerpo\u001b[0m\u001b[0;34m(\u001b[0m\u001b[0;34m)\u001b[0m\u001b[0;34m\u001b[0m\u001b[0;34m\u001b[0m\u001b[0m\n\u001b[0m\u001b[1;32m     81\u001b[0m \u001b[0mgenerate_free_body_diagrams\u001b[0m\u001b[0;34m(\u001b[0m\u001b[0;34m)\u001b[0m\u001b[0;34m\u001b[0m\u001b[0;34m\u001b[0m\u001b[0m\n",
            "\u001b[0;32m<ipython-input-14-2966ac574226>\u001b[0m in \u001b[0;36mdiagramaDeCuerpo\u001b[0;34m()\u001b[0m\n\u001b[1;32m      6\u001b[0m     \u001b[0mg\u001b[0m \u001b[0;34m=\u001b[0m \u001b[0;36m9.81\u001b[0m\u001b[0;34m\u001b[0m\u001b[0;34m\u001b[0m\u001b[0m\n\u001b[1;32m      7\u001b[0m     \u001b[0;31m# Peso del cuerpo = 637\u001b[0m\u001b[0;34m\u001b[0m\u001b[0;34m\u001b[0m\u001b[0m\n\u001b[0;32m----> 8\u001b[0;31m     \u001b[0mpeso_cuerpo\u001b[0m \u001b[0;34m=\u001b[0m \u001b[0mmasa_persona\u001b[0m \u001b[0;34m*\u001b[0m \u001b[0mg\u001b[0m\u001b[0;34m\u001b[0m\u001b[0;34m\u001b[0m\u001b[0m\n\u001b[0m\u001b[1;32m      9\u001b[0m     \u001b[0;31m# Peso de la barra / Evaluamos la barra y sus discos como un cuerpo = 1372N\u001b[0m\u001b[0;34m\u001b[0m\u001b[0;34m\u001b[0m\u001b[0m\n\u001b[1;32m     10\u001b[0m     \u001b[0mpeso_barra\u001b[0m \u001b[0;34m=\u001b[0m \u001b[0mmasa_pesa\u001b[0m \u001b[0;34m*\u001b[0m \u001b[0mg\u001b[0m\u001b[0;34m\u001b[0m\u001b[0;34m\u001b[0m\u001b[0m\n",
            "\u001b[0;31mNameError\u001b[0m: name 'masa_persona' is not defined"
          ]
        }
      ]
    },
    {
      "cell_type": "markdown",
      "source": [
        "#Vector Velocidad instantanea"
      ],
      "metadata": {
        "id": "w6b6efbS2_W0"
      }
    },
    {
      "cell_type": "markdown",
      "source": [
        "La velocidad instantánea es la velocidad de un objeto en un momento específico en el tiempo.\n",
        "\n",
        "Se calcula como v(t) = dx / dt\n",
        "\n"
      ],
      "metadata": {
        "id": "8V7Xh4zgcIBI"
      }
    },
    {
      "cell_type": "code",
      "source": [
        "def velocidad_instantanea(pos_anterior, pos_actual, tiempo):\n",
        "  dx = pos_actual[0] - pos_anterior[0]\n",
        "  dy = pos_actual[1] - pos_anterior[1]\n",
        "  return (dx/tiempo, dy/tiempo)"
      ],
      "metadata": {
        "id": "XLWt9_vI3Bkj"
      },
      "execution_count": 15,
      "outputs": []
    },
    {
      "cell_type": "markdown",
      "source": [
        "#Vector Aceleracion instantanea\n",
        "La aceleración instantánea es la tasa de cambio instantánea de la velocidad de un objeto en un punto específico de su trayectoria.\n",
        "\n",
        "a(t) = dv / dt\n"
      ],
      "metadata": {
        "id": "RjG5v51-OcfU"
      }
    },
    {
      "cell_type": "code",
      "source": [
        "def aceleracion_instantanea(vel_actual_x, vel_anterior_x, vel_actual_y, vel_anterior_y, tiempo):\n",
        "  dvx = vel_actual_x - vel_anterior_x\n",
        "  dvy = vel_actual_y - vel_anterior_y\n",
        "  return (dvx/tiempo, dvy/tiempo)\n",
        "#df_completo[\"frame_number\"] == frame_number, \"Velocidad(Cadera)\"]"
      ],
      "metadata": {
        "id": "RkzEeU77OeT8"
      },
      "execution_count": 16,
      "outputs": []
    },
    {
      "cell_type": "markdown",
      "source": [
        "#Cálculo de Torque\n",
        "\n",
        "Se analiza los torques de cadera y rodilla durante una sentadilla. Primero, identifica las posiciones de las articulaciones de la cadera, rodilla y tobillo.\n",
        "\n",
        "Luego, calcula las distancias y ángulos entre las articulaciones, y utiliza estas medidas para estimar el torque generado por cada articulación.\n",
        "\n",
        "TORQUE = F x brazo momento\n",
        "\n",
        "Brazo momento = distancia entre articulación y carga (es la distancia desde el punto donde se aplica una fuerza hasta el punto de giro, en este caso el punto de giro es la cadera y la rodilla, y el punto de fuerza se hace desde la muñeca)\n",
        "F = 2/3 de lo que pesa la persona (cabeza y torso) + peso de carga"
      ],
      "metadata": {
        "id": "h_-0vbswLuAg"
      }
    },
    {
      "cell_type": "code",
      "source": [
        "def calcular_torques(a, b, c, d):\n",
        "   # left_wrist, left_hip, left_knee, left_ankle = extraer_posiciones(landmarks,frame_number ,'LEFT_WRIST', 'LEFT_HIP', 'LEFT_KNEE', 'LEFT_ANKLE')\n",
        "    e = (a[0], b[1])\n",
        "    r = (a[0], c[1])\n",
        "    #distancia_a_b = coordenadas_a_distancia(a, b)\n",
        "    #distancia_b_c = coordenadas_a_distancia(b, c)\n",
        "    #distancia_c_d = coordenadas_a_distancia(c, d)\n",
        "    # Perpendicular a la fuerza\n",
        "    distancia_b_e = coordenadas_a_distancia(b, e)\n",
        "    distancia_c_r = coordenadas_a_distancia(c, r)\n",
        "\n",
        "\n",
        "    #angulo_a_b_c = calculate_angle(a, b, c)\n",
        "    #angulo_a_b_e = calculate_angle(a, b, e)\n",
        "\n",
        "    # La biomecanica de la rodilla funciona al revez que en el resto del cuerpo.\n",
        "    #angulo_b_c_d = 180 - calculate_angle(b, c, d)\n",
        "    # print(\"angulo de 90:\", calculate_angle(a,e,b))\n",
        "    # print(\"distancia_b_e \", distancia_b_e)\n",
        "    # print(\"(a[0] - b[0]) \", (a[0] - b[0]) * video_width)\n",
        "    # print(\"brazo calculado con angulo\", distancia_a_b * math.cos(calculate_angle(a,b,e)))\n",
        "\n",
        "    start_point_torque_cadera = (int(b[0] * video_width), int(b[1] * video_height))\n",
        "    end_point_torque_cadera = (int(e[0] * video_width), int(e[1] * video_height))\n",
        "    cv2.line(image, start_point_torque_cadera, end_point_torque_cadera,(0,255,0), 3)\n",
        "\n",
        "    start_point_torque_rodilla = (int(c[0] * video_width), int(c[1] * video_height))\n",
        "    end_point_torque_rodilla = (int(r[0] * video_width), int(r[1] * video_height))\n",
        "    cv2.line(image, start_point_torque_rodilla, end_point_torque_rodilla,(0,255,255), 3)\n",
        "    # Torque en N.m\n",
        "    torque_cadera = (peso_persona * 2/3 + peso_pesa) * distancia_b_e\n",
        "    torque_rodilla = (peso_persona * 2/3 + peso_pesa) * distancia_c_r\n",
        "    return [torque_rodilla, torque_cadera]\n",
        "    # Comparar resultados de los torques y mostrar algo en el video"
      ],
      "metadata": {
        "id": "9KOLVys_LvtS"
      },
      "execution_count": 17,
      "outputs": []
    },
    {
      "cell_type": "markdown",
      "source": [
        "# Visualizar trackeo articulaciones relevantes"
      ],
      "metadata": {
        "id": "kXCWwpSCltcX"
      }
    },
    {
      "cell_type": "code",
      "source": [
        "def dibujar_articulaciones_relevantes(articulacion1,articulacion2,articulacion3,articulacion4):\n",
        "    art1 = np.array(articulacion1);\n",
        "    art2 = np.array(articulacion2);\n",
        "    art3 = np.array(articulacion3);\n",
        "    art4 = np.array(articulacion4);\n",
        "    angle = calculate_angle(articulacion1,articulacion2,articulacion3)\n",
        "    color = (0, 0, 255)\n",
        "    #Dibujo el primer tramo de la pierna\n",
        "    i1 = (int(art1[0] * video_width), int(art1[1] * video_height))\n",
        "    f1 = (int(art2[0] * video_width), int(art2[1] * video_height))\n",
        "    cv2.line(image, i1, f1, color, 5)\n",
        "\n",
        "    #Dibujo el segundo tramo de la pierna\n",
        "    i2 = (int(art2[0] * video_width), int(art2[1] * video_height))\n",
        "    f2 = (int(art3[0] * video_width), int(art3[1] * video_height))\n",
        "    cv2.line(image, i2, f2, color, 5)\n",
        "\n",
        "    i3 = (int(art3[0] * video_width), int(art3[1] * video_height))\n",
        "    f3 = (int(art4[0] * video_width), int(art4[1] * video_height))\n",
        "    cv2.line(image, i3, f3, color, 5)"
      ],
      "metadata": {
        "id": "RXU62R7VlyHB"
      },
      "execution_count": 18,
      "outputs": []
    },
    {
      "cell_type": "markdown",
      "source": [
        "#Visualizar esfuerzo piernas"
      ],
      "metadata": {
        "id": "OTxz5LYP3j-b"
      }
    },
    {
      "cell_type": "code",
      "source": [
        "def dibujar_piernas(articulacion1,articulacion2,articulacion3):\n",
        "    art1 = np.array(articulacion1);\n",
        "    art2 = np.array(articulacion2);\n",
        "    art3 = np.array(articulacion3);\n",
        "    #angle = calculate_angle(articulacion1,articulacion2,articulacion3)\n",
        "\n",
        "    torques = calcular_torques(pos_actual_wrist,pos_actual_left_hip,pos_actual_left_knee,pos_actual_left_ankle)\n",
        "    df_completo.loc[df_completo[\"frame_number\"] == frame_number, \"Torque(Rodilla)\"] = torques[0]\n",
        "    df_completo.loc[df_completo[\"frame_number\"] == frame_number, \"Torque(Cadera)\"] = torques[1]\n",
        "    #Dibujo el primer tramo de la pierna\n",
        "    centro_art2 = (int(art2[0] * video_width), int(art2[1] * video_height))\n",
        "    centro_art3 = (int(art3[0] * video_width), int(art3[1] * video_height))\n",
        "    #f1 = (int(art2[0] * video_width), int(art2[1] * video_height))\n",
        "\n",
        "    if(torques[0] >= torques[1] * 3/4):\n",
        "      cv2.circle(image, centro_art2,20, (255,0,0), -1,3)\n",
        "      cv2.circle(image, centro_art3,20, (255,0,0), -1,3)\n",
        "    else:\n",
        "      if(torques[1] * 1/4 < torques[0] < torques[1] * 3/4):\n",
        "        color = (255,255,0)\n",
        "        cv2.circle(image, centro_art2,20, (255,0,0), -1,3)\n",
        "        cv2.circle(image, centro_art3,20, (255,255,0), -1,3)\n",
        "      else:\n",
        "        cv2.circle(image, centro_art2,20, (255,0,0), -1,3)\n",
        "        cv2.circle(image, centro_art3,20, (0,255,0), -1,3)\n",
        "\n",
        "    # Dibujo el segundo tramo de la pierna\n",
        "    # f2 = (int(art3[0] * video_width), int(art3[1] * video_height))\n",
        "    # cv2.circle(image, centro_art3,20, color, 3, 20)"
      ],
      "metadata": {
        "id": "9Z6jVeo03pQP"
      },
      "execution_count": 19,
      "outputs": []
    },
    {
      "cell_type": "markdown",
      "metadata": {
        "id": "lcwAXzBxGWiM"
      },
      "source": [
        "#**Código para recorrer frames del video y realizar cálculos**\n",
        "\n",
        "Este bloque de código recorre cada frame del video, procesa la imagen utilizando MediaPipe para detectar landmarks de la pose, y guarda los datos en un DataFrame. Luego, calcula el ángulo entre las articulaciones de la cadera, la rodilla y el tobillo. Después, dibuja los landmarks detectados en el video y guarda el video procesado en el archivo de salida. Finalmente, libera los recursos utilizados y guarda los datos de la pose en un archivo CSV."
      ]
    },
    {
      "cell_type": "code",
      "execution_count": null,
      "metadata": {
        "id": "z_fLUC5GGiCA"
      },
      "outputs": [],
      "source": [
        "# Recorro todos los frames del video\n",
        "frame_number = 0\n",
        "\n",
        "while cap.isOpened():\n",
        "    ret, frame = cap.read()\n",
        "\n",
        "    if not ret:\n",
        "        break\n",
        "\n",
        "    # Convertir la imagen a RGB (el fotograma)\n",
        "    image = cv2.cvtColor(frame, cv2.COLOR_BGR2RGB)\n",
        "    # Procesar la imagen con MediaPipe y guardar los resultados\n",
        "    results = pose.process(image)\n",
        "    # Recolectar y guardar los datos de la pose en el dataframe\n",
        "    pose_row = {'frame_number': frame_number}\n",
        "\n",
        "    # Extraer posiciones\n",
        "    if results.pose_landmarks:\n",
        "        landmarks = results.pose_landmarks.landmark\n",
        "\n",
        "        #Por cada articulacion, guarda en su posicion de X, Y, Z el resultado\n",
        "        for landmark in articulaciones:\n",
        "            pose_row[landmark.name + '_X'] = results.pose_landmarks.landmark[landmark].x\n",
        "            pose_row[landmark.name + '_Y'] = results.pose_landmarks.landmark[landmark].y\n",
        "            pose_row[landmark.name + '_Z'] = results.pose_landmarks.landmark[landmark].z\n",
        "    else:\n",
        "        ##for landmark in mp_pose.PoseLandmark:\n",
        "        for landmark in articulaciones:\n",
        "            pose_row[landmark.name + '_X'] = None\n",
        "            pose_row[landmark.name + '_Y'] = None\n",
        "            pose_row[landmark.name + '_Z'] = None\n",
        "\n",
        "    pose_row_df = pd.DataFrame(pose_row, index = [pose_row['frame_number']])\n",
        "    df_completo = pd.concat([df_completo, pose_row_df], ignore_index = True)\n",
        "\n",
        "    # Agrego los landmarks al gráfico\n",
        "   # mp_drawing.draw_landmarks(image, results.pose_landmarks, mp_pose.POSE_CONNECTIONS,\n",
        "    #                          mp_drawing.DrawingSpec(color=(245, 117, 66), thickness=5, circle_radius=5),\n",
        "   #                           mp_drawing.DrawingSpec(color=(245, 66, 230), thickness=5, circle_radius=5)\n",
        "    #                          )\n",
        "\n",
        "    if(frame_number>0):\n",
        "      # Crear una lista de tiempo para cada cuadro del video\n",
        "      # df_completo.append(\"Tiempo\")\n",
        "      # Agregar la lista de tiempo como una columna al DataFrame\n",
        "      # fila = df_completo[df_completo['frame_number'] == frame_number]\n",
        "      # fila[\"Tiempo\"] = tiempo_por_frame * frame_number  #df_completo['Tiempo'] = tiempo_por_frame * frame_number\n",
        "      df_completo.loc[df_completo[\"frame_number\"] == frame_number, \"Tiempo\"] = tiempo_por_frame * frame_number\n",
        "      # print(\"tiempo en cada frame\",tiempo_por_frame * frame_number)\n",
        "      previous_frame = frame_number - 1\n",
        "\n",
        "      pos_prev_left_hip, pos_prev_left_knee, pos_prev_left_ankle = extraer_posiciones(df_completo, previous_frame, 'RIGHT_HIP', 'RIGHT_KNEE', 'RIGHT_ANKLE')\n",
        "\n",
        "      pos_actual_wrist, pos_actual_left_hip, pos_actual_left_knee, pos_actual_left_ankle = extraer_posiciones(df_completo, frame_number,'RIGHT_WRIST', 'RIGHT_HIP', 'RIGHT_KNEE', 'RIGHT_ANKLE')\n",
        "      dibujar_articulaciones_relevantes(pos_actual_wrist,pos_actual_left_hip,pos_actual_left_knee,pos_actual_left_ankle)\n",
        "      diagrama_cuerpo(frame_number)\n",
        "      #---------------VELOCIDAD ANGULAR------------\n",
        "      angulo_anterior = calculate_angle((pos_prev_left_hip[0], pos_prev_left_hip[1]), (pos_prev_left_knee[0], pos_prev_left_knee[1]), (pos_prev_left_ankle[0], pos_prev_left_ankle[1]))\n",
        "      angulo_actual = calculate_angle((pos_actual_left_hip[0], pos_actual_left_hip[1]), (pos_actual_left_knee[0], pos_actual_left_knee[1]), (pos_actual_left_ankle[0], pos_actual_left_ankle[1]))\n",
        "      vel_angular = velocidad_angular(angulo_anterior, angulo_actual, tiempo_por_frame)\n",
        "      # print(\"angulo anterior en frame: \",angulo_anterior, \" numero: \",frame_number)\n",
        "      # print(\"angulo angulo_actual\",angulo_actual)\n",
        "      df_completo.loc[df_completo[\"frame_number\"] == frame_number, \"VelocidadAngular\"] = vel_angular\n",
        "\n",
        "      #---------------Velocidad instantanea---------\n",
        "      velocidad_cadera = velocidad_instantanea(pos_prev_left_hip, pos_actual_left_hip, tiempo_por_frame)\n",
        "      velocidad_rodilla = velocidad_instantanea(pos_prev_left_knee, pos_actual_left_knee, tiempo_por_frame)\n",
        "      #velocidad_cadera_str = ','.join(map(str, velocidad_cadera))\n",
        "      #velocidad_rodilla_str = ','.join(map(str, velocidad_rodilla))\n",
        "      df_completo.loc[df_completo[\"frame_number\"] == frame_number, \"Velocidad(Cadera)_X\"] = velocidad_cadera[0]\n",
        "      df_completo.loc[df_completo[\"frame_number\"] == frame_number, \"Velocidad(Cadera)_Y\"] = velocidad_cadera[1]\n",
        "      df_completo.loc[df_completo[\"frame_number\"] == frame_number, \"Velocidad(Rodilla)_X\"] = velocidad_rodilla[0]\n",
        "      df_completo.loc[df_completo[\"frame_number\"] == frame_number, \"Velocidad(Rodilla)_Y\"] = velocidad_rodilla[1]\n",
        "\n",
        "      #---------------Aceleracion instantanea---------\n",
        "      aceleracion_actual_cadera = aceleracion_instantanea(df_completo.loc[df_completo[\"frame_number\"], \"Velocidad(Cadera)_X\"].iloc[0], df_completo.loc[df_completo[\"frame_number\"] == frame_number - 1, \"Velocidad(Cadera)_X\"].iloc[0],df_completo.loc[df_completo[\"frame_number\"], \"Velocidad(Cadera)_Y\"].iloc[0], df_completo.loc[df_completo[\"frame_number\"] == frame_number - 1, \"Velocidad(Cadera)_Y\"].iloc[0],tiempo_por_frame)\n",
        "      aceleracion_actual_rodilla = aceleracion_instantanea(df_completo.loc[df_completo[\"frame_number\"], \"Velocidad(Rodilla)_X\"].iloc[0], df_completo.loc[df_completo[\"frame_number\"] == frame_number - 1, \"Velocidad(Rodilla)_X\"].iloc[0],df_completo.loc[df_completo[\"frame_number\"], \"Velocidad(Rodilla)_Y\"].iloc[0], df_completo.loc[df_completo[\"frame_number\"] == frame_number - 1, \"Velocidad(Rodilla)_Y\"].iloc[0],tiempo_por_frame)\n",
        "      #aceleracion_actual_rodilla = aceleracion_instantanea(df_completo.loc[df_completo[\"frame_number\"], \"Velocidad(Rodilla)_X\"].iloc[0], df_completo.loc[df_completo[\"frame_number\"] == frame_number - 1, \"Velocidad(Rodilla)\"].iloc[0], tiempo_por_frame)\n",
        "      #print(\"aceleracion_actual_cadera\",df_completo.loc[df_completo[\"frame_number\"], \"Velocidad(Cadera)_X\"].iloc[0])\n",
        "      #print(\"aceleracion_actual_rodilla\",aceleracion_actual_rodilla)\n",
        "\n",
        "      # velocidad_actual_cadera =\n",
        "      # aceleracion_cadera = aceleracion_instantanea()\n",
        "      df_completo.loc[df_completo[\"frame_number\"] == frame_number, \"Aceleracion(Rodilla)_X\"] = aceleracion_actual_rodilla[0]\n",
        "      df_completo.loc[df_completo[\"frame_number\"] == frame_number, \"Aceleracion(Rodilla)_Y\"] = aceleracion_actual_rodilla[1]\n",
        "      df_completo.loc[df_completo[\"frame_number\"] == frame_number, \"Aceleracion(Cadera)_X\"] = aceleracion_actual_cadera[0]\n",
        "      df_completo.loc[df_completo[\"frame_number\"] == frame_number, \"Aceleracion(Cadera)_Y\"] = aceleracion_actual_cadera[1]\n",
        "\n",
        "      #--------------Torque------------------------\n",
        "      #torques = calcular_torques(pos_actual_wrist,pos_actual_left_hip,pos_actual_left_knee,pos_actual_left_ankle)\n",
        "      #df_completo.loc[df_completo[\"frame_number\"] == frame_number, \"Torque(Rodilla)\"] = torques[0]\n",
        "      #df_completo.loc[df_completo[\"frame_number\"] == frame_number, \"Torque(Cadera)\"] = torques[1]\n",
        "      dibujar_piernas(pos_actual_wrist,pos_actual_left_hip,pos_actual_left_knee)\n",
        "\n",
        "    else:\n",
        "        df_completo.loc[df_completo[\"frame_number\"] == frame_number, \"Tiempo\"] = 0\n",
        "        df_completo.loc[df_completo[\"frame_number\"] == frame_number, \"VelocidadAngular\"] = 0\n",
        "        df_completo.loc[df_completo[\"frame_number\"] == frame_number, \"Velocidad(Cadera)_X\"] = 0\n",
        "        df_completo.loc[df_completo[\"frame_number\"] == frame_number, \"Velocidad(Cadera)_Y\"] = 0\n",
        "        df_completo.loc[df_completo[\"frame_number\"] == frame_number, \"Velocidad(Rodilla)_X\"] = 0\n",
        "        df_completo.loc[df_completo[\"frame_number\"] == frame_number, \"Velocidad(Rodilla)_Y\"] = 0\n",
        "    # Guardar el cuadro procesado en el video de salida\n",
        "    video_writer.write(cv2.cvtColor(image, cv2.COLOR_RGB2BGR))\n",
        "\n",
        "    frame_number += 1\n",
        "\n",
        "if pose._graph is not None:\n",
        "    pose.close()\n",
        "\n",
        "video_writer.release()\n",
        "cap.release()\n",
        "\n",
        "# Guardar el dataframe como CSV\n",
        "df_completo.to_csv(output_csv_path, index=False)\n",
        "\n",
        "df = pd.read_csv(output_csv_path, index_col=[0]) # Leo los datos del csv\n",
        "pd.options.display.max_columns = None\n",
        "\n",
        "print(\"Proceso completado. Video trackeado guardado en:\", output_video_path)\n",
        "print(\"Datos de la pose guardados en:\", output_csv_path)"
      ]
    },
    {
      "cell_type": "code",
      "source": [
        "df_completo"
      ],
      "metadata": {
        "id": "ikT-nBq9YEVb"
      },
      "execution_count": null,
      "outputs": []
    },
    {
      "cell_type": "markdown",
      "source": [
        "#Graficos"
      ],
      "metadata": {
        "id": "cNuPININJeV9"
      }
    },
    {
      "cell_type": "code",
      "source": [
        "#-------------------VERSION CON PLOTLY---------------------------\n",
        "\n",
        "window_size = 50\n",
        "left_hip_y_smoothed = df_completo['LEFT_HIP_Y'].rolling(window=window_size).mean()\n",
        "left_knee_y_smoothed = df_completo['LEFT_KNEE_Y'].rolling(window=window_size).mean()\n",
        "\n",
        "#------------POSICIONES DE CADERA Y RODILLA----------------------\n",
        "trace1 = go.Scatter(x=df_completo.index, y=left_hip_y_smoothed, mode='lines', name='Altura de la cadera', line=dict(color='blue'))\n",
        "trace2 = go.Scatter(x=df_completo.index, y=left_knee_y_smoothed, mode='lines', name='Posición de la rodilla', line=dict(color='red'))\n",
        "\n",
        "fig_posiciones = make_subplots(rows=1, cols=1, shared_xaxes=True, vertical_spacing=0.1)\n",
        "fig_posiciones.add_trace(trace1, row=1, col=1)\n",
        "fig_posiciones.add_trace(trace2, row=1, col=1)\n",
        "\n",
        "fig_posiciones.update_layout(\n",
        "    title='Evolución de la posición de la cadera y la rodilla con respecto al tiempo',\n",
        "    xaxis=dict(title='Tiempo'),\n",
        "    yaxis=dict(title='Posición', autorange='reversed'),  # Invertir eje Y\n",
        "    yaxis2=dict(title='Posición', autorange='reversed'),  # Invertir eje Y\n",
        "    legend=dict(x=0.7, y=1.1),\n",
        "    height=600,\n",
        "    width=800\n",
        ")\n",
        "\n",
        "\n",
        "#------------VELOCIDAD----------------------\n",
        "# Crear figura para la velocidad de la cadera\n",
        "fig_velocidad = px.line(df_completo, x='Tiempo', y='Velocidad(Cadera)_Y', title='Evolución de la velocidad de la cadera')\n",
        "fig_velocidad.update_xaxes(title_text='Tiempo')\n",
        "fig_velocidad.update_yaxes(title_text='Velocidad de la cadera')\n",
        "\n",
        "\n",
        "#-----------ACELERACIÓN---------------------\n",
        "# Crear figura para la aceleración de la cadera\n",
        "fig_aceleracion = px.line(df_completo, x='Tiempo', y='Aceleracion(Cadera)_Y', title='Evolución de la aceleración de la cadera')\n",
        "fig_aceleracion.update_xaxes(title_text='Tiempo')\n",
        "fig_aceleracion.update_yaxes(title_text='Aceleración de la cadera')\n",
        "\n",
        "# Mostrar las figuras\n",
        "fig_posiciones.show()\n",
        "fig_velocidad.show()\n",
        "fig_aceleracion.show()"
      ],
      "metadata": {
        "colab": {
          "base_uri": "https://localhost:8080/",
          "height": 1000
        },
        "id": "Cbb8cEz6E342",
        "outputId": "418c9d65-dd60-4f05-8f14-527714914a7b"
      },
      "execution_count": 35,
      "outputs": [
        {
          "output_type": "display_data",
          "data": {
            "text/html": [
              "<html>\n",
              "<head><meta charset=\"utf-8\" /></head>\n",
              "<body>\n",
              "    <div>            <script src=\"https://cdnjs.cloudflare.com/ajax/libs/mathjax/2.7.5/MathJax.js?config=TeX-AMS-MML_SVG\"></script><script type=\"text/javascript\">if (window.MathJax && window.MathJax.Hub && window.MathJax.Hub.Config) {window.MathJax.Hub.Config({SVG: {font: \"STIX-Web\"}});}</script>                <script type=\"text/javascript\">window.PlotlyConfig = {MathJaxConfig: 'local'};</script>\n",
              "        <script charset=\"utf-8\" src=\"https://cdn.plot.ly/plotly-2.24.1.min.js\"></script>                <div id=\"06c3ce4e-7904-4e95-bdd7-a73935bacca2\" class=\"plotly-graph-div\" style=\"height:600px; width:800px;\"></div>            <script type=\"text/javascript\">                                    window.PLOTLYENV=window.PLOTLYENV || {};                                    if (document.getElementById(\"06c3ce4e-7904-4e95-bdd7-a73935bacca2\")) {                    Plotly.newPlot(                        \"06c3ce4e-7904-4e95-bdd7-a73935bacca2\",                        [{\"line\":{\"color\":\"blue\"},\"mode\":\"lines\",\"name\":\"Altura de la cadera\",\"x\":[0,1,2,3,4,5,6,7,8,9,10,11,12,13,14,15,16,17,18,19,20,21,22,23,24,25,26,27,28,29,30,31,32,33,34,35,36,37,38,39,40,41,42,43,44,45,46,47,48,49,50,51,52,53,54,55,56,57,58,59,60,61,62,63,64,65,66,67,68,69,70,71,72,73,74,75,76,77,78,79,80,81,82,83,84,85,86,87,88,89,90,91,92,93,94,95,96,97,98,99,100,101,102,103,104,105,106,107,108,109,110,111,112,113,114,115,116,117,118,119,120,121,122,123,124,125,126,127,128,129,130,131,132,133,134,135,136,137,138,139,140,141,142,143,144,145,146,147,148,149,150,151,152,153,154,155,156,157,158,159,160,161,162,163,164,165,166,167,168,169,170,171,172,173,174,175,176,177,178,179,180,181,182,183,184,185,186,187,188,189,190,191,192,193,194,195,196,197,198,199,200,201,202,203,204,205,206,207,208,209,210,211,212,213,214,215,216,217,218,219,220,221,222,223,224,225,226,227,228,229,230,231,232,233,234,235,236,237,238,239,240,241,242,243,244,245,246,247,248,249,250,251,252,253],\"y\":[null,null,null,null,null,null,null,null,null,null,null,null,null,null,null,null,null,null,null,null,null,null,null,null,null,null,null,null,null,null,null,null,null,null,null,null,null,null,null,null,null,null,null,null,null,null,null,null,null,0.6226232945919037,0.6234052133560181,0.6241984558105469,0.6250643491744995,0.6259620535373688,0.6268832206726074,0.6278579199314117,0.6288816392421722,0.6299822854995728,0.6310989487171174,0.6322219097614288,0.6333944571018219,0.6345480465888977,0.6357352709770203,0.6369349980354309,0.6381158411502839,0.6393271970748902,0.6405207133293152,0.6417519342899323,0.6430184578895569,0.6443268096446991,0.6456611311435699,0.6470281338691711,0.6484362292289734,0.6498990941047669,0.6513606369495392,0.652815260887146,0.6542530071735382,0.6556834375858307,0.6571764302253723,0.6587275922298431,0.6602558290958405,0.661829788684845,0.6633955955505371,0.6649673163890839,0.666523915529251,0.668114527463913,0.6697029066085816,0.6712783861160279,0.6728768754005432,0.6744605004787445,0.6760802221298218,0.6776948523521423,0.6793194055557251,0.6809360682964325,0.6825545072555542,0.6841857266426087,0.6858430135250092,0.6875256955623626,0.68918585896492,0.6907729983329773,0.6923248493671417,0.6938558173179626,0.6953015303611756,0.6967560219764709,0.6982281243801117,0.699661363363266,0.7010673761367798,0.7024027407169342,0.7037293457984924,0.7050520241260528,0.7063494908809662,0.7076987302303315,0.7090452790260315,0.7103727853298187,0.7117170345783234,0.7130474400520325,0.714397304058075,0.7157234466075897,0.7169958770275116,0.7182969713211059,0.7195498847961426,0.7207638943195342,0.7219330644607544,0.7230255150794983,0.7241455459594727,0.7252362155914307,0.7263020837306976,0.7273663723468781,0.7284026598930359,0.729449223279953,0.7304696750640869,0.7314693999290466,0.7324568140506744,0.7335008478164673,0.7345117318630219,0.7354861378669739,0.7364407801628112,0.7373785984516144,0.738284101486206,0.7391799545288086,0.7399974095821381,0.7407753694057465,0.741510739326477,0.7422547388076782,0.7429709947109222,0.7436487519741058,0.7442988610267639,0.7449178838729859,0.7455075180530548,0.746115288734436,0.7467326712608338,0.7473544418811798,0.7479846608638764,0.748532623052597,0.7490388059616089,0.7495008671283722,0.749940289258957,0.7503763830661774,0.7507481098175048,0.7511104702949524,0.7513969326019287,0.7515866827964782,0.7517476487159729,0.7518754255771637,0.7519521224498749,0.7519847583770752,0.7518946313858033,0.751790657043457,0.7516431951522827,0.7514051008224487,0.7511644828319549,0.7509347760677337,0.7506858515739441,0.7503551113605499,0.7498991596698761,0.7494280219078064,0.7489120161533356,0.7483496475219726,0.747648960351944,0.7467964625358582,0.7459267663955689,0.7449818933010102,0.7439434695243835,0.7427929723262787,0.7415987491607666,0.7403527438640595,0.7390240716934204,0.7376626002788543,0.7362737345695496,0.7347833561897278,0.7332383072376252,0.7317116713523865,0.7301100099086761,0.7284438157081604,0.72668785572052,0.724865404367447,0.7229738652706146,0.7210423004627228,0.7190690052509308,0.7169661819934845,0.7147907185554504,0.7125516200065612,0.710254898071289,0.7079574835300445,0.7056086933612824,0.7032108378410339,0.7007429373264312,0.6982757651805878,0.6958365416526795,0.6933625888824463,0.6909327638149262,0.6885115659236908,0.6860899817943573,0.683661139011383,0.681250696182251,0.6788233828544616,0.6764504778385162,0.674079076051712,0.6717484307289123,0.6694275224208832,0.667127456665039,0.6648247885704041,0.6625344753265381,0.6603008913993835,0.6581508290767669,0.6560224795341492,0.6539427626132965,0.6518678617477417,0.6498987293243408,0.6479725575447083,0.6460761761665345,0.6442209315299988,0.6424732506275177,0.6407756793498993,0.639143750667572,0.6375606834888459,0.6360463666915893,0.6345704007148742,0.6331187617778778,0.6317680537700653,0.6304815983772278,0.6291942870616913,0.6279839909076691,0.626807519197464,0.6257226276397705,0.6246977627277375,0.6237340879440307,0.6228111135959625,0.6219259524345397,0.6211654388904572,0.6204596126079559,0.6198369526863098,0.619277400970459,0.618760941028595],\"type\":\"scatter\",\"xaxis\":\"x\",\"yaxis\":\"y\"},{\"line\":{\"color\":\"red\"},\"mode\":\"lines\",\"name\":\"Posici\\u00f3n de la rodilla\",\"x\":[0,1,2,3,4,5,6,7,8,9,10,11,12,13,14,15,16,17,18,19,20,21,22,23,24,25,26,27,28,29,30,31,32,33,34,35,36,37,38,39,40,41,42,43,44,45,46,47,48,49,50,51,52,53,54,55,56,57,58,59,60,61,62,63,64,65,66,67,68,69,70,71,72,73,74,75,76,77,78,79,80,81,82,83,84,85,86,87,88,89,90,91,92,93,94,95,96,97,98,99,100,101,102,103,104,105,106,107,108,109,110,111,112,113,114,115,116,117,118,119,120,121,122,123,124,125,126,127,128,129,130,131,132,133,134,135,136,137,138,139,140,141,142,143,144,145,146,147,148,149,150,151,152,153,154,155,156,157,158,159,160,161,162,163,164,165,166,167,168,169,170,171,172,173,174,175,176,177,178,179,180,181,182,183,184,185,186,187,188,189,190,191,192,193,194,195,196,197,198,199,200,201,202,203,204,205,206,207,208,209,210,211,212,213,214,215,216,217,218,219,220,221,222,223,224,225,226,227,228,229,230,231,232,233,234,235,236,237,238,239,240,241,242,243,244,245,246,247,248,249,250,251,252,253],\"y\":[null,null,null,null,null,null,null,null,null,null,null,null,null,null,null,null,null,null,null,null,null,null,null,null,null,null,null,null,null,null,null,null,null,null,null,null,null,null,null,null,null,null,null,null,null,null,null,null,null,0.7346464836597443,0.7348088884353637,0.7349894416332244,0.7351605820655823,0.735336743593216,0.7355857837200165,0.735823050737381,0.7360607695579529,0.7363100373744964,0.7365714287757874,0.7368917465209961,0.7372104012966156,0.7375727474689484,0.7379281210899353,0.7382337141036988,0.7385309278964997,0.7388340365886689,0.7390371561050415,0.7392847490310669,0.7395050203800202,0.7397929930686951,0.7400647664070129,0.7402818763256073,0.740504094362259,0.7407691788673401,0.7411869525909424,0.7415581440925598,0.741921843290329,0.742256600856781,0.7425896334648132,0.7429007720947266,0.7431461715698242,0.7433957803249359,0.7436703777313233,0.7440346562862397,0.7443688035011291,0.744686930179596,0.7449911284446716,0.7452738130092621,0.745606483221054,0.7458926033973694,0.7461841523647308,0.7464794421195984,0.746787713766098,0.7470522367954254,0.7473201513290405,0.7476257789134979,0.7479692864418029,0.7482905411720275,0.7485884761810303,0.7488389074802398,0.7490870416164398,0.749252576828003,0.7493512213230134,0.7494565320014953,0.749529937505722,0.7496564614772797,0.7498397755622864,0.7500201749801636,0.7501811528205872,0.7502605521678924,0.7502793955802918,0.750316789150238,0.750348334312439,0.7503953123092652,0.7504591941833496,0.7505179274082184,0.7505841529369355,0.7506252253055572,0.7506499505043029,0.7507078492641449,0.7507482743263245,0.75083371758461,0.7509191739559173,0.7510020995140075,0.7509171497821808,0.7508248722553253,0.7507550835609436,0.7507149124145508,0.750708339214325,0.7508012843132019,0.750930165052414,0.751052360534668,0.7511435091495514,0.7511817312240601,0.7512271618843078,0.7513106966018677,0.7515835523605346,0.7519122445583344,0.7521607029438019,0.7524447202682495,0.7527473223209381,0.7530282127857209,0.7532897019386291,0.7535833084583282,0.7538678777217865,0.7540965569019318,0.7543416106700898,0.7546026754379273,0.7548407077789306,0.7551224160194397,0.7553979063034058,0.7557399594783782,0.7561059033870697,0.7564474654197693,0.7567726838588714,0.7570504963397979,0.7572614204883575,0.7574525535106659,0.7575975692272187,0.7577522492408753,0.7579480946063996,0.7580398893356324,0.7581139516830444,0.7581413984298706,0.7581614947319031,0.7581861674785614,0.7582216227054596,0.758287707567215,0.7583799397945404,0.7584265887737274,0.7585308015346527,0.7586686027050018,0.7588420069217682,0.7590184390544892,0.7591995465755462,0.7593723320960999,0.7595111000537872,0.759672155380249,0.759733817577362,0.7597016668319703,0.7596772050857544,0.7596325004100799,0.7595640277862549,0.7594596111774444,0.7593650376796722,0.759233763217926,0.7588385844230652,0.7584156346321106,0.757953120470047,0.7574009883403778,0.7568363344669342,0.7562003123760224,0.755566269159317,0.7549595367908478,0.7543658208847046,0.7536090075969696,0.7528288209438324,0.7520518231391907,0.7512966287136078,0.7505386447906495,0.7498064386844635,0.7490665662288666,0.7483935904502869,0.7477488005161286,0.747104457616806,0.7464629340171814,0.7457487308979034,0.7450423169136048,0.744326515197754,0.7436100268363952,0.7429342150688172,0.7423826467990875,0.7419190824031829,0.7415022468566894,0.7410954439640045,0.7407267320156098,0.7403389930725097,0.7399378490447998,0.7395920777320861,0.7392427194118499,0.7388674902915955,0.7384805333614349,0.7380556309223175,0.7375798153877259,0.7371217489242554,0.7366656470298767,0.7362323343753815,0.735761684179306,0.7353588855266571,0.734957549571991,0.7345344531536102,0.7341438710689545,0.7337805831432342,0.733400456905365,0.733017451763153,0.7326318502426148,0.7323012816905975,0.731961452960968,0.7316919207572937,0.7314853525161743,0.731206374168396,0.7310155522823334,0.7308348226547241,0.7306299805641174,0.7304211175441742,0.7304250001907349,0.7304347634315491,0.7304293942451477,0.7304029953479767,0.7303781294822693,0.7303412473201751,0.7304591119289399,0.7305452716350556,0.7306358981132507],\"type\":\"scatter\",\"xaxis\":\"x\",\"yaxis\":\"y\"}],                        {\"template\":{\"data\":{\"histogram2dcontour\":[{\"type\":\"histogram2dcontour\",\"colorbar\":{\"outlinewidth\":0,\"ticks\":\"\"},\"colorscale\":[[0.0,\"#0d0887\"],[0.1111111111111111,\"#46039f\"],[0.2222222222222222,\"#7201a8\"],[0.3333333333333333,\"#9c179e\"],[0.4444444444444444,\"#bd3786\"],[0.5555555555555556,\"#d8576b\"],[0.6666666666666666,\"#ed7953\"],[0.7777777777777778,\"#fb9f3a\"],[0.8888888888888888,\"#fdca26\"],[1.0,\"#f0f921\"]]}],\"choropleth\":[{\"type\":\"choropleth\",\"colorbar\":{\"outlinewidth\":0,\"ticks\":\"\"}}],\"histogram2d\":[{\"type\":\"histogram2d\",\"colorbar\":{\"outlinewidth\":0,\"ticks\":\"\"},\"colorscale\":[[0.0,\"#0d0887\"],[0.1111111111111111,\"#46039f\"],[0.2222222222222222,\"#7201a8\"],[0.3333333333333333,\"#9c179e\"],[0.4444444444444444,\"#bd3786\"],[0.5555555555555556,\"#d8576b\"],[0.6666666666666666,\"#ed7953\"],[0.7777777777777778,\"#fb9f3a\"],[0.8888888888888888,\"#fdca26\"],[1.0,\"#f0f921\"]]}],\"heatmap\":[{\"type\":\"heatmap\",\"colorbar\":{\"outlinewidth\":0,\"ticks\":\"\"},\"colorscale\":[[0.0,\"#0d0887\"],[0.1111111111111111,\"#46039f\"],[0.2222222222222222,\"#7201a8\"],[0.3333333333333333,\"#9c179e\"],[0.4444444444444444,\"#bd3786\"],[0.5555555555555556,\"#d8576b\"],[0.6666666666666666,\"#ed7953\"],[0.7777777777777778,\"#fb9f3a\"],[0.8888888888888888,\"#fdca26\"],[1.0,\"#f0f921\"]]}],\"heatmapgl\":[{\"type\":\"heatmapgl\",\"colorbar\":{\"outlinewidth\":0,\"ticks\":\"\"},\"colorscale\":[[0.0,\"#0d0887\"],[0.1111111111111111,\"#46039f\"],[0.2222222222222222,\"#7201a8\"],[0.3333333333333333,\"#9c179e\"],[0.4444444444444444,\"#bd3786\"],[0.5555555555555556,\"#d8576b\"],[0.6666666666666666,\"#ed7953\"],[0.7777777777777778,\"#fb9f3a\"],[0.8888888888888888,\"#fdca26\"],[1.0,\"#f0f921\"]]}],\"contourcarpet\":[{\"type\":\"contourcarpet\",\"colorbar\":{\"outlinewidth\":0,\"ticks\":\"\"}}],\"contour\":[{\"type\":\"contour\",\"colorbar\":{\"outlinewidth\":0,\"ticks\":\"\"},\"colorscale\":[[0.0,\"#0d0887\"],[0.1111111111111111,\"#46039f\"],[0.2222222222222222,\"#7201a8\"],[0.3333333333333333,\"#9c179e\"],[0.4444444444444444,\"#bd3786\"],[0.5555555555555556,\"#d8576b\"],[0.6666666666666666,\"#ed7953\"],[0.7777777777777778,\"#fb9f3a\"],[0.8888888888888888,\"#fdca26\"],[1.0,\"#f0f921\"]]}],\"surface\":[{\"type\":\"surface\",\"colorbar\":{\"outlinewidth\":0,\"ticks\":\"\"},\"colorscale\":[[0.0,\"#0d0887\"],[0.1111111111111111,\"#46039f\"],[0.2222222222222222,\"#7201a8\"],[0.3333333333333333,\"#9c179e\"],[0.4444444444444444,\"#bd3786\"],[0.5555555555555556,\"#d8576b\"],[0.6666666666666666,\"#ed7953\"],[0.7777777777777778,\"#fb9f3a\"],[0.8888888888888888,\"#fdca26\"],[1.0,\"#f0f921\"]]}],\"mesh3d\":[{\"type\":\"mesh3d\",\"colorbar\":{\"outlinewidth\":0,\"ticks\":\"\"}}],\"scatter\":[{\"fillpattern\":{\"fillmode\":\"overlay\",\"size\":10,\"solidity\":0.2},\"type\":\"scatter\"}],\"parcoords\":[{\"type\":\"parcoords\",\"line\":{\"colorbar\":{\"outlinewidth\":0,\"ticks\":\"\"}}}],\"scatterpolargl\":[{\"type\":\"scatterpolargl\",\"marker\":{\"colorbar\":{\"outlinewidth\":0,\"ticks\":\"\"}}}],\"bar\":[{\"error_x\":{\"color\":\"#2a3f5f\"},\"error_y\":{\"color\":\"#2a3f5f\"},\"marker\":{\"line\":{\"color\":\"#E5ECF6\",\"width\":0.5},\"pattern\":{\"fillmode\":\"overlay\",\"size\":10,\"solidity\":0.2}},\"type\":\"bar\"}],\"scattergeo\":[{\"type\":\"scattergeo\",\"marker\":{\"colorbar\":{\"outlinewidth\":0,\"ticks\":\"\"}}}],\"scatterpolar\":[{\"type\":\"scatterpolar\",\"marker\":{\"colorbar\":{\"outlinewidth\":0,\"ticks\":\"\"}}}],\"histogram\":[{\"marker\":{\"pattern\":{\"fillmode\":\"overlay\",\"size\":10,\"solidity\":0.2}},\"type\":\"histogram\"}],\"scattergl\":[{\"type\":\"scattergl\",\"marker\":{\"colorbar\":{\"outlinewidth\":0,\"ticks\":\"\"}}}],\"scatter3d\":[{\"type\":\"scatter3d\",\"line\":{\"colorbar\":{\"outlinewidth\":0,\"ticks\":\"\"}},\"marker\":{\"colorbar\":{\"outlinewidth\":0,\"ticks\":\"\"}}}],\"scattermapbox\":[{\"type\":\"scattermapbox\",\"marker\":{\"colorbar\":{\"outlinewidth\":0,\"ticks\":\"\"}}}],\"scatterternary\":[{\"type\":\"scatterternary\",\"marker\":{\"colorbar\":{\"outlinewidth\":0,\"ticks\":\"\"}}}],\"scattercarpet\":[{\"type\":\"scattercarpet\",\"marker\":{\"colorbar\":{\"outlinewidth\":0,\"ticks\":\"\"}}}],\"carpet\":[{\"aaxis\":{\"endlinecolor\":\"#2a3f5f\",\"gridcolor\":\"white\",\"linecolor\":\"white\",\"minorgridcolor\":\"white\",\"startlinecolor\":\"#2a3f5f\"},\"baxis\":{\"endlinecolor\":\"#2a3f5f\",\"gridcolor\":\"white\",\"linecolor\":\"white\",\"minorgridcolor\":\"white\",\"startlinecolor\":\"#2a3f5f\"},\"type\":\"carpet\"}],\"table\":[{\"cells\":{\"fill\":{\"color\":\"#EBF0F8\"},\"line\":{\"color\":\"white\"}},\"header\":{\"fill\":{\"color\":\"#C8D4E3\"},\"line\":{\"color\":\"white\"}},\"type\":\"table\"}],\"barpolar\":[{\"marker\":{\"line\":{\"color\":\"#E5ECF6\",\"width\":0.5},\"pattern\":{\"fillmode\":\"overlay\",\"size\":10,\"solidity\":0.2}},\"type\":\"barpolar\"}],\"pie\":[{\"automargin\":true,\"type\":\"pie\"}]},\"layout\":{\"autotypenumbers\":\"strict\",\"colorway\":[\"#636efa\",\"#EF553B\",\"#00cc96\",\"#ab63fa\",\"#FFA15A\",\"#19d3f3\",\"#FF6692\",\"#B6E880\",\"#FF97FF\",\"#FECB52\"],\"font\":{\"color\":\"#2a3f5f\"},\"hovermode\":\"closest\",\"hoverlabel\":{\"align\":\"left\"},\"paper_bgcolor\":\"white\",\"plot_bgcolor\":\"#E5ECF6\",\"polar\":{\"bgcolor\":\"#E5ECF6\",\"angularaxis\":{\"gridcolor\":\"white\",\"linecolor\":\"white\",\"ticks\":\"\"},\"radialaxis\":{\"gridcolor\":\"white\",\"linecolor\":\"white\",\"ticks\":\"\"}},\"ternary\":{\"bgcolor\":\"#E5ECF6\",\"aaxis\":{\"gridcolor\":\"white\",\"linecolor\":\"white\",\"ticks\":\"\"},\"baxis\":{\"gridcolor\":\"white\",\"linecolor\":\"white\",\"ticks\":\"\"},\"caxis\":{\"gridcolor\":\"white\",\"linecolor\":\"white\",\"ticks\":\"\"}},\"coloraxis\":{\"colorbar\":{\"outlinewidth\":0,\"ticks\":\"\"}},\"colorscale\":{\"sequential\":[[0.0,\"#0d0887\"],[0.1111111111111111,\"#46039f\"],[0.2222222222222222,\"#7201a8\"],[0.3333333333333333,\"#9c179e\"],[0.4444444444444444,\"#bd3786\"],[0.5555555555555556,\"#d8576b\"],[0.6666666666666666,\"#ed7953\"],[0.7777777777777778,\"#fb9f3a\"],[0.8888888888888888,\"#fdca26\"],[1.0,\"#f0f921\"]],\"sequentialminus\":[[0.0,\"#0d0887\"],[0.1111111111111111,\"#46039f\"],[0.2222222222222222,\"#7201a8\"],[0.3333333333333333,\"#9c179e\"],[0.4444444444444444,\"#bd3786\"],[0.5555555555555556,\"#d8576b\"],[0.6666666666666666,\"#ed7953\"],[0.7777777777777778,\"#fb9f3a\"],[0.8888888888888888,\"#fdca26\"],[1.0,\"#f0f921\"]],\"diverging\":[[0,\"#8e0152\"],[0.1,\"#c51b7d\"],[0.2,\"#de77ae\"],[0.3,\"#f1b6da\"],[0.4,\"#fde0ef\"],[0.5,\"#f7f7f7\"],[0.6,\"#e6f5d0\"],[0.7,\"#b8e186\"],[0.8,\"#7fbc41\"],[0.9,\"#4d9221\"],[1,\"#276419\"]]},\"xaxis\":{\"gridcolor\":\"white\",\"linecolor\":\"white\",\"ticks\":\"\",\"title\":{\"standoff\":15},\"zerolinecolor\":\"white\",\"automargin\":true,\"zerolinewidth\":2},\"yaxis\":{\"gridcolor\":\"white\",\"linecolor\":\"white\",\"ticks\":\"\",\"title\":{\"standoff\":15},\"zerolinecolor\":\"white\",\"automargin\":true,\"zerolinewidth\":2},\"scene\":{\"xaxis\":{\"backgroundcolor\":\"#E5ECF6\",\"gridcolor\":\"white\",\"linecolor\":\"white\",\"showbackground\":true,\"ticks\":\"\",\"zerolinecolor\":\"white\",\"gridwidth\":2},\"yaxis\":{\"backgroundcolor\":\"#E5ECF6\",\"gridcolor\":\"white\",\"linecolor\":\"white\",\"showbackground\":true,\"ticks\":\"\",\"zerolinecolor\":\"white\",\"gridwidth\":2},\"zaxis\":{\"backgroundcolor\":\"#E5ECF6\",\"gridcolor\":\"white\",\"linecolor\":\"white\",\"showbackground\":true,\"ticks\":\"\",\"zerolinecolor\":\"white\",\"gridwidth\":2}},\"shapedefaults\":{\"line\":{\"color\":\"#2a3f5f\"}},\"annotationdefaults\":{\"arrowcolor\":\"#2a3f5f\",\"arrowhead\":0,\"arrowwidth\":1},\"geo\":{\"bgcolor\":\"white\",\"landcolor\":\"#E5ECF6\",\"subunitcolor\":\"white\",\"showland\":true,\"showlakes\":true,\"lakecolor\":\"white\"},\"title\":{\"x\":0.05},\"mapbox\":{\"style\":\"light\"}}},\"xaxis\":{\"anchor\":\"y\",\"domain\":[0.0,1.0],\"title\":{\"text\":\"Tiempo\"}},\"yaxis\":{\"anchor\":\"x\",\"domain\":[0.0,1.0],\"title\":{\"text\":\"Posici\\u00f3n\"},\"autorange\":\"reversed\"},\"yaxis2\":{\"title\":{\"text\":\"Posici\\u00f3n\"},\"autorange\":\"reversed\"},\"legend\":{\"x\":0.7,\"y\":1.1},\"title\":{\"text\":\"Evoluci\\u00f3n de la posici\\u00f3n de la cadera y la rodilla con respecto al tiempo\"},\"height\":600,\"width\":800},                        {\"responsive\": true}                    ).then(function(){\n",
              "                            \n",
              "var gd = document.getElementById('06c3ce4e-7904-4e95-bdd7-a73935bacca2');\n",
              "var x = new MutationObserver(function (mutations, observer) {{\n",
              "        var display = window.getComputedStyle(gd).display;\n",
              "        if (!display || display === 'none') {{\n",
              "            console.log([gd, 'removed!']);\n",
              "            Plotly.purge(gd);\n",
              "            observer.disconnect();\n",
              "        }}\n",
              "}});\n",
              "\n",
              "// Listen for the removal of the full notebook cells\n",
              "var notebookContainer = gd.closest('#notebook-container');\n",
              "if (notebookContainer) {{\n",
              "    x.observe(notebookContainer, {childList: true});\n",
              "}}\n",
              "\n",
              "// Listen for the clearing of the current output cell\n",
              "var outputEl = gd.closest('.output');\n",
              "if (outputEl) {{\n",
              "    x.observe(outputEl, {childList: true});\n",
              "}}\n",
              "\n",
              "                        })                };                            </script>        </div>\n",
              "</body>\n",
              "</html>"
            ]
          },
          "metadata": {}
        },
        {
          "output_type": "display_data",
          "data": {
            "text/html": [
              "<html>\n",
              "<head><meta charset=\"utf-8\" /></head>\n",
              "<body>\n",
              "    <div>            <script src=\"https://cdnjs.cloudflare.com/ajax/libs/mathjax/2.7.5/MathJax.js?config=TeX-AMS-MML_SVG\"></script><script type=\"text/javascript\">if (window.MathJax && window.MathJax.Hub && window.MathJax.Hub.Config) {window.MathJax.Hub.Config({SVG: {font: \"STIX-Web\"}});}</script>                <script type=\"text/javascript\">window.PlotlyConfig = {MathJaxConfig: 'local'};</script>\n",
              "        <script charset=\"utf-8\" src=\"https://cdn.plot.ly/plotly-2.24.1.min.js\"></script>                <div id=\"2775832d-8454-45d9-81e5-08ea24d07e6e\" class=\"plotly-graph-div\" style=\"height:525px; width:100%;\"></div>            <script type=\"text/javascript\">                                    window.PLOTLYENV=window.PLOTLYENV || {};                                    if (document.getElementById(\"2775832d-8454-45d9-81e5-08ea24d07e6e\")) {                    Plotly.newPlot(                        \"2775832d-8454-45d9-81e5-08ea24d07e6e\",                        [{\"hovertemplate\":\"Tiempo=%{x}\\u003cbr\\u003eVelocidad(Cadera)_Y=%{y}\\u003cextra\\u003e\\u003c\\u002fextra\\u003e\",\"legendgroup\":\"\",\"line\":{\"color\":\"#636efa\",\"dash\":\"solid\"},\"marker\":{\"symbol\":\"circle\"},\"mode\":\"lines\",\"name\":\"\",\"orientation\":\"v\",\"showlegend\":false,\"x\":[0,0.016666666666666666,0.03333333333333333,0.05,0.06666666666666667,0.08333333333333333,0.1,0.11666666666666667,0.13333333333333333,0.15,0.16666666666666666,0.18333333333333332,0.2,0.21666666666666667,0.23333333333333334,0.25,0.26666666666666666,0.2833333333333333,0.3,0.31666666666666665,0.3333333333333333,0.35,0.36666666666666664,0.3833333333333333,0.4,0.4166666666666667,0.43333333333333335,0.45,0.4666666666666667,0.48333333333333334,0.5,0.5166666666666666,0.5333333333333333,0.55,0.5666666666666667,0.5833333333333334,0.6,0.6166666666666667,0.6333333333333333,0.65,0.6666666666666666,0.6833333333333333,0.7,0.7166666666666667,0.7333333333333333,0.75,0.7666666666666666,0.7833333333333333,0.8,0.8166666666666667,0.8333333333333334,0.85,0.8666666666666667,0.8833333333333333,0.9,0.9166666666666666,0.9333333333333333,0.95,0.9666666666666667,0.9833333333333333,1.0,1.0166666666666666,1.0333333333333332,1.05,1.0666666666666667,1.0833333333333333,1.1,1.1166666666666667,1.1333333333333333,1.15,1.1666666666666667,1.1833333333333333,1.2,1.2166666666666666,1.2333333333333334,1.25,1.2666666666666666,1.2833333333333332,1.3,1.3166666666666667,1.3333333333333333,1.35,1.3666666666666667,1.3833333333333333,1.4,1.4166666666666667,1.4333333333333333,1.45,1.4666666666666666,1.4833333333333334,1.5,1.5166666666666666,1.5333333333333332,1.55,1.5666666666666667,1.5833333333333333,1.6,1.6166666666666667,1.6333333333333333,1.65,1.6666666666666667,1.6833333333333333,1.7,1.7166666666666666,1.7333333333333334,1.75,1.7666666666666666,1.7833333333333332,1.8,1.8166666666666667,1.8333333333333333,1.8499999999999999,1.8666666666666667,1.8833333333333333,1.9,1.9166666666666667,1.9333333333333333,1.95,1.9666666666666666,1.9833333333333334,2.0,2.0166666666666666,2.033333333333333,2.05,2.0666666666666664,2.0833333333333335,2.1,2.1166666666666667,2.1333333333333333,2.15,2.1666666666666665,2.183333333333333,2.2,2.216666666666667,2.2333333333333334,2.25,2.2666666666666666,2.283333333333333,2.3,2.3166666666666664,2.3333333333333335,2.35,2.3666666666666667,2.3833333333333333,2.4,2.4166666666666665,2.433333333333333,2.45,2.466666666666667,2.4833333333333334,2.5,2.5166666666666666,2.533333333333333,2.55,2.5666666666666664,2.5833333333333335,2.6,2.6166666666666667,2.6333333333333333,2.65,2.6666666666666665,2.683333333333333,2.7,2.716666666666667,2.7333333333333334,2.75,2.7666666666666666,2.783333333333333,2.8,2.8166666666666664,2.8333333333333335,2.85,2.8666666666666667,2.8833333333333333,2.9,2.9166666666666665,2.933333333333333,2.95,2.966666666666667,2.9833333333333334,3.0,3.0166666666666666,3.033333333333333,3.05,3.0666666666666664,3.0833333333333335,3.1,3.1166666666666667,3.1333333333333333,3.15,3.1666666666666665,3.183333333333333,3.2,3.216666666666667,3.2333333333333334,3.25,3.2666666666666666,3.283333333333333,3.3,3.3166666666666664,3.3333333333333335,3.35,3.3666666666666667,3.3833333333333333,3.4,3.4166666666666665,3.433333333333333,3.4499999999999997,3.466666666666667,3.4833333333333334,3.5,3.5166666666666666,3.533333333333333,3.55,3.5666666666666664,3.5833333333333335,3.6,3.6166666666666667,3.6333333333333333,3.65,3.6666666666666665,3.683333333333333,3.6999999999999997,3.716666666666667,3.7333333333333334,3.75,3.7666666666666666,3.783333333333333,3.8,3.8166666666666664,3.8333333333333335,3.85,3.8666666666666667,3.8833333333333333,3.9,3.9166666666666665,3.933333333333333,3.9499999999999997,3.966666666666667,3.9833333333333334,4.0,4.016666666666667,4.033333333333333,4.05,4.066666666666666,4.083333333333333,4.1,4.116666666666666,4.133333333333333,4.15,4.166666666666667,4.183333333333334,4.2,4.216666666666667],\"xaxis\":\"x\",\"y\":[0,0.10287880897521973,0.060324668884277344,0.0036513805389404297,0.001659393310546875,-0.0018918514251708984,0.006655454635620117,-0.029822587966918945,-0.010467767715454102,0.013643503189086914,0.0016665458679199219,0.03728628158569336,0.0029468536376953125,0.05976676940917969,0.08830904960632324,0.024715662002563477,0.08913874626159668,0.01741647720336914,0.07059574127197266,-0.005557537078857422,0.03440737724304199,0.00401616096496582,0.04799365997314453,0.04864096641540527,0.005686283111572266,0.07276654243469238,0.16533493995666504,0.07353544235229492,-0.020978450775146484,0.029736757278442383,0.13954997062683105,0.02002716064453125,0.03282308578491211,-0.002124309539794922,0.12755870819091797,-0.009752511978149414,0.10421633720397949,0.10808587074279785,0.04431009292602539,0.08224725723266602,0.05821108818054199,0.08830547332763672,0.1514875888824463,0.03222942352294922,0.12356400489807129,0.06523489952087402,0.02711176872253418,-0.01326441764831543,0.1531505584716797,0.17037034034729004,0.16901850700378418,0.12915372848510742,0.19623756408691406,0.16787052154541016,0.09178876876831055,0.19197821617126465,0.1636362075805664,0.18063783645629883,0.09377002716064453,0.0031042098999023438,0.1686573028564453,-0.07074594497680664,0.08858799934387207,0.1169729232788086,-0.012413263320922852,0.09260416030883789,0.10383367538452148,0.054931640625,0.22568464279174805,0.1715540885925293,0.10091185569763184,0.14959931373596191,0.18606305122375488,0.24212121963500977,-0.08436083793640137,0.12886762619018555,0.05053997039794922,0.09692788124084473,0.1759958267211914,0.19143104553222656,0.026510953903198242,0.21164774894714355,0.05062580108642578,-0.009398460388183594,0.08728265762329102,0.1555788516998291,0.1106107234954834,0.10354042053222656,0.03731489181518555,0.1368105411529541,0.21795272827148438,0.038073062896728516,0.09101629257202148,0.12102484703063965,0.13301968574523926,0.07326006889343262,0.18418192863464355,0.13048052787780762,0.03380298614501953,0.2339458465576172,0.10137319564819336,-0.019812583923339844,-0.04020810127258301,0.1379549503326416,0.23239374160766602,0.03423571586608887,0.04718184471130371,-0.008990764617919922,0.07102489471435547,0.04898786544799805,0.09104490280151367,0.10499238967895508,0.019769668579101562,0.006930828094482422,0.10892629623413086,0.13408899307250977,0.050067901611328125,0.11293888092041016,0.08073806762695312,0.09792208671569824,0.0292360782623291,0.04667043685913086,0.10965585708618164,-0.0050961971282958984,0.1069486141204834,-0.03184318542480469,-0.021371841430664062,0.11772394180297852,-0.005525350570678711,0.10064363479614258,0.04025101661682129,0.07367849349975586,-0.01857161521911621,0.07226228713989258,-0.016150474548339844,-0.011833906173706055,0.018121004104614258,-0.0017344951629638672,0.0011658668518066406,0.00882267951965332,0.037947893142700195,0.008554458618164062,0.029296875,0.003451108932495117,-0.00399470329284668,-0.0011980533599853516,0.006455183029174805,-0.04189610481262207,-0.014834403991699219,0.009137392044067383,-0.011526346206665039,-0.08020877838134766,-0.05518913269042969,-0.14027953147888184,-0.00492095947265625,-0.035462379455566406,-0.019426345825195312,-0.03296613693237305,-0.13083100318908691,-0.04939556121826172,-0.02676844596862793,-0.06318926811218262,0.014158487319946289,-0.09340882301330566,-0.06029963493347168,-0.06914377212524414,-0.23108839988708496,-0.10867953300476074,-0.17877459526062012,-0.16872882843017578,-0.05759239196777344,0.028635263442993164,-0.15980958938598633,-0.1250016689300537,-0.40029287338256836,-0.08039474487304688,-0.35066843032836914,-0.054488182067871094,-0.32446861267089844,-0.2302229404449463,0.005357265472412109,-0.01992344856262207,-0.4748368263244629,-0.18224358558654785,-0.1889955997467041,-0.28898119926452637,-0.16504883766174316,-0.32138586044311523,-0.11669039726257324,-0.18918871879577637,-0.30258893966674805,-0.028066635131835938,-0.30646562576293945,-0.0876474380493164,-0.3276371955871582,-0.1408553123474121,-0.1312565803527832,-0.18755793571472168,-0.10640144348144531,-0.42661428451538086,-0.18306970596313477,-0.15185236930847168,-0.2852475643157959,-0.19245028495788574,-0.16703009605407715,-0.17435073852539062,-0.3041231632232666,-0.07580995559692383,-0.09691357612609863,-0.12642860412597656,-0.16510248184204102,-0.12196898460388184,0.016164779663085938,-0.0658106803894043,-0.027437210083007812,-0.08464336395263672,-0.09167790412902832,-0.024733543395996094,-0.08478641510009766,-0.047861337661743164,-0.02493739128112793,0.01237034797668457,-0.01926898956298828,-0.1645374298095703,-0.022788047790527344,-0.01952648162841797,-0.014609098434448242,-0.05319356918334961,0.0030183792114257812,-0.07303833961486816,-0.019043684005737305,0.01260995864868164,0.004853010177612305,0.008761882781982422,0.027365684509277344,0.002338886260986328,-0.013772249221801758,0.017023086547851562,-0.0030934810638427734,0.0012624263763427734,0.012949705123901367,-0.0005829334259033203,-0.009670257568359375,-0.04524707794189453,0.0007259845733642578,-0.03267645835876465,3.933906555175781e-05,0.0036585330963134766,0.006598234176635742,0.04062294960021973,0.015213489532470703,0.07371783256530762,0.04433870315551758,0.006326436996459961],\"yaxis\":\"y\",\"type\":\"scatter\"}],                        {\"template\":{\"data\":{\"histogram2dcontour\":[{\"type\":\"histogram2dcontour\",\"colorbar\":{\"outlinewidth\":0,\"ticks\":\"\"},\"colorscale\":[[0.0,\"#0d0887\"],[0.1111111111111111,\"#46039f\"],[0.2222222222222222,\"#7201a8\"],[0.3333333333333333,\"#9c179e\"],[0.4444444444444444,\"#bd3786\"],[0.5555555555555556,\"#d8576b\"],[0.6666666666666666,\"#ed7953\"],[0.7777777777777778,\"#fb9f3a\"],[0.8888888888888888,\"#fdca26\"],[1.0,\"#f0f921\"]]}],\"choropleth\":[{\"type\":\"choropleth\",\"colorbar\":{\"outlinewidth\":0,\"ticks\":\"\"}}],\"histogram2d\":[{\"type\":\"histogram2d\",\"colorbar\":{\"outlinewidth\":0,\"ticks\":\"\"},\"colorscale\":[[0.0,\"#0d0887\"],[0.1111111111111111,\"#46039f\"],[0.2222222222222222,\"#7201a8\"],[0.3333333333333333,\"#9c179e\"],[0.4444444444444444,\"#bd3786\"],[0.5555555555555556,\"#d8576b\"],[0.6666666666666666,\"#ed7953\"],[0.7777777777777778,\"#fb9f3a\"],[0.8888888888888888,\"#fdca26\"],[1.0,\"#f0f921\"]]}],\"heatmap\":[{\"type\":\"heatmap\",\"colorbar\":{\"outlinewidth\":0,\"ticks\":\"\"},\"colorscale\":[[0.0,\"#0d0887\"],[0.1111111111111111,\"#46039f\"],[0.2222222222222222,\"#7201a8\"],[0.3333333333333333,\"#9c179e\"],[0.4444444444444444,\"#bd3786\"],[0.5555555555555556,\"#d8576b\"],[0.6666666666666666,\"#ed7953\"],[0.7777777777777778,\"#fb9f3a\"],[0.8888888888888888,\"#fdca26\"],[1.0,\"#f0f921\"]]}],\"heatmapgl\":[{\"type\":\"heatmapgl\",\"colorbar\":{\"outlinewidth\":0,\"ticks\":\"\"},\"colorscale\":[[0.0,\"#0d0887\"],[0.1111111111111111,\"#46039f\"],[0.2222222222222222,\"#7201a8\"],[0.3333333333333333,\"#9c179e\"],[0.4444444444444444,\"#bd3786\"],[0.5555555555555556,\"#d8576b\"],[0.6666666666666666,\"#ed7953\"],[0.7777777777777778,\"#fb9f3a\"],[0.8888888888888888,\"#fdca26\"],[1.0,\"#f0f921\"]]}],\"contourcarpet\":[{\"type\":\"contourcarpet\",\"colorbar\":{\"outlinewidth\":0,\"ticks\":\"\"}}],\"contour\":[{\"type\":\"contour\",\"colorbar\":{\"outlinewidth\":0,\"ticks\":\"\"},\"colorscale\":[[0.0,\"#0d0887\"],[0.1111111111111111,\"#46039f\"],[0.2222222222222222,\"#7201a8\"],[0.3333333333333333,\"#9c179e\"],[0.4444444444444444,\"#bd3786\"],[0.5555555555555556,\"#d8576b\"],[0.6666666666666666,\"#ed7953\"],[0.7777777777777778,\"#fb9f3a\"],[0.8888888888888888,\"#fdca26\"],[1.0,\"#f0f921\"]]}],\"surface\":[{\"type\":\"surface\",\"colorbar\":{\"outlinewidth\":0,\"ticks\":\"\"},\"colorscale\":[[0.0,\"#0d0887\"],[0.1111111111111111,\"#46039f\"],[0.2222222222222222,\"#7201a8\"],[0.3333333333333333,\"#9c179e\"],[0.4444444444444444,\"#bd3786\"],[0.5555555555555556,\"#d8576b\"],[0.6666666666666666,\"#ed7953\"],[0.7777777777777778,\"#fb9f3a\"],[0.8888888888888888,\"#fdca26\"],[1.0,\"#f0f921\"]]}],\"mesh3d\":[{\"type\":\"mesh3d\",\"colorbar\":{\"outlinewidth\":0,\"ticks\":\"\"}}],\"scatter\":[{\"fillpattern\":{\"fillmode\":\"overlay\",\"size\":10,\"solidity\":0.2},\"type\":\"scatter\"}],\"parcoords\":[{\"type\":\"parcoords\",\"line\":{\"colorbar\":{\"outlinewidth\":0,\"ticks\":\"\"}}}],\"scatterpolargl\":[{\"type\":\"scatterpolargl\",\"marker\":{\"colorbar\":{\"outlinewidth\":0,\"ticks\":\"\"}}}],\"bar\":[{\"error_x\":{\"color\":\"#2a3f5f\"},\"error_y\":{\"color\":\"#2a3f5f\"},\"marker\":{\"line\":{\"color\":\"#E5ECF6\",\"width\":0.5},\"pattern\":{\"fillmode\":\"overlay\",\"size\":10,\"solidity\":0.2}},\"type\":\"bar\"}],\"scattergeo\":[{\"type\":\"scattergeo\",\"marker\":{\"colorbar\":{\"outlinewidth\":0,\"ticks\":\"\"}}}],\"scatterpolar\":[{\"type\":\"scatterpolar\",\"marker\":{\"colorbar\":{\"outlinewidth\":0,\"ticks\":\"\"}}}],\"histogram\":[{\"marker\":{\"pattern\":{\"fillmode\":\"overlay\",\"size\":10,\"solidity\":0.2}},\"type\":\"histogram\"}],\"scattergl\":[{\"type\":\"scattergl\",\"marker\":{\"colorbar\":{\"outlinewidth\":0,\"ticks\":\"\"}}}],\"scatter3d\":[{\"type\":\"scatter3d\",\"line\":{\"colorbar\":{\"outlinewidth\":0,\"ticks\":\"\"}},\"marker\":{\"colorbar\":{\"outlinewidth\":0,\"ticks\":\"\"}}}],\"scattermapbox\":[{\"type\":\"scattermapbox\",\"marker\":{\"colorbar\":{\"outlinewidth\":0,\"ticks\":\"\"}}}],\"scatterternary\":[{\"type\":\"scatterternary\",\"marker\":{\"colorbar\":{\"outlinewidth\":0,\"ticks\":\"\"}}}],\"scattercarpet\":[{\"type\":\"scattercarpet\",\"marker\":{\"colorbar\":{\"outlinewidth\":0,\"ticks\":\"\"}}}],\"carpet\":[{\"aaxis\":{\"endlinecolor\":\"#2a3f5f\",\"gridcolor\":\"white\",\"linecolor\":\"white\",\"minorgridcolor\":\"white\",\"startlinecolor\":\"#2a3f5f\"},\"baxis\":{\"endlinecolor\":\"#2a3f5f\",\"gridcolor\":\"white\",\"linecolor\":\"white\",\"minorgridcolor\":\"white\",\"startlinecolor\":\"#2a3f5f\"},\"type\":\"carpet\"}],\"table\":[{\"cells\":{\"fill\":{\"color\":\"#EBF0F8\"},\"line\":{\"color\":\"white\"}},\"header\":{\"fill\":{\"color\":\"#C8D4E3\"},\"line\":{\"color\":\"white\"}},\"type\":\"table\"}],\"barpolar\":[{\"marker\":{\"line\":{\"color\":\"#E5ECF6\",\"width\":0.5},\"pattern\":{\"fillmode\":\"overlay\",\"size\":10,\"solidity\":0.2}},\"type\":\"barpolar\"}],\"pie\":[{\"automargin\":true,\"type\":\"pie\"}]},\"layout\":{\"autotypenumbers\":\"strict\",\"colorway\":[\"#636efa\",\"#EF553B\",\"#00cc96\",\"#ab63fa\",\"#FFA15A\",\"#19d3f3\",\"#FF6692\",\"#B6E880\",\"#FF97FF\",\"#FECB52\"],\"font\":{\"color\":\"#2a3f5f\"},\"hovermode\":\"closest\",\"hoverlabel\":{\"align\":\"left\"},\"paper_bgcolor\":\"white\",\"plot_bgcolor\":\"#E5ECF6\",\"polar\":{\"bgcolor\":\"#E5ECF6\",\"angularaxis\":{\"gridcolor\":\"white\",\"linecolor\":\"white\",\"ticks\":\"\"},\"radialaxis\":{\"gridcolor\":\"white\",\"linecolor\":\"white\",\"ticks\":\"\"}},\"ternary\":{\"bgcolor\":\"#E5ECF6\",\"aaxis\":{\"gridcolor\":\"white\",\"linecolor\":\"white\",\"ticks\":\"\"},\"baxis\":{\"gridcolor\":\"white\",\"linecolor\":\"white\",\"ticks\":\"\"},\"caxis\":{\"gridcolor\":\"white\",\"linecolor\":\"white\",\"ticks\":\"\"}},\"coloraxis\":{\"colorbar\":{\"outlinewidth\":0,\"ticks\":\"\"}},\"colorscale\":{\"sequential\":[[0.0,\"#0d0887\"],[0.1111111111111111,\"#46039f\"],[0.2222222222222222,\"#7201a8\"],[0.3333333333333333,\"#9c179e\"],[0.4444444444444444,\"#bd3786\"],[0.5555555555555556,\"#d8576b\"],[0.6666666666666666,\"#ed7953\"],[0.7777777777777778,\"#fb9f3a\"],[0.8888888888888888,\"#fdca26\"],[1.0,\"#f0f921\"]],\"sequentialminus\":[[0.0,\"#0d0887\"],[0.1111111111111111,\"#46039f\"],[0.2222222222222222,\"#7201a8\"],[0.3333333333333333,\"#9c179e\"],[0.4444444444444444,\"#bd3786\"],[0.5555555555555556,\"#d8576b\"],[0.6666666666666666,\"#ed7953\"],[0.7777777777777778,\"#fb9f3a\"],[0.8888888888888888,\"#fdca26\"],[1.0,\"#f0f921\"]],\"diverging\":[[0,\"#8e0152\"],[0.1,\"#c51b7d\"],[0.2,\"#de77ae\"],[0.3,\"#f1b6da\"],[0.4,\"#fde0ef\"],[0.5,\"#f7f7f7\"],[0.6,\"#e6f5d0\"],[0.7,\"#b8e186\"],[0.8,\"#7fbc41\"],[0.9,\"#4d9221\"],[1,\"#276419\"]]},\"xaxis\":{\"gridcolor\":\"white\",\"linecolor\":\"white\",\"ticks\":\"\",\"title\":{\"standoff\":15},\"zerolinecolor\":\"white\",\"automargin\":true,\"zerolinewidth\":2},\"yaxis\":{\"gridcolor\":\"white\",\"linecolor\":\"white\",\"ticks\":\"\",\"title\":{\"standoff\":15},\"zerolinecolor\":\"white\",\"automargin\":true,\"zerolinewidth\":2},\"scene\":{\"xaxis\":{\"backgroundcolor\":\"#E5ECF6\",\"gridcolor\":\"white\",\"linecolor\":\"white\",\"showbackground\":true,\"ticks\":\"\",\"zerolinecolor\":\"white\",\"gridwidth\":2},\"yaxis\":{\"backgroundcolor\":\"#E5ECF6\",\"gridcolor\":\"white\",\"linecolor\":\"white\",\"showbackground\":true,\"ticks\":\"\",\"zerolinecolor\":\"white\",\"gridwidth\":2},\"zaxis\":{\"backgroundcolor\":\"#E5ECF6\",\"gridcolor\":\"white\",\"linecolor\":\"white\",\"showbackground\":true,\"ticks\":\"\",\"zerolinecolor\":\"white\",\"gridwidth\":2}},\"shapedefaults\":{\"line\":{\"color\":\"#2a3f5f\"}},\"annotationdefaults\":{\"arrowcolor\":\"#2a3f5f\",\"arrowhead\":0,\"arrowwidth\":1},\"geo\":{\"bgcolor\":\"white\",\"landcolor\":\"#E5ECF6\",\"subunitcolor\":\"white\",\"showland\":true,\"showlakes\":true,\"lakecolor\":\"white\"},\"title\":{\"x\":0.05},\"mapbox\":{\"style\":\"light\"}}},\"xaxis\":{\"anchor\":\"y\",\"domain\":[0.0,1.0],\"title\":{\"text\":\"Tiempo\"}},\"yaxis\":{\"anchor\":\"x\",\"domain\":[0.0,1.0],\"title\":{\"text\":\"Velocidad de la cadera\"}},\"legend\":{\"tracegroupgap\":0},\"title\":{\"text\":\"Evoluci\\u00f3n de la velocidad de la cadera\"}},                        {\"responsive\": true}                    ).then(function(){\n",
              "                            \n",
              "var gd = document.getElementById('2775832d-8454-45d9-81e5-08ea24d07e6e');\n",
              "var x = new MutationObserver(function (mutations, observer) {{\n",
              "        var display = window.getComputedStyle(gd).display;\n",
              "        if (!display || display === 'none') {{\n",
              "            console.log([gd, 'removed!']);\n",
              "            Plotly.purge(gd);\n",
              "            observer.disconnect();\n",
              "        }}\n",
              "}});\n",
              "\n",
              "// Listen for the removal of the full notebook cells\n",
              "var notebookContainer = gd.closest('#notebook-container');\n",
              "if (notebookContainer) {{\n",
              "    x.observe(notebookContainer, {childList: true});\n",
              "}}\n",
              "\n",
              "// Listen for the clearing of the current output cell\n",
              "var outputEl = gd.closest('.output');\n",
              "if (outputEl) {{\n",
              "    x.observe(outputEl, {childList: true});\n",
              "}}\n",
              "\n",
              "                        })                };                            </script>        </div>\n",
              "</body>\n",
              "</html>"
            ]
          },
          "metadata": {}
        },
        {
          "output_type": "display_data",
          "data": {
            "text/html": [
              "<html>\n",
              "<head><meta charset=\"utf-8\" /></head>\n",
              "<body>\n",
              "    <div>            <script src=\"https://cdnjs.cloudflare.com/ajax/libs/mathjax/2.7.5/MathJax.js?config=TeX-AMS-MML_SVG\"></script><script type=\"text/javascript\">if (window.MathJax && window.MathJax.Hub && window.MathJax.Hub.Config) {window.MathJax.Hub.Config({SVG: {font: \"STIX-Web\"}});}</script>                <script type=\"text/javascript\">window.PlotlyConfig = {MathJaxConfig: 'local'};</script>\n",
              "        <script charset=\"utf-8\" src=\"https://cdn.plot.ly/plotly-2.24.1.min.js\"></script>                <div id=\"aa1c6b25-44bc-4730-b89d-61782a7cdc4a\" class=\"plotly-graph-div\" style=\"height:525px; width:100%;\"></div>            <script type=\"text/javascript\">                                    window.PLOTLYENV=window.PLOTLYENV || {};                                    if (document.getElementById(\"aa1c6b25-44bc-4730-b89d-61782a7cdc4a\")) {                    Plotly.newPlot(                        \"aa1c6b25-44bc-4730-b89d-61782a7cdc4a\",                        [{\"hovertemplate\":\"Tiempo=%{x}\\u003cbr\\u003eAceleracion(Cadera)_Y=%{y}\\u003cextra\\u003e\\u003c\\u002fextra\\u003e\",\"legendgroup\":\"\",\"line\":{\"color\":\"#636efa\",\"dash\":\"solid\"},\"marker\":{\"symbol\":\"circle\"},\"mode\":\"lines\",\"name\":\"\",\"orientation\":\"v\",\"showlegend\":false,\"x\":[0,0.016666666666666666,0.03333333333333333,0.05,0.06666666666666667,0.08333333333333333,0.1,0.11666666666666667,0.13333333333333333,0.15,0.16666666666666666,0.18333333333333332,0.2,0.21666666666666667,0.23333333333333334,0.25,0.26666666666666666,0.2833333333333333,0.3,0.31666666666666665,0.3333333333333333,0.35,0.36666666666666664,0.3833333333333333,0.4,0.4166666666666667,0.43333333333333335,0.45,0.4666666666666667,0.48333333333333334,0.5,0.5166666666666666,0.5333333333333333,0.55,0.5666666666666667,0.5833333333333334,0.6,0.6166666666666667,0.6333333333333333,0.65,0.6666666666666666,0.6833333333333333,0.7,0.7166666666666667,0.7333333333333333,0.75,0.7666666666666666,0.7833333333333333,0.8,0.8166666666666667,0.8333333333333334,0.85,0.8666666666666667,0.8833333333333333,0.9,0.9166666666666666,0.9333333333333333,0.95,0.9666666666666667,0.9833333333333333,1.0,1.0166666666666666,1.0333333333333332,1.05,1.0666666666666667,1.0833333333333333,1.1,1.1166666666666667,1.1333333333333333,1.15,1.1666666666666667,1.1833333333333333,1.2,1.2166666666666666,1.2333333333333334,1.25,1.2666666666666666,1.2833333333333332,1.3,1.3166666666666667,1.3333333333333333,1.35,1.3666666666666667,1.3833333333333333,1.4,1.4166666666666667,1.4333333333333333,1.45,1.4666666666666666,1.4833333333333334,1.5,1.5166666666666666,1.5333333333333332,1.55,1.5666666666666667,1.5833333333333333,1.6,1.6166666666666667,1.6333333333333333,1.65,1.6666666666666667,1.6833333333333333,1.7,1.7166666666666666,1.7333333333333334,1.75,1.7666666666666666,1.7833333333333332,1.8,1.8166666666666667,1.8333333333333333,1.8499999999999999,1.8666666666666667,1.8833333333333333,1.9,1.9166666666666667,1.9333333333333333,1.95,1.9666666666666666,1.9833333333333334,2.0,2.0166666666666666,2.033333333333333,2.05,2.0666666666666664,2.0833333333333335,2.1,2.1166666666666667,2.1333333333333333,2.15,2.1666666666666665,2.183333333333333,2.2,2.216666666666667,2.2333333333333334,2.25,2.2666666666666666,2.283333333333333,2.3,2.3166666666666664,2.3333333333333335,2.35,2.3666666666666667,2.3833333333333333,2.4,2.4166666666666665,2.433333333333333,2.45,2.466666666666667,2.4833333333333334,2.5,2.5166666666666666,2.533333333333333,2.55,2.5666666666666664,2.5833333333333335,2.6,2.6166666666666667,2.6333333333333333,2.65,2.6666666666666665,2.683333333333333,2.7,2.716666666666667,2.7333333333333334,2.75,2.7666666666666666,2.783333333333333,2.8,2.8166666666666664,2.8333333333333335,2.85,2.8666666666666667,2.8833333333333333,2.9,2.9166666666666665,2.933333333333333,2.95,2.966666666666667,2.9833333333333334,3.0,3.0166666666666666,3.033333333333333,3.05,3.0666666666666664,3.0833333333333335,3.1,3.1166666666666667,3.1333333333333333,3.15,3.1666666666666665,3.183333333333333,3.2,3.216666666666667,3.2333333333333334,3.25,3.2666666666666666,3.283333333333333,3.3,3.3166666666666664,3.3333333333333335,3.35,3.3666666666666667,3.3833333333333333,3.4,3.4166666666666665,3.433333333333333,3.4499999999999997,3.466666666666667,3.4833333333333334,3.5,3.5166666666666666,3.533333333333333,3.55,3.5666666666666664,3.5833333333333335,3.6,3.6166666666666667,3.6333333333333333,3.65,3.6666666666666665,3.683333333333333,3.6999999999999997,3.716666666666667,3.7333333333333334,3.75,3.7666666666666666,3.783333333333333,3.8,3.8166666666666664,3.8333333333333335,3.85,3.8666666666666667,3.8833333333333333,3.9,3.9166666666666665,3.933333333333333,3.9499999999999997,3.966666666666667,3.9833333333333334,4.0,4.016666666666667,4.033333333333333,4.05,4.066666666666666,4.083333333333333,4.1,4.116666666666666,4.133333333333333,4.15,4.166666666666667,4.183333333333334,4.2,4.216666666666667],\"xaxis\":\"x\",\"y\":[null,0.0,-6.172728538513184,-3.6194801330566406,-0.21908283233642578,-0.0995635986328125,0.1135110855102539,-0.39932727813720703,1.7893552780151367,0.6280660629272461,-0.8186101913452148,-0.09999275207519531,-2.2371768951416016,-0.17681121826171875,-3.5860061645507812,-5.2985429763793945,-1.4829397201538086,-5.348324775695801,-1.0449886322021484,-4.235744476318359,0.3334522247314453,-2.0644426345825195,-0.24096965789794922,-2.879619598388672,-2.9184579849243164,-0.34117698669433594,-4.365992546081543,-9.920096397399902,-4.412126541137695,1.258707046508789,-1.784205436706543,-8.372998237609863,-1.201629638671875,-1.9693851470947266,0.1274585723876953,-7.653522491455078,0.5851507186889648,-6.2529802322387695,-6.485152244567871,-2.6586055755615234,-4.934835433959961,-3.4926652908325195,-5.298328399658203,-9.089255332946777,-1.9337654113769531,-7.413840293884277,-3.9140939712524414,-1.6267061233520508,0.7958650588989258,-9.189033508300781,-10.222220420837402,-10.14111042022705,-7.749223709106445,-11.774253845214844,-10.07223129272461,-5.507326126098633,-11.518692970275879,-9.818172454833984,-10.83827018737793,-5.626201629638672,-0.18625259399414062,-10.119438171386719,4.244756698608398,-5.315279960632324,-7.018375396728516,0.7447957992553711,-5.556249618530273,-6.230020523071289,-3.2958984375,-13.541078567504883,-10.293245315551758,-6.05471134185791,-8.975958824157715,-11.163783073425293,-14.527273178100586,5.061650276184082,-7.732057571411133,-3.032398223876953,-5.815672874450684,-10.559749603271484,-11.485862731933594,-1.5906572341918945,-12.698864936828613,-3.037548065185547,0.5639076232910156,-5.236959457397461,-9.334731101989746,-6.636643409729004,-6.212425231933594,-2.238893508911133,-8.208632469177246,-13.077163696289062,-2.284383773803711,-5.460977554321289,-7.261490821838379,-7.9811811447143555,-4.395604133605957,-11.050915718078613,-7.828831672668457,-2.028179168701172,-14.036750793457031,-6.082391738891602,1.1887550354003906,2.4124860763549805,-8.277297019958496,-13.943624496459961,-2.054142951965332,-2.8309106826782227,0.5394458770751953,-4.261493682861328,-2.939271926879883,-5.46269416809082,-6.299543380737305,-1.1861801147460938,-0.4158496856689453,-6.535577774047852,-8.045339584350586,-3.0040740966796875,-6.776332855224609,-4.8442840576171875,-5.8753252029418945,-1.754164695739746,-2.8002262115478516,-6.579351425170898,0.3057718276977539,-6.416916847229004,1.9105911254882812,1.2823104858398438,-7.063436508178711,0.33152103424072266,-6.038618087768555,-2.4150609970092773,-4.420709609985352,1.1142969131469727,-4.335737228393555,0.9690284729003906,0.7100343704223633,-1.0872602462768555,0.10406970977783203,-0.06995201110839844,-0.5293607711791992,-2.2768735885620117,-0.5132675170898438,-1.7578125,-0.20706653594970703,0.23968219757080078,0.0718832015991211,-0.3873109817504883,2.513766288757324,0.8900642395019531,-0.548243522644043,0.6915807723999023,4.812526702880859,3.3113479614257812,8.41677188873291,0.295257568359375,2.1277427673339844,1.1655807495117188,1.9779682159423828,7.849860191345215,2.963733673095703,1.6061067581176758,3.791356086730957,-0.8495092391967773,5.60452938079834,3.617978096008301,4.148626327514648,13.865303993225098,6.5207719802856445,10.726475715637207,10.123729705810547,3.4555435180664062,-1.7181158065795898,9.58857536315918,7.500100135803223,24.0175724029541,4.8236846923828125,21.04010581970215,3.2692909240722656,19.468116760253906,13.813376426696777,-0.32143592834472656,1.1954069137573242,28.490209579467773,10.934615135192871,11.339735984802246,17.338871955871582,9.90293025970459,19.283151626586914,7.0014238357543945,11.351323127746582,18.155336380004883,1.6839981079101562,18.387937545776367,5.258846282958984,19.658231735229492,8.451318740844727,7.875394821166992,11.2534761428833,6.384086608886719,25.59685707092285,10.984182357788086,9.1111421585083,17.114853858947754,11.547017097473145,10.021805763244629,10.461044311523438,18.247389793395996,4.54859733581543,5.814814567565918,7.585716247558594,9.906148910522461,7.31813907623291,-0.9698867797851562,3.948640823364258,1.6462326049804688,5.078601837158203,5.500674247741699,1.4840126037597656,5.087184906005859,2.87168025970459,1.4962434768676758,-0.7422208786010742,1.1561393737792969,9.872245788574219,1.3672828674316406,1.1715888977050781,0.8765459060668945,3.1916141510009766,-0.18110275268554688,4.38230037689209,1.1426210403442383,-0.7565975189208984,-0.2911806106567383,-0.5257129669189453,-1.6419410705566406,-0.1403331756591797,0.8263349533081055,-1.0213851928710938,0.1856088638305664,-0.0757455825805664,-0.776982307434082,0.03497600555419922,0.5802154541015625,2.714824676513672,-0.04355907440185547,1.960587501525879,-0.0023603439331054688,-0.2195119857788086,-0.39589405059814453,-2.4373769760131836,-0.9128093719482422,-4.423069953918457,-2.6603221893310547],\"yaxis\":\"y\",\"type\":\"scatter\"}],                        {\"template\":{\"data\":{\"histogram2dcontour\":[{\"type\":\"histogram2dcontour\",\"colorbar\":{\"outlinewidth\":0,\"ticks\":\"\"},\"colorscale\":[[0.0,\"#0d0887\"],[0.1111111111111111,\"#46039f\"],[0.2222222222222222,\"#7201a8\"],[0.3333333333333333,\"#9c179e\"],[0.4444444444444444,\"#bd3786\"],[0.5555555555555556,\"#d8576b\"],[0.6666666666666666,\"#ed7953\"],[0.7777777777777778,\"#fb9f3a\"],[0.8888888888888888,\"#fdca26\"],[1.0,\"#f0f921\"]]}],\"choropleth\":[{\"type\":\"choropleth\",\"colorbar\":{\"outlinewidth\":0,\"ticks\":\"\"}}],\"histogram2d\":[{\"type\":\"histogram2d\",\"colorbar\":{\"outlinewidth\":0,\"ticks\":\"\"},\"colorscale\":[[0.0,\"#0d0887\"],[0.1111111111111111,\"#46039f\"],[0.2222222222222222,\"#7201a8\"],[0.3333333333333333,\"#9c179e\"],[0.4444444444444444,\"#bd3786\"],[0.5555555555555556,\"#d8576b\"],[0.6666666666666666,\"#ed7953\"],[0.7777777777777778,\"#fb9f3a\"],[0.8888888888888888,\"#fdca26\"],[1.0,\"#f0f921\"]]}],\"heatmap\":[{\"type\":\"heatmap\",\"colorbar\":{\"outlinewidth\":0,\"ticks\":\"\"},\"colorscale\":[[0.0,\"#0d0887\"],[0.1111111111111111,\"#46039f\"],[0.2222222222222222,\"#7201a8\"],[0.3333333333333333,\"#9c179e\"],[0.4444444444444444,\"#bd3786\"],[0.5555555555555556,\"#d8576b\"],[0.6666666666666666,\"#ed7953\"],[0.7777777777777778,\"#fb9f3a\"],[0.8888888888888888,\"#fdca26\"],[1.0,\"#f0f921\"]]}],\"heatmapgl\":[{\"type\":\"heatmapgl\",\"colorbar\":{\"outlinewidth\":0,\"ticks\":\"\"},\"colorscale\":[[0.0,\"#0d0887\"],[0.1111111111111111,\"#46039f\"],[0.2222222222222222,\"#7201a8\"],[0.3333333333333333,\"#9c179e\"],[0.4444444444444444,\"#bd3786\"],[0.5555555555555556,\"#d8576b\"],[0.6666666666666666,\"#ed7953\"],[0.7777777777777778,\"#fb9f3a\"],[0.8888888888888888,\"#fdca26\"],[1.0,\"#f0f921\"]]}],\"contourcarpet\":[{\"type\":\"contourcarpet\",\"colorbar\":{\"outlinewidth\":0,\"ticks\":\"\"}}],\"contour\":[{\"type\":\"contour\",\"colorbar\":{\"outlinewidth\":0,\"ticks\":\"\"},\"colorscale\":[[0.0,\"#0d0887\"],[0.1111111111111111,\"#46039f\"],[0.2222222222222222,\"#7201a8\"],[0.3333333333333333,\"#9c179e\"],[0.4444444444444444,\"#bd3786\"],[0.5555555555555556,\"#d8576b\"],[0.6666666666666666,\"#ed7953\"],[0.7777777777777778,\"#fb9f3a\"],[0.8888888888888888,\"#fdca26\"],[1.0,\"#f0f921\"]]}],\"surface\":[{\"type\":\"surface\",\"colorbar\":{\"outlinewidth\":0,\"ticks\":\"\"},\"colorscale\":[[0.0,\"#0d0887\"],[0.1111111111111111,\"#46039f\"],[0.2222222222222222,\"#7201a8\"],[0.3333333333333333,\"#9c179e\"],[0.4444444444444444,\"#bd3786\"],[0.5555555555555556,\"#d8576b\"],[0.6666666666666666,\"#ed7953\"],[0.7777777777777778,\"#fb9f3a\"],[0.8888888888888888,\"#fdca26\"],[1.0,\"#f0f921\"]]}],\"mesh3d\":[{\"type\":\"mesh3d\",\"colorbar\":{\"outlinewidth\":0,\"ticks\":\"\"}}],\"scatter\":[{\"fillpattern\":{\"fillmode\":\"overlay\",\"size\":10,\"solidity\":0.2},\"type\":\"scatter\"}],\"parcoords\":[{\"type\":\"parcoords\",\"line\":{\"colorbar\":{\"outlinewidth\":0,\"ticks\":\"\"}}}],\"scatterpolargl\":[{\"type\":\"scatterpolargl\",\"marker\":{\"colorbar\":{\"outlinewidth\":0,\"ticks\":\"\"}}}],\"bar\":[{\"error_x\":{\"color\":\"#2a3f5f\"},\"error_y\":{\"color\":\"#2a3f5f\"},\"marker\":{\"line\":{\"color\":\"#E5ECF6\",\"width\":0.5},\"pattern\":{\"fillmode\":\"overlay\",\"size\":10,\"solidity\":0.2}},\"type\":\"bar\"}],\"scattergeo\":[{\"type\":\"scattergeo\",\"marker\":{\"colorbar\":{\"outlinewidth\":0,\"ticks\":\"\"}}}],\"scatterpolar\":[{\"type\":\"scatterpolar\",\"marker\":{\"colorbar\":{\"outlinewidth\":0,\"ticks\":\"\"}}}],\"histogram\":[{\"marker\":{\"pattern\":{\"fillmode\":\"overlay\",\"size\":10,\"solidity\":0.2}},\"type\":\"histogram\"}],\"scattergl\":[{\"type\":\"scattergl\",\"marker\":{\"colorbar\":{\"outlinewidth\":0,\"ticks\":\"\"}}}],\"scatter3d\":[{\"type\":\"scatter3d\",\"line\":{\"colorbar\":{\"outlinewidth\":0,\"ticks\":\"\"}},\"marker\":{\"colorbar\":{\"outlinewidth\":0,\"ticks\":\"\"}}}],\"scattermapbox\":[{\"type\":\"scattermapbox\",\"marker\":{\"colorbar\":{\"outlinewidth\":0,\"ticks\":\"\"}}}],\"scatterternary\":[{\"type\":\"scatterternary\",\"marker\":{\"colorbar\":{\"outlinewidth\":0,\"ticks\":\"\"}}}],\"scattercarpet\":[{\"type\":\"scattercarpet\",\"marker\":{\"colorbar\":{\"outlinewidth\":0,\"ticks\":\"\"}}}],\"carpet\":[{\"aaxis\":{\"endlinecolor\":\"#2a3f5f\",\"gridcolor\":\"white\",\"linecolor\":\"white\",\"minorgridcolor\":\"white\",\"startlinecolor\":\"#2a3f5f\"},\"baxis\":{\"endlinecolor\":\"#2a3f5f\",\"gridcolor\":\"white\",\"linecolor\":\"white\",\"minorgridcolor\":\"white\",\"startlinecolor\":\"#2a3f5f\"},\"type\":\"carpet\"}],\"table\":[{\"cells\":{\"fill\":{\"color\":\"#EBF0F8\"},\"line\":{\"color\":\"white\"}},\"header\":{\"fill\":{\"color\":\"#C8D4E3\"},\"line\":{\"color\":\"white\"}},\"type\":\"table\"}],\"barpolar\":[{\"marker\":{\"line\":{\"color\":\"#E5ECF6\",\"width\":0.5},\"pattern\":{\"fillmode\":\"overlay\",\"size\":10,\"solidity\":0.2}},\"type\":\"barpolar\"}],\"pie\":[{\"automargin\":true,\"type\":\"pie\"}]},\"layout\":{\"autotypenumbers\":\"strict\",\"colorway\":[\"#636efa\",\"#EF553B\",\"#00cc96\",\"#ab63fa\",\"#FFA15A\",\"#19d3f3\",\"#FF6692\",\"#B6E880\",\"#FF97FF\",\"#FECB52\"],\"font\":{\"color\":\"#2a3f5f\"},\"hovermode\":\"closest\",\"hoverlabel\":{\"align\":\"left\"},\"paper_bgcolor\":\"white\",\"plot_bgcolor\":\"#E5ECF6\",\"polar\":{\"bgcolor\":\"#E5ECF6\",\"angularaxis\":{\"gridcolor\":\"white\",\"linecolor\":\"white\",\"ticks\":\"\"},\"radialaxis\":{\"gridcolor\":\"white\",\"linecolor\":\"white\",\"ticks\":\"\"}},\"ternary\":{\"bgcolor\":\"#E5ECF6\",\"aaxis\":{\"gridcolor\":\"white\",\"linecolor\":\"white\",\"ticks\":\"\"},\"baxis\":{\"gridcolor\":\"white\",\"linecolor\":\"white\",\"ticks\":\"\"},\"caxis\":{\"gridcolor\":\"white\",\"linecolor\":\"white\",\"ticks\":\"\"}},\"coloraxis\":{\"colorbar\":{\"outlinewidth\":0,\"ticks\":\"\"}},\"colorscale\":{\"sequential\":[[0.0,\"#0d0887\"],[0.1111111111111111,\"#46039f\"],[0.2222222222222222,\"#7201a8\"],[0.3333333333333333,\"#9c179e\"],[0.4444444444444444,\"#bd3786\"],[0.5555555555555556,\"#d8576b\"],[0.6666666666666666,\"#ed7953\"],[0.7777777777777778,\"#fb9f3a\"],[0.8888888888888888,\"#fdca26\"],[1.0,\"#f0f921\"]],\"sequentialminus\":[[0.0,\"#0d0887\"],[0.1111111111111111,\"#46039f\"],[0.2222222222222222,\"#7201a8\"],[0.3333333333333333,\"#9c179e\"],[0.4444444444444444,\"#bd3786\"],[0.5555555555555556,\"#d8576b\"],[0.6666666666666666,\"#ed7953\"],[0.7777777777777778,\"#fb9f3a\"],[0.8888888888888888,\"#fdca26\"],[1.0,\"#f0f921\"]],\"diverging\":[[0,\"#8e0152\"],[0.1,\"#c51b7d\"],[0.2,\"#de77ae\"],[0.3,\"#f1b6da\"],[0.4,\"#fde0ef\"],[0.5,\"#f7f7f7\"],[0.6,\"#e6f5d0\"],[0.7,\"#b8e186\"],[0.8,\"#7fbc41\"],[0.9,\"#4d9221\"],[1,\"#276419\"]]},\"xaxis\":{\"gridcolor\":\"white\",\"linecolor\":\"white\",\"ticks\":\"\",\"title\":{\"standoff\":15},\"zerolinecolor\":\"white\",\"automargin\":true,\"zerolinewidth\":2},\"yaxis\":{\"gridcolor\":\"white\",\"linecolor\":\"white\",\"ticks\":\"\",\"title\":{\"standoff\":15},\"zerolinecolor\":\"white\",\"automargin\":true,\"zerolinewidth\":2},\"scene\":{\"xaxis\":{\"backgroundcolor\":\"#E5ECF6\",\"gridcolor\":\"white\",\"linecolor\":\"white\",\"showbackground\":true,\"ticks\":\"\",\"zerolinecolor\":\"white\",\"gridwidth\":2},\"yaxis\":{\"backgroundcolor\":\"#E5ECF6\",\"gridcolor\":\"white\",\"linecolor\":\"white\",\"showbackground\":true,\"ticks\":\"\",\"zerolinecolor\":\"white\",\"gridwidth\":2},\"zaxis\":{\"backgroundcolor\":\"#E5ECF6\",\"gridcolor\":\"white\",\"linecolor\":\"white\",\"showbackground\":true,\"ticks\":\"\",\"zerolinecolor\":\"white\",\"gridwidth\":2}},\"shapedefaults\":{\"line\":{\"color\":\"#2a3f5f\"}},\"annotationdefaults\":{\"arrowcolor\":\"#2a3f5f\",\"arrowhead\":0,\"arrowwidth\":1},\"geo\":{\"bgcolor\":\"white\",\"landcolor\":\"#E5ECF6\",\"subunitcolor\":\"white\",\"showland\":true,\"showlakes\":true,\"lakecolor\":\"white\"},\"title\":{\"x\":0.05},\"mapbox\":{\"style\":\"light\"}}},\"xaxis\":{\"anchor\":\"y\",\"domain\":[0.0,1.0],\"title\":{\"text\":\"Tiempo\"}},\"yaxis\":{\"anchor\":\"x\",\"domain\":[0.0,1.0],\"title\":{\"text\":\"Aceleraci\\u00f3n de la cadera\"}},\"legend\":{\"tracegroupgap\":0},\"title\":{\"text\":\"Evoluci\\u00f3n de la aceleraci\\u00f3n de la cadera\"}},                        {\"responsive\": true}                    ).then(function(){\n",
              "                            \n",
              "var gd = document.getElementById('aa1c6b25-44bc-4730-b89d-61782a7cdc4a');\n",
              "var x = new MutationObserver(function (mutations, observer) {{\n",
              "        var display = window.getComputedStyle(gd).display;\n",
              "        if (!display || display === 'none') {{\n",
              "            console.log([gd, 'removed!']);\n",
              "            Plotly.purge(gd);\n",
              "            observer.disconnect();\n",
              "        }}\n",
              "}});\n",
              "\n",
              "// Listen for the removal of the full notebook cells\n",
              "var notebookContainer = gd.closest('#notebook-container');\n",
              "if (notebookContainer) {{\n",
              "    x.observe(notebookContainer, {childList: true});\n",
              "}}\n",
              "\n",
              "// Listen for the clearing of the current output cell\n",
              "var outputEl = gd.closest('.output');\n",
              "if (outputEl) {{\n",
              "    x.observe(outputEl, {childList: true});\n",
              "}}\n",
              "\n",
              "                        })                };                            </script>        </div>\n",
              "</body>\n",
              "</html>"
            ]
          },
          "metadata": {}
        }
      ]
    },
    {
      "cell_type": "code",
      "source": [
        "coordenadas_a_distancia((0.57, 0.322), (0.66, 0.293))"
      ],
      "metadata": {
        "colab": {
          "base_uri": "https://localhost:8080/"
        },
        "id": "OFoN9SHL-l8O",
        "outputId": "95785ef3-d7cc-4a2b-8479-53d36b5cccd0"
      },
      "execution_count": null,
      "outputs": [
        {
          "output_type": "execute_result",
          "data": {
            "text/plain": [
              "0.1796517130576536"
            ]
          },
          "metadata": {},
          "execution_count": 23
        }
      ]
    },
    {
      "cell_type": "code",
      "source": [],
      "metadata": {
        "id": "gR6hqQlnE5M2"
      },
      "execution_count": null,
      "outputs": []
    }
  ],
  "metadata": {
    "colab": {
      "provenance": []
    },
    "kernelspec": {
      "display_name": "Python 3",
      "name": "python3"
    },
    "language_info": {
      "name": "python"
    }
  },
  "nbformat": 4,
  "nbformat_minor": 0
}