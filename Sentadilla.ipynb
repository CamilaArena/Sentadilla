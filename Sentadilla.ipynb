{
  "cells": [
    {
      "cell_type": "code",
      "execution_count": 52,
      "metadata": {
        "id": "KVMPhypc9WG0"
      },
      "outputs": [
        {
          "name": "stdout",
          "output_type": "stream",
          "text": [
            "^C\n",
            "Note: you may need to restart the kernel to use updated packages.\n",
            "Requirement already satisfied: mediapipe in c:\\users\\camia\\appdata\\local\\packages\\pythonsoftwarefoundation.python.3.10_qbz5n2kfra8p0\\localcache\\local-packages\\python310\\site-packages (0.10.11)\n",
            "Requirement already satisfied: absl-py in c:\\users\\camia\\appdata\\local\\packages\\pythonsoftwarefoundation.python.3.10_qbz5n2kfra8p0\\localcache\\local-packages\\python310\\site-packages (from mediapipe) (2.1.0)\n",
            "Requirement already satisfied: attrs>=19.1.0 in c:\\users\\camia\\appdata\\local\\packages\\pythonsoftwarefoundation.python.3.10_qbz5n2kfra8p0\\localcache\\local-packages\\python310\\site-packages (from mediapipe) (23.2.0)\n",
            "Requirement already satisfied: flatbuffers>=2.0 in c:\\users\\camia\\appdata\\local\\packages\\pythonsoftwarefoundation.python.3.10_qbz5n2kfra8p0\\localcache\\local-packages\\python310\\site-packages (from mediapipe) (24.3.25)\n",
            "Requirement already satisfied: jax in c:\\users\\camia\\appdata\\local\\packages\\pythonsoftwarefoundation.python.3.10_qbz5n2kfra8p0\\localcache\\local-packages\\python310\\site-packages (from mediapipe) (0.4.25)\n",
            "Requirement already satisfied: matplotlib in c:\\users\\camia\\appdata\\local\\packages\\pythonsoftwarefoundation.python.3.10_qbz5n2kfra8p0\\localcache\\local-packages\\python310\\site-packages (from mediapipe) (3.8.3)\n",
            "Requirement already satisfied: numpy in c:\\users\\camia\\appdata\\local\\packages\\pythonsoftwarefoundation.python.3.10_qbz5n2kfra8p0\\localcache\\local-packages\\python310\\site-packages (from mediapipe) (1.26.4)\n",
            "Requirement already satisfied: opencv-contrib-python in c:\\users\\camia\\appdata\\local\\packages\\pythonsoftwarefoundation.python.3.10_qbz5n2kfra8p0\\localcache\\local-packages\\python310\\site-packages (from mediapipe) (4.9.0.80)\n",
            "Requirement already satisfied: protobuf<4,>=3.11 in c:\\users\\camia\\appdata\\local\\packages\\pythonsoftwarefoundation.python.3.10_qbz5n2kfra8p0\\localcache\\local-packages\\python310\\site-packages (from mediapipe) (3.20.3)\n",
            "Requirement already satisfied: sounddevice>=0.4.4 in c:\\users\\camia\\appdata\\local\\packages\\pythonsoftwarefoundation.python.3.10_qbz5n2kfra8p0\\localcache\\local-packages\\python310\\site-packages (from mediapipe) (0.4.6)\n",
            "Requirement already satisfied: CFFI>=1.0 in c:\\users\\camia\\appdata\\local\\packages\\pythonsoftwarefoundation.python.3.10_qbz5n2kfra8p0\\localcache\\local-packages\\python310\\site-packages (from sounddevice>=0.4.4->mediapipe) (1.16.0)\n",
            "Requirement already satisfied: ml-dtypes>=0.2.0 in c:\\users\\camia\\appdata\\local\\packages\\pythonsoftwarefoundation.python.3.10_qbz5n2kfra8p0\\localcache\\local-packages\\python310\\site-packages (from jax->mediapipe) (0.4.0)\n",
            "Requirement already satisfied: opt-einsum in c:\\users\\camia\\appdata\\local\\packages\\pythonsoftwarefoundation.python.3.10_qbz5n2kfra8p0\\localcache\\local-packages\\python310\\site-packages (from jax->mediapipe) (3.3.0)\n",
            "Requirement already satisfied: scipy>=1.9 in c:\\users\\camia\\appdata\\local\\packages\\pythonsoftwarefoundation.python.3.10_qbz5n2kfra8p0\\localcache\\local-packages\\python310\\site-packages (from jax->mediapipe) (1.12.0)\n",
            "Requirement already satisfied: contourpy>=1.0.1 in c:\\users\\camia\\appdata\\local\\packages\\pythonsoftwarefoundation.python.3.10_qbz5n2kfra8p0\\localcache\\local-packages\\python310\\site-packages (from matplotlib->mediapipe) (1.2.0)\n",
            "Requirement already satisfied: cycler>=0.10 in c:\\users\\camia\\appdata\\local\\packages\\pythonsoftwarefoundation.python.3.10_qbz5n2kfra8p0\\localcache\\local-packages\\python310\\site-packages (from matplotlib->mediapipe) (0.12.1)\n",
            "Requirement already satisfied: fonttools>=4.22.0 in c:\\users\\camia\\appdata\\local\\packages\\pythonsoftwarefoundation.python.3.10_qbz5n2kfra8p0\\localcache\\local-packages\\python310\\site-packages (from matplotlib->mediapipe) (4.50.0)\n",
            "Requirement already satisfied: kiwisolver>=1.3.1 in c:\\users\\camia\\appdata\\local\\packages\\pythonsoftwarefoundation.python.3.10_qbz5n2kfra8p0\\localcache\\local-packages\\python310\\site-packages (from matplotlib->mediapipe) (1.4.5)\n",
            "Requirement already satisfied: packaging>=20.0 in c:\\users\\camia\\appdata\\local\\packages\\pythonsoftwarefoundation.python.3.10_qbz5n2kfra8p0\\localcache\\local-packages\\python310\\site-packages (from matplotlib->mediapipe) (24.0)\n",
            "Requirement already satisfied: pillow>=8 in c:\\users\\camia\\appdata\\local\\packages\\pythonsoftwarefoundation.python.3.10_qbz5n2kfra8p0\\localcache\\local-packages\\python310\\site-packages (from matplotlib->mediapipe) (10.3.0)\n",
            "Requirement already satisfied: pyparsing>=2.3.1 in c:\\users\\camia\\appdata\\local\\packages\\pythonsoftwarefoundation.python.3.10_qbz5n2kfra8p0\\localcache\\local-packages\\python310\\site-packages (from matplotlib->mediapipe) (3.1.2)\n",
            "Requirement already satisfied: python-dateutil>=2.7 in c:\\users\\camia\\appdata\\local\\packages\\pythonsoftwarefoundation.python.3.10_qbz5n2kfra8p0\\localcache\\local-packages\\python310\\site-packages (from matplotlib->mediapipe) (2.9.0.post0)\n",
            "Requirement already satisfied: pycparser in c:\\users\\camia\\appdata\\local\\packages\\pythonsoftwarefoundation.python.3.10_qbz5n2kfra8p0\\localcache\\local-packages\\python310\\site-packages (from CFFI>=1.0->sounddevice>=0.4.4->mediapipe) (2.22)\n",
            "Requirement already satisfied: six>=1.5 in c:\\users\\camia\\appdata\\local\\packages\\pythonsoftwarefoundation.python.3.10_qbz5n2kfra8p0\\localcache\\local-packages\\python310\\site-packages (from python-dateutil>=2.7->matplotlib->mediapipe) (1.16.0)\n",
            "Requirement already satisfied: opencv-python in c:\\users\\camia\\appdata\\local\\packages\\pythonsoftwarefoundation.python.3.10_qbz5n2kfra8p0\\localcache\\local-packages\\python310\\site-packages (4.9.0.80)\n",
            "Requirement already satisfied: numpy>=1.21.2 in c:\\users\\camia\\appdata\\local\\packages\\pythonsoftwarefoundation.python.3.10_qbz5n2kfra8p0\\localcache\\local-packages\\python310\\site-packages (from opencv-python) (1.26.4)\n",
            "Note: you may need to restart the kernel to use updated packages.\n"
          ]
        }
      ],
      "source": [
        "%pip install mediapipe\n",
        "%pip install opencv-python"
      ]
    },
    {
      "cell_type": "code",
      "execution_count": 53,
      "metadata": {
        "id": "ZsNaOuEZ_55x"
      },
      "outputs": [],
      "source": [
        "import cv2\n",
        "import pandas as pd\n",
        "import mediapipe as mp\n",
        "import numpy as np\n",
        "import pandas as pd\n",
        "import matplotlib.pyplot as plt\n",
        "from plotly.subplots import make_subplots\n",
        "import plotly.express as px\n",
        "import plotly.graph_objects as go\n",
        "from scipy.signal import savgol_filter\n",
        "from scipy.interpolate import interp1d\n",
        "import math"
      ]
    },
    {
      "cell_type": "markdown",
      "metadata": {
        "id": "nDZniePjb73C"
      },
      "source": [
        "# Rutas\n",
        "Definición de las rutas de input y output"
      ]
    },
    {
      "cell_type": "code",
      "execution_count": 54,
      "metadata": {
        "id": "JCz2CKTYcAFg"
      },
      "outputs": [],
      "source": [
        "video_path = '/Users/camia/Desktop/proyecto/lat_tincho.mov'\n",
        "output_video_path = '/Users/camia/Desktop/proyecto/tracked_video.mp4'\n",
        "output_csv_path = '/Users/camia/Desktop/proyecto/pose_data.csv'"
      ]
    },
    {
      "cell_type": "markdown",
      "metadata": {
        "id": "Id245ec7bv0b"
      },
      "source": [
        "# Input usuario"
      ]
    },
    {
      "cell_type": "code",
      "execution_count": 55,
      "metadata": {
        "id": "hy06JpEJbxUL"
      },
      "outputs": [],
      "source": [
        "peso_persona = 65 #kg\n",
        "altura_persona = 176 #cm\n",
        "peso_pesa = 140 #kg"
      ]
    },
    {
      "cell_type": "markdown",
      "metadata": {
        "id": "4aZewwxEBz_O"
      },
      "source": [
        "# Crear columnas del dataframe\n",
        "\n",
        "Procesa el video y almacena los datos de las poses. Define las columnas para un DataFrame donde se guardarán las coordenadas de las articulaciones detectadas en cada cuadro del video."
      ]
    },
    {
      "cell_type": "code",
      "execution_count": 56,
      "metadata": {
        "colab": {
          "base_uri": "https://localhost:8080/"
        },
        "id": "mFNyLuI-B522",
        "outputId": "880eb1a3-380b-406d-fe26-45c4638195fa"
      },
      "outputs": [
        {
          "name": "stdout",
          "output_type": "stream",
          "text": [
            "Width: 2160\n",
            "Height: 3840\n",
            "Frames per second: 55.6\n",
            "tiempo_por_frame: 0.017985611510791366\n"
          ]
        }
      ],
      "source": [
        "mp_drawing = mp.solutions.drawing_utils\n",
        "mp_pose = mp.solutions.pose\n",
        "\n",
        "cap = cv2.VideoCapture(video_path)\n",
        "\n",
        "video_height = int(cap.get(cv2.CAP_PROP_FRAME_HEIGHT))\n",
        "video_width = int(cap.get(cv2.CAP_PROP_FRAME_WIDTH))\n",
        "video_fps = cap.get(cv2.CAP_PROP_FPS)\n",
        "tiempo_por_frame = 1/video_fps\n",
        "\n",
        "print(\"Width:\", video_width)\n",
        "print(\"Height:\", video_height)\n",
        "print(\"Frames per second:\", video_fps)\n",
        "print(\"tiempo_por_frame:\", tiempo_por_frame)\n",
        "\n",
        "# Defino cuales son las articulaciones que me interesa estudiar\n",
        "articulaciones = [\n",
        "    mp_pose.PoseLandmark.LEFT_WRIST,\n",
        "    mp_pose.PoseLandmark.RIGHT_WRIST,\n",
        "    mp_pose.PoseLandmark.LEFT_HIP,\n",
        "    mp_pose.PoseLandmark.RIGHT_HIP,\n",
        "    mp_pose.PoseLandmark.LEFT_KNEE,\n",
        "    mp_pose.PoseLandmark.RIGHT_KNEE,\n",
        "    mp_pose.PoseLandmark.LEFT_ANKLE,\n",
        "    mp_pose.PoseLandmark.RIGHT_ANKLE\n",
        "]\n",
        "\n",
        "columns = ['frame_number']\n",
        "for landmark in articulaciones:\n",
        "    columns.append(landmark.name + '_X')\n",
        "    columns.append(landmark.name + '_Y')\n",
        "    columns.append(landmark.name + '_Z')\n",
        "columns.append(\"Tiempo\")\n",
        "columns.append(\"VelocidadAngular\")\n",
        "columns.append(\"Velocidad(Rodilla)_X\")\n",
        "columns.append(\"Velocidad(Rodilla)_Y\")\n",
        "columns.append(\"Velocidad(Cadera)_X\")\n",
        "columns.append(\"Velocidad(Cadera)_Y\")\n",
        "columns.append(\"Aceleracion(Rodilla)_X\")\n",
        "columns.append(\"Aceleracion(Rodilla)_Y\")\n",
        "columns.append(\"Aceleracion(Cadera)_X\")\n",
        "columns.append(\"Aceleracion(Cadera)_Y\")\n",
        "columns.append(\"Torque(Rodilla)\")\n",
        "columns.append(\"Torque(Cadera)\")\n",
        "\n",
        "df_completo = pd.DataFrame(columns=columns)\n",
        "\n",
        "pose = mp_pose.Pose(min_detection_confidence=0.5, min_tracking_confidence=0.5)\n",
        "\n",
        "video_writer = cv2.VideoWriter(output_video_path, cv2.VideoWriter_fourcc(*'mp4v'), video_fps, (int(cap.get(3)), int(cap.get(4))))"
      ]
    },
    {
      "cell_type": "markdown",
      "metadata": {
        "id": "a8mI-HB8E5BK"
      },
      "source": [
        "# Calcular ángulo\n",
        "Esta función toma tres puntos y calcula el ángulo formado por los segmentos de línea que conectan estos puntos."
      ]
    },
    {
      "cell_type": "code",
      "execution_count": 57,
      "metadata": {
        "id": "1raudG1LFygC"
      },
      "outputs": [],
      "source": [
        "def calculate_angle(a, b, c):\n",
        "  #articulaciones convertidas en arreglos para poder usar sus datos en las coordenadas X e Y\n",
        "  art_1 = np.array(a)\n",
        "  art_2 = np.array(b)\n",
        "  art_3 = np.array(c)\n",
        "\n",
        "  radians = np.arctan2(c[1]-b[1], c[0]-b[0]) - np.arctan2(a[1]-b[1], a[0]-b[0])\n",
        "\n",
        "  #El ángulo calculado se convierte de radianes a grados y se toma el valor absoluto --> Grados = Radianes * 180 / π\n",
        "  angle = np.abs(radians*180.0/np.pi)\n",
        "\n",
        "  #Se normaliza el ángulo calculado para asegurarse de que esté en el rango de 0 a 180 grados.\n",
        "  if angle>180.0:\n",
        "    angle = 360-angle\n",
        "\n",
        "  return angle"
      ]
    },
    {
      "cell_type": "markdown",
      "metadata": {
        "id": "bUKj8O5kHJ09"
      },
      "source": [
        "# Extraer posiciones\n",
        "Toma un conjunto de landmarks y una lista de nombres de articulaciones. Luego, itera sobre cada nombre de parte del cuerpo proporcionado y extrae las coordenadas (x, y, z) del landmark correspondiente a esa parte del cuerpo. Estas coordenadas se agrupan en una lista y se devuelve una lista que contiene todas estas listas de coordenadas."
      ]
    },
    {
      "cell_type": "code",
      "execution_count": 58,
      "metadata": {
        "id": "eFtMNHSNHNnE"
      },
      "outputs": [],
      "source": [
        "# formato output:([[x1, y1, z1], [x2, y2, z2], [x3, y3, z3]]).\n",
        "def extraer_posiciones(df, frame_number, *articulaciones):\n",
        "    data = []\n",
        "    # Buscar la fila correspondiente al número de frame\n",
        "    row = df[df['frame_number'] == frame_number]\n",
        "\n",
        "    for articulacion in articulaciones:\n",
        "        x = row[articulacion+ '_X'].iloc[0]\n",
        "        y = row[articulacion+ '_Y'].iloc[0]\n",
        "        z = row[articulacion+ '_Z'].iloc[0]\n",
        "\n",
        "        data.append([x, y, z])\n",
        "    return data"
      ]
    },
    {
      "cell_type": "markdown",
      "metadata": {
        "id": "seofBpbQGctX"
      },
      "source": [
        "# Extraer velocidad\n",
        "\n",
        "Dado un dataframe y un numero de frame, retorna la velocidad instantánea correspondiente a la fila con el numero de frame pasado por parámetro."
      ]
    },
    {
      "cell_type": "code",
      "execution_count": 59,
      "metadata": {
        "id": "_RqfbXCtoXRz"
      },
      "outputs": [],
      "source": [
        "def extraer_velocidad(df, frame_number):\n",
        "    # Buscar la fila correspondiente al número de frame\n",
        "    row = df[df['frame_number'] == frame_number]\n",
        "    return row[\"Velocidad(Cadera)\"].iloc[0]"
      ]
    },
    {
      "cell_type": "markdown",
      "metadata": {
        "id": "oqNhNlPrYKPq"
      },
      "source": [
        "# Convertir coordenadas normalizadas a metros"
      ]
    },
    {
      "cell_type": "code",
      "execution_count": 60,
      "metadata": {
        "id": "LyEQOtuxYTPO"
      },
      "outputs": [],
      "source": [
        "def coordenadas_a_distancia(a, b):\n",
        "    # Calcula la diferencia en coordenadas normalizadas\n",
        "    dx = b[0] - a[0]\n",
        "    dy = b[1] - a[1]\n",
        "\n",
        "    # Relación pixel-distancia en el eje x y en el eje y\n",
        "    # primer coordenada: proporción de x\n",
        "    # segunda coordenada: porporcion de y\n",
        "    #escala_x, escala_y = obtener_escala()\n",
        "    relacion_pixel_distancia = (0.58/0.292, 0.614)\n",
        "    #relacion_pixel_distancia = (escala_x, escala_y)\n",
        "\n",
        "\n",
        "    # Convierte la diferencia en píxeles a distancia real usando la relación pixel-distancia\n",
        "    distancia_x = dx * relacion_pixel_distancia[0]\n",
        "    distancia_y = dy * relacion_pixel_distancia[1]\n",
        "\n",
        "    # Calcula la distancia euclidiana en el mundo real\n",
        "    return (distancia_x**2 + distancia_y**2)**0.5\n"
      ]
    },
    {
      "cell_type": "markdown",
      "metadata": {
        "id": "GHR-CQI4Z_JV"
      },
      "source": [
        "# Velocidad angular\n",
        "Calcula la velocidad angular entre tres puntos a, b y c\n",
        "\n",
        "\n",
        "Retorna la velocidad angular en radianes por segundo.\n",
        "\n",
        "La velocidad angular (ω) es una medida de la rapidez con la que un objeto rota alrededor de un eje específico.\n",
        "\n",
        "Se define como el cambio en el ángulo (θ) que recorre el objeto por unidad de tiempo."
      ]
    },
    {
      "cell_type": "code",
      "execution_count": 61,
      "metadata": {
        "id": "sBWY6u8LaCbm"
      },
      "outputs": [],
      "source": [
        "def velocidad_angular(angulo_inicial, angulo_final, delta_tiempo):\n",
        "    # Calcular el cambio en el ángulo\n",
        "    delta_theta = angulo_final - angulo_inicial\n",
        "\n",
        "    # Calcular la velocidad angular\n",
        "    # Recordar que omega = theta punto = vel angular = Delta theta / Delta t\n",
        "    # Donde Delta theta es el cambio en rotación angular y Delta t es el cambio en el tiempo\n",
        "    # ENTONCES: la velocidad angular se calcula dividiendo la diferencia total del ángulo (delta_theta) por el tiempo transcurrido entre las mediciones (1 / frame_rate).\n",
        "    angular_velocity = delta_theta / delta_tiempo\n",
        "    return angular_velocity"
      ]
    },
    {
      "cell_type": "markdown",
      "metadata": {
        "id": "Z25IwCrZK7tu"
      },
      "source": [
        "# Centro de Masa\n",
        "\n",
        "---\n",
        "\n",
        "\n",
        "Es el punto donde se puede considerar que toda la masa del objeto está distribuida uniformemente.\n",
        "\n",
        "Centro de masa = (sumatoria de las masas * sumatoria de las posiciones)/masa total\n",
        "\n",
        "\n"
      ]
    },
    {
      "cell_type": "code",
      "execution_count": 13,
      "metadata": {
        "id": "TnAOibp6LDJ_"
      },
      "outputs": [],
      "source": [
        "def obtenerCentroDeMasa():\n",
        "   # suponiendo que la persona pesa 65kg y la barra viendo los discos pesa otros 60kg\n",
        "    masaTotal = 125 # en kilos\n",
        "    SumatoriaX = 0\n",
        "    SumatoriaY = 0\n",
        "\n",
        "    while cap.isOpened():\n",
        "        ret, frame = cap.read()\n",
        "\n",
        "        if not ret:\n",
        "            break\n",
        "\n",
        "        for landmark in mp_pose.PoseLandmark:\n",
        "            SumatoriaX += masaTotal*results.pose_landmarks.landmark[landmark].x\n",
        "            SumatoriaY += masaTotal*results.pose_landmarks.landmark[landmark].y\n",
        "\n",
        "    SumatoriaX /= masaTotal\n",
        "    SumatoriaY /= masaTotal\n",
        "\n",
        "    # preguntar si lo que vamos a retornar nos va a dar la posicion de un frame o que nos de una coordenada\n",
        "    # deberia dar coordenada\n",
        "    return (SumatoriaX , SumatoriaY)"
      ]
    },
    {
      "cell_type": "markdown",
      "metadata": {
        "id": "Cvq7b-RgIZFY"
      },
      "source": [
        "# Dibujar diagrama"
      ]
    },
    {
      "cell_type": "code",
      "execution_count": 14,
      "metadata": {
        "id": "8d6B6KSwIcW3"
      },
      "outputs": [],
      "source": [
        "def diagrama_cuerpo(frame_number):\n",
        "  #centro = obtenerCentroDeMasa()\n",
        "  left_wrist, right_wrist, left_ankle =  extraer_posiciones(df_completo, frame_number, 'LEFT_WRIST', 'RIGHT_WRIST', 'LEFT_ANKLE')\n",
        "  print()\n",
        "  centro = ( (left_wrist[0] + right_wrist[0]) / 2 , (left_wrist[1] + left_ankle[1]) / 2 )\n",
        "  cv2.circle(image, (int(centro[0] * video_width) , int(centro[1] * video_height)) , 20, (255,0,255), -1,3)\n",
        "  # Grafico Peso\n",
        "  cv2.arrowedLine(image, (int(centro[0] * video_width) , int(centro[1] * video_height)) , (int(centro[0]* video_width) , int(centro[1]* video_height + video_height/6) ) , (255,0,0), 4)\n",
        "  # Grafico normal\n",
        "  cv2.arrowedLine(image, (int(centro[0] * video_width) , int(centro[1] * video_height)) , (int(centro[0]* video_width) , int(centro[1]* video_height - video_height/6) ) , (255,0,0), 4)\n",
        "  textoPeso =  str(peso_persona + peso_pesa)+\" Peso\"\n",
        "  textoNormal =  str(peso_persona + peso_pesa)+\" Normal\"\n",
        "\n",
        "  cv2.putText(image, textoPeso, (int(centro[0]* video_width) , int(centro[1]* video_height + video_height/6) ), cv2.FONT_HERSHEY_SIMPLEX, 2, (255, 255, 255), 4, cv2.LINE_AA)\n",
        "  cv2.putText(image, textoPeso, (int(centro[0]* video_width) , int(centro[1]* video_height - video_height/6) ), cv2.FONT_HERSHEY_SIMPLEX, 2, (255, 255, 255), 4, cv2.LINE_AA)\n",
        "  #cv2.line(image, int(centro[0]) * video_width , int(centro[0]-20) * video_width , (255,0,0), 4) #peso\n",
        "\n"
      ]
    },
    {
      "cell_type": "markdown",
      "metadata": {
        "id": "_AZtT7fVclH2"
      },
      "source": [
        "# Diagrama de cuerpo libre / Peso, Normal y Fuerza\n"
      ]
    },
    {
      "cell_type": "code",
      "execution_count": null,
      "metadata": {
        "colab": {
          "base_uri": "https://localhost:8080/",
          "height": 327
        },
        "id": "4l2D0_JAc0cM",
        "outputId": "64ab59e5-1af1-43f9-8b35-74ed9067cb61"
      },
      "outputs": [],
      "source": [
        "import matplotlib.pyplot as plt\n",
        "\n",
        "def diagramaDeCuerpo():\n",
        "    # Valores fijos se encuentran declarados al inicio\n",
        "    # Valor de la gravedad / aceleracion m/s2\n",
        "    g = 9.81\n",
        "    # Peso del cuerpo = 637\n",
        "    # Peso de la barra / Evaluamos la barra y sus discos como un cuerpo = 1372N\n",
        "    peso_barra = peso_barra * g\n",
        "\n",
        "    # Normal de la barra = 1372N\n",
        "    normal_barra = peso_barra\n",
        "    # Normal del cuerpo = 2009\n",
        "    normal_cuerpo = normal_barra + peso_persona\n",
        "\n",
        "    # Tomaremos un valor estático para simular la fuerza realizada por la persona para levantar la barra. Se aplica sobre el cuerpo\n",
        "    # Segunda ley de Newton: sumatoria de fuerzas = masa * aceleracion. La fuerza debe ser mayor que 1372N\n",
        "    fuerza_empuje = 1400\n",
        "\n",
        "    if normal_cuerpo > 0:\n",
        "        normal_direccion_cuerpo = \"Upward\"\n",
        "        peso_direccion_cuerpo = \"Upward\"\n",
        "    else:\n",
        "        normal_direccion_cuerpo = \"Downward\"\n",
        "        peso_direccion_cuerpo = \"Downward\"\n",
        "\n",
        "    if normal_barra > 0:\n",
        "        normal_direccion_barra = \"Upward\"\n",
        "        peso_direccion_barra = \"Upward\"\n",
        "    else:\n",
        "        normal_direccion_barra = \"Downward\"\n",
        "        peso_direccion_barra = \"Downward\"\n",
        "\n",
        "    if fuerza_empuje > 0:\n",
        "        fuerza_direccion_cuerpo = \"Upward\"\n",
        "    else:\n",
        "        fuerza_direccion_cuerpo = \"Downward\"\n",
        "\n",
        "    return normal_direccion_cuerpo, peso_direccion_cuerpo, normal_direccion_barra, peso_direccion_barra, fuerza_direccion_cuerpo\n",
        "\n",
        "def generate_free_body_diagrams():\n",
        "    # Figura y ejes\n",
        "    fig, axs = plt.subplots(1, 3, figsize=(15, 5))\n",
        "\n",
        "    # Diagrama de cuerpo libre de la barra\n",
        "    axs[0].arrow(0, 0, 0, -1372, head_width=50, head_length=100, fc='red', ec='red')\n",
        "    axs[0].arrow(0, 0, 0, -637, head_width=50, head_length=100, fc='blue', ec='blue')\n",
        "    axs[0].set_xlim(-2000, 2000)\n",
        "    axs[0].set_ylim(-2000, 2000)\n",
        "    axs[0].set_xlabel('X')\n",
        "    axs[0].set_ylabel('Y')\n",
        "    axs[0].set_title('Diagrama de Cuerpo libre - Barra')\n",
        "\n",
        "    # Diagrama de cuerpo libre para el cuerpo\n",
        "    axs[1].arrow(0, 0, 0, -2009, head_width=50, head_length=100, fc='red', ec='red')\n",
        "    axs[1].arrow(0, 0, 0, -1400, head_width=50, head_length=100, fc='green', ec='green')\n",
        "    axs[1].arrow(0, 0, 0, -637, head_width=50, head_length=100, fc='blue', ec='blue')\n",
        "    axs[1].set_xlim(-2000, 2000)\n",
        "    axs[1].set_ylim(-2000, 2000)\n",
        "    axs[1].set_xlabel('X')\n",
        "    axs[1].set_ylabel('Y')\n",
        "    axs[1].set_title('Diagrama de cuerpo libre - Cuerpo')\n",
        "\n",
        "    # Diagrama de cuerpo libre del cuerpo con la barra encima\n",
        "    axs[2].arrow(0, 0, 0, -2009, head_width=50, head_length=100, fc='red', ec='red')\n",
        "    axs[2].arrow(0, 0, 0, -2772, head_width=50, head_length=100, fc='green', ec='green')\n",
        "    axs[2].arrow(0, 0, 0, -1372, head_width=50, head_length=100, fc='blue', ec='blue')\n",
        "    axs[2].arrow(0, -1372, 0, -637, head_width=50, head_length=100, fc='blue', ec='blue')\n",
        "    axs[2].set_xlim(-2000, 2000)\n",
        "    axs[2].set_ylim(-4000, 0)\n",
        "    axs[2].set_xlabel('X')\n",
        "    axs[2].set_ylabel('Y')\n",
        "    axs[2].set_title('Diagrama de cuerpo libre - Cuerpo con la barra')\n",
        "\n",
        "    plt.tight_layout()\n",
        "    plt.show()\n",
        "\n",
        "#Funciones para ejecutar el codigo\n",
        "diagramaDeCuerpo()\n",
        "generate_free_body_diagrams()"
      ]
    },
    {
      "cell_type": "markdown",
      "metadata": {
        "id": "8V7Xh4zgcIBI"
      },
      "source": [
        "# Vector Velocidad Instantánea\n",
        "\n",
        "La velocidad instantánea es la velocidad de un objeto en un momento específico en el tiempo.\n",
        "\n",
        "Se calcula como v(t) = dx / dt\n",
        "\n"
      ]
    },
    {
      "cell_type": "code",
      "execution_count": 62,
      "metadata": {
        "id": "XLWt9_vI3Bkj"
      },
      "outputs": [],
      "source": [
        "def velocidad_instantanea(pos_anterior, pos_actual, tiempo):\n",
        "  dx = pos_actual[0] - pos_anterior[0]\n",
        "  dy = pos_actual[1] - pos_anterior[1]\n",
        "  return (dx/tiempo, dy/tiempo)"
      ]
    },
    {
      "cell_type": "markdown",
      "metadata": {
        "id": "RjG5v51-OcfU"
      },
      "source": [
        "# Vector Aceleración instantanea\n",
        "\n",
        "La aceleración instantánea es la tasa de cambio instantánea de la velocidad de un objeto en un punto específico de su trayectoria.\n",
        "\n",
        "a(t) = dv / dt\n"
      ]
    },
    {
      "cell_type": "code",
      "execution_count": 63,
      "metadata": {
        "id": "RkzEeU77OeT8"
      },
      "outputs": [],
      "source": [
        "def aceleracion_instantanea(vel_actual_x, vel_anterior_x, vel_actual_y, vel_anterior_y, tiempo):\n",
        "  dvx = vel_actual_x - vel_anterior_x\n",
        "  dvy = vel_actual_y - vel_anterior_y\n",
        "  return (dvx/tiempo, dvy/tiempo)\n",
        "#df_completo[\"frame_number\"] == frame_number, \"Velocidad(Cadera)\"]"
      ]
    },
    {
      "cell_type": "markdown",
      "metadata": {
        "id": "h_-0vbswLuAg"
      },
      "source": [
        "# Cálculo de Torque\n",
        "\n",
        "Se analiza los torques de cadera y rodilla durante una sentadilla. Primero, identifica las posiciones de las articulaciones de la cadera, rodilla y tobillo.\n",
        "\n",
        "Luego, calcula las distancias y ángulos entre las articulaciones, y utiliza estas medidas para estimar el torque generado por cada articulación.\n",
        "\n",
        "TORQUE = F x brazo momento\n",
        "\n",
        "Brazo momento = distancia entre articulación y carga (es la distancia desde el punto donde se aplica una fuerza hasta el punto de giro, en este caso el punto de giro es la cadera y la rodilla, y el punto de fuerza se hace desde la muñeca)\n",
        "F = 2/3 de lo que pesa la persona (cabeza y torso) + peso de carga"
      ]
    },
    {
      "cell_type": "code",
      "execution_count": 18,
      "metadata": {
        "id": "9KOLVys_LvtS"
      },
      "outputs": [],
      "source": [
        "def calcular_torques(a, b, c, d):\n",
        "   # left_wrist, left_hip, left_knee, left_ankle = extraer_posiciones(landmarks,frame_number ,'LEFT_WRIST', 'LEFT_HIP', 'LEFT_KNEE', 'LEFT_ANKLE')\n",
        "    e = (a[0], b[1])\n",
        "    r = (a[0], c[1])\n",
        "    #distancia_a_b = coordenadas_a_distancia(a, b)\n",
        "    #distancia_b_c = coordenadas_a_distancia(b, c)\n",
        "    #distancia_c_d = coordenadas_a_distancia(c, d)\n",
        "    # Perpendicular a la fuerza\n",
        "    distancia_b_e = coordenadas_a_distancia(b, e)\n",
        "    distancia_c_r = coordenadas_a_distancia(c, r)\n",
        "\n",
        "\n",
        "    #angulo_a_b_c = calculate_angle(a, b, c)\n",
        "    #angulo_a_b_e = calculate_angle(a, b, e)\n",
        "\n",
        "    # La biomecanica de la rodilla funciona al revez que en el resto del cuerpo.\n",
        "    #angulo_b_c_d = 180 - calculate_angle(b, c, d)\n",
        "    # print(\"angulo de 90:\", calculate_angle(a,e,b))\n",
        "    # print(\"distancia_b_e \", distancia_b_e)\n",
        "    # print(\"(a[0] - b[0]) \", (a[0] - b[0]) * video_width)\n",
        "    # print(\"brazo calculado con angulo\", distancia_a_b * math.cos(calculate_angle(a,b,e)))\n",
        "\n",
        "    start_point_torque_cadera = (int(b[0] * video_width), int(b[1] * video_height))\n",
        "    end_point_torque_cadera = (int(e[0] * video_width), int(e[1] * video_height))\n",
        "    cv2.line(image, start_point_torque_cadera, end_point_torque_cadera,(0,255,0), 3)\n",
        "\n",
        "    start_point_torque_rodilla = (int(c[0] * video_width), int(c[1] * video_height))\n",
        "    end_point_torque_rodilla = (int(r[0] * video_width), int(r[1] * video_height))\n",
        "    cv2.line(image, start_point_torque_rodilla, end_point_torque_rodilla,(0,255,255), 3)\n",
        "    # Torque en N.m\n",
        "    torque_cadera = (peso_persona * 2/3 + peso_pesa) * distancia_b_e\n",
        "    torque_rodilla = (peso_persona * 2/3 + peso_pesa) * distancia_c_r\n",
        "    return [torque_rodilla, torque_cadera]\n",
        "    # Comparar resultados de los torques y mostrar algo en el video"
      ]
    },
    {
      "cell_type": "markdown",
      "metadata": {
        "id": "kXCWwpSCltcX"
      },
      "source": [
        "# Visualizar trackeo articulaciones relevantes"
      ]
    },
    {
      "cell_type": "code",
      "execution_count": 20,
      "metadata": {
        "id": "RXU62R7VlyHB"
      },
      "outputs": [],
      "source": [
        "def dibujar_articulaciones_relevantes(articulacion1,articulacion2,articulacion3,articulacion4):\n",
        "    art1 = np.array(articulacion1);\n",
        "    art2 = np.array(articulacion2);\n",
        "    art3 = np.array(articulacion3);\n",
        "    art4 = np.array(articulacion4);\n",
        "    angle = calculate_angle(articulacion1,articulacion2,articulacion3)\n",
        "    color = (0, 0, 255)\n",
        "    #Dibujo el primer tramo de la pierna\n",
        "    i1 = (int(art1[0] * video_width), int(art1[1] * video_height))\n",
        "    f1 = (int(art2[0] * video_width), int(art2[1] * video_height))\n",
        "    cv2.line(image, i1, f1, color, 5)\n",
        "\n",
        "    #Dibujo el segundo tramo de la pierna\n",
        "    i2 = (int(art2[0] * video_width), int(art2[1] * video_height))\n",
        "    f2 = (int(art3[0] * video_width), int(art3[1] * video_height))\n",
        "    cv2.line(image, i2, f2, color, 5)\n",
        "\n",
        "    i3 = (int(art3[0] * video_width), int(art3[1] * video_height))\n",
        "    f3 = (int(art4[0] * video_width), int(art4[1] * video_height))\n",
        "    cv2.line(image, i3, f3, color, 5)"
      ]
    },
    {
      "cell_type": "markdown",
      "metadata": {
        "id": "OTxz5LYP3j-b"
      },
      "source": [
        "# Visualizar esfuerzo piernas"
      ]
    },
    {
      "cell_type": "code",
      "execution_count": 22,
      "metadata": {
        "id": "9Z6jVeo03pQP"
      },
      "outputs": [],
      "source": [
        "def dibujar_piernas(articulacion1, articulacion2, articulacion3):\n",
        "    art1 = np.array(articulacion1);\n",
        "    art2 = np.array(articulacion2);\n",
        "    art3 = np.array(articulacion3);\n",
        "    #angle = calculate_angle(articulacion1,articulacion2,articulacion3)\n",
        "\n",
        "    torques = calcular_torques(pos_actual_wrist, pos_actual_left_hip, pos_actual_left_knee, pos_actual_left_ankle)\n",
        "    df_completo.loc[df_completo[\"frame_number\"] == frame_number, \"Torque(Rodilla)\"] = torques[0]\n",
        "    df_completo.loc[df_completo[\"frame_number\"] == frame_number, \"Torque(Cadera)\"] = torques[1]\n",
        "    #Dibujo el primer tramo de la pierna\n",
        "    centro_art2 = (int(art2[0] * video_width), int(art2[1] * video_height))\n",
        "    centro_art3 = (int(art3[0] * video_width), int(art3[1] * video_height))\n",
        "    #f1 = (int(art2[0] * video_width), int(art2[1] * video_height))\n",
        "\n",
        "    if(torques[0] >= torques[1] * 3/4):\n",
        "      cv2.circle(image, centro_art2,20, (255,0,0), -1,3)\n",
        "      cv2.circle(image, centro_art3,20, (255,0,0), -1,3)\n",
        "    else:\n",
        "      if(torques[1] * 1/4 < torques[0] < torques[1] * 3/4):\n",
        "        color = (255,255,0)\n",
        "        cv2.circle(image, centro_art2,20, (255,0,0), -1,3)\n",
        "        cv2.circle(image, centro_art3,20, (255,255,0), -1,3)\n",
        "      else:\n",
        "        cv2.circle(image, centro_art2,20, (255,0,0), -1,3)\n",
        "        cv2.circle(image, centro_art3,20, (0,255,0), -1,3)\n",
        "\n",
        "    # Dibujo el segundo tramo de la pierna\n",
        "    # f2 = (int(art3[0] * video_width), int(art3[1] * video_height))\n",
        "    # cv2.circle(image, centro_art3,20, color, 3, 20)"
      ]
    },
    {
      "cell_type": "markdown",
      "metadata": {
        "id": "lcwAXzBxGWiM"
      },
      "source": [
        "# **Código para recorrer frames del video y realizar cálculos**\n",
        "\n",
        "Este bloque de código recorre cada frame del video, procesa la imagen utilizando MediaPipe para detectar landmarks de la pose, y guarda los datos en un DataFrame. Luego, calcula el ángulo entre las articulaciones de la cadera, la rodilla y el tobillo. Después, dibuja los landmarks detectados en el video y guarda el video procesado en el archivo de salida. Finalmente, libera los recursos utilizados y guarda los datos de la pose en un archivo CSV."
      ]
    },
    {
      "cell_type": "code",
      "execution_count": 64,
      "metadata": {
        "id": "z_fLUC5GGiCA"
      },
      "outputs": [
        {
          "name": "stderr",
          "output_type": "stream",
          "text": [
            "C:\\Users\\camia\\AppData\\Local\\Temp\\ipykernel_16804\\670392093.py:34: FutureWarning:\n",
            "\n",
            "The behavior of DataFrame concatenation with empty or all-NA entries is deprecated. In a future version, this will no longer exclude empty or all-NA columns when determining the result dtypes. To retain the old behavior, exclude the relevant entries before the concat operation.\n",
            "\n"
          ]
        },
        {
          "name": "stdout",
          "output_type": "stream",
          "text": [
            "\n",
            "\n",
            "\n",
            "\n",
            "\n",
            "\n",
            "\n",
            "\n",
            "\n",
            "\n",
            "\n",
            "\n",
            "\n",
            "\n",
            "\n",
            "\n",
            "\n",
            "\n",
            "\n",
            "\n",
            "\n",
            "\n",
            "\n",
            "\n",
            "\n",
            "\n",
            "\n",
            "\n",
            "\n",
            "\n",
            "\n",
            "\n",
            "\n",
            "\n",
            "\n",
            "\n",
            "\n",
            "\n",
            "\n",
            "\n",
            "\n",
            "\n",
            "\n",
            "\n",
            "\n",
            "\n",
            "\n",
            "\n",
            "\n",
            "\n",
            "\n",
            "\n",
            "\n",
            "\n",
            "\n",
            "\n",
            "\n",
            "\n",
            "\n",
            "\n",
            "\n",
            "\n",
            "\n",
            "\n",
            "\n",
            "\n",
            "\n",
            "\n",
            "\n",
            "\n",
            "\n",
            "\n",
            "\n",
            "\n",
            "\n",
            "\n",
            "\n",
            "\n",
            "\n",
            "\n",
            "\n",
            "\n",
            "\n",
            "\n",
            "\n",
            "\n",
            "\n",
            "\n",
            "\n",
            "\n",
            "\n",
            "\n",
            "\n",
            "\n",
            "\n",
            "\n",
            "\n",
            "\n",
            "\n",
            "\n",
            "\n",
            "\n",
            "\n",
            "\n",
            "\n",
            "\n",
            "\n",
            "\n",
            "\n",
            "\n",
            "\n",
            "\n",
            "\n",
            "\n",
            "\n",
            "\n",
            "\n",
            "\n",
            "\n",
            "\n",
            "\n",
            "\n",
            "\n",
            "\n",
            "\n",
            "\n",
            "\n",
            "\n",
            "\n",
            "\n",
            "\n",
            "\n",
            "\n",
            "\n",
            "\n",
            "\n",
            "\n",
            "\n",
            "\n",
            "\n",
            "\n",
            "\n",
            "\n",
            "\n",
            "\n",
            "\n",
            "\n",
            "\n",
            "\n",
            "\n",
            "\n",
            "\n",
            "\n",
            "\n",
            "\n",
            "\n",
            "\n",
            "\n",
            "\n",
            "\n",
            "\n",
            "\n",
            "\n",
            "\n",
            "\n",
            "\n",
            "\n",
            "\n",
            "\n",
            "\n",
            "\n",
            "\n",
            "\n",
            "\n",
            "\n",
            "\n",
            "\n",
            "\n",
            "\n",
            "\n",
            "\n",
            "\n",
            "\n",
            "\n",
            "\n",
            "\n",
            "\n",
            "\n",
            "\n",
            "\n",
            "\n",
            "\n",
            "\n",
            "\n",
            "\n",
            "\n",
            "\n",
            "\n",
            "\n",
            "\n",
            "\n",
            "\n",
            "\n",
            "\n",
            "\n",
            "\n",
            "\n",
            "\n",
            "\n",
            "\n",
            "\n",
            "\n",
            "\n",
            "\n",
            "\n",
            "\n",
            "\n",
            "\n",
            "\n",
            "\n",
            "\n",
            "\n",
            "\n",
            "\n",
            "\n",
            "\n",
            "\n",
            "\n",
            "\n",
            "\n",
            "\n",
            "\n",
            "\n",
            "\n",
            "\n",
            "\n",
            "\n",
            "\n",
            "\n",
            "\n",
            "\n",
            "\n",
            "\n",
            "\n",
            "\n",
            "\n",
            "\n",
            "\n",
            "\n",
            "\n",
            "\n",
            "\n",
            "\n",
            "Proceso completado. Video trackeado guardado en: /Users/camia/Desktop/proyecto/tracked_video.mp4\n",
            "Datos de la pose guardados en: /Users/camia/Desktop/proyecto/pose_data.csv\n"
          ]
        }
      ],
      "source": [
        "# Recorro todos los frames del video\n",
        "frame_number = 0\n",
        "\n",
        "while cap.isOpened():\n",
        "    ret, frame = cap.read()\n",
        "\n",
        "    if not ret:\n",
        "        break\n",
        "\n",
        "    # Convertir la imagen a RGB (el fotograma)\n",
        "    image = cv2.cvtColor(frame, cv2.COLOR_BGR2RGB)\n",
        "    # Procesar la imagen con MediaPipe y guardar los resultados\n",
        "    results = pose.process(image)\n",
        "    # Recolectar y guardar los datos de la pose en el dataframe\n",
        "    pose_row = {'frame_number': frame_number}\n",
        "\n",
        "    # Extraer posiciones\n",
        "    if results.pose_landmarks:\n",
        "        landmarks = results.pose_landmarks.landmark\n",
        "\n",
        "        #Por cada articulacion, guarda en su posicion de X, Y, Z el resultado\n",
        "        for landmark in articulaciones:\n",
        "            pose_row[landmark.name + '_X'] = results.pose_landmarks.landmark[landmark].x\n",
        "            pose_row[landmark.name + '_Y'] = results.pose_landmarks.landmark[landmark].y\n",
        "            pose_row[landmark.name + '_Z'] = results.pose_landmarks.landmark[landmark].z\n",
        "    else:\n",
        "        ##for landmark in mp_pose.PoseLandmark:\n",
        "        for landmark in articulaciones:\n",
        "            pose_row[landmark.name + '_X'] = None\n",
        "            pose_row[landmark.name + '_Y'] = None\n",
        "            pose_row[landmark.name + '_Z'] = None\n",
        "\n",
        "    pose_row_df = pd.DataFrame(pose_row, index = [pose_row['frame_number']])\n",
        "    df_completo = pd.concat([df_completo, pose_row_df], ignore_index = True)\n",
        "\n",
        "    #Agrego los landmarks al gráfico\n",
        "    mp_drawing.draw_landmarks(image, results.pose_landmarks, mp_pose.POSE_CONNECTIONS,\n",
        "                              mp_drawing.DrawingSpec(color=(245, 117, 66), thickness=5, circle_radius=5),\n",
        "                              mp_drawing.DrawingSpec(color=(245, 66, 230), thickness=5, circle_radius=5)\n",
        "                              )\n",
        "\n",
        "    if(frame_number>0):\n",
        "      # Crear una lista de tiempo para cada cuadro del video\n",
        "      # df_completo.append(\"Tiempo\")\n",
        "      # Agregar la lista de tiempo como una columna al DataFrame\n",
        "      # fila = df_completo[df_completo['frame_number'] == frame_number]\n",
        "      # fila[\"Tiempo\"] = tiempo_por_frame * frame_number  #df_completo['Tiempo'] = tiempo_por_frame * frame_number\n",
        "      df_completo.loc[df_completo[\"frame_number\"] == frame_number, \"Tiempo\"] = tiempo_por_frame * frame_number\n",
        "      # print(\"tiempo en cada frame\",tiempo_por_frame * frame_number)\n",
        "      previous_frame = frame_number - 1\n",
        "\n",
        "      pos_prev_left_hip, pos_prev_left_knee, pos_prev_left_ankle = extraer_posiciones(df_completo, previous_frame, 'RIGHT_HIP', 'RIGHT_KNEE', 'RIGHT_ANKLE')\n",
        "\n",
        "      pos_actual_wrist, pos_actual_left_hip, pos_actual_left_knee, pos_actual_left_ankle = extraer_posiciones(df_completo, frame_number,'RIGHT_WRIST', 'RIGHT_HIP', 'RIGHT_KNEE', 'RIGHT_ANKLE')\n",
        "      dibujar_articulaciones_relevantes(pos_actual_wrist,pos_actual_left_hip,pos_actual_left_knee,pos_actual_left_ankle)\n",
        "      diagrama_cuerpo(frame_number)\n",
        "      #---------------VELOCIDAD ANGULAR------------\n",
        "      angulo_anterior = calculate_angle((pos_prev_left_hip[0], pos_prev_left_hip[1]), (pos_prev_left_knee[0], pos_prev_left_knee[1]), (pos_prev_left_ankle[0], pos_prev_left_ankle[1]))\n",
        "      angulo_actual = calculate_angle((pos_actual_left_hip[0], pos_actual_left_hip[1]), (pos_actual_left_knee[0], pos_actual_left_knee[1]), (pos_actual_left_ankle[0], pos_actual_left_ankle[1]))\n",
        "      vel_angular = velocidad_angular(angulo_anterior, angulo_actual, tiempo_por_frame)\n",
        "      # print(\"angulo anterior en frame: \",angulo_anterior, \" numero: \",frame_number)\n",
        "      # print(\"angulo angulo_actual\",angulo_actual)\n",
        "      df_completo.loc[df_completo[\"frame_number\"] == frame_number, \"VelocidadAngular\"] = vel_angular\n",
        "\n",
        "      #---------------Velocidad instantanea---------\n",
        "      velocidad_cadera = velocidad_instantanea(pos_prev_left_hip, pos_actual_left_hip, tiempo_por_frame)\n",
        "      velocidad_rodilla = velocidad_instantanea(pos_prev_left_knee, pos_actual_left_knee, tiempo_por_frame)\n",
        "      #velocidad_cadera_str = ','.join(map(str, velocidad_cadera))\n",
        "      #velocidad_rodilla_str = ','.join(map(str, velocidad_rodilla))\n",
        "      df_completo.loc[df_completo[\"frame_number\"] == frame_number, \"Velocidad(Cadera)_X\"] = velocidad_cadera[0]\n",
        "      df_completo.loc[df_completo[\"frame_number\"] == frame_number, \"Velocidad(Cadera)_Y\"] = velocidad_cadera[1]\n",
        "      df_completo.loc[df_completo[\"frame_number\"] == frame_number, \"Velocidad(Rodilla)_X\"] = velocidad_rodilla[0]\n",
        "      df_completo.loc[df_completo[\"frame_number\"] == frame_number, \"Velocidad(Rodilla)_Y\"] = velocidad_rodilla[1]\n",
        "\n",
        "      #---------------Aceleracion instantanea---------\n",
        "      aceleracion_actual_cadera = aceleracion_instantanea(df_completo.loc[df_completo[\"frame_number\"], \"Velocidad(Cadera)_X\"].iloc[0], df_completo.loc[df_completo[\"frame_number\"] == frame_number - 1, \"Velocidad(Cadera)_X\"].iloc[0],df_completo.loc[df_completo[\"frame_number\"], \"Velocidad(Cadera)_Y\"].iloc[0], df_completo.loc[df_completo[\"frame_number\"] == frame_number - 1, \"Velocidad(Cadera)_Y\"].iloc[0],tiempo_por_frame)\n",
        "      aceleracion_actual_rodilla = aceleracion_instantanea(df_completo.loc[df_completo[\"frame_number\"], \"Velocidad(Rodilla)_X\"].iloc[0], df_completo.loc[df_completo[\"frame_number\"] == frame_number - 1, \"Velocidad(Rodilla)_X\"].iloc[0],df_completo.loc[df_completo[\"frame_number\"], \"Velocidad(Rodilla)_Y\"].iloc[0], df_completo.loc[df_completo[\"frame_number\"] == frame_number - 1, \"Velocidad(Rodilla)_Y\"].iloc[0],tiempo_por_frame)\n",
        "      #aceleracion_actual_rodilla = aceleracion_instantanea(df_completo.loc[df_completo[\"frame_number\"], \"Velocidad(Rodilla)_X\"].iloc[0], df_completo.loc[df_completo[\"frame_number\"] == frame_number - 1, \"Velocidad(Rodilla)\"].iloc[0], tiempo_por_frame)\n",
        "      #print(\"aceleracion_actual_cadera\",df_completo.loc[df_completo[\"frame_number\"], \"Velocidad(Cadera)_X\"].iloc[0])\n",
        "      #print(\"aceleracion_actual_rodilla\",aceleracion_actual_rodilla)\n",
        "\n",
        "      # velocidad_actual_cadera =\n",
        "      # aceleracion_cadera = aceleracion_instantanea()\n",
        "      df_completo.loc[df_completo[\"frame_number\"] == frame_number, \"Aceleracion(Rodilla)_X\"] = aceleracion_actual_rodilla[0]\n",
        "      df_completo.loc[df_completo[\"frame_number\"] == frame_number, \"Aceleracion(Rodilla)_Y\"] = aceleracion_actual_rodilla[1]\n",
        "      df_completo.loc[df_completo[\"frame_number\"] == frame_number, \"Aceleracion(Cadera)_X\"] = aceleracion_actual_cadera[0]\n",
        "      df_completo.loc[df_completo[\"frame_number\"] == frame_number, \"Aceleracion(Cadera)_Y\"] = aceleracion_actual_cadera[1]\n",
        "\n",
        "      #--------------Torque------------------------\n",
        "      #torques = calcular_torques(pos_actual_wrist,pos_actual_left_hip,pos_actual_left_knee,pos_actual_left_ankle)\n",
        "      #df_completo.loc[df_completo[\"frame_number\"] == frame_number, \"Torque(Rodilla)\"] = torques[0]\n",
        "      #df_completo.loc[df_completo[\"frame_number\"] == frame_number, \"Torque(Cadera)\"] = torques[1]\n",
        "      dibujar_piernas(pos_actual_wrist,pos_actual_left_hip,pos_actual_left_knee)\n",
        "\n",
        "    else:\n",
        "        df_completo.loc[df_completo[\"frame_number\"] == frame_number, \"Tiempo\"] = 0\n",
        "        df_completo.loc[df_completo[\"frame_number\"] == frame_number, \"VelocidadAngular\"] = 0\n",
        "        df_completo.loc[df_completo[\"frame_number\"] == frame_number, \"Velocidad(Cadera)_X\"] = 0\n",
        "        df_completo.loc[df_completo[\"frame_number\"] == frame_number, \"Velocidad(Cadera)_Y\"] = 0\n",
        "        df_completo.loc[df_completo[\"frame_number\"] == frame_number, \"Velocidad(Rodilla)_X\"] = 0\n",
        "        df_completo.loc[df_completo[\"frame_number\"] == frame_number, \"Velocidad(Rodilla)_Y\"] = 0\n",
        "    # Guardar el cuadro procesado en el video de salida\n",
        "    video_writer.write(cv2.cvtColor(image, cv2.COLOR_RGB2BGR))\n",
        "\n",
        "    frame_number += 1\n",
        "\n",
        "if pose._graph is not None:\n",
        "    pose.close()\n",
        "\n",
        "video_writer.release()\n",
        "cap.release()\n",
        "\n",
        "# Guardar el dataframe como CSV\n",
        "df_completo.to_csv(output_csv_path, index=False)\n",
        "\n",
        "df = pd.read_csv(output_csv_path, index_col=[0]) # Leo los datos del csv\n",
        "pd.options.display.max_columns = None\n",
        "\n",
        "print(\"Proceso completado. Video trackeado guardado en:\", output_video_path)\n",
        "print(\"Datos de la pose guardados en:\", output_csv_path)"
      ]
    },
    {
      "cell_type": "markdown",
      "metadata": {
        "id": "cNuPININJeV9"
      },
      "source": [
        "# Gráficos"
      ]
    },
    {
      "cell_type": "code",
      "execution_count": 65,
      "metadata": {
        "colab": {
          "base_uri": "https://localhost:8080/",
          "height": 1000
        },
        "id": "Cbb8cEz6E342",
        "outputId": "418c9d65-dd60-4f05-8f14-527714914a7b"
      },
      "outputs": [
        {
          "data": {
            "application/vnd.plotly.v1+json": {
              "config": {
                "plotlyServerURL": "https://plot.ly"
              },
              "data": [
                {
                  "mode": "lines",
                  "name": "Velocidad de la cadera",
                  "type": "scatter",
                  "x": [
                    0,
                    0.017985611510791366,
                    0.03597122302158273,
                    0.0539568345323741,
                    0.07194244604316546,
                    0.08992805755395683,
                    0.1079136690647482,
                    0.12589928057553956,
                    0.14388489208633093,
                    0.1618705035971223,
                    0.17985611510791366,
                    0.19784172661870503,
                    0.2158273381294964,
                    0.23381294964028776,
                    0.2517985611510791,
                    0.2697841726618705,
                    0.28776978417266186,
                    0.3057553956834532,
                    0.3237410071942446,
                    0.34172661870503596,
                    0.3597122302158273,
                    0.3776978417266187,
                    0.39568345323741005,
                    0.4136690647482014,
                    0.4316546762589928,
                    0.44964028776978415,
                    0.4676258992805755,
                    0.4856115107913669,
                    0.5035971223021583,
                    0.5215827338129496,
                    0.539568345323741,
                    0.5575539568345323,
                    0.5755395683453237,
                    0.5935251798561151,
                    0.6115107913669064,
                    0.6294964028776978,
                    0.6474820143884892,
                    0.6654676258992805,
                    0.6834532374100719,
                    0.7014388489208633,
                    0.7194244604316546,
                    0.737410071942446,
                    0.7553956834532374,
                    0.7733812949640287,
                    0.7913669064748201,
                    0.8093525179856115,
                    0.8273381294964028,
                    0.8453237410071942,
                    0.8633093525179856,
                    0.8812949640287769,
                    0.8992805755395683,
                    0.9172661870503597,
                    0.935251798561151,
                    0.9532374100719424,
                    0.9712230215827338,
                    0.9892086330935251,
                    1.0071942446043165,
                    1.0251798561151078,
                    1.0431654676258992,
                    1.0611510791366907,
                    1.079136690647482,
                    1.0971223021582732,
                    1.1151079136690647,
                    1.1330935251798562,
                    1.1510791366906474,
                    1.1690647482014387,
                    1.1870503597122302,
                    1.2050359712230216,
                    1.223021582733813,
                    1.2410071942446042,
                    1.2589928057553956,
                    1.276978417266187,
                    1.2949640287769784,
                    1.3129496402877696,
                    1.330935251798561,
                    1.3489208633093526,
                    1.3669064748201438,
                    1.384892086330935,
                    1.4028776978417266,
                    1.420863309352518,
                    1.4388489208633093,
                    1.4568345323741005,
                    1.474820143884892,
                    1.4928057553956835,
                    1.5107913669064748,
                    1.528776978417266,
                    1.5467625899280575,
                    1.564748201438849,
                    1.5827338129496402,
                    1.6007194244604315,
                    1.618705035971223,
                    1.6366906474820144,
                    1.6546762589928057,
                    1.672661870503597,
                    1.6906474820143884,
                    1.70863309352518,
                    1.7266187050359711,
                    1.7446043165467624,
                    1.7625899280575539,
                    1.7805755395683454,
                    1.7985611510791366,
                    1.8165467625899279,
                    1.8345323741007193,
                    1.8525179856115108,
                    1.870503597122302,
                    1.8884892086330933,
                    1.9064748201438848,
                    1.9244604316546763,
                    1.9424460431654675,
                    1.9604316546762588,
                    1.9784172661870503,
                    1.9964028776978417,
                    2.014388489208633,
                    2.0323741007194243,
                    2.0503597122302155,
                    2.068345323741007,
                    2.0863309352517985,
                    2.1043165467625897,
                    2.1223021582733814,
                    2.1402877697841727,
                    2.158273381294964,
                    2.176258992805755,
                    2.1942446043165464,
                    2.212230215827338,
                    2.2302158273381294,
                    2.2482014388489207,
                    2.2661870503597124,
                    2.2841726618705036,
                    2.302158273381295,
                    2.320143884892086,
                    2.3381294964028774,
                    2.356115107913669,
                    2.3741007194244603,
                    2.3920863309352516,
                    2.4100719424460433,
                    2.4280575539568345,
                    2.446043165467626,
                    2.464028776978417,
                    2.4820143884892083,
                    2.5,
                    2.5179856115107913,
                    2.5359712230215825,
                    2.553956834532374,
                    2.5719424460431655,
                    2.5899280575539567,
                    2.607913669064748,
                    2.6258992805755392,
                    2.643884892086331,
                    2.661870503597122,
                    2.6798561151079134,
                    2.697841726618705,
                    2.7158273381294964,
                    2.7338129496402876,
                    2.751798561151079,
                    2.76978417266187,
                    2.787769784172662,
                    2.805755395683453,
                    2.8237410071942444,
                    2.841726618705036,
                    2.8597122302158273,
                    2.8776978417266186,
                    2.89568345323741,
                    2.913669064748201,
                    2.931654676258993,
                    2.949640287769784,
                    2.9676258992805753,
                    2.985611510791367,
                    3.0035971223021583,
                    3.0215827338129495,
                    3.0395683453237408,
                    3.057553956834532,
                    3.0755395683453237,
                    3.093525179856115,
                    3.1115107913669062,
                    3.129496402877698,
                    3.147482014388489,
                    3.1654676258992804,
                    3.1834532374100717,
                    3.201438848920863,
                    3.2194244604316546,
                    3.237410071942446,
                    3.255395683453237,
                    3.273381294964029,
                    3.29136690647482,
                    3.3093525179856114,
                    3.3273381294964026,
                    3.345323741007194,
                    3.3633093525179856,
                    3.381294964028777,
                    3.399280575539568,
                    3.41726618705036,
                    3.435251798561151,
                    3.4532374100719423,
                    3.4712230215827335,
                    3.489208633093525,
                    3.5071942446043165,
                    3.5251798561151078,
                    3.543165467625899,
                    3.5611510791366907,
                    3.579136690647482,
                    3.597122302158273,
                    3.6151079136690645,
                    3.6330935251798557,
                    3.6510791366906474,
                    3.6690647482014387,
                    3.68705035971223,
                    3.7050359712230216,
                    3.723021582733813,
                    3.741007194244604,
                    3.7589928057553954,
                    3.7769784172661867,
                    3.7949640287769784,
                    3.8129496402877696,
                    3.830935251798561,
                    3.8489208633093526,
                    3.866906474820144,
                    3.884892086330935,
                    3.9028776978417263,
                    3.9208633093525176,
                    3.9388489208633093,
                    3.9568345323741005,
                    3.974820143884892,
                    3.9928057553956835,
                    4.010791366906474,
                    4.028776978417266,
                    4.046762589928058,
                    4.0647482014388485,
                    4.08273381294964,
                    4.100719424460431,
                    4.118705035971223,
                    4.136690647482014,
                    4.154676258992805,
                    4.172661870503597,
                    4.190647482014389,
                    4.2086330935251794,
                    4.226618705035971,
                    4.244604316546763,
                    4.262589928057554,
                    4.280575539568345,
                    4.298561151079136,
                    4.316546762589928,
                    4.33453237410072,
                    4.35251798561151,
                    4.370503597122302,
                    4.388489208633093,
                    4.406474820143885,
                    4.424460431654676,
                    4.442446043165467,
                    4.460431654676259,
                    4.4784172661870505,
                    4.496402877697841,
                    4.514388489208633,
                    4.532374100719425,
                    4.5503597122302155
                  ],
                  "y": [
                    null,
                    null,
                    null,
                    null,
                    null,
                    null,
                    null,
                    null,
                    null,
                    null,
                    null,
                    null,
                    null,
                    null,
                    null,
                    null,
                    null,
                    null,
                    null,
                    null,
                    null,
                    null,
                    null,
                    null,
                    null,
                    null,
                    null,
                    null,
                    null,
                    null,
                    null,
                    null,
                    null,
                    null,
                    null,
                    null,
                    null,
                    null,
                    null,
                    null,
                    null,
                    null,
                    null,
                    null,
                    null,
                    null,
                    null,
                    null,
                    null,
                    0.04689972114562988,
                    0.05032959747314454,
                    0.051196610927581786,
                    0.05323281002044678,
                    0.055228246688842776,
                    0.05586168813705445,
                    0.06121084499359131,
                    0.06376920080184936,
                    0.06537729501724245,
                    0.06954699277877809,
                    0.07009897565841676,
                    0.07200546407699586,
                    0.07138574266433716,
                    0.07290071296691894,
                    0.07247685003280639,
                    0.07135339784622192,
                    0.07066845655441285,
                    0.07120811128616333,
                    0.07263492870330811,
                    0.07540531539916992,
                    0.07749944353103638,
                    0.07910090970993042,
                    0.08269794511795045,
                    0.08414915370941163,
                    0.08478663825988769,
                    0.0878035216331482,
                    0.08548940896987915,
                    0.08722032070159912,
                    0.08985589313507081,
                    0.0905277771949768,
                    0.09209749507904051,
                    0.0948662910461426,
                    0.09442771387100221,
                    0.09717655944824219,
                    0.09537161254882813,
                    0.09512703800201416,
                    0.09660310173034668,
                    0.09583928680419922,
                    0.09819515609741211,
                    0.09828814744949341,
                    0.09993958902359008,
                    0.1011042675971985,
                    0.09978701162338258,
                    0.10038499307632448,
                    0.10485228967666625,
                    0.1023991870880127,
                    0.10223308849334717,
                    0.10757813596725464,
                    0.10627798032760621,
                    0.10649405431747437,
                    0.10455018377304076,
                    0.10285672044754028,
                    0.10111401081085206,
                    0.09899953460693359,
                    0.09978469181060792,
                    0.0984124231338501,
                    0.09492753410339355,
                    0.09346306943893433,
                    0.09215051937103272,
                    0.08951295852661134,
                    0.08936806964874268,
                    0.09015342569351198,
                    0.09250233554840089,
                    0.09215171241760255,
                    0.09232158899307251,
                    0.09381177043914794,
                    0.0946109127998352,
                    0.09290107822418214,
                    0.09271224546432495,
                    0.09037659168243409,
                    0.08920216989517213,
                    0.08710651731491088,
                    0.08549616956710816,
                    0.08377274751663208,
                    0.0827457995414734,
                    0.08127868366241456,
                    0.08316754150390626,
                    0.07956135940551759,
                    0.07744443082809449,
                    0.07568183708190919,
                    0.07639063930511475,
                    0.07467450809478761,
                    0.07504700374603272,
                    0.07122799539566041,
                    0.07125695991516114,
                    0.06974808740615845,
                    0.0674476284980774,
                    0.06704338455200196,
                    0.06419405794143676,
                    0.06152103710174561,
                    0.05865732765197754,
                    0.05718179416656494,
                    0.05696240615844727,
                    0.0564239444732666,
                    0.05033072423934937,
                    0.0509542236328125,
                    0.04929602146148682,
                    0.04408625221252442,
                    0.044387827873229986,
                    0.0420685453414917,
                    0.0382148060798645,
                    0.03639468097686768,
                    0.03430174589157105,
                    0.032263956069946295,
                    0.028569090843200685,
                    0.028300257682800294,
                    0.025731827259063724,
                    0.024601349353790283,
                    0.024923803329467774,
                    0.02300849962234497,
                    0.02149743986129761,
                    0.01665029048919678,
                    0.01169934606552124,
                    0.00950420665740967,
                    0.008775321483612063,
                    0.003341325759887696,
                    0.00016411018371582098,
                    -0.002614826679229736,
                    -0.0055491247177124016,
                    -0.011154190063476564,
                    -0.019851897239685057,
                    -0.01941411542892456,
                    -0.020082221508026122,
                    -0.02195729303359985,
                    -0.029143807888031007,
                    -0.03408149623870849,
                    -0.03963135004043579,
                    -0.042057078838348395,
                    -0.04696228981018066,
                    -0.05079720544815063,
                    -0.05660979461669922,
                    -0.05756641912460328,
                    -0.06234821605682374,
                    -0.06746605443954469,
                    -0.07004045009613037,
                    -0.0758480019569397,
                    -0.07914710712432861,
                    -0.08224432229995728,
                    -0.08464261102676392,
                    -0.08940419244766236,
                    -0.09545399904251099,
                    -0.09985594320297242,
                    -0.1052280993461609,
                    -0.10882699060440064,
                    -0.11396424913406372,
                    -0.11778749942779543,
                    -0.12181469440460205,
                    -0.12447127771377564,
                    -0.12469199132919312,
                    -0.12743911361694335,
                    -0.13158620977401733,
                    -0.1357538528442383,
                    -0.1412302017211914,
                    -0.14468712043762208,
                    -0.1459249725341797,
                    -0.14978388166427611,
                    -0.1526135230064392,
                    -0.15698922014236452,
                    -0.15931572723388673,
                    -0.16117800664901732,
                    -0.1628814120292664,
                    -0.16236515426635742,
                    -0.16015940999984743,
                    -0.1621998510360718,
                    -0.16171679973602296,
                    -0.15783734369277955,
                    -0.15859545850753784,
                    -0.15681795167922974,
                    -0.15748963689804077,
                    -0.15533506107330322,
                    -0.14927882528305056,
                    -0.14927783107757567,
                    -0.1507546238899231,
                    -0.1489866614341736,
                    -0.14510952520370485,
                    -0.14391840076446535,
                    -0.13838405656814576,
                    -0.13531043720245362,
                    -0.1339715738296509,
                    -0.1305997591018677,
                    -0.12892783689498902,
                    -0.12919183158874514,
                    -0.12569547605514528,
                    -0.11988666486740113,
                    -0.116989417552948,
                    -0.11091170692443848,
                    -0.10741130828857422,
                    -0.10407521867752076,
                    -0.10229631996154787,
                    -0.09804224729537964,
                    -0.09244526815414428,
                    -0.08890125703811645,
                    -0.08406491136550903,
                    -0.08138433456420899,
                    -0.07451490497589112,
                    -0.06985996866226196,
                    -0.06523326778411866,
                    -0.06219948291778565,
                    -0.061543506145477295,
                    -0.058773119449615475,
                    -0.05293859148025514,
                    -0.04868007802963257,
                    -0.04214635848999024,
                    -0.0374187126159668,
                    -0.03493737459182739
                  ]
                }
              ],
              "layout": {
                "template": {
                  "data": {
                    "bar": [
                      {
                        "error_x": {
                          "color": "#2a3f5f"
                        },
                        "error_y": {
                          "color": "#2a3f5f"
                        },
                        "marker": {
                          "line": {
                            "color": "#E5ECF6",
                            "width": 0.5
                          },
                          "pattern": {
                            "fillmode": "overlay",
                            "size": 10,
                            "solidity": 0.2
                          }
                        },
                        "type": "bar"
                      }
                    ],
                    "barpolar": [
                      {
                        "marker": {
                          "line": {
                            "color": "#E5ECF6",
                            "width": 0.5
                          },
                          "pattern": {
                            "fillmode": "overlay",
                            "size": 10,
                            "solidity": 0.2
                          }
                        },
                        "type": "barpolar"
                      }
                    ],
                    "carpet": [
                      {
                        "aaxis": {
                          "endlinecolor": "#2a3f5f",
                          "gridcolor": "white",
                          "linecolor": "white",
                          "minorgridcolor": "white",
                          "startlinecolor": "#2a3f5f"
                        },
                        "baxis": {
                          "endlinecolor": "#2a3f5f",
                          "gridcolor": "white",
                          "linecolor": "white",
                          "minorgridcolor": "white",
                          "startlinecolor": "#2a3f5f"
                        },
                        "type": "carpet"
                      }
                    ],
                    "choropleth": [
                      {
                        "colorbar": {
                          "outlinewidth": 0,
                          "ticks": ""
                        },
                        "type": "choropleth"
                      }
                    ],
                    "contour": [
                      {
                        "colorbar": {
                          "outlinewidth": 0,
                          "ticks": ""
                        },
                        "colorscale": [
                          [
                            0,
                            "#0d0887"
                          ],
                          [
                            0.1111111111111111,
                            "#46039f"
                          ],
                          [
                            0.2222222222222222,
                            "#7201a8"
                          ],
                          [
                            0.3333333333333333,
                            "#9c179e"
                          ],
                          [
                            0.4444444444444444,
                            "#bd3786"
                          ],
                          [
                            0.5555555555555556,
                            "#d8576b"
                          ],
                          [
                            0.6666666666666666,
                            "#ed7953"
                          ],
                          [
                            0.7777777777777778,
                            "#fb9f3a"
                          ],
                          [
                            0.8888888888888888,
                            "#fdca26"
                          ],
                          [
                            1,
                            "#f0f921"
                          ]
                        ],
                        "type": "contour"
                      }
                    ],
                    "contourcarpet": [
                      {
                        "colorbar": {
                          "outlinewidth": 0,
                          "ticks": ""
                        },
                        "type": "contourcarpet"
                      }
                    ],
                    "heatmap": [
                      {
                        "colorbar": {
                          "outlinewidth": 0,
                          "ticks": ""
                        },
                        "colorscale": [
                          [
                            0,
                            "#0d0887"
                          ],
                          [
                            0.1111111111111111,
                            "#46039f"
                          ],
                          [
                            0.2222222222222222,
                            "#7201a8"
                          ],
                          [
                            0.3333333333333333,
                            "#9c179e"
                          ],
                          [
                            0.4444444444444444,
                            "#bd3786"
                          ],
                          [
                            0.5555555555555556,
                            "#d8576b"
                          ],
                          [
                            0.6666666666666666,
                            "#ed7953"
                          ],
                          [
                            0.7777777777777778,
                            "#fb9f3a"
                          ],
                          [
                            0.8888888888888888,
                            "#fdca26"
                          ],
                          [
                            1,
                            "#f0f921"
                          ]
                        ],
                        "type": "heatmap"
                      }
                    ],
                    "heatmapgl": [
                      {
                        "colorbar": {
                          "outlinewidth": 0,
                          "ticks": ""
                        },
                        "colorscale": [
                          [
                            0,
                            "#0d0887"
                          ],
                          [
                            0.1111111111111111,
                            "#46039f"
                          ],
                          [
                            0.2222222222222222,
                            "#7201a8"
                          ],
                          [
                            0.3333333333333333,
                            "#9c179e"
                          ],
                          [
                            0.4444444444444444,
                            "#bd3786"
                          ],
                          [
                            0.5555555555555556,
                            "#d8576b"
                          ],
                          [
                            0.6666666666666666,
                            "#ed7953"
                          ],
                          [
                            0.7777777777777778,
                            "#fb9f3a"
                          ],
                          [
                            0.8888888888888888,
                            "#fdca26"
                          ],
                          [
                            1,
                            "#f0f921"
                          ]
                        ],
                        "type": "heatmapgl"
                      }
                    ],
                    "histogram": [
                      {
                        "marker": {
                          "pattern": {
                            "fillmode": "overlay",
                            "size": 10,
                            "solidity": 0.2
                          }
                        },
                        "type": "histogram"
                      }
                    ],
                    "histogram2d": [
                      {
                        "colorbar": {
                          "outlinewidth": 0,
                          "ticks": ""
                        },
                        "colorscale": [
                          [
                            0,
                            "#0d0887"
                          ],
                          [
                            0.1111111111111111,
                            "#46039f"
                          ],
                          [
                            0.2222222222222222,
                            "#7201a8"
                          ],
                          [
                            0.3333333333333333,
                            "#9c179e"
                          ],
                          [
                            0.4444444444444444,
                            "#bd3786"
                          ],
                          [
                            0.5555555555555556,
                            "#d8576b"
                          ],
                          [
                            0.6666666666666666,
                            "#ed7953"
                          ],
                          [
                            0.7777777777777778,
                            "#fb9f3a"
                          ],
                          [
                            0.8888888888888888,
                            "#fdca26"
                          ],
                          [
                            1,
                            "#f0f921"
                          ]
                        ],
                        "type": "histogram2d"
                      }
                    ],
                    "histogram2dcontour": [
                      {
                        "colorbar": {
                          "outlinewidth": 0,
                          "ticks": ""
                        },
                        "colorscale": [
                          [
                            0,
                            "#0d0887"
                          ],
                          [
                            0.1111111111111111,
                            "#46039f"
                          ],
                          [
                            0.2222222222222222,
                            "#7201a8"
                          ],
                          [
                            0.3333333333333333,
                            "#9c179e"
                          ],
                          [
                            0.4444444444444444,
                            "#bd3786"
                          ],
                          [
                            0.5555555555555556,
                            "#d8576b"
                          ],
                          [
                            0.6666666666666666,
                            "#ed7953"
                          ],
                          [
                            0.7777777777777778,
                            "#fb9f3a"
                          ],
                          [
                            0.8888888888888888,
                            "#fdca26"
                          ],
                          [
                            1,
                            "#f0f921"
                          ]
                        ],
                        "type": "histogram2dcontour"
                      }
                    ],
                    "mesh3d": [
                      {
                        "colorbar": {
                          "outlinewidth": 0,
                          "ticks": ""
                        },
                        "type": "mesh3d"
                      }
                    ],
                    "parcoords": [
                      {
                        "line": {
                          "colorbar": {
                            "outlinewidth": 0,
                            "ticks": ""
                          }
                        },
                        "type": "parcoords"
                      }
                    ],
                    "pie": [
                      {
                        "automargin": true,
                        "type": "pie"
                      }
                    ],
                    "scatter": [
                      {
                        "fillpattern": {
                          "fillmode": "overlay",
                          "size": 10,
                          "solidity": 0.2
                        },
                        "type": "scatter"
                      }
                    ],
                    "scatter3d": [
                      {
                        "line": {
                          "colorbar": {
                            "outlinewidth": 0,
                            "ticks": ""
                          }
                        },
                        "marker": {
                          "colorbar": {
                            "outlinewidth": 0,
                            "ticks": ""
                          }
                        },
                        "type": "scatter3d"
                      }
                    ],
                    "scattercarpet": [
                      {
                        "marker": {
                          "colorbar": {
                            "outlinewidth": 0,
                            "ticks": ""
                          }
                        },
                        "type": "scattercarpet"
                      }
                    ],
                    "scattergeo": [
                      {
                        "marker": {
                          "colorbar": {
                            "outlinewidth": 0,
                            "ticks": ""
                          }
                        },
                        "type": "scattergeo"
                      }
                    ],
                    "scattergl": [
                      {
                        "marker": {
                          "colorbar": {
                            "outlinewidth": 0,
                            "ticks": ""
                          }
                        },
                        "type": "scattergl"
                      }
                    ],
                    "scattermapbox": [
                      {
                        "marker": {
                          "colorbar": {
                            "outlinewidth": 0,
                            "ticks": ""
                          }
                        },
                        "type": "scattermapbox"
                      }
                    ],
                    "scatterpolar": [
                      {
                        "marker": {
                          "colorbar": {
                            "outlinewidth": 0,
                            "ticks": ""
                          }
                        },
                        "type": "scatterpolar"
                      }
                    ],
                    "scatterpolargl": [
                      {
                        "marker": {
                          "colorbar": {
                            "outlinewidth": 0,
                            "ticks": ""
                          }
                        },
                        "type": "scatterpolargl"
                      }
                    ],
                    "scatterternary": [
                      {
                        "marker": {
                          "colorbar": {
                            "outlinewidth": 0,
                            "ticks": ""
                          }
                        },
                        "type": "scatterternary"
                      }
                    ],
                    "surface": [
                      {
                        "colorbar": {
                          "outlinewidth": 0,
                          "ticks": ""
                        },
                        "colorscale": [
                          [
                            0,
                            "#0d0887"
                          ],
                          [
                            0.1111111111111111,
                            "#46039f"
                          ],
                          [
                            0.2222222222222222,
                            "#7201a8"
                          ],
                          [
                            0.3333333333333333,
                            "#9c179e"
                          ],
                          [
                            0.4444444444444444,
                            "#bd3786"
                          ],
                          [
                            0.5555555555555556,
                            "#d8576b"
                          ],
                          [
                            0.6666666666666666,
                            "#ed7953"
                          ],
                          [
                            0.7777777777777778,
                            "#fb9f3a"
                          ],
                          [
                            0.8888888888888888,
                            "#fdca26"
                          ],
                          [
                            1,
                            "#f0f921"
                          ]
                        ],
                        "type": "surface"
                      }
                    ],
                    "table": [
                      {
                        "cells": {
                          "fill": {
                            "color": "#EBF0F8"
                          },
                          "line": {
                            "color": "white"
                          }
                        },
                        "header": {
                          "fill": {
                            "color": "#C8D4E3"
                          },
                          "line": {
                            "color": "white"
                          }
                        },
                        "type": "table"
                      }
                    ]
                  },
                  "layout": {
                    "annotationdefaults": {
                      "arrowcolor": "#2a3f5f",
                      "arrowhead": 0,
                      "arrowwidth": 1
                    },
                    "autotypenumbers": "strict",
                    "coloraxis": {
                      "colorbar": {
                        "outlinewidth": 0,
                        "ticks": ""
                      }
                    },
                    "colorscale": {
                      "diverging": [
                        [
                          0,
                          "#8e0152"
                        ],
                        [
                          0.1,
                          "#c51b7d"
                        ],
                        [
                          0.2,
                          "#de77ae"
                        ],
                        [
                          0.3,
                          "#f1b6da"
                        ],
                        [
                          0.4,
                          "#fde0ef"
                        ],
                        [
                          0.5,
                          "#f7f7f7"
                        ],
                        [
                          0.6,
                          "#e6f5d0"
                        ],
                        [
                          0.7,
                          "#b8e186"
                        ],
                        [
                          0.8,
                          "#7fbc41"
                        ],
                        [
                          0.9,
                          "#4d9221"
                        ],
                        [
                          1,
                          "#276419"
                        ]
                      ],
                      "sequential": [
                        [
                          0,
                          "#0d0887"
                        ],
                        [
                          0.1111111111111111,
                          "#46039f"
                        ],
                        [
                          0.2222222222222222,
                          "#7201a8"
                        ],
                        [
                          0.3333333333333333,
                          "#9c179e"
                        ],
                        [
                          0.4444444444444444,
                          "#bd3786"
                        ],
                        [
                          0.5555555555555556,
                          "#d8576b"
                        ],
                        [
                          0.6666666666666666,
                          "#ed7953"
                        ],
                        [
                          0.7777777777777778,
                          "#fb9f3a"
                        ],
                        [
                          0.8888888888888888,
                          "#fdca26"
                        ],
                        [
                          1,
                          "#f0f921"
                        ]
                      ],
                      "sequentialminus": [
                        [
                          0,
                          "#0d0887"
                        ],
                        [
                          0.1111111111111111,
                          "#46039f"
                        ],
                        [
                          0.2222222222222222,
                          "#7201a8"
                        ],
                        [
                          0.3333333333333333,
                          "#9c179e"
                        ],
                        [
                          0.4444444444444444,
                          "#bd3786"
                        ],
                        [
                          0.5555555555555556,
                          "#d8576b"
                        ],
                        [
                          0.6666666666666666,
                          "#ed7953"
                        ],
                        [
                          0.7777777777777778,
                          "#fb9f3a"
                        ],
                        [
                          0.8888888888888888,
                          "#fdca26"
                        ],
                        [
                          1,
                          "#f0f921"
                        ]
                      ]
                    },
                    "colorway": [
                      "#636efa",
                      "#EF553B",
                      "#00cc96",
                      "#ab63fa",
                      "#FFA15A",
                      "#19d3f3",
                      "#FF6692",
                      "#B6E880",
                      "#FF97FF",
                      "#FECB52"
                    ],
                    "font": {
                      "color": "#2a3f5f"
                    },
                    "geo": {
                      "bgcolor": "white",
                      "lakecolor": "white",
                      "landcolor": "#E5ECF6",
                      "showlakes": true,
                      "showland": true,
                      "subunitcolor": "white"
                    },
                    "hoverlabel": {
                      "align": "left"
                    },
                    "hovermode": "closest",
                    "mapbox": {
                      "style": "light"
                    },
                    "paper_bgcolor": "white",
                    "plot_bgcolor": "#E5ECF6",
                    "polar": {
                      "angularaxis": {
                        "gridcolor": "white",
                        "linecolor": "white",
                        "ticks": ""
                      },
                      "bgcolor": "#E5ECF6",
                      "radialaxis": {
                        "gridcolor": "white",
                        "linecolor": "white",
                        "ticks": ""
                      }
                    },
                    "scene": {
                      "xaxis": {
                        "backgroundcolor": "#E5ECF6",
                        "gridcolor": "white",
                        "gridwidth": 2,
                        "linecolor": "white",
                        "showbackground": true,
                        "ticks": "",
                        "zerolinecolor": "white"
                      },
                      "yaxis": {
                        "backgroundcolor": "#E5ECF6",
                        "gridcolor": "white",
                        "gridwidth": 2,
                        "linecolor": "white",
                        "showbackground": true,
                        "ticks": "",
                        "zerolinecolor": "white"
                      },
                      "zaxis": {
                        "backgroundcolor": "#E5ECF6",
                        "gridcolor": "white",
                        "gridwidth": 2,
                        "linecolor": "white",
                        "showbackground": true,
                        "ticks": "",
                        "zerolinecolor": "white"
                      }
                    },
                    "shapedefaults": {
                      "line": {
                        "color": "#2a3f5f"
                      }
                    },
                    "ternary": {
                      "aaxis": {
                        "gridcolor": "white",
                        "linecolor": "white",
                        "ticks": ""
                      },
                      "baxis": {
                        "gridcolor": "white",
                        "linecolor": "white",
                        "ticks": ""
                      },
                      "bgcolor": "#E5ECF6",
                      "caxis": {
                        "gridcolor": "white",
                        "linecolor": "white",
                        "ticks": ""
                      }
                    },
                    "title": {
                      "x": 0.05
                    },
                    "xaxis": {
                      "automargin": true,
                      "gridcolor": "white",
                      "linecolor": "white",
                      "ticks": "",
                      "title": {
                        "standoff": 15
                      },
                      "zerolinecolor": "white",
                      "zerolinewidth": 2
                    },
                    "yaxis": {
                      "automargin": true,
                      "gridcolor": "white",
                      "linecolor": "white",
                      "ticks": "",
                      "title": {
                        "standoff": 15
                      },
                      "zerolinecolor": "white",
                      "zerolinewidth": 2
                    }
                  }
                },
                "xaxis": {
                  "range": [
                    0,
                    5.5503597122302155
                  ],
                  "title": {
                    "text": "Tiempo"
                  }
                },
                "yaxis": {
                  "range": [
                    null,
                    null
                  ],
                  "title": {
                    "text": "Velocidad de la cadera"
                  }
                }
              }
            }
          },
          "metadata": {},
          "output_type": "display_data"
        },
        {
          "data": {
            "application/vnd.plotly.v1+json": {
              "config": {
                "plotlyServerURL": "https://plot.ly"
              },
              "data": [
                {
                  "mode": "lines",
                  "name": "Aceleración de la cadera",
                  "type": "scatter",
                  "x": [
                    0,
                    0.017985611510791366,
                    0.03597122302158273,
                    0.0539568345323741,
                    0.07194244604316546,
                    0.08992805755395683,
                    0.1079136690647482,
                    0.12589928057553956,
                    0.14388489208633093,
                    0.1618705035971223,
                    0.17985611510791366,
                    0.19784172661870503,
                    0.2158273381294964,
                    0.23381294964028776,
                    0.2517985611510791,
                    0.2697841726618705,
                    0.28776978417266186,
                    0.3057553956834532,
                    0.3237410071942446,
                    0.34172661870503596,
                    0.3597122302158273,
                    0.3776978417266187,
                    0.39568345323741005,
                    0.4136690647482014,
                    0.4316546762589928,
                    0.44964028776978415,
                    0.4676258992805755,
                    0.4856115107913669,
                    0.5035971223021583,
                    0.5215827338129496,
                    0.539568345323741,
                    0.5575539568345323,
                    0.5755395683453237,
                    0.5935251798561151,
                    0.6115107913669064,
                    0.6294964028776978,
                    0.6474820143884892,
                    0.6654676258992805,
                    0.6834532374100719,
                    0.7014388489208633,
                    0.7194244604316546,
                    0.737410071942446,
                    0.7553956834532374,
                    0.7733812949640287,
                    0.7913669064748201,
                    0.8093525179856115,
                    0.8273381294964028,
                    0.8453237410071942,
                    0.8633093525179856,
                    0.8812949640287769,
                    0.8992805755395683,
                    0.9172661870503597,
                    0.935251798561151,
                    0.9532374100719424,
                    0.9712230215827338,
                    0.9892086330935251,
                    1.0071942446043165,
                    1.0251798561151078,
                    1.0431654676258992,
                    1.0611510791366907,
                    1.079136690647482,
                    1.0971223021582732,
                    1.1151079136690647,
                    1.1330935251798562,
                    1.1510791366906474,
                    1.1690647482014387,
                    1.1870503597122302,
                    1.2050359712230216,
                    1.223021582733813,
                    1.2410071942446042,
                    1.2589928057553956,
                    1.276978417266187,
                    1.2949640287769784,
                    1.3129496402877696,
                    1.330935251798561,
                    1.3489208633093526,
                    1.3669064748201438,
                    1.384892086330935,
                    1.4028776978417266,
                    1.420863309352518,
                    1.4388489208633093,
                    1.4568345323741005,
                    1.474820143884892,
                    1.4928057553956835,
                    1.5107913669064748,
                    1.528776978417266,
                    1.5467625899280575,
                    1.564748201438849,
                    1.5827338129496402,
                    1.6007194244604315,
                    1.618705035971223,
                    1.6366906474820144,
                    1.6546762589928057,
                    1.672661870503597,
                    1.6906474820143884,
                    1.70863309352518,
                    1.7266187050359711,
                    1.7446043165467624,
                    1.7625899280575539,
                    1.7805755395683454,
                    1.7985611510791366,
                    1.8165467625899279,
                    1.8345323741007193,
                    1.8525179856115108,
                    1.870503597122302,
                    1.8884892086330933,
                    1.9064748201438848,
                    1.9244604316546763,
                    1.9424460431654675,
                    1.9604316546762588,
                    1.9784172661870503,
                    1.9964028776978417,
                    2.014388489208633,
                    2.0323741007194243,
                    2.0503597122302155,
                    2.068345323741007,
                    2.0863309352517985,
                    2.1043165467625897,
                    2.1223021582733814,
                    2.1402877697841727,
                    2.158273381294964,
                    2.176258992805755,
                    2.1942446043165464,
                    2.212230215827338,
                    2.2302158273381294,
                    2.2482014388489207,
                    2.2661870503597124,
                    2.2841726618705036,
                    2.302158273381295,
                    2.320143884892086,
                    2.3381294964028774,
                    2.356115107913669,
                    2.3741007194244603,
                    2.3920863309352516,
                    2.4100719424460433,
                    2.4280575539568345,
                    2.446043165467626,
                    2.464028776978417,
                    2.4820143884892083,
                    2.5,
                    2.5179856115107913,
                    2.5359712230215825,
                    2.553956834532374,
                    2.5719424460431655,
                    2.5899280575539567,
                    2.607913669064748,
                    2.6258992805755392,
                    2.643884892086331,
                    2.661870503597122,
                    2.6798561151079134,
                    2.697841726618705,
                    2.7158273381294964,
                    2.7338129496402876,
                    2.751798561151079,
                    2.76978417266187,
                    2.787769784172662,
                    2.805755395683453,
                    2.8237410071942444,
                    2.841726618705036,
                    2.8597122302158273,
                    2.8776978417266186,
                    2.89568345323741,
                    2.913669064748201,
                    2.931654676258993,
                    2.949640287769784,
                    2.9676258992805753,
                    2.985611510791367,
                    3.0035971223021583,
                    3.0215827338129495,
                    3.0395683453237408,
                    3.057553956834532,
                    3.0755395683453237,
                    3.093525179856115,
                    3.1115107913669062,
                    3.129496402877698,
                    3.147482014388489,
                    3.1654676258992804,
                    3.1834532374100717,
                    3.201438848920863,
                    3.2194244604316546,
                    3.237410071942446,
                    3.255395683453237,
                    3.273381294964029,
                    3.29136690647482,
                    3.3093525179856114,
                    3.3273381294964026,
                    3.345323741007194,
                    3.3633093525179856,
                    3.381294964028777,
                    3.399280575539568,
                    3.41726618705036,
                    3.435251798561151,
                    3.4532374100719423,
                    3.4712230215827335,
                    3.489208633093525,
                    3.5071942446043165,
                    3.5251798561151078,
                    3.543165467625899,
                    3.5611510791366907,
                    3.579136690647482,
                    3.597122302158273,
                    3.6151079136690645,
                    3.6330935251798557,
                    3.6510791366906474,
                    3.6690647482014387,
                    3.68705035971223,
                    3.7050359712230216,
                    3.723021582733813,
                    3.741007194244604,
                    3.7589928057553954,
                    3.7769784172661867,
                    3.7949640287769784,
                    3.8129496402877696,
                    3.830935251798561,
                    3.8489208633093526,
                    3.866906474820144,
                    3.884892086330935,
                    3.9028776978417263,
                    3.9208633093525176,
                    3.9388489208633093,
                    3.9568345323741005,
                    3.974820143884892,
                    3.9928057553956835,
                    4.010791366906474,
                    4.028776978417266,
                    4.046762589928058,
                    4.0647482014388485,
                    4.08273381294964,
                    4.100719424460431,
                    4.118705035971223,
                    4.136690647482014,
                    4.154676258992805,
                    4.172661870503597,
                    4.190647482014389,
                    4.2086330935251794,
                    4.226618705035971,
                    4.244604316546763,
                    4.262589928057554,
                    4.280575539568345,
                    4.298561151079136,
                    4.316546762589928,
                    4.33453237410072,
                    4.35251798561151,
                    4.370503597122302,
                    4.388489208633093,
                    4.406474820143885,
                    4.424460431654676,
                    4.442446043165467,
                    4.460431654676259,
                    4.4784172661870505,
                    4.496402877697841,
                    4.514388489208633,
                    4.532374100719425,
                    4.5503597122302155
                  ],
                  "y": [
                    null,
                    null,
                    null,
                    null,
                    null,
                    null,
                    null,
                    null,
                    null,
                    null,
                    null,
                    null,
                    null,
                    null,
                    null,
                    null,
                    null,
                    null,
                    null,
                    null,
                    null,
                    null,
                    null,
                    null,
                    null,
                    null,
                    null,
                    null,
                    null,
                    null,
                    null,
                    null,
                    null,
                    null,
                    null,
                    null,
                    null,
                    null,
                    null,
                    null,
                    null,
                    null,
                    null,
                    null,
                    null,
                    null,
                    null,
                    null,
                    null,
                    null,
                    -2.607624495697022,
                    -2.7983256195068362,
                    -2.846531567573548,
                    -2.9597442371368414,
                    -3.0706905158996585,
                    -3.1059098604202275,
                    -3.4033229816436767,
                    -3.545567564582825,
                    -3.6349776029586796,
                    -3.8668127985000615,
                    -3.897503046607971,
                    -4.00350380268097,
                    -3.9690472921371462,
                    -4.053279640960693,
                    -4.029712861824035,
                    -3.9672489202499395,
                    -3.929166184425354,
                    -3.959170987510681,
                    -4.038502035903931,
                    -4.192535536193848,
                    -4.308969060325623,
                    -4.398010579872132,
                    -4.598005748558045,
                    -4.678692946243286,
                    -4.714137087249756,
                    -4.88187580280304,
                    -4.7532111387252804,
                    -4.849449831008911,
                    -4.995987658309937,
                    -5.0333444120407105,
                    -5.1206207263946535,
                    -5.274565782165528,
                    -5.250180891227723,
                    -5.4030167053222655,
                    -5.302661657714843,
                    -5.2890633129119875,
                    -5.371132456207275,
                    -5.328664346313477,
                    -5.459650679016114,
                    -5.4648209981918345,
                    -5.55664114971161,
                    -5.621397278404236,
                    -5.548157846260072,
                    -5.581405615043639,
                    -5.829787306022645,
                    -5.693394802093507,
                    -5.684159720230102,
                    -5.981344359779359,
                    -5.909055706214905,
                    -5.921069420051575,
                    -5.812990217781067,
                    -5.71883365688324,
                    -5.621939001083375,
                    -5.504374124145508,
                    -5.5480288646698,
                    -5.471730726242065,
                    -5.277970896148682,
                    -5.196546660804748,
                    -5.1235688770294185,
                    -4.97692049407959,
                    -4.968864672470094,
                    -5.012530468559265,
                    -5.143129856491089,
                    -5.123635210418701,
                    -5.133080348014833,
                    -5.215934436416626,
                    -5.260366751670838,
                    -5.165299949264527,
                    -5.154800847816468,
                    -5.024938497543335,
                    -4.95964064617157,
                    -4.843122362709046,
                    -4.753587027931214,
                    -4.657764761924744,
                    -4.600666454505921,
                    -4.519094811630249,
                    -4.6241153076171875,
                    -4.423611582946778,
                    -4.305910354042053,
                    -4.207910141754151,
                    -4.24731954536438,
                    -4.15190265007019,
                    -4.172613408279419,
                    -3.9602765439987184,
                    -3.961886971282959,
                    -3.87799365978241,
                    -3.750088144493103,
                    -3.7276121810913088,
                    -3.569189621543885,
                    -3.420569662857056,
                    -3.2613474174499517,
                    -3.1793077556610116,
                    -3.167109782409668,
                    -3.137171312713623,
                    -2.7983882677078253,
                    -2.833054833984375,
                    -2.740858793258667,
                    -2.451195623016358,
                    -2.467963229751587,
                    -2.339011120986939,
                    -2.124743218040466,
                    -2.023544262313843,
                    -1.9071770715713503,
                    -1.793875957489014,
                    -1.5884414508819582,
                    -1.5734943271636965,
                    -1.430689595603943,
                    -1.3678350240707398,
                    -1.3857634651184085,
                    -1.2792725790023807,
                    -1.1952576562881472,
                    -0.925756151199341,
                    -0.6504836412429811,
                    -0.5284338901519776,
                    -0.48790787448883066,
                    -0.18577771224975584,
                    -0.0091245262145996,
                    0.14538436336517335,
                    0.3085313343048096,
                    0.620172967529297,
                    1.1037654865264894,
                    1.0794248178482058,
                    1.1165715158462526,
                    1.2208254926681519,
                    1.6203957185745241,
                    1.8949311908721926,
                    2.20350306224823,
                    2.338373583412171,
                    2.611103313446045,
                    2.824324622917176,
                    3.1475045806884765,
                    3.200692903327942,
                    3.4665608127593996,
                    3.7511126268386845,
                    3.8942490253448487,
                    4.217148908805847,
                    4.400579156112671,
                    4.572784319877624,
                    4.706129173088073,
                    4.970873100090027,
                    5.307242346763611,
                    5.551990442085267,
                    5.850682323646546,
                    6.050780677604677,
                    6.336412251853944,
                    6.548984968185426,
                    6.772897008895874,
                    6.920603040885926,
                    6.932874717903138,
                    7.08561471710205,
                    7.3161932634353635,
                    7.547914218139649,
                    7.852399215698243,
                    8.044603896331788,
                    8.113428472900392,
                    8.327983820533753,
                    8.48531187915802,
                    8.728600639915468,
                    8.857954434204101,
                    8.961497169685364,
                    9.056206508827211,
                    9.027502577209473,
                    8.904863195991517,
                    9.018311717605592,
                    8.991454065322877,
                    8.775756309318544,
                    8.817907493019105,
                    8.719078113365175,
                    8.756423811531068,
                    8.63662939567566,
                    8.29990268573761,
                    8.29984740791321,
                    8.381957088279725,
                    8.283658375740053,
                    8.068089601325989,
                    8.001863082504274,
                    7.694153545188905,
                    7.523260308456422,
                    7.448819504928589,
                    7.261346606063844,
                    7.16838773136139,
                    7.1830658363342295,
                    6.988668468666078,
                    6.665698566627503,
                    6.50461161594391,
                    6.166690904998779,
                    5.972068740844727,
                    5.7865821584701544,
                    5.687675389862061,
                    5.451148949623109,
                    5.139956909370423,
                    4.9429098913192755,
                    4.674009071922303,
                    4.52496900177002,
                    4.143028716659546,
                    3.8842142576217658,
                    3.6269696887969975,
                    3.458291250228882,
                    3.421818941688538,
                    3.267785441398621,
                    2.9433856863021854,
                    2.7066123384475715,
                    2.3433375320434573,
                    2.080480421447754
                  ]
                }
              ],
              "layout": {
                "template": {
                  "data": {
                    "bar": [
                      {
                        "error_x": {
                          "color": "#2a3f5f"
                        },
                        "error_y": {
                          "color": "#2a3f5f"
                        },
                        "marker": {
                          "line": {
                            "color": "#E5ECF6",
                            "width": 0.5
                          },
                          "pattern": {
                            "fillmode": "overlay",
                            "size": 10,
                            "solidity": 0.2
                          }
                        },
                        "type": "bar"
                      }
                    ],
                    "barpolar": [
                      {
                        "marker": {
                          "line": {
                            "color": "#E5ECF6",
                            "width": 0.5
                          },
                          "pattern": {
                            "fillmode": "overlay",
                            "size": 10,
                            "solidity": 0.2
                          }
                        },
                        "type": "barpolar"
                      }
                    ],
                    "carpet": [
                      {
                        "aaxis": {
                          "endlinecolor": "#2a3f5f",
                          "gridcolor": "white",
                          "linecolor": "white",
                          "minorgridcolor": "white",
                          "startlinecolor": "#2a3f5f"
                        },
                        "baxis": {
                          "endlinecolor": "#2a3f5f",
                          "gridcolor": "white",
                          "linecolor": "white",
                          "minorgridcolor": "white",
                          "startlinecolor": "#2a3f5f"
                        },
                        "type": "carpet"
                      }
                    ],
                    "choropleth": [
                      {
                        "colorbar": {
                          "outlinewidth": 0,
                          "ticks": ""
                        },
                        "type": "choropleth"
                      }
                    ],
                    "contour": [
                      {
                        "colorbar": {
                          "outlinewidth": 0,
                          "ticks": ""
                        },
                        "colorscale": [
                          [
                            0,
                            "#0d0887"
                          ],
                          [
                            0.1111111111111111,
                            "#46039f"
                          ],
                          [
                            0.2222222222222222,
                            "#7201a8"
                          ],
                          [
                            0.3333333333333333,
                            "#9c179e"
                          ],
                          [
                            0.4444444444444444,
                            "#bd3786"
                          ],
                          [
                            0.5555555555555556,
                            "#d8576b"
                          ],
                          [
                            0.6666666666666666,
                            "#ed7953"
                          ],
                          [
                            0.7777777777777778,
                            "#fb9f3a"
                          ],
                          [
                            0.8888888888888888,
                            "#fdca26"
                          ],
                          [
                            1,
                            "#f0f921"
                          ]
                        ],
                        "type": "contour"
                      }
                    ],
                    "contourcarpet": [
                      {
                        "colorbar": {
                          "outlinewidth": 0,
                          "ticks": ""
                        },
                        "type": "contourcarpet"
                      }
                    ],
                    "heatmap": [
                      {
                        "colorbar": {
                          "outlinewidth": 0,
                          "ticks": ""
                        },
                        "colorscale": [
                          [
                            0,
                            "#0d0887"
                          ],
                          [
                            0.1111111111111111,
                            "#46039f"
                          ],
                          [
                            0.2222222222222222,
                            "#7201a8"
                          ],
                          [
                            0.3333333333333333,
                            "#9c179e"
                          ],
                          [
                            0.4444444444444444,
                            "#bd3786"
                          ],
                          [
                            0.5555555555555556,
                            "#d8576b"
                          ],
                          [
                            0.6666666666666666,
                            "#ed7953"
                          ],
                          [
                            0.7777777777777778,
                            "#fb9f3a"
                          ],
                          [
                            0.8888888888888888,
                            "#fdca26"
                          ],
                          [
                            1,
                            "#f0f921"
                          ]
                        ],
                        "type": "heatmap"
                      }
                    ],
                    "heatmapgl": [
                      {
                        "colorbar": {
                          "outlinewidth": 0,
                          "ticks": ""
                        },
                        "colorscale": [
                          [
                            0,
                            "#0d0887"
                          ],
                          [
                            0.1111111111111111,
                            "#46039f"
                          ],
                          [
                            0.2222222222222222,
                            "#7201a8"
                          ],
                          [
                            0.3333333333333333,
                            "#9c179e"
                          ],
                          [
                            0.4444444444444444,
                            "#bd3786"
                          ],
                          [
                            0.5555555555555556,
                            "#d8576b"
                          ],
                          [
                            0.6666666666666666,
                            "#ed7953"
                          ],
                          [
                            0.7777777777777778,
                            "#fb9f3a"
                          ],
                          [
                            0.8888888888888888,
                            "#fdca26"
                          ],
                          [
                            1,
                            "#f0f921"
                          ]
                        ],
                        "type": "heatmapgl"
                      }
                    ],
                    "histogram": [
                      {
                        "marker": {
                          "pattern": {
                            "fillmode": "overlay",
                            "size": 10,
                            "solidity": 0.2
                          }
                        },
                        "type": "histogram"
                      }
                    ],
                    "histogram2d": [
                      {
                        "colorbar": {
                          "outlinewidth": 0,
                          "ticks": ""
                        },
                        "colorscale": [
                          [
                            0,
                            "#0d0887"
                          ],
                          [
                            0.1111111111111111,
                            "#46039f"
                          ],
                          [
                            0.2222222222222222,
                            "#7201a8"
                          ],
                          [
                            0.3333333333333333,
                            "#9c179e"
                          ],
                          [
                            0.4444444444444444,
                            "#bd3786"
                          ],
                          [
                            0.5555555555555556,
                            "#d8576b"
                          ],
                          [
                            0.6666666666666666,
                            "#ed7953"
                          ],
                          [
                            0.7777777777777778,
                            "#fb9f3a"
                          ],
                          [
                            0.8888888888888888,
                            "#fdca26"
                          ],
                          [
                            1,
                            "#f0f921"
                          ]
                        ],
                        "type": "histogram2d"
                      }
                    ],
                    "histogram2dcontour": [
                      {
                        "colorbar": {
                          "outlinewidth": 0,
                          "ticks": ""
                        },
                        "colorscale": [
                          [
                            0,
                            "#0d0887"
                          ],
                          [
                            0.1111111111111111,
                            "#46039f"
                          ],
                          [
                            0.2222222222222222,
                            "#7201a8"
                          ],
                          [
                            0.3333333333333333,
                            "#9c179e"
                          ],
                          [
                            0.4444444444444444,
                            "#bd3786"
                          ],
                          [
                            0.5555555555555556,
                            "#d8576b"
                          ],
                          [
                            0.6666666666666666,
                            "#ed7953"
                          ],
                          [
                            0.7777777777777778,
                            "#fb9f3a"
                          ],
                          [
                            0.8888888888888888,
                            "#fdca26"
                          ],
                          [
                            1,
                            "#f0f921"
                          ]
                        ],
                        "type": "histogram2dcontour"
                      }
                    ],
                    "mesh3d": [
                      {
                        "colorbar": {
                          "outlinewidth": 0,
                          "ticks": ""
                        },
                        "type": "mesh3d"
                      }
                    ],
                    "parcoords": [
                      {
                        "line": {
                          "colorbar": {
                            "outlinewidth": 0,
                            "ticks": ""
                          }
                        },
                        "type": "parcoords"
                      }
                    ],
                    "pie": [
                      {
                        "automargin": true,
                        "type": "pie"
                      }
                    ],
                    "scatter": [
                      {
                        "fillpattern": {
                          "fillmode": "overlay",
                          "size": 10,
                          "solidity": 0.2
                        },
                        "type": "scatter"
                      }
                    ],
                    "scatter3d": [
                      {
                        "line": {
                          "colorbar": {
                            "outlinewidth": 0,
                            "ticks": ""
                          }
                        },
                        "marker": {
                          "colorbar": {
                            "outlinewidth": 0,
                            "ticks": ""
                          }
                        },
                        "type": "scatter3d"
                      }
                    ],
                    "scattercarpet": [
                      {
                        "marker": {
                          "colorbar": {
                            "outlinewidth": 0,
                            "ticks": ""
                          }
                        },
                        "type": "scattercarpet"
                      }
                    ],
                    "scattergeo": [
                      {
                        "marker": {
                          "colorbar": {
                            "outlinewidth": 0,
                            "ticks": ""
                          }
                        },
                        "type": "scattergeo"
                      }
                    ],
                    "scattergl": [
                      {
                        "marker": {
                          "colorbar": {
                            "outlinewidth": 0,
                            "ticks": ""
                          }
                        },
                        "type": "scattergl"
                      }
                    ],
                    "scattermapbox": [
                      {
                        "marker": {
                          "colorbar": {
                            "outlinewidth": 0,
                            "ticks": ""
                          }
                        },
                        "type": "scattermapbox"
                      }
                    ],
                    "scatterpolar": [
                      {
                        "marker": {
                          "colorbar": {
                            "outlinewidth": 0,
                            "ticks": ""
                          }
                        },
                        "type": "scatterpolar"
                      }
                    ],
                    "scatterpolargl": [
                      {
                        "marker": {
                          "colorbar": {
                            "outlinewidth": 0,
                            "ticks": ""
                          }
                        },
                        "type": "scatterpolargl"
                      }
                    ],
                    "scatterternary": [
                      {
                        "marker": {
                          "colorbar": {
                            "outlinewidth": 0,
                            "ticks": ""
                          }
                        },
                        "type": "scatterternary"
                      }
                    ],
                    "surface": [
                      {
                        "colorbar": {
                          "outlinewidth": 0,
                          "ticks": ""
                        },
                        "colorscale": [
                          [
                            0,
                            "#0d0887"
                          ],
                          [
                            0.1111111111111111,
                            "#46039f"
                          ],
                          [
                            0.2222222222222222,
                            "#7201a8"
                          ],
                          [
                            0.3333333333333333,
                            "#9c179e"
                          ],
                          [
                            0.4444444444444444,
                            "#bd3786"
                          ],
                          [
                            0.5555555555555556,
                            "#d8576b"
                          ],
                          [
                            0.6666666666666666,
                            "#ed7953"
                          ],
                          [
                            0.7777777777777778,
                            "#fb9f3a"
                          ],
                          [
                            0.8888888888888888,
                            "#fdca26"
                          ],
                          [
                            1,
                            "#f0f921"
                          ]
                        ],
                        "type": "surface"
                      }
                    ],
                    "table": [
                      {
                        "cells": {
                          "fill": {
                            "color": "#EBF0F8"
                          },
                          "line": {
                            "color": "white"
                          }
                        },
                        "header": {
                          "fill": {
                            "color": "#C8D4E3"
                          },
                          "line": {
                            "color": "white"
                          }
                        },
                        "type": "table"
                      }
                    ]
                  },
                  "layout": {
                    "annotationdefaults": {
                      "arrowcolor": "#2a3f5f",
                      "arrowhead": 0,
                      "arrowwidth": 1
                    },
                    "autotypenumbers": "strict",
                    "coloraxis": {
                      "colorbar": {
                        "outlinewidth": 0,
                        "ticks": ""
                      }
                    },
                    "colorscale": {
                      "diverging": [
                        [
                          0,
                          "#8e0152"
                        ],
                        [
                          0.1,
                          "#c51b7d"
                        ],
                        [
                          0.2,
                          "#de77ae"
                        ],
                        [
                          0.3,
                          "#f1b6da"
                        ],
                        [
                          0.4,
                          "#fde0ef"
                        ],
                        [
                          0.5,
                          "#f7f7f7"
                        ],
                        [
                          0.6,
                          "#e6f5d0"
                        ],
                        [
                          0.7,
                          "#b8e186"
                        ],
                        [
                          0.8,
                          "#7fbc41"
                        ],
                        [
                          0.9,
                          "#4d9221"
                        ],
                        [
                          1,
                          "#276419"
                        ]
                      ],
                      "sequential": [
                        [
                          0,
                          "#0d0887"
                        ],
                        [
                          0.1111111111111111,
                          "#46039f"
                        ],
                        [
                          0.2222222222222222,
                          "#7201a8"
                        ],
                        [
                          0.3333333333333333,
                          "#9c179e"
                        ],
                        [
                          0.4444444444444444,
                          "#bd3786"
                        ],
                        [
                          0.5555555555555556,
                          "#d8576b"
                        ],
                        [
                          0.6666666666666666,
                          "#ed7953"
                        ],
                        [
                          0.7777777777777778,
                          "#fb9f3a"
                        ],
                        [
                          0.8888888888888888,
                          "#fdca26"
                        ],
                        [
                          1,
                          "#f0f921"
                        ]
                      ],
                      "sequentialminus": [
                        [
                          0,
                          "#0d0887"
                        ],
                        [
                          0.1111111111111111,
                          "#46039f"
                        ],
                        [
                          0.2222222222222222,
                          "#7201a8"
                        ],
                        [
                          0.3333333333333333,
                          "#9c179e"
                        ],
                        [
                          0.4444444444444444,
                          "#bd3786"
                        ],
                        [
                          0.5555555555555556,
                          "#d8576b"
                        ],
                        [
                          0.6666666666666666,
                          "#ed7953"
                        ],
                        [
                          0.7777777777777778,
                          "#fb9f3a"
                        ],
                        [
                          0.8888888888888888,
                          "#fdca26"
                        ],
                        [
                          1,
                          "#f0f921"
                        ]
                      ]
                    },
                    "colorway": [
                      "#636efa",
                      "#EF553B",
                      "#00cc96",
                      "#ab63fa",
                      "#FFA15A",
                      "#19d3f3",
                      "#FF6692",
                      "#B6E880",
                      "#FF97FF",
                      "#FECB52"
                    ],
                    "font": {
                      "color": "#2a3f5f"
                    },
                    "geo": {
                      "bgcolor": "white",
                      "lakecolor": "white",
                      "landcolor": "#E5ECF6",
                      "showlakes": true,
                      "showland": true,
                      "subunitcolor": "white"
                    },
                    "hoverlabel": {
                      "align": "left"
                    },
                    "hovermode": "closest",
                    "mapbox": {
                      "style": "light"
                    },
                    "paper_bgcolor": "white",
                    "plot_bgcolor": "#E5ECF6",
                    "polar": {
                      "angularaxis": {
                        "gridcolor": "white",
                        "linecolor": "white",
                        "ticks": ""
                      },
                      "bgcolor": "#E5ECF6",
                      "radialaxis": {
                        "gridcolor": "white",
                        "linecolor": "white",
                        "ticks": ""
                      }
                    },
                    "scene": {
                      "xaxis": {
                        "backgroundcolor": "#E5ECF6",
                        "gridcolor": "white",
                        "gridwidth": 2,
                        "linecolor": "white",
                        "showbackground": true,
                        "ticks": "",
                        "zerolinecolor": "white"
                      },
                      "yaxis": {
                        "backgroundcolor": "#E5ECF6",
                        "gridcolor": "white",
                        "gridwidth": 2,
                        "linecolor": "white",
                        "showbackground": true,
                        "ticks": "",
                        "zerolinecolor": "white"
                      },
                      "zaxis": {
                        "backgroundcolor": "#E5ECF6",
                        "gridcolor": "white",
                        "gridwidth": 2,
                        "linecolor": "white",
                        "showbackground": true,
                        "ticks": "",
                        "zerolinecolor": "white"
                      }
                    },
                    "shapedefaults": {
                      "line": {
                        "color": "#2a3f5f"
                      }
                    },
                    "ternary": {
                      "aaxis": {
                        "gridcolor": "white",
                        "linecolor": "white",
                        "ticks": ""
                      },
                      "baxis": {
                        "gridcolor": "white",
                        "linecolor": "white",
                        "ticks": ""
                      },
                      "bgcolor": "#E5ECF6",
                      "caxis": {
                        "gridcolor": "white",
                        "linecolor": "white",
                        "ticks": ""
                      }
                    },
                    "title": {
                      "x": 0.05
                    },
                    "xaxis": {
                      "automargin": true,
                      "gridcolor": "white",
                      "linecolor": "white",
                      "ticks": "",
                      "title": {
                        "standoff": 15
                      },
                      "zerolinecolor": "white",
                      "zerolinewidth": 2
                    },
                    "yaxis": {
                      "automargin": true,
                      "gridcolor": "white",
                      "linecolor": "white",
                      "ticks": "",
                      "title": {
                        "standoff": 15
                      },
                      "zerolinecolor": "white",
                      "zerolinewidth": 2
                    }
                  }
                },
                "xaxis": {
                  "range": [
                    0,
                    5.5503597122302155
                  ],
                  "title": {
                    "text": "Tiempo"
                  }
                },
                "yaxis": {
                  "range": [
                    null,
                    null
                  ],
                  "title": {
                    "text": "Aceleración de la cadera"
                  }
                }
              }
            }
          },
          "metadata": {},
          "output_type": "display_data"
        },
        {
          "data": {
            "application/vnd.plotly.v1+json": {
              "config": {
                "plotlyServerURL": "https://plot.ly"
              },
              "data": [
                {
                  "line": {
                    "color": "blue"
                  },
                  "mode": "lines",
                  "name": "Altura de la cadera",
                  "type": "scatter",
                  "x": [
                    0,
                    1,
                    2,
                    3,
                    4,
                    5,
                    6,
                    7,
                    8,
                    9,
                    10,
                    11,
                    12,
                    13,
                    14,
                    15,
                    16,
                    17,
                    18,
                    19,
                    20,
                    21,
                    22,
                    23,
                    24,
                    25,
                    26,
                    27,
                    28,
                    29,
                    30,
                    31,
                    32,
                    33,
                    34,
                    35,
                    36,
                    37,
                    38,
                    39,
                    40,
                    41,
                    42,
                    43,
                    44,
                    45,
                    46,
                    47,
                    48,
                    49,
                    50,
                    51,
                    52,
                    53,
                    54,
                    55,
                    56,
                    57,
                    58,
                    59,
                    60,
                    61,
                    62,
                    63,
                    64,
                    65,
                    66,
                    67,
                    68,
                    69,
                    70,
                    71,
                    72,
                    73,
                    74,
                    75,
                    76,
                    77,
                    78,
                    79,
                    80,
                    81,
                    82,
                    83,
                    84,
                    85,
                    86,
                    87,
                    88,
                    89,
                    90,
                    91,
                    92,
                    93,
                    94,
                    95,
                    96,
                    97,
                    98,
                    99,
                    100,
                    101,
                    102,
                    103,
                    104,
                    105,
                    106,
                    107,
                    108,
                    109,
                    110,
                    111,
                    112,
                    113,
                    114,
                    115,
                    116,
                    117,
                    118,
                    119,
                    120,
                    121,
                    122,
                    123,
                    124,
                    125,
                    126,
                    127,
                    128,
                    129,
                    130,
                    131,
                    132,
                    133,
                    134,
                    135,
                    136,
                    137,
                    138,
                    139,
                    140,
                    141,
                    142,
                    143,
                    144,
                    145,
                    146,
                    147,
                    148,
                    149,
                    150,
                    151,
                    152,
                    153,
                    154,
                    155,
                    156,
                    157,
                    158,
                    159,
                    160,
                    161,
                    162,
                    163,
                    164,
                    165,
                    166,
                    167,
                    168,
                    169,
                    170,
                    171,
                    172,
                    173,
                    174,
                    175,
                    176,
                    177,
                    178,
                    179,
                    180,
                    181,
                    182,
                    183,
                    184,
                    185,
                    186,
                    187,
                    188,
                    189,
                    190,
                    191,
                    192,
                    193,
                    194,
                    195,
                    196,
                    197,
                    198,
                    199,
                    200,
                    201,
                    202,
                    203,
                    204,
                    205,
                    206,
                    207,
                    208,
                    209,
                    210,
                    211,
                    212,
                    213,
                    214,
                    215,
                    216,
                    217,
                    218,
                    219,
                    220,
                    221,
                    222,
                    223,
                    224,
                    225,
                    226,
                    227,
                    228,
                    229,
                    230,
                    231,
                    232,
                    233,
                    234,
                    235,
                    236,
                    237,
                    238,
                    239,
                    240,
                    241,
                    242,
                    243,
                    244,
                    245,
                    246,
                    247,
                    248,
                    249,
                    250,
                    251,
                    252,
                    253
                  ],
                  "xaxis": "x",
                  "y": [
                    null,
                    null,
                    null,
                    null,
                    null,
                    null,
                    null,
                    null,
                    null,
                    null,
                    null,
                    null,
                    null,
                    null,
                    null,
                    null,
                    null,
                    null,
                    null,
                    null,
                    null,
                    null,
                    null,
                    null,
                    null,
                    null,
                    null,
                    null,
                    null,
                    null,
                    null,
                    null,
                    null,
                    null,
                    null,
                    null,
                    null,
                    null,
                    null,
                    null,
                    null,
                    null,
                    null,
                    null,
                    null,
                    null,
                    null,
                    null,
                    null,
                    0.6227225351333618,
                    0.6235052382946015,
                    0.624326331615448,
                    0.6251921617984771,
                    0.6260850238800049,
                    0.6269774854183197,
                    0.6279210364818573,
                    0.6289318680763245,
                    0.6300116813182831,
                    0.6311749410629273,
                    0.6323345053195953,
                    0.6334971034526825,
                    0.6346467995643615,
                    0.6358390235900879,
                    0.6370343148708344,
                    0.6382157731056214,
                    0.6394067001342774,
                    0.6406087005138397,
                    0.6418530213832855,
                    0.6431165635585785,
                    0.644394439458847,
                    0.6457046687602996,
                    0.6470437037944794,
                    0.6484301054477691,
                    0.6498387253284454,
                    0.6512862026691437,
                    0.6527061319351196,
                    0.6541357183456421,
                    0.6555979669094085,
                    0.6571099555492401,
                    0.6586762273311615,
                    0.6602608537673951,
                    0.6618234491348267,
                    0.6634114742279053,
                    0.6650053215026855,
                    0.6665841102600097,
                    0.6681867241859436,
                    0.6697619342803955,
                    0.6713582217693329,
                    0.6729428243637084,
                    0.6745166277885437,
                    0.6761223983764648,
                    0.677712504863739,
                    0.6793094933032989,
                    0.6809335660934448,
                    0.6825698804855347,
                    0.6842251944541932,
                    0.6859218978881836,
                    0.6876128721237182,
                    0.6892935943603515,
                    0.690903846025467,
                    0.6924638831615448,
                    0.6939806842803955,
                    0.6954419112205505,
                    0.6968988990783691,
                    0.6983621788024902,
                    0.6998075675964356,
                    0.7011932575702667,
                    0.7025217938423157,
                    0.703775292634964,
                    0.7050343036651612,
                    0.7063658785820007,
                    0.7077387714385986,
                    0.7091044700145721,
                    0.7104735505580902,
                    0.7118400728702545,
                    0.7131696057319641,
                    0.7144812417030334,
                    0.7157594299316407,
                    0.7170100617408752,
                    0.7182634818553925,
                    0.7194853603839875,
                    0.7207062554359436,
                    0.7218591964244843,
                    0.7229620742797852,
                    0.7240622222423554,
                    0.7251759600639344,
                    0.7262574994564056,
                    0.7273449873924256,
                    0.7283904612064361,
                    0.7294403493404389,
                    0.7304553043842316,
                    0.7314921009540558,
                    0.7325150561332703,
                    0.7334947001934051,
                    0.734448766708374,
                    0.7353835463523865,
                    0.7363126397132873,
                    0.7372150444984436,
                    0.7380415523052215,
                    0.7388490545749664,
                    0.7396116292476654,
                    0.7403892683982849,
                    0.7411578643321991,
                    0.7418713021278381,
                    0.7425624811649323,
                    0.743212502002716,
                    0.7438271045684814,
                    0.7444359838962555,
                    0.7450061702728271,
                    0.7455722939968109,
                    0.7461658275127411,
                    0.7467735290527344,
                    0.7473778021335602,
                    0.7479545366764069,
                    0.7485223281383514,
                    0.7490465700626373,
                    0.7495542740821839,
                    0.7500458884239197,
                    0.7505091309547425,
                    0.7509445893764496,
                    0.7512697446346283,
                    0.7514553880691528,
                    0.7515900826454163,
                    0.7517135870456696,
                    0.751765513420105,
                    0.7517868030071259,
                    0.7517086493968964,
                    0.7516138815879821,
                    0.7514798140525818,
                    0.7512343335151672,
                    0.7509739756584167,
                    0.7506726920604706,
                    0.7503644800186158,
                    0.7500107717514038,
                    0.7495889031887054,
                    0.7491293549537659,
                    0.7486076545715332,
                    0.7479786157608033,
                    0.747298378944397,
                    0.7464989161491394,
                    0.7456848573684692,
                    0.7447655951976776,
                    0.7437506663799286,
                    0.7426842164993286,
                    0.7415080857276917,
                    0.7403143966197967,
                    0.7390607690811157,
                    0.7377679777145386,
                    0.7364528429508209,
                    0.7350539624691009,
                    0.7335848903656006,
                    0.732044814825058,
                    0.730444254875183,
                    0.7287687230110168,
                    0.7270266425609588,
                    0.7251930391788483,
                    0.7232780921459198,
                    0.7213319492340088,
                    0.7193434309959411,
                    0.7172970998287201,
                    0.7151491141319275,
                    0.7128891015052795,
                    0.7105912327766418,
                    0.7082446479797363,
                    0.7058585226535797,
                    0.7034141337871551,
                    0.7009115076065063,
                    0.6983963656425476,
                    0.6958377397060395,
                    0.6932786965370178,
                    0.690776115655899,
                    0.6883380389213563,
                    0.6858757245540619,
                    0.6833968138694764,
                    0.6809882199764252,
                    0.6785765981674194,
                    0.676230070590973,
                    0.6738623714447022,
                    0.67152783036232,
                    0.6692664301395417,
                    0.6670212852954864,
                    0.6647951185703278,
                    0.662581969499588,
                    0.6603858470916748,
                    0.6581939291954041,
                    0.6560283279418946,
                    0.65392995595932,
                    0.6518737959861756,
                    0.6498477900028229,
                    0.6478432869911194,
                    0.6458565676212311,
                    0.6439419996738434,
                    0.6421198809146881,
                    0.6403567826747895,
                    0.6387118113040924,
                    0.637078742980957,
                    0.6355046892166137,
                    0.6339575636386872,
                    0.6324729692935943,
                    0.6310725164413452,
                    0.6297371995449066,
                    0.6284306597709656,
                    0.6271630990505218,
                    0.6259859311580658,
                    0.6248891437053681,
                    0.6238904058933258,
                    0.6229693257808685,
                    0.6220837891101837,
                    0.6212392973899842,
                    0.6204512929916381,
                    0.619743732213974,
                    0.619131817817688,
                    0.6185682284832,
                    0.6180589151382446
                  ],
                  "yaxis": "y"
                },
                {
                  "line": {
                    "color": "red"
                  },
                  "mode": "lines",
                  "name": "Posición de la rodilla",
                  "type": "scatter",
                  "x": [
                    0,
                    1,
                    2,
                    3,
                    4,
                    5,
                    6,
                    7,
                    8,
                    9,
                    10,
                    11,
                    12,
                    13,
                    14,
                    15,
                    16,
                    17,
                    18,
                    19,
                    20,
                    21,
                    22,
                    23,
                    24,
                    25,
                    26,
                    27,
                    28,
                    29,
                    30,
                    31,
                    32,
                    33,
                    34,
                    35,
                    36,
                    37,
                    38,
                    39,
                    40,
                    41,
                    42,
                    43,
                    44,
                    45,
                    46,
                    47,
                    48,
                    49,
                    50,
                    51,
                    52,
                    53,
                    54,
                    55,
                    56,
                    57,
                    58,
                    59,
                    60,
                    61,
                    62,
                    63,
                    64,
                    65,
                    66,
                    67,
                    68,
                    69,
                    70,
                    71,
                    72,
                    73,
                    74,
                    75,
                    76,
                    77,
                    78,
                    79,
                    80,
                    81,
                    82,
                    83,
                    84,
                    85,
                    86,
                    87,
                    88,
                    89,
                    90,
                    91,
                    92,
                    93,
                    94,
                    95,
                    96,
                    97,
                    98,
                    99,
                    100,
                    101,
                    102,
                    103,
                    104,
                    105,
                    106,
                    107,
                    108,
                    109,
                    110,
                    111,
                    112,
                    113,
                    114,
                    115,
                    116,
                    117,
                    118,
                    119,
                    120,
                    121,
                    122,
                    123,
                    124,
                    125,
                    126,
                    127,
                    128,
                    129,
                    130,
                    131,
                    132,
                    133,
                    134,
                    135,
                    136,
                    137,
                    138,
                    139,
                    140,
                    141,
                    142,
                    143,
                    144,
                    145,
                    146,
                    147,
                    148,
                    149,
                    150,
                    151,
                    152,
                    153,
                    154,
                    155,
                    156,
                    157,
                    158,
                    159,
                    160,
                    161,
                    162,
                    163,
                    164,
                    165,
                    166,
                    167,
                    168,
                    169,
                    170,
                    171,
                    172,
                    173,
                    174,
                    175,
                    176,
                    177,
                    178,
                    179,
                    180,
                    181,
                    182,
                    183,
                    184,
                    185,
                    186,
                    187,
                    188,
                    189,
                    190,
                    191,
                    192,
                    193,
                    194,
                    195,
                    196,
                    197,
                    198,
                    199,
                    200,
                    201,
                    202,
                    203,
                    204,
                    205,
                    206,
                    207,
                    208,
                    209,
                    210,
                    211,
                    212,
                    213,
                    214,
                    215,
                    216,
                    217,
                    218,
                    219,
                    220,
                    221,
                    222,
                    223,
                    224,
                    225,
                    226,
                    227,
                    228,
                    229,
                    230,
                    231,
                    232,
                    233,
                    234,
                    235,
                    236,
                    237,
                    238,
                    239,
                    240,
                    241,
                    242,
                    243,
                    244,
                    245,
                    246,
                    247,
                    248,
                    249,
                    250,
                    251,
                    252,
                    253
                  ],
                  "xaxis": "x",
                  "y": [
                    null,
                    null,
                    null,
                    null,
                    null,
                    null,
                    null,
                    null,
                    null,
                    null,
                    null,
                    null,
                    null,
                    null,
                    null,
                    null,
                    null,
                    null,
                    null,
                    null,
                    null,
                    null,
                    null,
                    null,
                    null,
                    null,
                    null,
                    null,
                    null,
                    null,
                    null,
                    null,
                    null,
                    null,
                    null,
                    null,
                    null,
                    null,
                    null,
                    null,
                    null,
                    null,
                    null,
                    null,
                    null,
                    null,
                    null,
                    null,
                    null,
                    0.7345612168312072,
                    0.734711993932724,
                    0.7348768472671509,
                    0.7350316035747528,
                    0.7351821744441986,
                    0.7353682494163514,
                    0.7355718886852265,
                    0.7358676719665528,
                    0.736165338754654,
                    0.7364574873447418,
                    0.7367335820198059,
                    0.7370247018337249,
                    0.7372959232330323,
                    0.7376994323730469,
                    0.7380377233028412,
                    0.7383455169200898,
                    0.738645042181015,
                    0.7389198887348175,
                    0.7392057299613952,
                    0.7394463288784027,
                    0.739686119556427,
                    0.7399090671539307,
                    0.7401177120208741,
                    0.7403536856174469,
                    0.7405959260463715,
                    0.7408496797084808,
                    0.7412002336978912,
                    0.7415310859680175,
                    0.7418102931976318,
                    0.742118375301361,
                    0.7425589716434479,
                    0.7429119050502777,
                    0.743231371641159,
                    0.7435458087921143,
                    0.7439367139339447,
                    0.7443277096748352,
                    0.744616585969925,
                    0.7449286389350891,
                    0.7452281844615937,
                    0.7455735504627228,
                    0.7459063673019409,
                    0.7462321722507477,
                    0.7465587997436524,
                    0.7468814420700073,
                    0.7471935904026031,
                    0.7475338113307953,
                    0.7479053783416748,
                    0.7482968723773956,
                    0.7486876618862152,
                    0.7490762209892273,
                    0.7493864715099334,
                    0.749664865732193,
                    0.7498690998554229,
                    0.7499779307842255,
                    0.7500998079776764,
                    0.7502305114269257,
                    0.7503582906723022,
                    0.7503965282440186,
                    0.7504446744918823,
                    0.7504925966262818,
                    0.7505418574810028,
                    0.7506326806545257,
                    0.7507506382465362,
                    0.7507326626777648,
                    0.7507336616516114,
                    0.7507810354232788,
                    0.7508281314373016,
                    0.7508676719665527,
                    0.7508872747421265,
                    0.75094198346138,
                    0.7509798049926758,
                    0.7510106694698334,
                    0.7510640728473663,
                    0.7510902774333954,
                    0.7511111283302307,
                    0.7511206448078156,
                    0.7510422492027282,
                    0.7510197031497955,
                    0.7510597383975983,
                    0.7510918176174164,
                    0.7510885441303253,
                    0.7511434626579284,
                    0.7512094807624817,
                    0.7513418376445771,
                    0.7513959288597107,
                    0.7514481008052826,
                    0.7517634761333466,
                    0.7520046997070312,
                    0.7522979688644409,
                    0.7524412858486176,
                    0.7525882399082184,
                    0.7528326821327209,
                    0.753022962808609,
                    0.7531463778018952,
                    0.753244218826294,
                    0.7533388292789459,
                    0.7534141981601715,
                    0.7534833633899689,
                    0.7535453963279725,
                    0.7537135815620423,
                    0.7539331924915313,
                    0.7540851056575775,
                    0.7542467153072357,
                    0.7544796800613404,
                    0.7547049617767334,
                    0.7549208235740662,
                    0.7551299941539764,
                    0.755338042974472,
                    0.7555435216426849,
                    0.7557512831687927,
                    0.7559418189525604,
                    0.7560771870613098,
                    0.7561462152004242,
                    0.7562253069877625,
                    0.7563050878047943,
                    0.7563701748847962,
                    0.7564339745044708,
                    0.756554092168808,
                    0.7566864824295044,
                    0.7567772686481475,
                    0.7568617975711822,
                    0.7569868278503418,
                    0.7571353554725647,
                    0.7572957968711853,
                    0.757455608844757,
                    0.7576197719573975,
                    0.7577818191051483,
                    0.7579238605499268,
                    0.7580593752861023,
                    0.7581028342247009,
                    0.7580683600902557,
                    0.758050549030304,
                    0.7580077302455902,
                    0.7578914070129394,
                    0.7577690768241883,
                    0.7576225340366364,
                    0.7573329818248749,
                    0.7570472943782807,
                    0.756655638217926,
                    0.75630202293396,
                    0.7559411239624023,
                    0.755449925661087,
                    0.7549263870716095,
                    0.7544897282123566,
                    0.7540203237533569,
                    0.7534951412677765,
                    0.7528338742256164,
                    0.7521200120449066,
                    0.7514279305934906,
                    0.7505687808990479,
                    0.7497432959079743,
                    0.7490567922592163,
                    0.7484482526779175,
                    0.7478805661201477,
                    0.7473214960098267,
                    0.7467609906196594,
                    0.7461883056163788,
                    0.7455638718605041,
                    0.7449163663387298,
                    0.7442543542385102,
                    0.7436093378067017,
                    0.743004765510559,
                    0.7424686980247498,
                    0.7419324803352356,
                    0.741430104970932,
                    0.7409852695465088,
                    0.7405403089523316,
                    0.7400487208366394,
                    0.7395679569244384,
                    0.7391518712043762,
                    0.7387603461742401,
                    0.738366996049881,
                    0.7379448413848877,
                    0.7375665605068207,
                    0.7371835172176361,
                    0.736790087223053,
                    0.7363890838623047,
                    0.7359590828418732,
                    0.735500602722168,
                    0.7350951778888702,
                    0.7346454071998596,
                    0.7341683602333069,
                    0.7337259709835052,
                    0.7333518707752228,
                    0.7329763090610504,
                    0.7326276981830597,
                    0.7322169840335846,
                    0.7317498052120208,
                    0.7313425004482269,
                    0.7310029089450836,
                    0.7306310248374939,
                    0.730296231508255,
                    0.7300509059429169,
                    0.7297727954387665,
                    0.7295763444900513,
                    0.7294205617904663,
                    0.729434118270874,
                    0.729503127336502,
                    0.7295630002021789,
                    0.7296585607528686,
                    0.729736784696579,
                    0.7298008561134338,
                    0.729848918914795,
                    0.7298901510238648,
                    0.7299325776100158
                  ],
                  "yaxis": "y"
                }
              ],
              "layout": {
                "height": 600,
                "legend": {
                  "x": 0.7,
                  "y": 1.1
                },
                "template": {
                  "data": {
                    "bar": [
                      {
                        "error_x": {
                          "color": "#2a3f5f"
                        },
                        "error_y": {
                          "color": "#2a3f5f"
                        },
                        "marker": {
                          "line": {
                            "color": "#E5ECF6",
                            "width": 0.5
                          },
                          "pattern": {
                            "fillmode": "overlay",
                            "size": 10,
                            "solidity": 0.2
                          }
                        },
                        "type": "bar"
                      }
                    ],
                    "barpolar": [
                      {
                        "marker": {
                          "line": {
                            "color": "#E5ECF6",
                            "width": 0.5
                          },
                          "pattern": {
                            "fillmode": "overlay",
                            "size": 10,
                            "solidity": 0.2
                          }
                        },
                        "type": "barpolar"
                      }
                    ],
                    "carpet": [
                      {
                        "aaxis": {
                          "endlinecolor": "#2a3f5f",
                          "gridcolor": "white",
                          "linecolor": "white",
                          "minorgridcolor": "white",
                          "startlinecolor": "#2a3f5f"
                        },
                        "baxis": {
                          "endlinecolor": "#2a3f5f",
                          "gridcolor": "white",
                          "linecolor": "white",
                          "minorgridcolor": "white",
                          "startlinecolor": "#2a3f5f"
                        },
                        "type": "carpet"
                      }
                    ],
                    "choropleth": [
                      {
                        "colorbar": {
                          "outlinewidth": 0,
                          "ticks": ""
                        },
                        "type": "choropleth"
                      }
                    ],
                    "contour": [
                      {
                        "colorbar": {
                          "outlinewidth": 0,
                          "ticks": ""
                        },
                        "colorscale": [
                          [
                            0,
                            "#0d0887"
                          ],
                          [
                            0.1111111111111111,
                            "#46039f"
                          ],
                          [
                            0.2222222222222222,
                            "#7201a8"
                          ],
                          [
                            0.3333333333333333,
                            "#9c179e"
                          ],
                          [
                            0.4444444444444444,
                            "#bd3786"
                          ],
                          [
                            0.5555555555555556,
                            "#d8576b"
                          ],
                          [
                            0.6666666666666666,
                            "#ed7953"
                          ],
                          [
                            0.7777777777777778,
                            "#fb9f3a"
                          ],
                          [
                            0.8888888888888888,
                            "#fdca26"
                          ],
                          [
                            1,
                            "#f0f921"
                          ]
                        ],
                        "type": "contour"
                      }
                    ],
                    "contourcarpet": [
                      {
                        "colorbar": {
                          "outlinewidth": 0,
                          "ticks": ""
                        },
                        "type": "contourcarpet"
                      }
                    ],
                    "heatmap": [
                      {
                        "colorbar": {
                          "outlinewidth": 0,
                          "ticks": ""
                        },
                        "colorscale": [
                          [
                            0,
                            "#0d0887"
                          ],
                          [
                            0.1111111111111111,
                            "#46039f"
                          ],
                          [
                            0.2222222222222222,
                            "#7201a8"
                          ],
                          [
                            0.3333333333333333,
                            "#9c179e"
                          ],
                          [
                            0.4444444444444444,
                            "#bd3786"
                          ],
                          [
                            0.5555555555555556,
                            "#d8576b"
                          ],
                          [
                            0.6666666666666666,
                            "#ed7953"
                          ],
                          [
                            0.7777777777777778,
                            "#fb9f3a"
                          ],
                          [
                            0.8888888888888888,
                            "#fdca26"
                          ],
                          [
                            1,
                            "#f0f921"
                          ]
                        ],
                        "type": "heatmap"
                      }
                    ],
                    "heatmapgl": [
                      {
                        "colorbar": {
                          "outlinewidth": 0,
                          "ticks": ""
                        },
                        "colorscale": [
                          [
                            0,
                            "#0d0887"
                          ],
                          [
                            0.1111111111111111,
                            "#46039f"
                          ],
                          [
                            0.2222222222222222,
                            "#7201a8"
                          ],
                          [
                            0.3333333333333333,
                            "#9c179e"
                          ],
                          [
                            0.4444444444444444,
                            "#bd3786"
                          ],
                          [
                            0.5555555555555556,
                            "#d8576b"
                          ],
                          [
                            0.6666666666666666,
                            "#ed7953"
                          ],
                          [
                            0.7777777777777778,
                            "#fb9f3a"
                          ],
                          [
                            0.8888888888888888,
                            "#fdca26"
                          ],
                          [
                            1,
                            "#f0f921"
                          ]
                        ],
                        "type": "heatmapgl"
                      }
                    ],
                    "histogram": [
                      {
                        "marker": {
                          "pattern": {
                            "fillmode": "overlay",
                            "size": 10,
                            "solidity": 0.2
                          }
                        },
                        "type": "histogram"
                      }
                    ],
                    "histogram2d": [
                      {
                        "colorbar": {
                          "outlinewidth": 0,
                          "ticks": ""
                        },
                        "colorscale": [
                          [
                            0,
                            "#0d0887"
                          ],
                          [
                            0.1111111111111111,
                            "#46039f"
                          ],
                          [
                            0.2222222222222222,
                            "#7201a8"
                          ],
                          [
                            0.3333333333333333,
                            "#9c179e"
                          ],
                          [
                            0.4444444444444444,
                            "#bd3786"
                          ],
                          [
                            0.5555555555555556,
                            "#d8576b"
                          ],
                          [
                            0.6666666666666666,
                            "#ed7953"
                          ],
                          [
                            0.7777777777777778,
                            "#fb9f3a"
                          ],
                          [
                            0.8888888888888888,
                            "#fdca26"
                          ],
                          [
                            1,
                            "#f0f921"
                          ]
                        ],
                        "type": "histogram2d"
                      }
                    ],
                    "histogram2dcontour": [
                      {
                        "colorbar": {
                          "outlinewidth": 0,
                          "ticks": ""
                        },
                        "colorscale": [
                          [
                            0,
                            "#0d0887"
                          ],
                          [
                            0.1111111111111111,
                            "#46039f"
                          ],
                          [
                            0.2222222222222222,
                            "#7201a8"
                          ],
                          [
                            0.3333333333333333,
                            "#9c179e"
                          ],
                          [
                            0.4444444444444444,
                            "#bd3786"
                          ],
                          [
                            0.5555555555555556,
                            "#d8576b"
                          ],
                          [
                            0.6666666666666666,
                            "#ed7953"
                          ],
                          [
                            0.7777777777777778,
                            "#fb9f3a"
                          ],
                          [
                            0.8888888888888888,
                            "#fdca26"
                          ],
                          [
                            1,
                            "#f0f921"
                          ]
                        ],
                        "type": "histogram2dcontour"
                      }
                    ],
                    "mesh3d": [
                      {
                        "colorbar": {
                          "outlinewidth": 0,
                          "ticks": ""
                        },
                        "type": "mesh3d"
                      }
                    ],
                    "parcoords": [
                      {
                        "line": {
                          "colorbar": {
                            "outlinewidth": 0,
                            "ticks": ""
                          }
                        },
                        "type": "parcoords"
                      }
                    ],
                    "pie": [
                      {
                        "automargin": true,
                        "type": "pie"
                      }
                    ],
                    "scatter": [
                      {
                        "fillpattern": {
                          "fillmode": "overlay",
                          "size": 10,
                          "solidity": 0.2
                        },
                        "type": "scatter"
                      }
                    ],
                    "scatter3d": [
                      {
                        "line": {
                          "colorbar": {
                            "outlinewidth": 0,
                            "ticks": ""
                          }
                        },
                        "marker": {
                          "colorbar": {
                            "outlinewidth": 0,
                            "ticks": ""
                          }
                        },
                        "type": "scatter3d"
                      }
                    ],
                    "scattercarpet": [
                      {
                        "marker": {
                          "colorbar": {
                            "outlinewidth": 0,
                            "ticks": ""
                          }
                        },
                        "type": "scattercarpet"
                      }
                    ],
                    "scattergeo": [
                      {
                        "marker": {
                          "colorbar": {
                            "outlinewidth": 0,
                            "ticks": ""
                          }
                        },
                        "type": "scattergeo"
                      }
                    ],
                    "scattergl": [
                      {
                        "marker": {
                          "colorbar": {
                            "outlinewidth": 0,
                            "ticks": ""
                          }
                        },
                        "type": "scattergl"
                      }
                    ],
                    "scattermapbox": [
                      {
                        "marker": {
                          "colorbar": {
                            "outlinewidth": 0,
                            "ticks": ""
                          }
                        },
                        "type": "scattermapbox"
                      }
                    ],
                    "scatterpolar": [
                      {
                        "marker": {
                          "colorbar": {
                            "outlinewidth": 0,
                            "ticks": ""
                          }
                        },
                        "type": "scatterpolar"
                      }
                    ],
                    "scatterpolargl": [
                      {
                        "marker": {
                          "colorbar": {
                            "outlinewidth": 0,
                            "ticks": ""
                          }
                        },
                        "type": "scatterpolargl"
                      }
                    ],
                    "scatterternary": [
                      {
                        "marker": {
                          "colorbar": {
                            "outlinewidth": 0,
                            "ticks": ""
                          }
                        },
                        "type": "scatterternary"
                      }
                    ],
                    "surface": [
                      {
                        "colorbar": {
                          "outlinewidth": 0,
                          "ticks": ""
                        },
                        "colorscale": [
                          [
                            0,
                            "#0d0887"
                          ],
                          [
                            0.1111111111111111,
                            "#46039f"
                          ],
                          [
                            0.2222222222222222,
                            "#7201a8"
                          ],
                          [
                            0.3333333333333333,
                            "#9c179e"
                          ],
                          [
                            0.4444444444444444,
                            "#bd3786"
                          ],
                          [
                            0.5555555555555556,
                            "#d8576b"
                          ],
                          [
                            0.6666666666666666,
                            "#ed7953"
                          ],
                          [
                            0.7777777777777778,
                            "#fb9f3a"
                          ],
                          [
                            0.8888888888888888,
                            "#fdca26"
                          ],
                          [
                            1,
                            "#f0f921"
                          ]
                        ],
                        "type": "surface"
                      }
                    ],
                    "table": [
                      {
                        "cells": {
                          "fill": {
                            "color": "#EBF0F8"
                          },
                          "line": {
                            "color": "white"
                          }
                        },
                        "header": {
                          "fill": {
                            "color": "#C8D4E3"
                          },
                          "line": {
                            "color": "white"
                          }
                        },
                        "type": "table"
                      }
                    ]
                  },
                  "layout": {
                    "annotationdefaults": {
                      "arrowcolor": "#2a3f5f",
                      "arrowhead": 0,
                      "arrowwidth": 1
                    },
                    "autotypenumbers": "strict",
                    "coloraxis": {
                      "colorbar": {
                        "outlinewidth": 0,
                        "ticks": ""
                      }
                    },
                    "colorscale": {
                      "diverging": [
                        [
                          0,
                          "#8e0152"
                        ],
                        [
                          0.1,
                          "#c51b7d"
                        ],
                        [
                          0.2,
                          "#de77ae"
                        ],
                        [
                          0.3,
                          "#f1b6da"
                        ],
                        [
                          0.4,
                          "#fde0ef"
                        ],
                        [
                          0.5,
                          "#f7f7f7"
                        ],
                        [
                          0.6,
                          "#e6f5d0"
                        ],
                        [
                          0.7,
                          "#b8e186"
                        ],
                        [
                          0.8,
                          "#7fbc41"
                        ],
                        [
                          0.9,
                          "#4d9221"
                        ],
                        [
                          1,
                          "#276419"
                        ]
                      ],
                      "sequential": [
                        [
                          0,
                          "#0d0887"
                        ],
                        [
                          0.1111111111111111,
                          "#46039f"
                        ],
                        [
                          0.2222222222222222,
                          "#7201a8"
                        ],
                        [
                          0.3333333333333333,
                          "#9c179e"
                        ],
                        [
                          0.4444444444444444,
                          "#bd3786"
                        ],
                        [
                          0.5555555555555556,
                          "#d8576b"
                        ],
                        [
                          0.6666666666666666,
                          "#ed7953"
                        ],
                        [
                          0.7777777777777778,
                          "#fb9f3a"
                        ],
                        [
                          0.8888888888888888,
                          "#fdca26"
                        ],
                        [
                          1,
                          "#f0f921"
                        ]
                      ],
                      "sequentialminus": [
                        [
                          0,
                          "#0d0887"
                        ],
                        [
                          0.1111111111111111,
                          "#46039f"
                        ],
                        [
                          0.2222222222222222,
                          "#7201a8"
                        ],
                        [
                          0.3333333333333333,
                          "#9c179e"
                        ],
                        [
                          0.4444444444444444,
                          "#bd3786"
                        ],
                        [
                          0.5555555555555556,
                          "#d8576b"
                        ],
                        [
                          0.6666666666666666,
                          "#ed7953"
                        ],
                        [
                          0.7777777777777778,
                          "#fb9f3a"
                        ],
                        [
                          0.8888888888888888,
                          "#fdca26"
                        ],
                        [
                          1,
                          "#f0f921"
                        ]
                      ]
                    },
                    "colorway": [
                      "#636efa",
                      "#EF553B",
                      "#00cc96",
                      "#ab63fa",
                      "#FFA15A",
                      "#19d3f3",
                      "#FF6692",
                      "#B6E880",
                      "#FF97FF",
                      "#FECB52"
                    ],
                    "font": {
                      "color": "#2a3f5f"
                    },
                    "geo": {
                      "bgcolor": "white",
                      "lakecolor": "white",
                      "landcolor": "#E5ECF6",
                      "showlakes": true,
                      "showland": true,
                      "subunitcolor": "white"
                    },
                    "hoverlabel": {
                      "align": "left"
                    },
                    "hovermode": "closest",
                    "mapbox": {
                      "style": "light"
                    },
                    "paper_bgcolor": "white",
                    "plot_bgcolor": "#E5ECF6",
                    "polar": {
                      "angularaxis": {
                        "gridcolor": "white",
                        "linecolor": "white",
                        "ticks": ""
                      },
                      "bgcolor": "#E5ECF6",
                      "radialaxis": {
                        "gridcolor": "white",
                        "linecolor": "white",
                        "ticks": ""
                      }
                    },
                    "scene": {
                      "xaxis": {
                        "backgroundcolor": "#E5ECF6",
                        "gridcolor": "white",
                        "gridwidth": 2,
                        "linecolor": "white",
                        "showbackground": true,
                        "ticks": "",
                        "zerolinecolor": "white"
                      },
                      "yaxis": {
                        "backgroundcolor": "#E5ECF6",
                        "gridcolor": "white",
                        "gridwidth": 2,
                        "linecolor": "white",
                        "showbackground": true,
                        "ticks": "",
                        "zerolinecolor": "white"
                      },
                      "zaxis": {
                        "backgroundcolor": "#E5ECF6",
                        "gridcolor": "white",
                        "gridwidth": 2,
                        "linecolor": "white",
                        "showbackground": true,
                        "ticks": "",
                        "zerolinecolor": "white"
                      }
                    },
                    "shapedefaults": {
                      "line": {
                        "color": "#2a3f5f"
                      }
                    },
                    "ternary": {
                      "aaxis": {
                        "gridcolor": "white",
                        "linecolor": "white",
                        "ticks": ""
                      },
                      "baxis": {
                        "gridcolor": "white",
                        "linecolor": "white",
                        "ticks": ""
                      },
                      "bgcolor": "#E5ECF6",
                      "caxis": {
                        "gridcolor": "white",
                        "linecolor": "white",
                        "ticks": ""
                      }
                    },
                    "title": {
                      "x": 0.05
                    },
                    "xaxis": {
                      "automargin": true,
                      "gridcolor": "white",
                      "linecolor": "white",
                      "ticks": "",
                      "title": {
                        "standoff": 15
                      },
                      "zerolinecolor": "white",
                      "zerolinewidth": 2
                    },
                    "yaxis": {
                      "automargin": true,
                      "gridcolor": "white",
                      "linecolor": "white",
                      "ticks": "",
                      "title": {
                        "standoff": 15
                      },
                      "zerolinecolor": "white",
                      "zerolinewidth": 2
                    }
                  }
                },
                "title": {
                  "text": "Evolución de la posición de la cadera y la rodilla con respecto al tiempo"
                },
                "width": 800,
                "xaxis": {
                  "anchor": "y",
                  "domain": [
                    0,
                    1
                  ],
                  "range": [
                    0,
                    300
                  ],
                  "title": {
                    "text": "Tiempo"
                  }
                },
                "yaxis": {
                  "anchor": "x",
                  "autorange": "reversed",
                  "domain": [
                    0,
                    1
                  ],
                  "title": {
                    "text": "Posición"
                  }
                },
                "yaxis2": {
                  "autorange": "reversed",
                  "title": {
                    "text": "Posición"
                  }
                }
              }
            }
          },
          "metadata": {},
          "output_type": "display_data"
        }
      ],
      "source": [
        "#-------------------VERSION CON PLOTLY---------------------------\n",
        "\n",
        "window_size = 50\n",
        "left_hip_y_smoothed = df_completo['LEFT_HIP_Y'].rolling(window=window_size).mean()\n",
        "left_knee_y_smoothed = df_completo['LEFT_KNEE_Y'].rolling(window=window_size).mean()\n",
        "\n",
        "#------------POSICIONES DE CADERA Y RODILLA----------------------\n",
        "trace1 = go.Scatter(x=df_completo.index, y=left_hip_y_smoothed, mode='lines', name='Altura de la cadera', line=dict(color='blue'))\n",
        "trace2 = go.Scatter(x=df_completo.index, y=left_knee_y_smoothed, mode='lines', name='Posición de la rodilla', line=dict(color='red'))\n",
        "\n",
        "fig_posiciones = make_subplots(rows=1, cols=1, shared_xaxes=True, vertical_spacing=0.1)\n",
        "fig_posiciones.add_trace(trace1, row=1, col=1)\n",
        "fig_posiciones.add_trace(trace2, row=1, col=1)\n",
        "#Por ahora hardcodeo el rango del eje X, deberia ir fig_posiciones.update_xaxes(range=[0, df_completo.index]) o algo asi pero se ve igual\n",
        "fig_posiciones.update_xaxes(range=[0, 300])\n",
        "\n",
        "fig_posiciones.update_layout(\n",
        "    title='Evolución de la posición de la cadera y la rodilla con respecto al tiempo',\n",
        "    xaxis=dict(title='Tiempo'),\n",
        "    yaxis=dict(title='Posición', autorange='reversed'),  # Invertir eje Y\n",
        "    yaxis2=dict(title='Posición', autorange='reversed'),  # Invertir eje Y\n",
        "    legend=dict(x=0.7, y=1.1),\n",
        "    height=600,\n",
        "    width=800\n",
        ")\n",
        "\n",
        "#-------------VELOCIDAD Y ACELERACION-------------------\n",
        "velocidad_smoothed = df_completo['Velocidad(Cadera)_Y'].rolling(window=window_size).mean()\n",
        "aceleracion_smoothed = df_completo['Aceleracion(Cadera)_Y'].rolling(window=window_size).mean()\n",
        "\n",
        "# Crear figura para la velocidad de la cadera\n",
        "fig_velocidad = go.Figure(data=go.Scatter(x=df_completo['Tiempo'], y=velocidad_smoothed, mode='lines', name='Velocidad de la cadera'))\n",
        "fig_velocidad.update_xaxes(title_text='Tiempo')\n",
        "fig_velocidad.update_yaxes(title_text='Velocidad de la cadera')\n",
        "\n",
        "# Crear figura para la aceleración de la cadera\n",
        "fig_aceleracion = go.Figure(data=go.Scatter(x=df_completo['Tiempo'], y=aceleracion_smoothed, mode='lines', name='Aceleración de la cadera'))\n",
        "fig_aceleracion.update_xaxes(title_text='Tiempo')\n",
        "fig_aceleracion.update_yaxes(title_text='Aceleración de la cadera')\n",
        "\n",
        "# Ajustar el rango en el eje X para ampliar la vista\n",
        "fig_velocidad.update_xaxes(range=[min(df_completo['Tiempo']), max(df_completo['Tiempo'])+1])\n",
        "fig_aceleracion.update_xaxes(range=[min(df_completo['Tiempo']), max(df_completo['Tiempo'])+1])\n",
        "\n",
        "# Ajustar el rango en los ejes Y para ampliar la vista\n",
        "fig_velocidad.update_yaxes(range=[min(velocidad_smoothed), max(velocidad_smoothed)])\n",
        "fig_aceleracion.update_yaxes(range=[min(aceleracion_smoothed), max(aceleracion_smoothed)])\n",
        "\n",
        "# Mostrar las figuras\n",
        "fig_velocidad.show()\n",
        "fig_aceleracion.show()\n",
        "fig_posiciones.show()\n"
      ]
    },
    {
      "cell_type": "code",
      "execution_count": null,
      "metadata": {
        "colab": {
          "base_uri": "https://localhost:8080/"
        },
        "id": "OFoN9SHL-l8O",
        "outputId": "95785ef3-d7cc-4a2b-8479-53d36b5cccd0"
      },
      "outputs": [
        {
          "data": {
            "text/plain": [
              "0.1796517130576536"
            ]
          },
          "execution_count": 26,
          "metadata": {},
          "output_type": "execute_result"
        }
      ],
      "source": [
        "coordenadas_a_distancia((0.57, 0.322), (0.66, 0.293))"
      ]
    }
  ],
  "metadata": {
    "colab": {
      "provenance": []
    },
    "kernelspec": {
      "display_name": "Python 3",
      "name": "python3"
    },
    "language_info": {
      "codemirror_mode": {
        "name": "ipython",
        "version": 3
      },
      "file_extension": ".py",
      "mimetype": "text/x-python",
      "name": "python",
      "nbconvert_exporter": "python",
      "pygments_lexer": "ipython3",
      "version": "3.11.7"
    }
  },
  "nbformat": 4,
  "nbformat_minor": 0
}
