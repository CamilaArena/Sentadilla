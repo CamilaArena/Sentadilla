{
  "cells": [
    {
      "cell_type": "code",
      "execution_count": null,
      "metadata": {
        "id": "KVMPhypc9WG0"
      },
      "outputs": [],
      "source": [
        "%pip install mediapipe\n",
        "%pip install opencv-python"
      ]
    },
    {
      "cell_type": "code",
      "execution_count": 2,
      "metadata": {
        "id": "ZsNaOuEZ_55x"
      },
      "outputs": [],
      "source": [
        "import cv2\n",
        "import pandas as pd\n",
        "import mediapipe as mp\n",
        "import numpy as np\n",
        "import pandas as pd\n",
        "import matplotlib.pyplot as plt\n",
        "from plotly.subplots import make_subplots\n",
        "import plotly.express as px\n",
        "import plotly.graph_objects as go\n",
        "from scipy.signal import savgol_filter\n",
        "from scipy.interpolate import interp1d\n",
        "import math"
      ]
    },
    {
      "cell_type": "markdown",
      "metadata": {
        "id": "nDZniePjb73C"
      },
      "source": [
        "# Rutas\n",
        "Definición de las rutas de input y output"
      ]
    },
    {
      "cell_type": "code",
      "execution_count": 17,
      "metadata": {
        "id": "JCz2CKTYcAFg"
      },
      "outputs": [],
      "source": [
        "video_paths = [\n",
        "    '/Users/camia/Desktop/proyecto/lat_tincho.mov',\n",
        "    '/Users/camia/Desktop/proyecto/sentadilla_lateral.mp4',\n",
        "    #'/Users/camia/Desktop/proyecto/test.mp4',\n",
        "]\n",
        "output_csv_paths = [\n",
        "    '/Users/camia/Desktop/proyecto/pose_data.csv',\n",
        "    '/Users/camia/Desktop/proyecto/pose_data2.csv'\n",
        "    #'/Users/camia/Desktop/proyecto/pose_data3.csv'\n",
        "]\n",
        "output_video_paths = [\n",
        "    '/Users/camia/Desktop/proyecto/tracked_video.mp4',\n",
        "    '/Users/camia/Desktop/proyecto/tracked_video2.mp4'\n",
        "    #'/Users/camia/Desktop/proyecto/tracked_video3.mp4'\n",
        "]"
      ]
    },
    {
      "cell_type": "markdown",
      "metadata": {
        "id": "Id245ec7bv0b"
      },
      "source": [
        "# Input usuario"
      ]
    },
    {
      "cell_type": "code",
      "execution_count": 4,
      "metadata": {
        "id": "hy06JpEJbxUL"
      },
      "outputs": [],
      "source": [
        "peso_persona = 65 #kg\n",
        "altura_persona = 176 #cm\n",
        "peso_pesa = 140 #kg"
      ]
    },
    {
      "cell_type": "markdown",
      "metadata": {
        "id": "4aZewwxEBz_O"
      },
      "source": [
        "# Crear columnas del dataframe\n",
        "\n",
        "Procesa el video y almacena los datos de las poses. Define las columnas para un DataFrame donde se guardarán las coordenadas de las articulaciones detectadas en cada cuadro del video."
      ]
    },
    {
      "cell_type": "code",
      "execution_count": 18,
      "metadata": {
        "colab": {
          "base_uri": "https://localhost:8080/"
        },
        "id": "mFNyLuI-B522",
        "outputId": "880eb1a3-380b-406d-fe26-45c4638195fa"
      },
      "outputs": [],
      "source": [
        "mp_drawing = mp.solutions.drawing_utils\n",
        "mp_pose = mp.solutions.pose\n",
        "\n",
        "# Defino cuales son las articulaciones que me interesa estudiar\n",
        "articulaciones = [\n",
        "    mp_pose.PoseLandmark.LEFT_WRIST,\n",
        "    mp_pose.PoseLandmark.RIGHT_WRIST,\n",
        "    mp_pose.PoseLandmark.LEFT_HIP,\n",
        "    mp_pose.PoseLandmark.RIGHT_HIP,\n",
        "    mp_pose.PoseLandmark.LEFT_KNEE,\n",
        "    mp_pose.PoseLandmark.RIGHT_KNEE,\n",
        "    mp_pose.PoseLandmark.LEFT_ANKLE,\n",
        "    mp_pose.PoseLandmark.RIGHT_ANKLE\n",
        "]\n",
        "\n",
        "columns = ['frame_number']\n",
        "\n",
        "for landmark in articulaciones:\n",
        "    columns.append(landmark.name + '_X')\n",
        "    columns.append(landmark.name + '_Y')\n",
        "    columns.append(landmark.name + '_Z')\n",
        "\n",
        "columns.append(\"Tiempo\")\n",
        "columns.append(\"VelocidadAngular\")\n",
        "columns.append(\"Velocidad(Rodilla)_X\")\n",
        "columns.append(\"Velocidad(Rodilla)_Y\")\n",
        "columns.append(\"Velocidad(Cadera)_X\")\n",
        "columns.append(\"Velocidad(Cadera)_Y\")\n",
        "columns.append(\"Aceleracion(Rodilla)_X\")\n",
        "columns.append(\"Aceleracion(Rodilla)_Y\")\n",
        "columns.append(\"Aceleracion(Cadera)_X\")\n",
        "columns.append(\"Aceleracion(Cadera)_Y\")\n",
        "columns.append(\"Torque(Rodilla)\")\n",
        "columns.append(\"Torque(Cadera)\")"
      ]
    },
    {
      "cell_type": "markdown",
      "metadata": {
        "id": "a8mI-HB8E5BK"
      },
      "source": [
        "# Calcular ángulo\n",
        "Esta función toma tres puntos y calcula el ángulo formado por los segmentos de línea que conectan estos puntos."
      ]
    },
    {
      "cell_type": "code",
      "execution_count": 6,
      "metadata": {
        "id": "1raudG1LFygC"
      },
      "outputs": [],
      "source": [
        "def calculate_angle(a, b, c):\n",
        "  #articulaciones convertidas en arreglos para poder usar sus datos en las coordenadas X e Y\n",
        "  art_1 = np.array(a)\n",
        "  art_2 = np.array(b)\n",
        "  art_3 = np.array(c)\n",
        "\n",
        "  radians = np.arctan2(c[1]-b[1], c[0]-b[0]) - np.arctan2(a[1]-b[1], a[0]-b[0])\n",
        "\n",
        "  #El ángulo calculado se convierte de radianes a grados y se toma el valor absoluto --> Grados = Radianes * 180 / π\n",
        "  angle = np.abs(radians*180.0/np.pi)\n",
        "\n",
        "  #Se normaliza el ángulo calculado para asegurarse de que esté en el rango de 0 a 180 grados.\n",
        "  if angle>180.0:\n",
        "    angle = 360-angle\n",
        "\n",
        "  return angle"
      ]
    },
    {
      "cell_type": "markdown",
      "metadata": {
        "id": "bUKj8O5kHJ09"
      },
      "source": [
        "# Extraer posiciones\n",
        "Toma un conjunto de landmarks y una lista de nombres de articulaciones. Luego, itera sobre cada nombre de parte del cuerpo proporcionado y extrae las coordenadas (x, y, z) del landmark correspondiente a esa parte del cuerpo. Estas coordenadas se agrupan en una lista y se devuelve una lista que contiene todas estas listas de coordenadas."
      ]
    },
    {
      "cell_type": "code",
      "execution_count": 7,
      "metadata": {
        "id": "eFtMNHSNHNnE"
      },
      "outputs": [],
      "source": [
        "# formato output:([[x1, y1, z1], [x2, y2, z2], [x3, y3, z3]]).\n",
        "def extraer_posiciones(df, frame_number, *articulaciones):\n",
        "    data = []\n",
        "    # Buscar la fila correspondiente al número de frame\n",
        "    row = df[df['frame_number'] == frame_number]\n",
        "\n",
        "    for articulacion in articulaciones:\n",
        "        x = row[articulacion+ '_X'].iloc[0]\n",
        "        y = row[articulacion+ '_Y'].iloc[0]\n",
        "        z = row[articulacion+ '_Z'].iloc[0]\n",
        "\n",
        "        data.append([x, y, z])\n",
        "    return data"
      ]
    },
    {
      "cell_type": "markdown",
      "metadata": {
        "id": "seofBpbQGctX"
      },
      "source": [
        "# Extraer velocidad\n",
        "\n",
        "Dado un dataframe y un numero de frame, retorna la velocidad instantánea correspondiente a la fila con el numero de frame pasado por parámetro."
      ]
    },
    {
      "cell_type": "code",
      "execution_count": 8,
      "metadata": {
        "id": "_RqfbXCtoXRz"
      },
      "outputs": [],
      "source": [
        "def extraer_velocidad(df, frame_number):\n",
        "    # Buscar la fila correspondiente al número de frame\n",
        "    row = df[df['frame_number'] == frame_number]\n",
        "    return row[\"Velocidad(Cadera)\"].iloc[0]"
      ]
    },
    {
      "cell_type": "markdown",
      "metadata": {
        "id": "oqNhNlPrYKPq"
      },
      "source": [
        "# Convertir coordenadas normalizadas a metros"
      ]
    },
    {
      "cell_type": "code",
      "execution_count": 9,
      "metadata": {
        "id": "LyEQOtuxYTPO"
      },
      "outputs": [],
      "source": [
        "def coordenadas_a_distancia(a, b):\n",
        "    # Calcula la diferencia en coordenadas normalizadas\n",
        "    dx = b[0] - a[0]\n",
        "    dy = b[1] - a[1]\n",
        "\n",
        "    # Relación pixel-distancia en el eje x y en el eje y\n",
        "    # primer coordenada: proporción de x\n",
        "    # segunda coordenada: porporcion de y\n",
        "    #escala_x, escala_y = obtener_escala()\n",
        "    relacion_pixel_distancia = (0.58/0.292, 0.614)\n",
        "    #relacion_pixel_distancia = (escala_x, escala_y)\n",
        "\n",
        "\n",
        "    # Convierte la diferencia en píxeles a distancia real usando la relación pixel-distancia\n",
        "    distancia_x = dx * relacion_pixel_distancia[0]\n",
        "    distancia_y = dy * relacion_pixel_distancia[1]\n",
        "\n",
        "    # Calcula la distancia euclidiana en el mundo real\n",
        "    return (distancia_x**2 + distancia_y**2)**0.5\n"
      ]
    },
    {
      "cell_type": "markdown",
      "metadata": {
        "id": "GHR-CQI4Z_JV"
      },
      "source": [
        "# Velocidad angular\n",
        "Calcula la velocidad angular entre tres puntos a, b y c\n",
        "\n",
        "\n",
        "Retorna la velocidad angular en radianes por segundo.\n",
        "\n",
        "La velocidad angular (ω) es una medida de la rapidez con la que un objeto rota alrededor de un eje específico.\n",
        "\n",
        "Se define como el cambio en el ángulo (θ) que recorre el objeto por unidad de tiempo."
      ]
    },
    {
      "cell_type": "code",
      "execution_count": 10,
      "metadata": {
        "id": "sBWY6u8LaCbm"
      },
      "outputs": [],
      "source": [
        "def velocidad_angular(angulo_inicial, angulo_final, delta_tiempo):\n",
        "    # Calcular el cambio en el ángulo\n",
        "    delta_theta = angulo_final - angulo_inicial\n",
        "\n",
        "    # Calcular la velocidad angular\n",
        "    # Recordar que omega = theta punto = vel angular = Delta theta / Delta t\n",
        "    # Donde Delta theta es el cambio en rotación angular y Delta t es el cambio en el tiempo\n",
        "    # ENTONCES: la velocidad angular se calcula dividiendo la diferencia total del ángulo (delta_theta) por el tiempo transcurrido entre las mediciones (1 / frame_rate).\n",
        "    angular_velocity = delta_theta / delta_tiempo\n",
        "    return angular_velocity"
      ]
    },
    {
      "cell_type": "markdown",
      "metadata": {
        "id": "Z25IwCrZK7tu"
      },
      "source": [
        "# Centro de Masa\n",
        "\n",
        "---\n",
        "\n",
        "\n",
        "Es el punto donde se puede considerar que toda la masa del objeto está distribuida uniformemente.\n",
        "\n",
        "Centro de masa = (sumatoria de las masas * sumatoria de las posiciones)/masa total\n",
        "\n",
        "\n"
      ]
    },
    {
      "cell_type": "code",
      "execution_count": 109,
      "metadata": {
        "id": "TnAOibp6LDJ_"
      },
      "outputs": [],
      "source": [
        "def obtenerCentroDeMasa():\n",
        "   # suponiendo que la persona pesa 65kg y la barra viendo los discos pesa otros 60kg\n",
        "    masaTotal = 125 # en kilos\n",
        "    SumatoriaX = 0\n",
        "    SumatoriaY = 0\n",
        "\n",
        "    while cap.isOpened():\n",
        "        ret, frame = cap.read()\n",
        "\n",
        "        if not ret:\n",
        "            break\n",
        "\n",
        "        for landmark in mp_pose.PoseLandmark:\n",
        "            SumatoriaX += masaTotal*results.pose_landmarks.landmark[landmark].x\n",
        "            SumatoriaY += masaTotal*results.pose_landmarks.landmark[landmark].y\n",
        "\n",
        "    SumatoriaX /= masaTotal\n",
        "    SumatoriaY /= masaTotal\n",
        "\n",
        "    # preguntar si lo que vamos a retornar nos va a dar la posicion de un frame o que nos de una coordenada\n",
        "    # deberia dar coordenada\n",
        "    return (SumatoriaX , SumatoriaY)"
      ]
    },
    {
      "cell_type": "markdown",
      "metadata": {
        "id": "Cvq7b-RgIZFY"
      },
      "source": [
        "# Dibujar diagrama"
      ]
    },
    {
      "cell_type": "code",
      "execution_count": 110,
      "metadata": {
        "id": "8d6B6KSwIcW3"
      },
      "outputs": [],
      "source": [
        "def diagrama_cuerpo(frame_number):\n",
        "  #centro = obtenerCentroDeMasa()\n",
        "  left_wrist, right_wrist, left_ankle =  extraer_posiciones(df_completo, frame_number, 'LEFT_WRIST', 'RIGHT_WRIST', 'LEFT_ANKLE')\n",
        "  print()\n",
        "  centro = ( (left_wrist[0] + right_wrist[0]) / 2 , (left_wrist[1] + left_ankle[1]) / 2 )\n",
        "  cv2.circle(image, (int(centro[0] * video_width) , int(centro[1] * video_height)) , 20, (255,0,255), -1,3)\n",
        "  # Grafico Peso\n",
        "  cv2.arrowedLine(image, (int(centro[0] * video_width) , int(centro[1] * video_height)) , (int(centro[0]* video_width) , int(centro[1]* video_height + video_height/6) ) , (255,0,0), 4)\n",
        "  # Grafico normal\n",
        "  cv2.arrowedLine(image, (int(centro[0] * video_width) , int(centro[1] * video_height)) , (int(centro[0]* video_width) , int(centro[1]* video_height - video_height/6) ) , (255,0,0), 4)\n",
        "  textoPeso =  str(peso_persona + peso_pesa)+\" Peso\"\n",
        "  textoNormal =  str(peso_persona + peso_pesa)+\" Normal\"\n",
        "\n",
        "  cv2.putText(image, textoPeso, (int(centro[0]* video_width) , int(centro[1]* video_height + video_height/6) ), cv2.FONT_HERSHEY_SIMPLEX, 2, (255, 255, 255), 4, cv2.LINE_AA)\n",
        "  cv2.putText(image, textoPeso, (int(centro[0]* video_width) , int(centro[1]* video_height - video_height/6) ), cv2.FONT_HERSHEY_SIMPLEX, 2, (255, 255, 255), 4, cv2.LINE_AA)\n",
        "  #cv2.line(image, int(centro[0]) * video_width , int(centro[0]-20) * video_width , (255,0,0), 4) #peso\n",
        "\n"
      ]
    },
    {
      "cell_type": "markdown",
      "metadata": {
        "id": "_AZtT7fVclH2"
      },
      "source": [
        "# Diagrama de cuerpo libre / Peso, Normal y Fuerza\n"
      ]
    },
    {
      "cell_type": "code",
      "execution_count": 111,
      "metadata": {
        "colab": {
          "base_uri": "https://localhost:8080/",
          "height": 327
        },
        "id": "4l2D0_JAc0cM",
        "outputId": "64ab59e5-1af1-43f9-8b35-74ed9067cb61"
      },
      "outputs": [
        {
          "ename": "UnboundLocalError",
          "evalue": "local variable 'peso_barra' referenced before assignment",
          "output_type": "error",
          "traceback": [
            "\u001b[1;31m---------------------------------------------------------------------------\u001b[0m",
            "\u001b[1;31mUnboundLocalError\u001b[0m                         Traceback (most recent call last)",
            "Cell \u001b[1;32mIn[111], line 79\u001b[0m\n\u001b[0;32m     76\u001b[0m     plt\u001b[38;5;241m.\u001b[39mshow()\n\u001b[0;32m     78\u001b[0m \u001b[38;5;66;03m#Funciones para ejecutar el codigo\u001b[39;00m\n\u001b[1;32m---> 79\u001b[0m \u001b[43mdiagramaDeCuerpo\u001b[49m\u001b[43m(\u001b[49m\u001b[43m)\u001b[49m\n\u001b[0;32m     80\u001b[0m generate_free_body_diagrams()\n",
            "Cell \u001b[1;32mIn[111], line 9\u001b[0m, in \u001b[0;36mdiagramaDeCuerpo\u001b[1;34m()\u001b[0m\n\u001b[0;32m      6\u001b[0m g \u001b[38;5;241m=\u001b[39m \u001b[38;5;241m9.81\u001b[39m\n\u001b[0;32m      7\u001b[0m \u001b[38;5;66;03m# Peso del cuerpo = 637\u001b[39;00m\n\u001b[0;32m      8\u001b[0m \u001b[38;5;66;03m# Peso de la barra / Evaluamos la barra y sus discos como un cuerpo = 1372N\u001b[39;00m\n\u001b[1;32m----> 9\u001b[0m peso_barra \u001b[38;5;241m=\u001b[39m \u001b[43mpeso_barra\u001b[49m \u001b[38;5;241m*\u001b[39m g\n\u001b[0;32m     11\u001b[0m \u001b[38;5;66;03m# Normal de la barra = 1372N\u001b[39;00m\n\u001b[0;32m     12\u001b[0m normal_barra \u001b[38;5;241m=\u001b[39m peso_barra\n",
            "\u001b[1;31mUnboundLocalError\u001b[0m: local variable 'peso_barra' referenced before assignment"
          ]
        }
      ],
      "source": [
        "import matplotlib.pyplot as plt\n",
        "\n",
        "def diagramaDeCuerpo():\n",
        "    # Valores fijos se encuentran declarados al inicio\n",
        "    # Valor de la gravedad / aceleracion m/s2\n",
        "    g = 9.81\n",
        "    # Peso del cuerpo = 637\n",
        "    # Peso de la barra / Evaluamos la barra y sus discos como un cuerpo = 1372N\n",
        "    peso_barra = peso_barra * g\n",
        "\n",
        "    # Normal de la barra = 1372N\n",
        "    normal_barra = peso_barra\n",
        "    # Normal del cuerpo = 2009\n",
        "    normal_cuerpo = normal_barra + peso_persona\n",
        "\n",
        "    # Tomaremos un valor estático para simular la fuerza realizada por la persona para levantar la barra. Se aplica sobre el cuerpo\n",
        "    # Segunda ley de Newton: sumatoria de fuerzas = masa * aceleracion. La fuerza debe ser mayor que 1372N\n",
        "    fuerza_empuje = 1400\n",
        "\n",
        "    if normal_cuerpo > 0:\n",
        "        normal_direccion_cuerpo = \"Upward\"\n",
        "        peso_direccion_cuerpo = \"Upward\"\n",
        "    else:\n",
        "        normal_direccion_cuerpo = \"Downward\"\n",
        "        peso_direccion_cuerpo = \"Downward\"\n",
        "\n",
        "    if normal_barra > 0:\n",
        "        normal_direccion_barra = \"Upward\"\n",
        "        peso_direccion_barra = \"Upward\"\n",
        "    else:\n",
        "        normal_direccion_barra = \"Downward\"\n",
        "        peso_direccion_barra = \"Downward\"\n",
        "\n",
        "    if fuerza_empuje > 0:\n",
        "        fuerza_direccion_cuerpo = \"Upward\"\n",
        "    else:\n",
        "        fuerza_direccion_cuerpo = \"Downward\"\n",
        "\n",
        "    return normal_direccion_cuerpo, peso_direccion_cuerpo, normal_direccion_barra, peso_direccion_barra, fuerza_direccion_cuerpo\n",
        "\n",
        "def generate_free_body_diagrams():\n",
        "    # Figura y ejes\n",
        "    fig, axs = plt.subplots(1, 3, figsize=(15, 5))\n",
        "\n",
        "    # Diagrama de cuerpo libre de la barra\n",
        "    axs[0].arrow(0, 0, 0, -1372, head_width=50, head_length=100, fc='red', ec='red')\n",
        "    axs[0].arrow(0, 0, 0, -637, head_width=50, head_length=100, fc='blue', ec='blue')\n",
        "    axs[0].set_xlim(-2000, 2000)\n",
        "    axs[0].set_ylim(-2000, 2000)\n",
        "    axs[0].set_xlabel('X')\n",
        "    axs[0].set_ylabel('Y')\n",
        "    axs[0].set_title('Diagrama de Cuerpo libre - Barra')\n",
        "\n",
        "    # Diagrama de cuerpo libre para el cuerpo\n",
        "    axs[1].arrow(0, 0, 0, -2009, head_width=50, head_length=100, fc='red', ec='red')\n",
        "    axs[1].arrow(0, 0, 0, -1400, head_width=50, head_length=100, fc='green', ec='green')\n",
        "    axs[1].arrow(0, 0, 0, -637, head_width=50, head_length=100, fc='blue', ec='blue')\n",
        "    axs[1].set_xlim(-2000, 2000)\n",
        "    axs[1].set_ylim(-2000, 2000)\n",
        "    axs[1].set_xlabel('X')\n",
        "    axs[1].set_ylabel('Y')\n",
        "    axs[1].set_title('Diagrama de cuerpo libre - Cuerpo')\n",
        "\n",
        "    # Diagrama de cuerpo libre del cuerpo con la barra encima\n",
        "    axs[2].arrow(0, 0, 0, -2009, head_width=50, head_length=100, fc='red', ec='red')\n",
        "    axs[2].arrow(0, 0, 0, -2772, head_width=50, head_length=100, fc='green', ec='green')\n",
        "    axs[2].arrow(0, 0, 0, -1372, head_width=50, head_length=100, fc='blue', ec='blue')\n",
        "    axs[2].arrow(0, -1372, 0, -637, head_width=50, head_length=100, fc='blue', ec='blue')\n",
        "    axs[2].set_xlim(-2000, 2000)\n",
        "    axs[2].set_ylim(-4000, 0)\n",
        "    axs[2].set_xlabel('X')\n",
        "    axs[2].set_ylabel('Y')\n",
        "    axs[2].set_title('Diagrama de cuerpo libre - Cuerpo con la barra')\n",
        "\n",
        "    plt.tight_layout()\n",
        "    plt.show()\n",
        "\n",
        "#Funciones para ejecutar el codigo\n",
        "diagramaDeCuerpo()\n",
        "generate_free_body_diagrams()"
      ]
    },
    {
      "cell_type": "markdown",
      "metadata": {
        "id": "8V7Xh4zgcIBI"
      },
      "source": [
        "# Vector Velocidad Instantánea\n",
        "\n",
        "La velocidad instantánea es la velocidad de un objeto en un momento específico en el tiempo.\n",
        "\n",
        "Se calcula como v(t) = dx / dt\n",
        "\n"
      ]
    },
    {
      "cell_type": "code",
      "execution_count": 11,
      "metadata": {
        "id": "XLWt9_vI3Bkj"
      },
      "outputs": [],
      "source": [
        "def velocidad_instantanea(pos_anterior, pos_actual, tiempo):\n",
        "  dx = pos_actual[0] - pos_anterior[0]\n",
        "  dy = pos_actual[1] - pos_anterior[1]\n",
        "  return (dx/tiempo, dy/tiempo)"
      ]
    },
    {
      "cell_type": "markdown",
      "metadata": {
        "id": "RjG5v51-OcfU"
      },
      "source": [
        "# Vector Aceleración instantanea\n",
        "\n",
        "La aceleración instantánea es la tasa de cambio instantánea de la velocidad de un objeto en un punto específico de su trayectoria.\n",
        "\n",
        "a(t) = dv / dt\n"
      ]
    },
    {
      "cell_type": "code",
      "execution_count": 12,
      "metadata": {
        "id": "RkzEeU77OeT8"
      },
      "outputs": [],
      "source": [
        "def aceleracion_instantanea(vel_actual_x, vel_anterior_x, vel_actual_y, vel_anterior_y, tiempo):\n",
        "  dvx = vel_actual_x - vel_anterior_x\n",
        "  dvy = vel_actual_y - vel_anterior_y\n",
        "  return (dvx/tiempo, dvy/tiempo)"
      ]
    },
    {
      "cell_type": "markdown",
      "metadata": {
        "id": "h_-0vbswLuAg"
      },
      "source": [
        "# Cálculo de Torque\n",
        "\n",
        "Se analiza los torques de cadera y rodilla durante una sentadilla. Primero, identifica las posiciones de las articulaciones de la cadera, rodilla y tobillo.\n",
        "\n",
        "Luego, calcula las distancias y ángulos entre las articulaciones, y utiliza estas medidas para estimar el torque generado por cada articulación.\n",
        "\n",
        "TORQUE = F x brazo momento\n",
        "\n",
        "Brazo momento = distancia entre articulación y carga (es la distancia desde el punto donde se aplica una fuerza hasta el punto de giro, en este caso el punto de giro es la cadera y la rodilla, y el punto de fuerza se hace desde la muñeca)\n",
        "F = 2/3 de lo que pesa la persona (cabeza y torso) + peso de carga"
      ]
    },
    {
      "cell_type": "code",
      "execution_count": 114,
      "metadata": {
        "id": "9KOLVys_LvtS"
      },
      "outputs": [],
      "source": [
        "def calcular_torques(a, b, c, d):\n",
        "   # left_wrist, left_hip, left_knee, left_ankle = extraer_posiciones(landmarks,frame_number ,'LEFT_WRIST', 'LEFT_HIP', 'LEFT_KNEE', 'LEFT_ANKLE')\n",
        "    e = (a[0], b[1])\n",
        "    r = (a[0], c[1])\n",
        "    #distancia_a_b = coordenadas_a_distancia(a, b)\n",
        "    #distancia_b_c = coordenadas_a_distancia(b, c)\n",
        "    #distancia_c_d = coordenadas_a_distancia(c, d)\n",
        "    # Perpendicular a la fuerza\n",
        "    distancia_b_e = coordenadas_a_distancia(b, e)\n",
        "    distancia_c_r = coordenadas_a_distancia(c, r)\n",
        "\n",
        "\n",
        "    #angulo_a_b_c = calculate_angle(a, b, c)\n",
        "    #angulo_a_b_e = calculate_angle(a, b, e)\n",
        "\n",
        "    # La biomecanica de la rodilla funciona al revez que en el resto del cuerpo.\n",
        "    #angulo_b_c_d = 180 - calculate_angle(b, c, d)\n",
        "    # print(\"angulo de 90:\", calculate_angle(a,e,b))\n",
        "    # print(\"distancia_b_e \", distancia_b_e)\n",
        "    # print(\"(a[0] - b[0]) \", (a[0] - b[0]) * video_width)\n",
        "    # print(\"brazo calculado con angulo\", distancia_a_b * math.cos(calculate_angle(a,b,e)))\n",
        "\n",
        "    start_point_torque_cadera = (int(b[0] * video_width), int(b[1] * video_height))\n",
        "    end_point_torque_cadera = (int(e[0] * video_width), int(e[1] * video_height))\n",
        "    cv2.line(image, start_point_torque_cadera, end_point_torque_cadera,(0,255,0), 3)\n",
        "\n",
        "    start_point_torque_rodilla = (int(c[0] * video_width), int(c[1] * video_height))\n",
        "    end_point_torque_rodilla = (int(r[0] * video_width), int(r[1] * video_height))\n",
        "    cv2.line(image, start_point_torque_rodilla, end_point_torque_rodilla,(0,255,255), 3)\n",
        "    # Torque en N.m\n",
        "    torque_cadera = (peso_persona * 2/3 + peso_pesa) * distancia_b_e\n",
        "    torque_rodilla = (peso_persona * 2/3 + peso_pesa) * distancia_c_r\n",
        "    return [torque_rodilla, torque_cadera]\n",
        "    # Comparar resultados de los torques y mostrar algo en el video"
      ]
    },
    {
      "cell_type": "markdown",
      "metadata": {
        "id": "kXCWwpSCltcX"
      },
      "source": [
        "# Visualizar trackeo articulaciones relevantes"
      ]
    },
    {
      "cell_type": "code",
      "execution_count": 115,
      "metadata": {
        "id": "RXU62R7VlyHB"
      },
      "outputs": [],
      "source": [
        "def dibujar_articulaciones_relevantes(articulacion1,articulacion2,articulacion3,articulacion4):\n",
        "    art1 = np.array(articulacion1);\n",
        "    art2 = np.array(articulacion2);\n",
        "    art3 = np.array(articulacion3);\n",
        "    art4 = np.array(articulacion4);\n",
        "    angle = calculate_angle(articulacion1,articulacion2,articulacion3)\n",
        "    color = (0, 0, 255)\n",
        "    #Dibujo el primer tramo de la pierna\n",
        "    i1 = (int(art1[0] * video_width), int(art1[1] * video_height))\n",
        "    f1 = (int(art2[0] * video_width), int(art2[1] * video_height))\n",
        "    cv2.line(image, i1, f1, color, 5)\n",
        "\n",
        "    #Dibujo el segundo tramo de la pierna\n",
        "    i2 = (int(art2[0] * video_width), int(art2[1] * video_height))\n",
        "    f2 = (int(art3[0] * video_width), int(art3[1] * video_height))\n",
        "    cv2.line(image, i2, f2, color, 5)\n",
        "\n",
        "    i3 = (int(art3[0] * video_width), int(art3[1] * video_height))\n",
        "    f3 = (int(art4[0] * video_width), int(art4[1] * video_height))\n",
        "    cv2.line(image, i3, f3, color, 5)"
      ]
    },
    {
      "cell_type": "markdown",
      "metadata": {
        "id": "OTxz5LYP3j-b"
      },
      "source": [
        "# Visualizar esfuerzo piernas"
      ]
    },
    {
      "cell_type": "code",
      "execution_count": 116,
      "metadata": {
        "id": "9Z6jVeo03pQP"
      },
      "outputs": [],
      "source": [
        "def dibujar_piernas(articulacion1, articulacion2, articulacion3):\n",
        "    art1 = np.array(articulacion1);\n",
        "    art2 = np.array(articulacion2);\n",
        "    art3 = np.array(articulacion3);\n",
        "    #angle = calculate_angle(articulacion1,articulacion2,articulacion3)\n",
        "\n",
        "    torques = calcular_torques(pos_actual_wrist, pos_actual_left_hip, pos_actual_left_knee, pos_actual_left_ankle)\n",
        "    df_completo.loc[df_completo[\"frame_number\"] == frame_number, \"Torque(Rodilla)\"] = torques[0]\n",
        "    df_completo.loc[df_completo[\"frame_number\"] == frame_number, \"Torque(Cadera)\"] = torques[1]\n",
        "    #Dibujo el primer tramo de la pierna\n",
        "    centro_art2 = (int(art2[0] * video_width), int(art2[1] * video_height))\n",
        "    centro_art3 = (int(art3[0] * video_width), int(art3[1] * video_height))\n",
        "    #f1 = (int(art2[0] * video_width), int(art2[1] * video_height))\n",
        "\n",
        "    if(torques[0] >= torques[1] * 3/4):\n",
        "      cv2.circle(image, centro_art2,20, (255,0,0), -1,3)\n",
        "      cv2.circle(image, centro_art3,20, (255,0,0), -1,3)\n",
        "    else:\n",
        "      if(torques[1] * 1/4 < torques[0] < torques[1] * 3/4):\n",
        "        color = (255,255,0)\n",
        "        cv2.circle(image, centro_art2,20, (255,0,0), -1,3)\n",
        "        cv2.circle(image, centro_art3,20, (255,255,0), -1,3)\n",
        "      else:\n",
        "        cv2.circle(image, centro_art2,20, (255,0,0), -1,3)\n",
        "        cv2.circle(image, centro_art3,20, (0,255,0), -1,3)\n",
        "\n",
        "    # Dibujo el segundo tramo de la pierna\n",
        "    # f2 = (int(art3[0] * video_width), int(art3[1] * video_height))\n",
        "    # cv2.circle(image, centro_art3,20, color, 3, 20)"
      ]
    },
    {
      "cell_type": "markdown",
      "metadata": {
        "id": "lcwAXzBxGWiM"
      },
      "source": [
        "# **Código para recorrer frames del video y realizar cálculos**\n",
        "\n",
        "Este bloque de código recorre cada frame del video, procesa la imagen utilizando MediaPipe para detectar landmarks de la pose, y guarda los datos en un DataFrame. Luego, calcula el ángulo entre las articulaciones de la cadera, la rodilla y el tobillo. Después, dibuja los landmarks detectados en el video y guarda el video procesado en el archivo de salida. Finalmente, libera los recursos utilizados y guarda los datos de la pose en un archivo CSV."
      ]
    },
    {
      "cell_type": "code",
      "execution_count": 19,
      "metadata": {
        "id": "z_fLUC5GGiCA"
      },
      "outputs": [
        {
          "name": "stderr",
          "output_type": "stream",
          "text": [
            "C:\\Users\\camia\\AppData\\Local\\Temp\\ipykernel_14664\\3575612892.py:47: FutureWarning:\n",
            "\n",
            "The behavior of DataFrame concatenation with empty or all-NA entries is deprecated. In a future version, this will no longer exclude empty or all-NA columns when determining the result dtypes. To retain the old behavior, exclude the relevant entries before the concat operation.\n",
            "\n"
          ]
        },
        {
          "name": "stdout",
          "output_type": "stream",
          "text": [
            "Proceso completado. Videos trackeados guardados en: /Users/camia/Desktop/proyecto/tracked_video.mp4\n",
            "Datos de la pose guardados en: /Users/camia/Desktop/proyecto/pose_data.csv\n"
          ]
        },
        {
          "name": "stderr",
          "output_type": "stream",
          "text": [
            "C:\\Users\\camia\\AppData\\Local\\Temp\\ipykernel_14664\\3575612892.py:47: FutureWarning:\n",
            "\n",
            "The behavior of DataFrame concatenation with empty or all-NA entries is deprecated. In a future version, this will no longer exclude empty or all-NA columns when determining the result dtypes. To retain the old behavior, exclude the relevant entries before the concat operation.\n",
            "\n"
          ]
        },
        {
          "ename": "OSError",
          "evalue": "Cannot save file into a non-existent directory: '\\Users\\camia\\Desktop\\proyecto\\pose_data2.csv\\Users\\camia\\Desktop\\proyecto'",
          "output_type": "error",
          "traceback": [
            "\u001b[1;31m---------------------------------------------------------------------------\u001b[0m",
            "\u001b[1;31mOSError\u001b[0m                                   Traceback (most recent call last)",
            "Cell \u001b[1;32mIn[19], line 100\u001b[0m\n\u001b[0;32m     97\u001b[0m video_writer\u001b[38;5;241m.\u001b[39mrelease()\n\u001b[0;32m     98\u001b[0m cap\u001b[38;5;241m.\u001b[39mrelease()\n\u001b[1;32m--> 100\u001b[0m \u001b[43mdf_completo\u001b[49m\u001b[38;5;241;43m.\u001b[39;49m\u001b[43mto_csv\u001b[49m\u001b[43m(\u001b[49m\u001b[43moutput_csv_paths\u001b[49m\u001b[43m[\u001b[49m\u001b[43mi\u001b[49m\u001b[43m]\u001b[49m\u001b[43m,\u001b[49m\u001b[43m \u001b[49m\u001b[43mindex\u001b[49m\u001b[38;5;241;43m=\u001b[39;49m\u001b[38;5;28;43;01mFalse\u001b[39;49;00m\u001b[43m)\u001b[49m\n\u001b[0;32m    102\u001b[0m \u001b[38;5;28mprint\u001b[39m(\u001b[38;5;124m\"\u001b[39m\u001b[38;5;124mProceso completado. Videos trackeados guardados en:\u001b[39m\u001b[38;5;124m\"\u001b[39m, output_video_paths[i])\n\u001b[0;32m    103\u001b[0m \u001b[38;5;28mprint\u001b[39m(\u001b[38;5;124m\"\u001b[39m\u001b[38;5;124mDatos de la pose guardados en:\u001b[39m\u001b[38;5;124m\"\u001b[39m, output_csv_paths[i])\n",
            "File \u001b[1;32m~\\AppData\\Local\\Packages\\PythonSoftwareFoundation.Python.3.10_qbz5n2kfra8p0\\LocalCache\\local-packages\\Python310\\site-packages\\pandas\\util\\_decorators.py:333\u001b[0m, in \u001b[0;36mdeprecate_nonkeyword_arguments.<locals>.decorate.<locals>.wrapper\u001b[1;34m(*args, **kwargs)\u001b[0m\n\u001b[0;32m    327\u001b[0m \u001b[38;5;28;01mif\u001b[39;00m \u001b[38;5;28mlen\u001b[39m(args) \u001b[38;5;241m>\u001b[39m num_allow_args:\n\u001b[0;32m    328\u001b[0m     warnings\u001b[38;5;241m.\u001b[39mwarn(\n\u001b[0;32m    329\u001b[0m         msg\u001b[38;5;241m.\u001b[39mformat(arguments\u001b[38;5;241m=\u001b[39m_format_argument_list(allow_args)),\n\u001b[0;32m    330\u001b[0m         \u001b[38;5;167;01mFutureWarning\u001b[39;00m,\n\u001b[0;32m    331\u001b[0m         stacklevel\u001b[38;5;241m=\u001b[39mfind_stack_level(),\n\u001b[0;32m    332\u001b[0m     )\n\u001b[1;32m--> 333\u001b[0m \u001b[38;5;28;01mreturn\u001b[39;00m func(\u001b[38;5;241m*\u001b[39margs, \u001b[38;5;241m*\u001b[39m\u001b[38;5;241m*\u001b[39mkwargs)\n",
            "File \u001b[1;32m~\\AppData\\Local\\Packages\\PythonSoftwareFoundation.Python.3.10_qbz5n2kfra8p0\\LocalCache\\local-packages\\Python310\\site-packages\\pandas\\core\\generic.py:3964\u001b[0m, in \u001b[0;36mNDFrame.to_csv\u001b[1;34m(self, path_or_buf, sep, na_rep, float_format, columns, header, index, index_label, mode, encoding, compression, quoting, quotechar, lineterminator, chunksize, date_format, doublequote, escapechar, decimal, errors, storage_options)\u001b[0m\n\u001b[0;32m   3953\u001b[0m df \u001b[38;5;241m=\u001b[39m \u001b[38;5;28mself\u001b[39m \u001b[38;5;28;01mif\u001b[39;00m \u001b[38;5;28misinstance\u001b[39m(\u001b[38;5;28mself\u001b[39m, ABCDataFrame) \u001b[38;5;28;01melse\u001b[39;00m \u001b[38;5;28mself\u001b[39m\u001b[38;5;241m.\u001b[39mto_frame()\n\u001b[0;32m   3955\u001b[0m formatter \u001b[38;5;241m=\u001b[39m DataFrameFormatter(\n\u001b[0;32m   3956\u001b[0m     frame\u001b[38;5;241m=\u001b[39mdf,\n\u001b[0;32m   3957\u001b[0m     header\u001b[38;5;241m=\u001b[39mheader,\n\u001b[1;32m   (...)\u001b[0m\n\u001b[0;32m   3961\u001b[0m     decimal\u001b[38;5;241m=\u001b[39mdecimal,\n\u001b[0;32m   3962\u001b[0m )\n\u001b[1;32m-> 3964\u001b[0m \u001b[38;5;28;01mreturn\u001b[39;00m \u001b[43mDataFrameRenderer\u001b[49m\u001b[43m(\u001b[49m\u001b[43mformatter\u001b[49m\u001b[43m)\u001b[49m\u001b[38;5;241;43m.\u001b[39;49m\u001b[43mto_csv\u001b[49m\u001b[43m(\u001b[49m\n\u001b[0;32m   3965\u001b[0m \u001b[43m    \u001b[49m\u001b[43mpath_or_buf\u001b[49m\u001b[43m,\u001b[49m\n\u001b[0;32m   3966\u001b[0m \u001b[43m    \u001b[49m\u001b[43mlineterminator\u001b[49m\u001b[38;5;241;43m=\u001b[39;49m\u001b[43mlineterminator\u001b[49m\u001b[43m,\u001b[49m\n\u001b[0;32m   3967\u001b[0m \u001b[43m    \u001b[49m\u001b[43msep\u001b[49m\u001b[38;5;241;43m=\u001b[39;49m\u001b[43msep\u001b[49m\u001b[43m,\u001b[49m\n\u001b[0;32m   3968\u001b[0m \u001b[43m    \u001b[49m\u001b[43mencoding\u001b[49m\u001b[38;5;241;43m=\u001b[39;49m\u001b[43mencoding\u001b[49m\u001b[43m,\u001b[49m\n\u001b[0;32m   3969\u001b[0m \u001b[43m    \u001b[49m\u001b[43merrors\u001b[49m\u001b[38;5;241;43m=\u001b[39;49m\u001b[43merrors\u001b[49m\u001b[43m,\u001b[49m\n\u001b[0;32m   3970\u001b[0m \u001b[43m    \u001b[49m\u001b[43mcompression\u001b[49m\u001b[38;5;241;43m=\u001b[39;49m\u001b[43mcompression\u001b[49m\u001b[43m,\u001b[49m\n\u001b[0;32m   3971\u001b[0m \u001b[43m    \u001b[49m\u001b[43mquoting\u001b[49m\u001b[38;5;241;43m=\u001b[39;49m\u001b[43mquoting\u001b[49m\u001b[43m,\u001b[49m\n\u001b[0;32m   3972\u001b[0m \u001b[43m    \u001b[49m\u001b[43mcolumns\u001b[49m\u001b[38;5;241;43m=\u001b[39;49m\u001b[43mcolumns\u001b[49m\u001b[43m,\u001b[49m\n\u001b[0;32m   3973\u001b[0m \u001b[43m    \u001b[49m\u001b[43mindex_label\u001b[49m\u001b[38;5;241;43m=\u001b[39;49m\u001b[43mindex_label\u001b[49m\u001b[43m,\u001b[49m\n\u001b[0;32m   3974\u001b[0m \u001b[43m    \u001b[49m\u001b[43mmode\u001b[49m\u001b[38;5;241;43m=\u001b[39;49m\u001b[43mmode\u001b[49m\u001b[43m,\u001b[49m\n\u001b[0;32m   3975\u001b[0m \u001b[43m    \u001b[49m\u001b[43mchunksize\u001b[49m\u001b[38;5;241;43m=\u001b[39;49m\u001b[43mchunksize\u001b[49m\u001b[43m,\u001b[49m\n\u001b[0;32m   3976\u001b[0m \u001b[43m    \u001b[49m\u001b[43mquotechar\u001b[49m\u001b[38;5;241;43m=\u001b[39;49m\u001b[43mquotechar\u001b[49m\u001b[43m,\u001b[49m\n\u001b[0;32m   3977\u001b[0m \u001b[43m    \u001b[49m\u001b[43mdate_format\u001b[49m\u001b[38;5;241;43m=\u001b[39;49m\u001b[43mdate_format\u001b[49m\u001b[43m,\u001b[49m\n\u001b[0;32m   3978\u001b[0m \u001b[43m    \u001b[49m\u001b[43mdoublequote\u001b[49m\u001b[38;5;241;43m=\u001b[39;49m\u001b[43mdoublequote\u001b[49m\u001b[43m,\u001b[49m\n\u001b[0;32m   3979\u001b[0m \u001b[43m    \u001b[49m\u001b[43mescapechar\u001b[49m\u001b[38;5;241;43m=\u001b[39;49m\u001b[43mescapechar\u001b[49m\u001b[43m,\u001b[49m\n\u001b[0;32m   3980\u001b[0m \u001b[43m    \u001b[49m\u001b[43mstorage_options\u001b[49m\u001b[38;5;241;43m=\u001b[39;49m\u001b[43mstorage_options\u001b[49m\u001b[43m,\u001b[49m\n\u001b[0;32m   3981\u001b[0m \u001b[43m\u001b[49m\u001b[43m)\u001b[49m\n",
            "File \u001b[1;32m~\\AppData\\Local\\Packages\\PythonSoftwareFoundation.Python.3.10_qbz5n2kfra8p0\\LocalCache\\local-packages\\Python310\\site-packages\\pandas\\io\\formats\\format.py:1014\u001b[0m, in \u001b[0;36mDataFrameRenderer.to_csv\u001b[1;34m(self, path_or_buf, encoding, sep, columns, index_label, mode, compression, quoting, quotechar, lineterminator, chunksize, date_format, doublequote, escapechar, errors, storage_options)\u001b[0m\n\u001b[0;32m    993\u001b[0m     created_buffer \u001b[38;5;241m=\u001b[39m \u001b[38;5;28;01mFalse\u001b[39;00m\n\u001b[0;32m    995\u001b[0m csv_formatter \u001b[38;5;241m=\u001b[39m CSVFormatter(\n\u001b[0;32m    996\u001b[0m     path_or_buf\u001b[38;5;241m=\u001b[39mpath_or_buf,\n\u001b[0;32m    997\u001b[0m     lineterminator\u001b[38;5;241m=\u001b[39mlineterminator,\n\u001b[1;32m   (...)\u001b[0m\n\u001b[0;32m   1012\u001b[0m     formatter\u001b[38;5;241m=\u001b[39m\u001b[38;5;28mself\u001b[39m\u001b[38;5;241m.\u001b[39mfmt,\n\u001b[0;32m   1013\u001b[0m )\n\u001b[1;32m-> 1014\u001b[0m \u001b[43mcsv_formatter\u001b[49m\u001b[38;5;241;43m.\u001b[39;49m\u001b[43msave\u001b[49m\u001b[43m(\u001b[49m\u001b[43m)\u001b[49m\n\u001b[0;32m   1016\u001b[0m \u001b[38;5;28;01mif\u001b[39;00m created_buffer:\n\u001b[0;32m   1017\u001b[0m     \u001b[38;5;28;01massert\u001b[39;00m \u001b[38;5;28misinstance\u001b[39m(path_or_buf, StringIO)\n",
            "File \u001b[1;32m~\\AppData\\Local\\Packages\\PythonSoftwareFoundation.Python.3.10_qbz5n2kfra8p0\\LocalCache\\local-packages\\Python310\\site-packages\\pandas\\io\\formats\\csvs.py:251\u001b[0m, in \u001b[0;36mCSVFormatter.save\u001b[1;34m(self)\u001b[0m\n\u001b[0;32m    247\u001b[0m \u001b[38;5;250m\u001b[39m\u001b[38;5;124;03m\"\"\"\u001b[39;00m\n\u001b[0;32m    248\u001b[0m \u001b[38;5;124;03mCreate the writer & save.\u001b[39;00m\n\u001b[0;32m    249\u001b[0m \u001b[38;5;124;03m\"\"\"\u001b[39;00m\n\u001b[0;32m    250\u001b[0m \u001b[38;5;66;03m# apply compression and byte/text conversion\u001b[39;00m\n\u001b[1;32m--> 251\u001b[0m \u001b[38;5;28;01mwith\u001b[39;00m \u001b[43mget_handle\u001b[49m\u001b[43m(\u001b[49m\n\u001b[0;32m    252\u001b[0m \u001b[43m    \u001b[49m\u001b[38;5;28;43mself\u001b[39;49m\u001b[38;5;241;43m.\u001b[39;49m\u001b[43mfilepath_or_buffer\u001b[49m\u001b[43m,\u001b[49m\n\u001b[0;32m    253\u001b[0m \u001b[43m    \u001b[49m\u001b[38;5;28;43mself\u001b[39;49m\u001b[38;5;241;43m.\u001b[39;49m\u001b[43mmode\u001b[49m\u001b[43m,\u001b[49m\n\u001b[0;32m    254\u001b[0m \u001b[43m    \u001b[49m\u001b[43mencoding\u001b[49m\u001b[38;5;241;43m=\u001b[39;49m\u001b[38;5;28;43mself\u001b[39;49m\u001b[38;5;241;43m.\u001b[39;49m\u001b[43mencoding\u001b[49m\u001b[43m,\u001b[49m\n\u001b[0;32m    255\u001b[0m \u001b[43m    \u001b[49m\u001b[43merrors\u001b[49m\u001b[38;5;241;43m=\u001b[39;49m\u001b[38;5;28;43mself\u001b[39;49m\u001b[38;5;241;43m.\u001b[39;49m\u001b[43merrors\u001b[49m\u001b[43m,\u001b[49m\n\u001b[0;32m    256\u001b[0m \u001b[43m    \u001b[49m\u001b[43mcompression\u001b[49m\u001b[38;5;241;43m=\u001b[39;49m\u001b[38;5;28;43mself\u001b[39;49m\u001b[38;5;241;43m.\u001b[39;49m\u001b[43mcompression\u001b[49m\u001b[43m,\u001b[49m\n\u001b[0;32m    257\u001b[0m \u001b[43m    \u001b[49m\u001b[43mstorage_options\u001b[49m\u001b[38;5;241;43m=\u001b[39;49m\u001b[38;5;28;43mself\u001b[39;49m\u001b[38;5;241;43m.\u001b[39;49m\u001b[43mstorage_options\u001b[49m\u001b[43m,\u001b[49m\n\u001b[0;32m    258\u001b[0m \u001b[43m\u001b[49m\u001b[43m)\u001b[49m \u001b[38;5;28;01mas\u001b[39;00m handles:\n\u001b[0;32m    259\u001b[0m     \u001b[38;5;66;03m# Note: self.encoding is irrelevant here\u001b[39;00m\n\u001b[0;32m    260\u001b[0m     \u001b[38;5;28mself\u001b[39m\u001b[38;5;241m.\u001b[39mwriter \u001b[38;5;241m=\u001b[39m csvlib\u001b[38;5;241m.\u001b[39mwriter(\n\u001b[0;32m    261\u001b[0m         handles\u001b[38;5;241m.\u001b[39mhandle,\n\u001b[0;32m    262\u001b[0m         lineterminator\u001b[38;5;241m=\u001b[39m\u001b[38;5;28mself\u001b[39m\u001b[38;5;241m.\u001b[39mlineterminator,\n\u001b[1;32m   (...)\u001b[0m\n\u001b[0;32m    267\u001b[0m         quotechar\u001b[38;5;241m=\u001b[39m\u001b[38;5;28mself\u001b[39m\u001b[38;5;241m.\u001b[39mquotechar,\n\u001b[0;32m    268\u001b[0m     )\n\u001b[0;32m    270\u001b[0m     \u001b[38;5;28mself\u001b[39m\u001b[38;5;241m.\u001b[39m_save()\n",
            "File \u001b[1;32m~\\AppData\\Local\\Packages\\PythonSoftwareFoundation.Python.3.10_qbz5n2kfra8p0\\LocalCache\\local-packages\\Python310\\site-packages\\pandas\\io\\common.py:749\u001b[0m, in \u001b[0;36mget_handle\u001b[1;34m(path_or_buf, mode, encoding, compression, memory_map, is_text, errors, storage_options)\u001b[0m\n\u001b[0;32m    747\u001b[0m \u001b[38;5;66;03m# Only for write methods\u001b[39;00m\n\u001b[0;32m    748\u001b[0m \u001b[38;5;28;01mif\u001b[39;00m \u001b[38;5;124m\"\u001b[39m\u001b[38;5;124mr\u001b[39m\u001b[38;5;124m\"\u001b[39m \u001b[38;5;129;01mnot\u001b[39;00m \u001b[38;5;129;01min\u001b[39;00m mode \u001b[38;5;129;01mand\u001b[39;00m is_path:\n\u001b[1;32m--> 749\u001b[0m     \u001b[43mcheck_parent_directory\u001b[49m\u001b[43m(\u001b[49m\u001b[38;5;28;43mstr\u001b[39;49m\u001b[43m(\u001b[49m\u001b[43mhandle\u001b[49m\u001b[43m)\u001b[49m\u001b[43m)\u001b[49m\n\u001b[0;32m    751\u001b[0m \u001b[38;5;28;01mif\u001b[39;00m compression:\n\u001b[0;32m    752\u001b[0m     \u001b[38;5;28;01mif\u001b[39;00m compression \u001b[38;5;241m!=\u001b[39m \u001b[38;5;124m\"\u001b[39m\u001b[38;5;124mzstd\u001b[39m\u001b[38;5;124m\"\u001b[39m:\n\u001b[0;32m    753\u001b[0m         \u001b[38;5;66;03m# compression libraries do not like an explicit text-mode\u001b[39;00m\n",
            "File \u001b[1;32m~\\AppData\\Local\\Packages\\PythonSoftwareFoundation.Python.3.10_qbz5n2kfra8p0\\LocalCache\\local-packages\\Python310\\site-packages\\pandas\\io\\common.py:616\u001b[0m, in \u001b[0;36mcheck_parent_directory\u001b[1;34m(path)\u001b[0m\n\u001b[0;32m    614\u001b[0m parent \u001b[38;5;241m=\u001b[39m Path(path)\u001b[38;5;241m.\u001b[39mparent\n\u001b[0;32m    615\u001b[0m \u001b[38;5;28;01mif\u001b[39;00m \u001b[38;5;129;01mnot\u001b[39;00m parent\u001b[38;5;241m.\u001b[39mis_dir():\n\u001b[1;32m--> 616\u001b[0m     \u001b[38;5;28;01mraise\u001b[39;00m \u001b[38;5;167;01mOSError\u001b[39;00m(\u001b[38;5;124mrf\u001b[39m\u001b[38;5;124m\"\u001b[39m\u001b[38;5;124mCannot save file into a non-existent directory: \u001b[39m\u001b[38;5;124m'\u001b[39m\u001b[38;5;132;01m{\u001b[39;00mparent\u001b[38;5;132;01m}\u001b[39;00m\u001b[38;5;124m'\u001b[39m\u001b[38;5;124m\"\u001b[39m)\n",
            "\u001b[1;31mOSError\u001b[0m: Cannot save file into a non-existent directory: '\\Users\\camia\\Desktop\\proyecto\\pose_data2.csv\\Users\\camia\\Desktop\\proyecto'"
          ]
        }
      ],
      "source": [
        "for i, video_path in enumerate(video_paths):\n",
        "    # Configurar VideoCapture para el video actual\n",
        "    cap = cv2.VideoCapture(video_path)\n",
        "\n",
        "    # Obtener propiedades del video\n",
        "    video_height = int(cap.get(cv2.CAP_PROP_FRAME_HEIGHT))\n",
        "    video_width = int(cap.get(cv2.CAP_PROP_FRAME_WIDTH))\n",
        "    video_fps = cap.get(cv2.CAP_PROP_FPS)\n",
        "    tiempo_por_frame = 1 / video_fps\n",
        "\n",
        "    # Inicializar DataFrame y pose para el video actual\n",
        "    df_completo = pd.DataFrame(columns=columns)\n",
        "    pose = mp_pose.Pose(min_detection_confidence=0.5, min_tracking_confidence=0.5)\n",
        "    video_writer = cv2.VideoWriter(output_video_paths[i], cv2.VideoWriter_fourcc(*'mp4v'), video_fps, (video_width, video_height))\n",
        "\n",
        "    frame_number = 0  # Reiniciar el contador de fotogramas para cada video\n",
        "\n",
        "    # Procesar cada fotograma del video\n",
        "    while cap.isOpened():\n",
        "        ret, frame = cap.read()\n",
        "        if not ret:\n",
        "            break\n",
        "\n",
        "        # Convertir la imagen a RGB (el fotograma)\n",
        "        image = cv2.cvtColor(frame, cv2.COLOR_BGR2RGB)\n",
        "        # Procesar la imagen con MediaPipe y guardar los resultados\n",
        "        results = pose.process(image)\n",
        "        # Recolectar y guardar los datos de la pose en el dataframe\n",
        "        pose_row = {'frame_number': frame_number}\n",
        "\n",
        "        # Extraer posiciones\n",
        "        if results.pose_landmarks:\n",
        "            landmarks = results.pose_landmarks.landmark\n",
        "\n",
        "            # Por cada articulacion, guarda en su posicion de X, Y, Z el resultado\n",
        "            for landmark in articulaciones:\n",
        "                pose_row[landmark.name + '_X'] = landmarks[landmark].x\n",
        "                pose_row[landmark.name + '_Y'] = landmarks[landmark].y\n",
        "                pose_row[landmark.name + '_Z'] = landmarks[landmark].z\n",
        "        else:\n",
        "            for landmark in articulaciones:\n",
        "                pose_row[landmark.name + '_X'] = None\n",
        "                pose_row[landmark.name + '_Y'] = None\n",
        "                pose_row[landmark.name + '_Z'] = None\n",
        "\n",
        "        pose_row_df = pd.DataFrame(pose_row, index=[pose_row['frame_number']])\n",
        "        df_completo = pd.concat([df_completo, pose_row_df], ignore_index=True)\n",
        "\n",
        "        # Agregar los landmarks al gráfico\n",
        "        mp_drawing.draw_landmarks(image, results.pose_landmarks, mp_pose.POSE_CONNECTIONS,\n",
        "                                  mp_drawing.DrawingSpec(color=(245, 117, 66), thickness=5, circle_radius=5),\n",
        "                                  mp_drawing.DrawingSpec(color=(245, 66, 230), thickness=5, circle_radius=5))\n",
        "\n",
        "        if frame_number > 0:\n",
        "            df_completo.loc[df_completo[\"frame_number\"] == frame_number, \"Tiempo\"] = tiempo_por_frame * frame_number\n",
        "            previous_frame = frame_number - 1\n",
        "\n",
        "            pos_prev_left_hip, pos_prev_left_knee, pos_prev_left_ankle = extraer_posiciones(df_completo, previous_frame, 'LEFT_HIP', 'LEFT_KNEE', 'LEFT_ANKLE')\n",
        "            pos_actual_wrist, pos_actual_left_hip, pos_actual_left_knee, pos_actual_left_ankle = extraer_posiciones(df_completo, frame_number, 'LEFT_WRIST', 'LEFT_HIP', 'LEFT_KNEE', 'LEFT_ANKLE')\n",
        "\n",
        "            # VELOCIDAD ANGULAR\n",
        "            angulo_anterior = calculate_angle((pos_prev_left_hip[0], pos_prev_left_hip[1]), (pos_prev_left_knee[0], pos_prev_left_knee[1]), (pos_prev_left_ankle[0], pos_prev_left_ankle[1]))\n",
        "            angulo_actual = calculate_angle((pos_actual_left_hip[0], pos_actual_left_hip[1]), (pos_actual_left_knee[0], pos_actual_left_knee[1]), (pos_actual_left_ankle[0], pos_actual_left_ankle[1]))\n",
        "            vel_angular = velocidad_angular(angulo_anterior, angulo_actual, tiempo_por_frame)\n",
        "            df_completo.loc[df_completo[\"frame_number\"] == frame_number, \"VelocidadAngular\"] = vel_angular\n",
        "\n",
        "            # VELOCIDAD\n",
        "            velocidad_cadera = velocidad_instantanea(pos_prev_left_hip, pos_actual_left_hip, tiempo_por_frame)\n",
        "            velocidad_rodilla = velocidad_instantanea(pos_prev_left_knee, pos_actual_left_knee, tiempo_por_frame)\n",
        "            df_completo.loc[df_completo[\"frame_number\"] == frame_number, \"Velocidad(Cadera)_X\"] = velocidad_cadera[0]\n",
        "            df_completo.loc[df_completo[\"frame_number\"] == frame_number, \"Velocidad(Cadera)_Y\"] = velocidad_cadera[1]\n",
        "            df_completo.loc[df_completo[\"frame_number\"] == frame_number, \"Velocidad(Rodilla)_X\"] = velocidad_rodilla[0]\n",
        "            df_completo.loc[df_completo[\"frame_number\"] == frame_number, \"Velocidad(Rodilla)_Y\"] = velocidad_rodilla[1]\n",
        "\n",
        "            # ACELERACION\n",
        "            aceleracion_actual_cadera = aceleracion_instantanea(\n",
        "                df_completo.loc[df_completo[\"frame_number\"] == frame_number, \"Velocidad(Cadera)_X\"].iloc[0],\n",
        "                df_completo.loc[df_completo[\"frame_number\"] == previous_frame, \"Velocidad(Cadera)_X\"].iloc[0],\n",
        "                df_completo.loc[df_completo[\"frame_number\"] == frame_number, \"Velocidad(Cadera)_Y\"].iloc[0],\n",
        "                df_completo.loc[df_completo[\"frame_number\"] == previous_frame, \"Velocidad(Cadera)_Y\"].iloc[0], tiempo_por_frame)\n",
        "            aceleracion_actual_rodilla = aceleracion_instantanea(\n",
        "                df_completo.loc[df_completo[\"frame_number\"] == frame_number, \"Velocidad(Rodilla)_X\"].iloc[0],\n",
        "                df_completo.loc[df_completo[\"frame_number\"] == previous_frame, \"Velocidad(Rodilla)_X\"].iloc[0],\n",
        "                df_completo.loc[df_completo[\"frame_number\"] == frame_number, \"Velocidad(Rodilla)_Y\"].iloc[0],\n",
        "                df_completo.loc[df_completo[\"frame_number\"] == previous_frame, \"Velocidad(Rodilla)_Y\"].iloc[0], tiempo_por_frame)\n",
        "            df_completo.loc[df_completo[\"frame_number\"] == frame_number, \"Aceleracion(Rodilla)_X\"] = aceleracion_actual_rodilla[0]\n",
        "            df_completo.loc[df_completo[\"frame_number\"] == frame_number, \"Aceleracion(Rodilla)_Y\"] = aceleracion_actual_rodilla[1]\n",
        "            df_completo.loc[df_completo[\"frame_number\"] == frame_number, \"Aceleracion(Cadera)_X\"] = aceleracion_actual_cadera[0]\n",
        "            df_completo.loc[df_completo[\"frame_number\"] == frame_number, \"Aceleracion(Cadera)_Y\"] = aceleracion_actual_cadera[1]\n",
        "\n",
        "        # Escribir el frame procesado en el video de salida\n",
        "        video_writer.write(cv2.cvtColor(image, cv2.COLOR_RGB2BGR))\n",
        "        frame_number += 1\n",
        "\n",
        "    # Liberar recursos y guardar resultados después de procesar cada video\n",
        "    pose.close()\n",
        "    video_writer.release()\n",
        "    cap.release()\n",
        "\n",
        "    df_completo.to_csv(output_csv_paths[i], index=False)\n",
        "\n",
        "    print(\"Proceso completado. Videos trackeados guardados en:\", output_video_paths[i])\n",
        "    print(\"Datos de la pose guardados en:\", output_csv_paths[i])\n"
      ]
    },
    {
      "cell_type": "markdown",
      "metadata": {
        "id": "cNuPININJeV9"
      },
      "source": [
        "# Gráficos"
      ]
    },
    {
      "cell_type": "code",
      "execution_count": 16,
      "metadata": {
        "colab": {
          "base_uri": "https://localhost:8080/",
          "height": 1000
        },
        "id": "Cbb8cEz6E342",
        "outputId": "418c9d65-dd60-4f05-8f14-527714914a7b"
      },
      "outputs": [
        {
          "data": {
            "application/vnd.plotly.v1+json": {
              "config": {
                "plotlyServerURL": "https://plot.ly"
              },
              "data": [
                {
                  "line": {
                    "color": "blue"
                  },
                  "mode": "lines",
                  "name": "Altura de la cadera (Video 1)",
                  "type": "scatter",
                  "x": [
                    0,
                    1,
                    2,
                    3,
                    4,
                    5,
                    6,
                    7,
                    8,
                    9,
                    10,
                    11,
                    12,
                    13,
                    14,
                    15,
                    16,
                    17,
                    18,
                    19,
                    20,
                    21,
                    22,
                    23,
                    24,
                    25,
                    26,
                    27,
                    28,
                    29,
                    30,
                    31,
                    32,
                    33,
                    34,
                    35,
                    36,
                    37,
                    38,
                    39,
                    40,
                    41,
                    42,
                    43,
                    44,
                    45,
                    46,
                    47,
                    48,
                    49,
                    50,
                    51,
                    52,
                    53,
                    54,
                    55,
                    56,
                    57,
                    58,
                    59,
                    60,
                    61,
                    62,
                    63,
                    64,
                    65,
                    66,
                    67,
                    68,
                    69,
                    70,
                    71,
                    72,
                    73,
                    74,
                    75,
                    76,
                    77,
                    78,
                    79,
                    80,
                    81,
                    82,
                    83,
                    84,
                    85,
                    86,
                    87,
                    88,
                    89,
                    90,
                    91,
                    92,
                    93,
                    94,
                    95,
                    96,
                    97,
                    98,
                    99,
                    100,
                    101,
                    102,
                    103,
                    104,
                    105,
                    106,
                    107,
                    108,
                    109,
                    110,
                    111,
                    112,
                    113,
                    114,
                    115,
                    116,
                    117,
                    118,
                    119,
                    120,
                    121,
                    122,
                    123,
                    124,
                    125,
                    126,
                    127,
                    128,
                    129,
                    130,
                    131,
                    132,
                    133,
                    134,
                    135,
                    136,
                    137,
                    138,
                    139,
                    140,
                    141,
                    142,
                    143,
                    144,
                    145,
                    146,
                    147,
                    148,
                    149,
                    150,
                    151,
                    152,
                    153,
                    154,
                    155,
                    156,
                    157,
                    158,
                    159,
                    160,
                    161,
                    162,
                    163,
                    164,
                    165,
                    166,
                    167,
                    168,
                    169,
                    170,
                    171,
                    172,
                    173,
                    174,
                    175,
                    176,
                    177,
                    178,
                    179,
                    180,
                    181,
                    182,
                    183,
                    184,
                    185,
                    186,
                    187,
                    188,
                    189,
                    190,
                    191,
                    192,
                    193,
                    194,
                    195,
                    196,
                    197,
                    198,
                    199,
                    200,
                    201,
                    202,
                    203,
                    204,
                    205,
                    206,
                    207,
                    208,
                    209,
                    210,
                    211,
                    212,
                    213,
                    214,
                    215,
                    216,
                    217,
                    218,
                    219,
                    220,
                    221,
                    222,
                    223,
                    224,
                    225,
                    226,
                    227,
                    228,
                    229,
                    230,
                    231,
                    232,
                    233,
                    234,
                    235,
                    236,
                    237,
                    238,
                    239,
                    240,
                    241,
                    242,
                    243,
                    244,
                    245,
                    246,
                    247,
                    248,
                    249,
                    250,
                    251,
                    252,
                    253
                  ],
                  "xaxis": "x",
                  "y": [
                    null,
                    null,
                    null,
                    null,
                    null,
                    null,
                    null,
                    null,
                    null,
                    null,
                    null,
                    null,
                    null,
                    null,
                    null,
                    null,
                    null,
                    null,
                    null,
                    null,
                    null,
                    null,
                    null,
                    null,
                    null,
                    null,
                    null,
                    null,
                    null,
                    null,
                    null,
                    null,
                    null,
                    null,
                    null,
                    null,
                    null,
                    null,
                    null,
                    null,
                    null,
                    null,
                    null,
                    null,
                    null,
                    null,
                    null,
                    null,
                    null,
                    0.6227225351333618,
                    0.6235052382946015,
                    0.624326331615448,
                    0.6251921617984771,
                    0.6260850238800049,
                    0.6269774854183197,
                    0.6279210364818573,
                    0.6289318680763245,
                    0.6300116813182831,
                    0.6311749410629273,
                    0.6323345053195953,
                    0.6334971034526825,
                    0.6346467995643615,
                    0.6358390235900879,
                    0.6370343148708344,
                    0.6382157731056214,
                    0.6394067001342774,
                    0.6406087005138397,
                    0.6418530213832855,
                    0.6431165635585785,
                    0.644394439458847,
                    0.6457046687602996,
                    0.6470437037944794,
                    0.6484301054477691,
                    0.6498387253284454,
                    0.6512862026691437,
                    0.6527061319351196,
                    0.6541357183456421,
                    0.6555979669094085,
                    0.6571099555492401,
                    0.6586762273311615,
                    0.6602608537673951,
                    0.6618234491348267,
                    0.6634114742279053,
                    0.6650053215026855,
                    0.6665841102600097,
                    0.6681867241859436,
                    0.6697619342803955,
                    0.6713582217693329,
                    0.6729428243637084,
                    0.6745166277885437,
                    0.6761223983764648,
                    0.677712504863739,
                    0.6793094933032989,
                    0.6809335660934448,
                    0.6825698804855347,
                    0.6842251944541932,
                    0.6859218978881836,
                    0.6876128721237182,
                    0.6892935943603515,
                    0.690903846025467,
                    0.6924638831615448,
                    0.6939806842803955,
                    0.6954419112205505,
                    0.6968988990783691,
                    0.6983621788024902,
                    0.6998075675964356,
                    0.7011932575702667,
                    0.7025217938423157,
                    0.703775292634964,
                    0.7050343036651612,
                    0.7063658785820007,
                    0.7077387714385986,
                    0.7091044700145721,
                    0.7104735505580902,
                    0.7118400728702545,
                    0.7131696057319641,
                    0.7144812417030334,
                    0.7157594299316407,
                    0.7170100617408752,
                    0.7182634818553925,
                    0.7194853603839875,
                    0.7207062554359436,
                    0.7218591964244843,
                    0.7229620742797852,
                    0.7240622222423554,
                    0.7251759600639344,
                    0.7262574994564056,
                    0.7273449873924256,
                    0.7283904612064361,
                    0.7294403493404389,
                    0.7304553043842316,
                    0.7314921009540558,
                    0.7325150561332703,
                    0.7334947001934051,
                    0.734448766708374,
                    0.7353835463523865,
                    0.7363126397132873,
                    0.7372150444984436,
                    0.7380415523052215,
                    0.7388490545749664,
                    0.7396116292476654,
                    0.7403892683982849,
                    0.7411578643321991,
                    0.7418713021278381,
                    0.7425624811649323,
                    0.743212502002716,
                    0.7438271045684814,
                    0.7444359838962555,
                    0.7450061702728271,
                    0.7455722939968109,
                    0.7461658275127411,
                    0.7467735290527344,
                    0.7473778021335602,
                    0.7479545366764069,
                    0.7485223281383514,
                    0.7490465700626373,
                    0.7495542740821839,
                    0.7500458884239197,
                    0.7505091309547425,
                    0.7509445893764496,
                    0.7512697446346283,
                    0.7514553880691528,
                    0.7515900826454163,
                    0.7517135870456696,
                    0.751765513420105,
                    0.7517868030071259,
                    0.7517086493968964,
                    0.7516138815879821,
                    0.7514798140525818,
                    0.7512343335151672,
                    0.7509739756584167,
                    0.7506726920604706,
                    0.7503644800186158,
                    0.7500107717514038,
                    0.7495889031887054,
                    0.7491293549537659,
                    0.7486076545715332,
                    0.7479786157608033,
                    0.747298378944397,
                    0.7464989161491394,
                    0.7456848573684692,
                    0.7447655951976776,
                    0.7437506663799286,
                    0.7426842164993286,
                    0.7415080857276917,
                    0.7403143966197967,
                    0.7390607690811157,
                    0.7377679777145386,
                    0.7364528429508209,
                    0.7350539624691009,
                    0.7335848903656006,
                    0.732044814825058,
                    0.730444254875183,
                    0.7287687230110168,
                    0.7270266425609588,
                    0.7251930391788483,
                    0.7232780921459198,
                    0.7213319492340088,
                    0.7193434309959411,
                    0.7172970998287201,
                    0.7151491141319275,
                    0.7128891015052795,
                    0.7105912327766418,
                    0.7082446479797363,
                    0.7058585226535797,
                    0.7034141337871551,
                    0.7009115076065063,
                    0.6983963656425476,
                    0.6958377397060395,
                    0.6932786965370178,
                    0.690776115655899,
                    0.6883380389213563,
                    0.6858757245540619,
                    0.6833968138694764,
                    0.6809882199764252,
                    0.6785765981674194,
                    0.676230070590973,
                    0.6738623714447022,
                    0.67152783036232,
                    0.6692664301395417,
                    0.6670212852954864,
                    0.6647951185703278,
                    0.662581969499588,
                    0.6603858470916748,
                    0.6581939291954041,
                    0.6560283279418946,
                    0.65392995595932,
                    0.6518737959861756,
                    0.6498477900028229,
                    0.6478432869911194,
                    0.6458565676212311,
                    0.6439419996738434,
                    0.6421198809146881,
                    0.6403567826747895,
                    0.6387118113040924,
                    0.637078742980957,
                    0.6355046892166137,
                    0.6339575636386872,
                    0.6324729692935943,
                    0.6310725164413452,
                    0.6297371995449066,
                    0.6284306597709656,
                    0.6271630990505218,
                    0.6259859311580658,
                    0.6248891437053681,
                    0.6238904058933258,
                    0.6229693257808685,
                    0.6220837891101837,
                    0.6212392973899842,
                    0.6204512929916381,
                    0.619743732213974,
                    0.619131817817688,
                    0.6185682284832,
                    0.6180589151382446
                  ],
                  "yaxis": "y"
                },
                {
                  "line": {
                    "color": "red"
                  },
                  "mode": "lines",
                  "name": "Posición de la rodilla (Video 1)",
                  "type": "scatter",
                  "x": [
                    0,
                    1,
                    2,
                    3,
                    4,
                    5,
                    6,
                    7,
                    8,
                    9,
                    10,
                    11,
                    12,
                    13,
                    14,
                    15,
                    16,
                    17,
                    18,
                    19,
                    20,
                    21,
                    22,
                    23,
                    24,
                    25,
                    26,
                    27,
                    28,
                    29,
                    30,
                    31,
                    32,
                    33,
                    34,
                    35,
                    36,
                    37,
                    38,
                    39,
                    40,
                    41,
                    42,
                    43,
                    44,
                    45,
                    46,
                    47,
                    48,
                    49,
                    50,
                    51,
                    52,
                    53,
                    54,
                    55,
                    56,
                    57,
                    58,
                    59,
                    60,
                    61,
                    62,
                    63,
                    64,
                    65,
                    66,
                    67,
                    68,
                    69,
                    70,
                    71,
                    72,
                    73,
                    74,
                    75,
                    76,
                    77,
                    78,
                    79,
                    80,
                    81,
                    82,
                    83,
                    84,
                    85,
                    86,
                    87,
                    88,
                    89,
                    90,
                    91,
                    92,
                    93,
                    94,
                    95,
                    96,
                    97,
                    98,
                    99,
                    100,
                    101,
                    102,
                    103,
                    104,
                    105,
                    106,
                    107,
                    108,
                    109,
                    110,
                    111,
                    112,
                    113,
                    114,
                    115,
                    116,
                    117,
                    118,
                    119,
                    120,
                    121,
                    122,
                    123,
                    124,
                    125,
                    126,
                    127,
                    128,
                    129,
                    130,
                    131,
                    132,
                    133,
                    134,
                    135,
                    136,
                    137,
                    138,
                    139,
                    140,
                    141,
                    142,
                    143,
                    144,
                    145,
                    146,
                    147,
                    148,
                    149,
                    150,
                    151,
                    152,
                    153,
                    154,
                    155,
                    156,
                    157,
                    158,
                    159,
                    160,
                    161,
                    162,
                    163,
                    164,
                    165,
                    166,
                    167,
                    168,
                    169,
                    170,
                    171,
                    172,
                    173,
                    174,
                    175,
                    176,
                    177,
                    178,
                    179,
                    180,
                    181,
                    182,
                    183,
                    184,
                    185,
                    186,
                    187,
                    188,
                    189,
                    190,
                    191,
                    192,
                    193,
                    194,
                    195,
                    196,
                    197,
                    198,
                    199,
                    200,
                    201,
                    202,
                    203,
                    204,
                    205,
                    206,
                    207,
                    208,
                    209,
                    210,
                    211,
                    212,
                    213,
                    214,
                    215,
                    216,
                    217,
                    218,
                    219,
                    220,
                    221,
                    222,
                    223,
                    224,
                    225,
                    226,
                    227,
                    228,
                    229,
                    230,
                    231,
                    232,
                    233,
                    234,
                    235,
                    236,
                    237,
                    238,
                    239,
                    240,
                    241,
                    242,
                    243,
                    244,
                    245,
                    246,
                    247,
                    248,
                    249,
                    250,
                    251,
                    252,
                    253
                  ],
                  "xaxis": "x",
                  "y": [
                    null,
                    null,
                    null,
                    null,
                    null,
                    null,
                    null,
                    null,
                    null,
                    null,
                    null,
                    null,
                    null,
                    null,
                    null,
                    null,
                    null,
                    null,
                    null,
                    null,
                    null,
                    null,
                    null,
                    null,
                    null,
                    null,
                    null,
                    null,
                    null,
                    null,
                    null,
                    null,
                    null,
                    null,
                    null,
                    null,
                    null,
                    null,
                    null,
                    null,
                    null,
                    null,
                    null,
                    null,
                    null,
                    null,
                    null,
                    null,
                    null,
                    0.7345612168312072,
                    0.734711993932724,
                    0.7348768472671509,
                    0.7350316035747528,
                    0.7351821744441986,
                    0.7353682494163514,
                    0.7355718886852265,
                    0.7358676719665528,
                    0.736165338754654,
                    0.7364574873447418,
                    0.7367335820198059,
                    0.7370247018337249,
                    0.7372959232330323,
                    0.7376994323730469,
                    0.7380377233028412,
                    0.7383455169200898,
                    0.738645042181015,
                    0.7389198887348175,
                    0.7392057299613952,
                    0.7394463288784027,
                    0.739686119556427,
                    0.7399090671539307,
                    0.7401177120208741,
                    0.7403536856174469,
                    0.7405959260463715,
                    0.7408496797084808,
                    0.7412002336978912,
                    0.7415310859680175,
                    0.7418102931976318,
                    0.742118375301361,
                    0.7425589716434479,
                    0.7429119050502777,
                    0.743231371641159,
                    0.7435458087921143,
                    0.7439367139339447,
                    0.7443277096748352,
                    0.744616585969925,
                    0.7449286389350891,
                    0.7452281844615937,
                    0.7455735504627228,
                    0.7459063673019409,
                    0.7462321722507477,
                    0.7465587997436524,
                    0.7468814420700073,
                    0.7471935904026031,
                    0.7475338113307953,
                    0.7479053783416748,
                    0.7482968723773956,
                    0.7486876618862152,
                    0.7490762209892273,
                    0.7493864715099334,
                    0.749664865732193,
                    0.7498690998554229,
                    0.7499779307842255,
                    0.7500998079776764,
                    0.7502305114269257,
                    0.7503582906723022,
                    0.7503965282440186,
                    0.7504446744918823,
                    0.7504925966262818,
                    0.7505418574810028,
                    0.7506326806545257,
                    0.7507506382465362,
                    0.7507326626777648,
                    0.7507336616516114,
                    0.7507810354232788,
                    0.7508281314373016,
                    0.7508676719665527,
                    0.7508872747421265,
                    0.75094198346138,
                    0.7509798049926758,
                    0.7510106694698334,
                    0.7510640728473663,
                    0.7510902774333954,
                    0.7511111283302307,
                    0.7511206448078156,
                    0.7510422492027282,
                    0.7510197031497955,
                    0.7510597383975983,
                    0.7510918176174164,
                    0.7510885441303253,
                    0.7511434626579284,
                    0.7512094807624817,
                    0.7513418376445771,
                    0.7513959288597107,
                    0.7514481008052826,
                    0.7517634761333466,
                    0.7520046997070312,
                    0.7522979688644409,
                    0.7524412858486176,
                    0.7525882399082184,
                    0.7528326821327209,
                    0.753022962808609,
                    0.7531463778018952,
                    0.753244218826294,
                    0.7533388292789459,
                    0.7534141981601715,
                    0.7534833633899689,
                    0.7535453963279725,
                    0.7537135815620423,
                    0.7539331924915313,
                    0.7540851056575775,
                    0.7542467153072357,
                    0.7544796800613404,
                    0.7547049617767334,
                    0.7549208235740662,
                    0.7551299941539764,
                    0.755338042974472,
                    0.7555435216426849,
                    0.7557512831687927,
                    0.7559418189525604,
                    0.7560771870613098,
                    0.7561462152004242,
                    0.7562253069877625,
                    0.7563050878047943,
                    0.7563701748847962,
                    0.7564339745044708,
                    0.756554092168808,
                    0.7566864824295044,
                    0.7567772686481475,
                    0.7568617975711822,
                    0.7569868278503418,
                    0.7571353554725647,
                    0.7572957968711853,
                    0.757455608844757,
                    0.7576197719573975,
                    0.7577818191051483,
                    0.7579238605499268,
                    0.7580593752861023,
                    0.7581028342247009,
                    0.7580683600902557,
                    0.758050549030304,
                    0.7580077302455902,
                    0.7578914070129394,
                    0.7577690768241883,
                    0.7576225340366364,
                    0.7573329818248749,
                    0.7570472943782807,
                    0.756655638217926,
                    0.75630202293396,
                    0.7559411239624023,
                    0.755449925661087,
                    0.7549263870716095,
                    0.7544897282123566,
                    0.7540203237533569,
                    0.7534951412677765,
                    0.7528338742256164,
                    0.7521200120449066,
                    0.7514279305934906,
                    0.7505687808990479,
                    0.7497432959079743,
                    0.7490567922592163,
                    0.7484482526779175,
                    0.7478805661201477,
                    0.7473214960098267,
                    0.7467609906196594,
                    0.7461883056163788,
                    0.7455638718605041,
                    0.7449163663387298,
                    0.7442543542385102,
                    0.7436093378067017,
                    0.743004765510559,
                    0.7424686980247498,
                    0.7419324803352356,
                    0.741430104970932,
                    0.7409852695465088,
                    0.7405403089523316,
                    0.7400487208366394,
                    0.7395679569244384,
                    0.7391518712043762,
                    0.7387603461742401,
                    0.738366996049881,
                    0.7379448413848877,
                    0.7375665605068207,
                    0.7371835172176361,
                    0.736790087223053,
                    0.7363890838623047,
                    0.7359590828418732,
                    0.735500602722168,
                    0.7350951778888702,
                    0.7346454071998596,
                    0.7341683602333069,
                    0.7337259709835052,
                    0.7333518707752228,
                    0.7329763090610504,
                    0.7326276981830597,
                    0.7322169840335846,
                    0.7317498052120208,
                    0.7313425004482269,
                    0.7310029089450836,
                    0.7306310248374939,
                    0.730296231508255,
                    0.7300509059429169,
                    0.7297727954387665,
                    0.7295763444900513,
                    0.7294205617904663,
                    0.729434118270874,
                    0.729503127336502,
                    0.7295630002021789,
                    0.7296585607528686,
                    0.729736784696579,
                    0.7298008561134338,
                    0.729848918914795,
                    0.7298901510238648,
                    0.7299325776100158
                  ],
                  "yaxis": "y"
                }
              ],
              "layout": {
                "height": 600,
                "legend": {
                  "x": 0.7,
                  "y": 1.1
                },
                "template": {
                  "data": {
                    "bar": [
                      {
                        "error_x": {
                          "color": "#2a3f5f"
                        },
                        "error_y": {
                          "color": "#2a3f5f"
                        },
                        "marker": {
                          "line": {
                            "color": "#E5ECF6",
                            "width": 0.5
                          },
                          "pattern": {
                            "fillmode": "overlay",
                            "size": 10,
                            "solidity": 0.2
                          }
                        },
                        "type": "bar"
                      }
                    ],
                    "barpolar": [
                      {
                        "marker": {
                          "line": {
                            "color": "#E5ECF6",
                            "width": 0.5
                          },
                          "pattern": {
                            "fillmode": "overlay",
                            "size": 10,
                            "solidity": 0.2
                          }
                        },
                        "type": "barpolar"
                      }
                    ],
                    "carpet": [
                      {
                        "aaxis": {
                          "endlinecolor": "#2a3f5f",
                          "gridcolor": "white",
                          "linecolor": "white",
                          "minorgridcolor": "white",
                          "startlinecolor": "#2a3f5f"
                        },
                        "baxis": {
                          "endlinecolor": "#2a3f5f",
                          "gridcolor": "white",
                          "linecolor": "white",
                          "minorgridcolor": "white",
                          "startlinecolor": "#2a3f5f"
                        },
                        "type": "carpet"
                      }
                    ],
                    "choropleth": [
                      {
                        "colorbar": {
                          "outlinewidth": 0,
                          "ticks": ""
                        },
                        "type": "choropleth"
                      }
                    ],
                    "contour": [
                      {
                        "colorbar": {
                          "outlinewidth": 0,
                          "ticks": ""
                        },
                        "colorscale": [
                          [
                            0,
                            "#0d0887"
                          ],
                          [
                            0.1111111111111111,
                            "#46039f"
                          ],
                          [
                            0.2222222222222222,
                            "#7201a8"
                          ],
                          [
                            0.3333333333333333,
                            "#9c179e"
                          ],
                          [
                            0.4444444444444444,
                            "#bd3786"
                          ],
                          [
                            0.5555555555555556,
                            "#d8576b"
                          ],
                          [
                            0.6666666666666666,
                            "#ed7953"
                          ],
                          [
                            0.7777777777777778,
                            "#fb9f3a"
                          ],
                          [
                            0.8888888888888888,
                            "#fdca26"
                          ],
                          [
                            1,
                            "#f0f921"
                          ]
                        ],
                        "type": "contour"
                      }
                    ],
                    "contourcarpet": [
                      {
                        "colorbar": {
                          "outlinewidth": 0,
                          "ticks": ""
                        },
                        "type": "contourcarpet"
                      }
                    ],
                    "heatmap": [
                      {
                        "colorbar": {
                          "outlinewidth": 0,
                          "ticks": ""
                        },
                        "colorscale": [
                          [
                            0,
                            "#0d0887"
                          ],
                          [
                            0.1111111111111111,
                            "#46039f"
                          ],
                          [
                            0.2222222222222222,
                            "#7201a8"
                          ],
                          [
                            0.3333333333333333,
                            "#9c179e"
                          ],
                          [
                            0.4444444444444444,
                            "#bd3786"
                          ],
                          [
                            0.5555555555555556,
                            "#d8576b"
                          ],
                          [
                            0.6666666666666666,
                            "#ed7953"
                          ],
                          [
                            0.7777777777777778,
                            "#fb9f3a"
                          ],
                          [
                            0.8888888888888888,
                            "#fdca26"
                          ],
                          [
                            1,
                            "#f0f921"
                          ]
                        ],
                        "type": "heatmap"
                      }
                    ],
                    "heatmapgl": [
                      {
                        "colorbar": {
                          "outlinewidth": 0,
                          "ticks": ""
                        },
                        "colorscale": [
                          [
                            0,
                            "#0d0887"
                          ],
                          [
                            0.1111111111111111,
                            "#46039f"
                          ],
                          [
                            0.2222222222222222,
                            "#7201a8"
                          ],
                          [
                            0.3333333333333333,
                            "#9c179e"
                          ],
                          [
                            0.4444444444444444,
                            "#bd3786"
                          ],
                          [
                            0.5555555555555556,
                            "#d8576b"
                          ],
                          [
                            0.6666666666666666,
                            "#ed7953"
                          ],
                          [
                            0.7777777777777778,
                            "#fb9f3a"
                          ],
                          [
                            0.8888888888888888,
                            "#fdca26"
                          ],
                          [
                            1,
                            "#f0f921"
                          ]
                        ],
                        "type": "heatmapgl"
                      }
                    ],
                    "histogram": [
                      {
                        "marker": {
                          "pattern": {
                            "fillmode": "overlay",
                            "size": 10,
                            "solidity": 0.2
                          }
                        },
                        "type": "histogram"
                      }
                    ],
                    "histogram2d": [
                      {
                        "colorbar": {
                          "outlinewidth": 0,
                          "ticks": ""
                        },
                        "colorscale": [
                          [
                            0,
                            "#0d0887"
                          ],
                          [
                            0.1111111111111111,
                            "#46039f"
                          ],
                          [
                            0.2222222222222222,
                            "#7201a8"
                          ],
                          [
                            0.3333333333333333,
                            "#9c179e"
                          ],
                          [
                            0.4444444444444444,
                            "#bd3786"
                          ],
                          [
                            0.5555555555555556,
                            "#d8576b"
                          ],
                          [
                            0.6666666666666666,
                            "#ed7953"
                          ],
                          [
                            0.7777777777777778,
                            "#fb9f3a"
                          ],
                          [
                            0.8888888888888888,
                            "#fdca26"
                          ],
                          [
                            1,
                            "#f0f921"
                          ]
                        ],
                        "type": "histogram2d"
                      }
                    ],
                    "histogram2dcontour": [
                      {
                        "colorbar": {
                          "outlinewidth": 0,
                          "ticks": ""
                        },
                        "colorscale": [
                          [
                            0,
                            "#0d0887"
                          ],
                          [
                            0.1111111111111111,
                            "#46039f"
                          ],
                          [
                            0.2222222222222222,
                            "#7201a8"
                          ],
                          [
                            0.3333333333333333,
                            "#9c179e"
                          ],
                          [
                            0.4444444444444444,
                            "#bd3786"
                          ],
                          [
                            0.5555555555555556,
                            "#d8576b"
                          ],
                          [
                            0.6666666666666666,
                            "#ed7953"
                          ],
                          [
                            0.7777777777777778,
                            "#fb9f3a"
                          ],
                          [
                            0.8888888888888888,
                            "#fdca26"
                          ],
                          [
                            1,
                            "#f0f921"
                          ]
                        ],
                        "type": "histogram2dcontour"
                      }
                    ],
                    "mesh3d": [
                      {
                        "colorbar": {
                          "outlinewidth": 0,
                          "ticks": ""
                        },
                        "type": "mesh3d"
                      }
                    ],
                    "parcoords": [
                      {
                        "line": {
                          "colorbar": {
                            "outlinewidth": 0,
                            "ticks": ""
                          }
                        },
                        "type": "parcoords"
                      }
                    ],
                    "pie": [
                      {
                        "automargin": true,
                        "type": "pie"
                      }
                    ],
                    "scatter": [
                      {
                        "fillpattern": {
                          "fillmode": "overlay",
                          "size": 10,
                          "solidity": 0.2
                        },
                        "type": "scatter"
                      }
                    ],
                    "scatter3d": [
                      {
                        "line": {
                          "colorbar": {
                            "outlinewidth": 0,
                            "ticks": ""
                          }
                        },
                        "marker": {
                          "colorbar": {
                            "outlinewidth": 0,
                            "ticks": ""
                          }
                        },
                        "type": "scatter3d"
                      }
                    ],
                    "scattercarpet": [
                      {
                        "marker": {
                          "colorbar": {
                            "outlinewidth": 0,
                            "ticks": ""
                          }
                        },
                        "type": "scattercarpet"
                      }
                    ],
                    "scattergeo": [
                      {
                        "marker": {
                          "colorbar": {
                            "outlinewidth": 0,
                            "ticks": ""
                          }
                        },
                        "type": "scattergeo"
                      }
                    ],
                    "scattergl": [
                      {
                        "marker": {
                          "colorbar": {
                            "outlinewidth": 0,
                            "ticks": ""
                          }
                        },
                        "type": "scattergl"
                      }
                    ],
                    "scattermapbox": [
                      {
                        "marker": {
                          "colorbar": {
                            "outlinewidth": 0,
                            "ticks": ""
                          }
                        },
                        "type": "scattermapbox"
                      }
                    ],
                    "scatterpolar": [
                      {
                        "marker": {
                          "colorbar": {
                            "outlinewidth": 0,
                            "ticks": ""
                          }
                        },
                        "type": "scatterpolar"
                      }
                    ],
                    "scatterpolargl": [
                      {
                        "marker": {
                          "colorbar": {
                            "outlinewidth": 0,
                            "ticks": ""
                          }
                        },
                        "type": "scatterpolargl"
                      }
                    ],
                    "scatterternary": [
                      {
                        "marker": {
                          "colorbar": {
                            "outlinewidth": 0,
                            "ticks": ""
                          }
                        },
                        "type": "scatterternary"
                      }
                    ],
                    "surface": [
                      {
                        "colorbar": {
                          "outlinewidth": 0,
                          "ticks": ""
                        },
                        "colorscale": [
                          [
                            0,
                            "#0d0887"
                          ],
                          [
                            0.1111111111111111,
                            "#46039f"
                          ],
                          [
                            0.2222222222222222,
                            "#7201a8"
                          ],
                          [
                            0.3333333333333333,
                            "#9c179e"
                          ],
                          [
                            0.4444444444444444,
                            "#bd3786"
                          ],
                          [
                            0.5555555555555556,
                            "#d8576b"
                          ],
                          [
                            0.6666666666666666,
                            "#ed7953"
                          ],
                          [
                            0.7777777777777778,
                            "#fb9f3a"
                          ],
                          [
                            0.8888888888888888,
                            "#fdca26"
                          ],
                          [
                            1,
                            "#f0f921"
                          ]
                        ],
                        "type": "surface"
                      }
                    ],
                    "table": [
                      {
                        "cells": {
                          "fill": {
                            "color": "#EBF0F8"
                          },
                          "line": {
                            "color": "white"
                          }
                        },
                        "header": {
                          "fill": {
                            "color": "#C8D4E3"
                          },
                          "line": {
                            "color": "white"
                          }
                        },
                        "type": "table"
                      }
                    ]
                  },
                  "layout": {
                    "annotationdefaults": {
                      "arrowcolor": "#2a3f5f",
                      "arrowhead": 0,
                      "arrowwidth": 1
                    },
                    "autotypenumbers": "strict",
                    "coloraxis": {
                      "colorbar": {
                        "outlinewidth": 0,
                        "ticks": ""
                      }
                    },
                    "colorscale": {
                      "diverging": [
                        [
                          0,
                          "#8e0152"
                        ],
                        [
                          0.1,
                          "#c51b7d"
                        ],
                        [
                          0.2,
                          "#de77ae"
                        ],
                        [
                          0.3,
                          "#f1b6da"
                        ],
                        [
                          0.4,
                          "#fde0ef"
                        ],
                        [
                          0.5,
                          "#f7f7f7"
                        ],
                        [
                          0.6,
                          "#e6f5d0"
                        ],
                        [
                          0.7,
                          "#b8e186"
                        ],
                        [
                          0.8,
                          "#7fbc41"
                        ],
                        [
                          0.9,
                          "#4d9221"
                        ],
                        [
                          1,
                          "#276419"
                        ]
                      ],
                      "sequential": [
                        [
                          0,
                          "#0d0887"
                        ],
                        [
                          0.1111111111111111,
                          "#46039f"
                        ],
                        [
                          0.2222222222222222,
                          "#7201a8"
                        ],
                        [
                          0.3333333333333333,
                          "#9c179e"
                        ],
                        [
                          0.4444444444444444,
                          "#bd3786"
                        ],
                        [
                          0.5555555555555556,
                          "#d8576b"
                        ],
                        [
                          0.6666666666666666,
                          "#ed7953"
                        ],
                        [
                          0.7777777777777778,
                          "#fb9f3a"
                        ],
                        [
                          0.8888888888888888,
                          "#fdca26"
                        ],
                        [
                          1,
                          "#f0f921"
                        ]
                      ],
                      "sequentialminus": [
                        [
                          0,
                          "#0d0887"
                        ],
                        [
                          0.1111111111111111,
                          "#46039f"
                        ],
                        [
                          0.2222222222222222,
                          "#7201a8"
                        ],
                        [
                          0.3333333333333333,
                          "#9c179e"
                        ],
                        [
                          0.4444444444444444,
                          "#bd3786"
                        ],
                        [
                          0.5555555555555556,
                          "#d8576b"
                        ],
                        [
                          0.6666666666666666,
                          "#ed7953"
                        ],
                        [
                          0.7777777777777778,
                          "#fb9f3a"
                        ],
                        [
                          0.8888888888888888,
                          "#fdca26"
                        ],
                        [
                          1,
                          "#f0f921"
                        ]
                      ]
                    },
                    "colorway": [
                      "#636efa",
                      "#EF553B",
                      "#00cc96",
                      "#ab63fa",
                      "#FFA15A",
                      "#19d3f3",
                      "#FF6692",
                      "#B6E880",
                      "#FF97FF",
                      "#FECB52"
                    ],
                    "font": {
                      "color": "#2a3f5f"
                    },
                    "geo": {
                      "bgcolor": "white",
                      "lakecolor": "white",
                      "landcolor": "#E5ECF6",
                      "showlakes": true,
                      "showland": true,
                      "subunitcolor": "white"
                    },
                    "hoverlabel": {
                      "align": "left"
                    },
                    "hovermode": "closest",
                    "mapbox": {
                      "style": "light"
                    },
                    "paper_bgcolor": "white",
                    "plot_bgcolor": "#E5ECF6",
                    "polar": {
                      "angularaxis": {
                        "gridcolor": "white",
                        "linecolor": "white",
                        "ticks": ""
                      },
                      "bgcolor": "#E5ECF6",
                      "radialaxis": {
                        "gridcolor": "white",
                        "linecolor": "white",
                        "ticks": ""
                      }
                    },
                    "scene": {
                      "xaxis": {
                        "backgroundcolor": "#E5ECF6",
                        "gridcolor": "white",
                        "gridwidth": 2,
                        "linecolor": "white",
                        "showbackground": true,
                        "ticks": "",
                        "zerolinecolor": "white"
                      },
                      "yaxis": {
                        "backgroundcolor": "#E5ECF6",
                        "gridcolor": "white",
                        "gridwidth": 2,
                        "linecolor": "white",
                        "showbackground": true,
                        "ticks": "",
                        "zerolinecolor": "white"
                      },
                      "zaxis": {
                        "backgroundcolor": "#E5ECF6",
                        "gridcolor": "white",
                        "gridwidth": 2,
                        "linecolor": "white",
                        "showbackground": true,
                        "ticks": "",
                        "zerolinecolor": "white"
                      }
                    },
                    "shapedefaults": {
                      "line": {
                        "color": "#2a3f5f"
                      }
                    },
                    "ternary": {
                      "aaxis": {
                        "gridcolor": "white",
                        "linecolor": "white",
                        "ticks": ""
                      },
                      "baxis": {
                        "gridcolor": "white",
                        "linecolor": "white",
                        "ticks": ""
                      },
                      "bgcolor": "#E5ECF6",
                      "caxis": {
                        "gridcolor": "white",
                        "linecolor": "white",
                        "ticks": ""
                      }
                    },
                    "title": {
                      "x": 0.05
                    },
                    "xaxis": {
                      "automargin": true,
                      "gridcolor": "white",
                      "linecolor": "white",
                      "ticks": "",
                      "title": {
                        "standoff": 15
                      },
                      "zerolinecolor": "white",
                      "zerolinewidth": 2
                    },
                    "yaxis": {
                      "automargin": true,
                      "gridcolor": "white",
                      "linecolor": "white",
                      "ticks": "",
                      "title": {
                        "standoff": 15
                      },
                      "zerolinecolor": "white",
                      "zerolinewidth": 2
                    }
                  }
                },
                "title": {
                  "text": "Evolución de la posición de la cadera y la rodilla con respecto al tiempo (Video 1)"
                },
                "width": 800,
                "xaxis": {
                  "anchor": "y",
                  "domain": [
                    0,
                    1
                  ],
                  "range": [
                    0,
                    253
                  ],
                  "title": {
                    "text": "Tiempo"
                  }
                },
                "yaxis": {
                  "anchor": "x",
                  "autorange": "reversed",
                  "domain": [
                    0,
                    1
                  ],
                  "title": {
                    "text": "Posición"
                  }
                },
                "yaxis2": {
                  "autorange": "reversed",
                  "title": {
                    "text": "Posición"
                  }
                }
              }
            }
          },
          "metadata": {},
          "output_type": "display_data"
        },
        {
          "data": {
            "application/vnd.plotly.v1+json": {
              "config": {
                "plotlyServerURL": "https://plot.ly"
              },
              "data": [
                {
                  "line": {
                    "color": "blue"
                  },
                  "mode": "lines",
                  "name": "Altura de la cadera (Video 2)",
                  "type": "scatter",
                  "x": [
                    0,
                    1,
                    2,
                    3,
                    4,
                    5,
                    6,
                    7,
                    8,
                    9,
                    10,
                    11,
                    12,
                    13,
                    14,
                    15,
                    16,
                    17,
                    18,
                    19,
                    20,
                    21,
                    22,
                    23,
                    24,
                    25,
                    26,
                    27,
                    28,
                    29,
                    30,
                    31,
                    32,
                    33,
                    34,
                    35,
                    36,
                    37,
                    38,
                    39,
                    40,
                    41,
                    42,
                    43,
                    44,
                    45,
                    46,
                    47,
                    48,
                    49,
                    50,
                    51,
                    52,
                    53,
                    54,
                    55,
                    56,
                    57,
                    58,
                    59,
                    60,
                    61,
                    62,
                    63,
                    64,
                    65,
                    66,
                    67,
                    68,
                    69,
                    70,
                    71,
                    72,
                    73,
                    74,
                    75,
                    76,
                    77,
                    78,
                    79,
                    80,
                    81,
                    82,
                    83,
                    84,
                    85,
                    86,
                    87,
                    88,
                    89,
                    90,
                    91,
                    92,
                    93,
                    94,
                    95,
                    96,
                    97,
                    98,
                    99,
                    100,
                    101,
                    102,
                    103,
                    104,
                    105,
                    106,
                    107,
                    108,
                    109,
                    110,
                    111,
                    112,
                    113,
                    114,
                    115,
                    116,
                    117,
                    118,
                    119,
                    120,
                    121,
                    122,
                    123,
                    124,
                    125,
                    126,
                    127,
                    128,
                    129,
                    130,
                    131,
                    132,
                    133,
                    134,
                    135,
                    136,
                    137,
                    138,
                    139,
                    140,
                    141,
                    142,
                    143,
                    144,
                    145,
                    146,
                    147,
                    148,
                    149,
                    150,
                    151,
                    152,
                    153,
                    154,
                    155,
                    156,
                    157,
                    158,
                    159,
                    160,
                    161,
                    162,
                    163,
                    164,
                    165,
                    166,
                    167,
                    168,
                    169,
                    170,
                    171,
                    172,
                    173,
                    174,
                    175
                  ],
                  "xaxis": "x",
                  "y": [
                    null,
                    null,
                    null,
                    null,
                    null,
                    null,
                    null,
                    null,
                    null,
                    null,
                    null,
                    null,
                    null,
                    null,
                    null,
                    null,
                    null,
                    null,
                    null,
                    null,
                    null,
                    null,
                    null,
                    null,
                    null,
                    null,
                    null,
                    null,
                    null,
                    null,
                    null,
                    null,
                    null,
                    null,
                    null,
                    null,
                    null,
                    null,
                    null,
                    null,
                    null,
                    null,
                    null,
                    null,
                    null,
                    null,
                    null,
                    null,
                    null,
                    0.5756119513511657,
                    0.5771057581901551,
                    0.5786152851581573,
                    0.5802292907238007,
                    0.5818287765979767,
                    0.5834521293640137,
                    0.5850330972671509,
                    0.5866268420219422,
                    0.5882011413574219,
                    0.5897868716716766,
                    0.591358562707901,
                    0.5929341781139373,
                    0.5945521104335785,
                    0.5962183332443237,
                    0.5979434716701507,
                    0.5997982585430145,
                    0.6016805851459504,
                    0.603572791814804,
                    0.6055878818035125,
                    0.6077504110336304,
                    0.6099263298511505,
                    0.6121978747844696,
                    0.6144598054885865,
                    0.6167361021041871,
                    0.6189251637458801,
                    0.6210335540771484,
                    0.6231410813331604,
                    0.6253060638904572,
                    0.6274551653861999,
                    0.6295749235153199,
                    0.6317618620395661,
                    0.6340098452568054,
                    0.6362938117980957,
                    0.6385598731040955,
                    0.6408376145362854,
                    0.6430686557292938,
                    0.6452710258960724,
                    0.6474113655090332,
                    0.649469747543335,
                    0.6515280246734619,
                    0.6534601056575775,
                    0.655286169052124,
                    0.6570201516151428,
                    0.6587341499328613,
                    0.6602491211891174,
                    0.6615383386611938,
                    0.6627317655086518,
                    0.6638190603256225,
                    0.6647941148281098,
                    0.6655994153022766,
                    0.666294070482254,
                    0.6669601082801819,
                    0.6675335443019867,
                    0.667983649969101,
                    0.6683565211296082,
                    0.6686134231090546,
                    0.6687939560413361,
                    0.6688920485973359,
                    0.6689235556125641,
                    0.6688681960105896,
                    0.6688142335414886,
                    0.6686465167999267,
                    0.668354126214981,
                    0.6679765474796295,
                    0.66744194149971,
                    0.6666967964172363,
                    0.6658793425559998,
                    0.6650437545776368,
                    0.6640128457546234,
                    0.6628331625461579,
                    0.6615830254554749,
                    0.6602589046955109,
                    0.6589287900924683,
                    0.6574955236911774,
                    0.6559465146064758,
                    0.6543093430995941,
                    0.6525662159919738,
                    0.6507569205760956,
                    0.6488634550571442,
                    0.6468246424198151,
                    0.644719444513321,
                    0.6425370800495148,
                    0.6402839136123657,
                    0.6380529630184174,
                    0.6357754242420196,
                    0.6334298622608184,
                    0.6310434257984161,
                    0.6286890375614166,
                    0.6263394558429718,
                    0.6239024841785431,
                    0.6215225327014923,
                    0.619186497926712,
                    0.6168989551067352,
                    0.6145895981788635,
                    0.612305463552475,
                    0.6100757217407227,
                    0.6077935981750489,
                    0.6055441343784332,
                    0.603341076374054,
                    0.6011775851249694,
                    0.5991830706596375,
                    0.5972626209259033,
                    0.5954096746444703,
                    0.5935891497135163,
                    0.5918579328060151,
                    0.5901899659633636,
                    0.5886311340332031,
                    0.5872661471366882,
                    0.5859767377376557,
                    0.5847264361381531,
                    0.5834570586681366,
                    0.5822583770751953,
                    0.5811015450954438,
                    0.579968090057373,
                    0.5788459181785583,
                    0.5778065025806427,
                    0.5768141341209412,
                    0.5758273839950562,
                    0.574910877943039,
                    0.5739626920223236,
                    0.5730475008487701,
                    0.5721587646007538,
                    0.5712684035301209,
                    0.5704649448394775,
                    0.5696963596343995,
                    0.5691010141372681,
                    0.568532155752182
                  ],
                  "yaxis": "y"
                },
                {
                  "line": {
                    "color": "red"
                  },
                  "mode": "lines",
                  "name": "Posición de la rodilla (Video 2)",
                  "type": "scatter",
                  "x": [
                    0,
                    1,
                    2,
                    3,
                    4,
                    5,
                    6,
                    7,
                    8,
                    9,
                    10,
                    11,
                    12,
                    13,
                    14,
                    15,
                    16,
                    17,
                    18,
                    19,
                    20,
                    21,
                    22,
                    23,
                    24,
                    25,
                    26,
                    27,
                    28,
                    29,
                    30,
                    31,
                    32,
                    33,
                    34,
                    35,
                    36,
                    37,
                    38,
                    39,
                    40,
                    41,
                    42,
                    43,
                    44,
                    45,
                    46,
                    47,
                    48,
                    49,
                    50,
                    51,
                    52,
                    53,
                    54,
                    55,
                    56,
                    57,
                    58,
                    59,
                    60,
                    61,
                    62,
                    63,
                    64,
                    65,
                    66,
                    67,
                    68,
                    69,
                    70,
                    71,
                    72,
                    73,
                    74,
                    75,
                    76,
                    77,
                    78,
                    79,
                    80,
                    81,
                    82,
                    83,
                    84,
                    85,
                    86,
                    87,
                    88,
                    89,
                    90,
                    91,
                    92,
                    93,
                    94,
                    95,
                    96,
                    97,
                    98,
                    99,
                    100,
                    101,
                    102,
                    103,
                    104,
                    105,
                    106,
                    107,
                    108,
                    109,
                    110,
                    111,
                    112,
                    113,
                    114,
                    115,
                    116,
                    117,
                    118,
                    119,
                    120,
                    121,
                    122,
                    123,
                    124,
                    125,
                    126,
                    127,
                    128,
                    129,
                    130,
                    131,
                    132,
                    133,
                    134,
                    135,
                    136,
                    137,
                    138,
                    139,
                    140,
                    141,
                    142,
                    143,
                    144,
                    145,
                    146,
                    147,
                    148,
                    149,
                    150,
                    151,
                    152,
                    153,
                    154,
                    155,
                    156,
                    157,
                    158,
                    159,
                    160,
                    161,
                    162,
                    163,
                    164,
                    165,
                    166,
                    167,
                    168,
                    169,
                    170,
                    171,
                    172,
                    173,
                    174,
                    175
                  ],
                  "xaxis": "x",
                  "y": [
                    null,
                    null,
                    null,
                    null,
                    null,
                    null,
                    null,
                    null,
                    null,
                    null,
                    null,
                    null,
                    null,
                    null,
                    null,
                    null,
                    null,
                    null,
                    null,
                    null,
                    null,
                    null,
                    null,
                    null,
                    null,
                    null,
                    null,
                    null,
                    null,
                    null,
                    null,
                    null,
                    null,
                    null,
                    null,
                    null,
                    null,
                    null,
                    null,
                    null,
                    null,
                    null,
                    null,
                    null,
                    null,
                    null,
                    null,
                    null,
                    null,
                    0.6640573370456696,
                    0.6641079401969909,
                    0.664099074602127,
                    0.6642231738567352,
                    0.664310485124588,
                    0.6644429659843445,
                    0.6644821417331696,
                    0.6645322036743164,
                    0.6645686459541321,
                    0.6647211062908173,
                    0.6649379622936249,
                    0.6649923753738404,
                    0.6650429141521453,
                    0.6650172233581543,
                    0.6649443292617798,
                    0.6649534034729004,
                    0.6650424563884735,
                    0.6654482758045197,
                    0.666059113740921,
                    0.6665757250785828,
                    0.6670800876617432,
                    0.6679072558879853,
                    0.6686625552177429,
                    0.6694201529026031,
                    0.6701963114738464,
                    0.6710648620128632,
                    0.6720361065864563,
                    0.6729384934902192,
                    0.6738075804710388,
                    0.6746166658401489,
                    0.6754744923114777,
                    0.6763114035129547,
                    0.6771488749980926,
                    0.6783745646476745,
                    0.6795885813236237,
                    0.6807225275039673,
                    0.6819102096557618,
                    0.6831561958789826,
                    0.6844051134586334,
                    0.6856575584411622,
                    0.6867738795280457,
                    0.6878903818130493,
                    0.6891482961177826,
                    0.6903414070606232,
                    0.6912321269512176,
                    0.6917935204505921,
                    0.692214412689209,
                    0.6926722860336304,
                    0.6930075335502625,
                    0.6931982982158661,
                    0.6932713949680328,
                    0.6933933198451996,
                    0.6934871542453765,
                    0.6934656250476837,
                    0.6934770619869233,
                    0.6934154963493347,
                    0.6934307003021241,
                    0.6934054291248322,
                    0.6934132766723633,
                    0.693284912109375,
                    0.6931064093112945,
                    0.6930542731285095,
                    0.6929079174995423,
                    0.6928511500358582,
                    0.692839275598526,
                    0.6927235996723176,
                    0.6925979936122895,
                    0.6922069692611694,
                    0.6916930758953095,
                    0.6912488472461701,
                    0.690854400396347,
                    0.6901993536949158,
                    0.6896153509616851,
                    0.6888190770149231,
                    0.6880611836910248,
                    0.6872350311279297,
                    0.6863361191749573,
                    0.6854414832592011,
                    0.6845300674438477,
                    0.6836206161975861,
                    0.6825602638721466,
                    0.6815687596797944,
                    0.6808253180980682,
                    0.6801762890815735,
                    0.6794065546989441,
                    0.6786353039741516,
                    0.6779572260379791,
                    0.6772904455661773,
                    0.6766476535797119,
                    0.675997326374054,
                    0.6756062304973602,
                    0.6751855790615082,
                    0.6745906472206116,
                    0.6740456283092499,
                    0.6736207604408264,
                    0.6732622694969177,
                    0.6730843579769135,
                    0.6729591023921967,
                    0.6729814350605011,
                    0.6731087946891785,
                    0.6733544242382049,
                    0.6735660541057586,
                    0.6738220727443696,
                    0.674063322544098,
                    0.674303994178772,
                    0.6745366156101227,
                    0.6747202837467193,
                    0.6749929964542389,
                    0.6753029656410218,
                    0.6756301283836365,
                    0.6759480047225952,
                    0.6762929332256317,
                    0.6767268097400665,
                    0.6771655261516571,
                    0.6775958621501923,
                    0.6780726492404938,
                    0.6785409235954285,
                    0.6789568793773652,
                    0.6793352627754211,
                    0.6797384417057037,
                    0.6801395010948181,
                    0.6805635917186738,
                    0.6809665536880494,
                    0.6816022276878357,
                    0.6822439873218537,
                    0.6828535616397857,
                    0.6834456694126129
                  ],
                  "yaxis": "y"
                }
              ],
              "layout": {
                "height": 600,
                "legend": {
                  "x": 0.7,
                  "y": 1.1
                },
                "template": {
                  "data": {
                    "bar": [
                      {
                        "error_x": {
                          "color": "#2a3f5f"
                        },
                        "error_y": {
                          "color": "#2a3f5f"
                        },
                        "marker": {
                          "line": {
                            "color": "#E5ECF6",
                            "width": 0.5
                          },
                          "pattern": {
                            "fillmode": "overlay",
                            "size": 10,
                            "solidity": 0.2
                          }
                        },
                        "type": "bar"
                      }
                    ],
                    "barpolar": [
                      {
                        "marker": {
                          "line": {
                            "color": "#E5ECF6",
                            "width": 0.5
                          },
                          "pattern": {
                            "fillmode": "overlay",
                            "size": 10,
                            "solidity": 0.2
                          }
                        },
                        "type": "barpolar"
                      }
                    ],
                    "carpet": [
                      {
                        "aaxis": {
                          "endlinecolor": "#2a3f5f",
                          "gridcolor": "white",
                          "linecolor": "white",
                          "minorgridcolor": "white",
                          "startlinecolor": "#2a3f5f"
                        },
                        "baxis": {
                          "endlinecolor": "#2a3f5f",
                          "gridcolor": "white",
                          "linecolor": "white",
                          "minorgridcolor": "white",
                          "startlinecolor": "#2a3f5f"
                        },
                        "type": "carpet"
                      }
                    ],
                    "choropleth": [
                      {
                        "colorbar": {
                          "outlinewidth": 0,
                          "ticks": ""
                        },
                        "type": "choropleth"
                      }
                    ],
                    "contour": [
                      {
                        "colorbar": {
                          "outlinewidth": 0,
                          "ticks": ""
                        },
                        "colorscale": [
                          [
                            0,
                            "#0d0887"
                          ],
                          [
                            0.1111111111111111,
                            "#46039f"
                          ],
                          [
                            0.2222222222222222,
                            "#7201a8"
                          ],
                          [
                            0.3333333333333333,
                            "#9c179e"
                          ],
                          [
                            0.4444444444444444,
                            "#bd3786"
                          ],
                          [
                            0.5555555555555556,
                            "#d8576b"
                          ],
                          [
                            0.6666666666666666,
                            "#ed7953"
                          ],
                          [
                            0.7777777777777778,
                            "#fb9f3a"
                          ],
                          [
                            0.8888888888888888,
                            "#fdca26"
                          ],
                          [
                            1,
                            "#f0f921"
                          ]
                        ],
                        "type": "contour"
                      }
                    ],
                    "contourcarpet": [
                      {
                        "colorbar": {
                          "outlinewidth": 0,
                          "ticks": ""
                        },
                        "type": "contourcarpet"
                      }
                    ],
                    "heatmap": [
                      {
                        "colorbar": {
                          "outlinewidth": 0,
                          "ticks": ""
                        },
                        "colorscale": [
                          [
                            0,
                            "#0d0887"
                          ],
                          [
                            0.1111111111111111,
                            "#46039f"
                          ],
                          [
                            0.2222222222222222,
                            "#7201a8"
                          ],
                          [
                            0.3333333333333333,
                            "#9c179e"
                          ],
                          [
                            0.4444444444444444,
                            "#bd3786"
                          ],
                          [
                            0.5555555555555556,
                            "#d8576b"
                          ],
                          [
                            0.6666666666666666,
                            "#ed7953"
                          ],
                          [
                            0.7777777777777778,
                            "#fb9f3a"
                          ],
                          [
                            0.8888888888888888,
                            "#fdca26"
                          ],
                          [
                            1,
                            "#f0f921"
                          ]
                        ],
                        "type": "heatmap"
                      }
                    ],
                    "heatmapgl": [
                      {
                        "colorbar": {
                          "outlinewidth": 0,
                          "ticks": ""
                        },
                        "colorscale": [
                          [
                            0,
                            "#0d0887"
                          ],
                          [
                            0.1111111111111111,
                            "#46039f"
                          ],
                          [
                            0.2222222222222222,
                            "#7201a8"
                          ],
                          [
                            0.3333333333333333,
                            "#9c179e"
                          ],
                          [
                            0.4444444444444444,
                            "#bd3786"
                          ],
                          [
                            0.5555555555555556,
                            "#d8576b"
                          ],
                          [
                            0.6666666666666666,
                            "#ed7953"
                          ],
                          [
                            0.7777777777777778,
                            "#fb9f3a"
                          ],
                          [
                            0.8888888888888888,
                            "#fdca26"
                          ],
                          [
                            1,
                            "#f0f921"
                          ]
                        ],
                        "type": "heatmapgl"
                      }
                    ],
                    "histogram": [
                      {
                        "marker": {
                          "pattern": {
                            "fillmode": "overlay",
                            "size": 10,
                            "solidity": 0.2
                          }
                        },
                        "type": "histogram"
                      }
                    ],
                    "histogram2d": [
                      {
                        "colorbar": {
                          "outlinewidth": 0,
                          "ticks": ""
                        },
                        "colorscale": [
                          [
                            0,
                            "#0d0887"
                          ],
                          [
                            0.1111111111111111,
                            "#46039f"
                          ],
                          [
                            0.2222222222222222,
                            "#7201a8"
                          ],
                          [
                            0.3333333333333333,
                            "#9c179e"
                          ],
                          [
                            0.4444444444444444,
                            "#bd3786"
                          ],
                          [
                            0.5555555555555556,
                            "#d8576b"
                          ],
                          [
                            0.6666666666666666,
                            "#ed7953"
                          ],
                          [
                            0.7777777777777778,
                            "#fb9f3a"
                          ],
                          [
                            0.8888888888888888,
                            "#fdca26"
                          ],
                          [
                            1,
                            "#f0f921"
                          ]
                        ],
                        "type": "histogram2d"
                      }
                    ],
                    "histogram2dcontour": [
                      {
                        "colorbar": {
                          "outlinewidth": 0,
                          "ticks": ""
                        },
                        "colorscale": [
                          [
                            0,
                            "#0d0887"
                          ],
                          [
                            0.1111111111111111,
                            "#46039f"
                          ],
                          [
                            0.2222222222222222,
                            "#7201a8"
                          ],
                          [
                            0.3333333333333333,
                            "#9c179e"
                          ],
                          [
                            0.4444444444444444,
                            "#bd3786"
                          ],
                          [
                            0.5555555555555556,
                            "#d8576b"
                          ],
                          [
                            0.6666666666666666,
                            "#ed7953"
                          ],
                          [
                            0.7777777777777778,
                            "#fb9f3a"
                          ],
                          [
                            0.8888888888888888,
                            "#fdca26"
                          ],
                          [
                            1,
                            "#f0f921"
                          ]
                        ],
                        "type": "histogram2dcontour"
                      }
                    ],
                    "mesh3d": [
                      {
                        "colorbar": {
                          "outlinewidth": 0,
                          "ticks": ""
                        },
                        "type": "mesh3d"
                      }
                    ],
                    "parcoords": [
                      {
                        "line": {
                          "colorbar": {
                            "outlinewidth": 0,
                            "ticks": ""
                          }
                        },
                        "type": "parcoords"
                      }
                    ],
                    "pie": [
                      {
                        "automargin": true,
                        "type": "pie"
                      }
                    ],
                    "scatter": [
                      {
                        "fillpattern": {
                          "fillmode": "overlay",
                          "size": 10,
                          "solidity": 0.2
                        },
                        "type": "scatter"
                      }
                    ],
                    "scatter3d": [
                      {
                        "line": {
                          "colorbar": {
                            "outlinewidth": 0,
                            "ticks": ""
                          }
                        },
                        "marker": {
                          "colorbar": {
                            "outlinewidth": 0,
                            "ticks": ""
                          }
                        },
                        "type": "scatter3d"
                      }
                    ],
                    "scattercarpet": [
                      {
                        "marker": {
                          "colorbar": {
                            "outlinewidth": 0,
                            "ticks": ""
                          }
                        },
                        "type": "scattercarpet"
                      }
                    ],
                    "scattergeo": [
                      {
                        "marker": {
                          "colorbar": {
                            "outlinewidth": 0,
                            "ticks": ""
                          }
                        },
                        "type": "scattergeo"
                      }
                    ],
                    "scattergl": [
                      {
                        "marker": {
                          "colorbar": {
                            "outlinewidth": 0,
                            "ticks": ""
                          }
                        },
                        "type": "scattergl"
                      }
                    ],
                    "scattermapbox": [
                      {
                        "marker": {
                          "colorbar": {
                            "outlinewidth": 0,
                            "ticks": ""
                          }
                        },
                        "type": "scattermapbox"
                      }
                    ],
                    "scatterpolar": [
                      {
                        "marker": {
                          "colorbar": {
                            "outlinewidth": 0,
                            "ticks": ""
                          }
                        },
                        "type": "scatterpolar"
                      }
                    ],
                    "scatterpolargl": [
                      {
                        "marker": {
                          "colorbar": {
                            "outlinewidth": 0,
                            "ticks": ""
                          }
                        },
                        "type": "scatterpolargl"
                      }
                    ],
                    "scatterternary": [
                      {
                        "marker": {
                          "colorbar": {
                            "outlinewidth": 0,
                            "ticks": ""
                          }
                        },
                        "type": "scatterternary"
                      }
                    ],
                    "surface": [
                      {
                        "colorbar": {
                          "outlinewidth": 0,
                          "ticks": ""
                        },
                        "colorscale": [
                          [
                            0,
                            "#0d0887"
                          ],
                          [
                            0.1111111111111111,
                            "#46039f"
                          ],
                          [
                            0.2222222222222222,
                            "#7201a8"
                          ],
                          [
                            0.3333333333333333,
                            "#9c179e"
                          ],
                          [
                            0.4444444444444444,
                            "#bd3786"
                          ],
                          [
                            0.5555555555555556,
                            "#d8576b"
                          ],
                          [
                            0.6666666666666666,
                            "#ed7953"
                          ],
                          [
                            0.7777777777777778,
                            "#fb9f3a"
                          ],
                          [
                            0.8888888888888888,
                            "#fdca26"
                          ],
                          [
                            1,
                            "#f0f921"
                          ]
                        ],
                        "type": "surface"
                      }
                    ],
                    "table": [
                      {
                        "cells": {
                          "fill": {
                            "color": "#EBF0F8"
                          },
                          "line": {
                            "color": "white"
                          }
                        },
                        "header": {
                          "fill": {
                            "color": "#C8D4E3"
                          },
                          "line": {
                            "color": "white"
                          }
                        },
                        "type": "table"
                      }
                    ]
                  },
                  "layout": {
                    "annotationdefaults": {
                      "arrowcolor": "#2a3f5f",
                      "arrowhead": 0,
                      "arrowwidth": 1
                    },
                    "autotypenumbers": "strict",
                    "coloraxis": {
                      "colorbar": {
                        "outlinewidth": 0,
                        "ticks": ""
                      }
                    },
                    "colorscale": {
                      "diverging": [
                        [
                          0,
                          "#8e0152"
                        ],
                        [
                          0.1,
                          "#c51b7d"
                        ],
                        [
                          0.2,
                          "#de77ae"
                        ],
                        [
                          0.3,
                          "#f1b6da"
                        ],
                        [
                          0.4,
                          "#fde0ef"
                        ],
                        [
                          0.5,
                          "#f7f7f7"
                        ],
                        [
                          0.6,
                          "#e6f5d0"
                        ],
                        [
                          0.7,
                          "#b8e186"
                        ],
                        [
                          0.8,
                          "#7fbc41"
                        ],
                        [
                          0.9,
                          "#4d9221"
                        ],
                        [
                          1,
                          "#276419"
                        ]
                      ],
                      "sequential": [
                        [
                          0,
                          "#0d0887"
                        ],
                        [
                          0.1111111111111111,
                          "#46039f"
                        ],
                        [
                          0.2222222222222222,
                          "#7201a8"
                        ],
                        [
                          0.3333333333333333,
                          "#9c179e"
                        ],
                        [
                          0.4444444444444444,
                          "#bd3786"
                        ],
                        [
                          0.5555555555555556,
                          "#d8576b"
                        ],
                        [
                          0.6666666666666666,
                          "#ed7953"
                        ],
                        [
                          0.7777777777777778,
                          "#fb9f3a"
                        ],
                        [
                          0.8888888888888888,
                          "#fdca26"
                        ],
                        [
                          1,
                          "#f0f921"
                        ]
                      ],
                      "sequentialminus": [
                        [
                          0,
                          "#0d0887"
                        ],
                        [
                          0.1111111111111111,
                          "#46039f"
                        ],
                        [
                          0.2222222222222222,
                          "#7201a8"
                        ],
                        [
                          0.3333333333333333,
                          "#9c179e"
                        ],
                        [
                          0.4444444444444444,
                          "#bd3786"
                        ],
                        [
                          0.5555555555555556,
                          "#d8576b"
                        ],
                        [
                          0.6666666666666666,
                          "#ed7953"
                        ],
                        [
                          0.7777777777777778,
                          "#fb9f3a"
                        ],
                        [
                          0.8888888888888888,
                          "#fdca26"
                        ],
                        [
                          1,
                          "#f0f921"
                        ]
                      ]
                    },
                    "colorway": [
                      "#636efa",
                      "#EF553B",
                      "#00cc96",
                      "#ab63fa",
                      "#FFA15A",
                      "#19d3f3",
                      "#FF6692",
                      "#B6E880",
                      "#FF97FF",
                      "#FECB52"
                    ],
                    "font": {
                      "color": "#2a3f5f"
                    },
                    "geo": {
                      "bgcolor": "white",
                      "lakecolor": "white",
                      "landcolor": "#E5ECF6",
                      "showlakes": true,
                      "showland": true,
                      "subunitcolor": "white"
                    },
                    "hoverlabel": {
                      "align": "left"
                    },
                    "hovermode": "closest",
                    "mapbox": {
                      "style": "light"
                    },
                    "paper_bgcolor": "white",
                    "plot_bgcolor": "#E5ECF6",
                    "polar": {
                      "angularaxis": {
                        "gridcolor": "white",
                        "linecolor": "white",
                        "ticks": ""
                      },
                      "bgcolor": "#E5ECF6",
                      "radialaxis": {
                        "gridcolor": "white",
                        "linecolor": "white",
                        "ticks": ""
                      }
                    },
                    "scene": {
                      "xaxis": {
                        "backgroundcolor": "#E5ECF6",
                        "gridcolor": "white",
                        "gridwidth": 2,
                        "linecolor": "white",
                        "showbackground": true,
                        "ticks": "",
                        "zerolinecolor": "white"
                      },
                      "yaxis": {
                        "backgroundcolor": "#E5ECF6",
                        "gridcolor": "white",
                        "gridwidth": 2,
                        "linecolor": "white",
                        "showbackground": true,
                        "ticks": "",
                        "zerolinecolor": "white"
                      },
                      "zaxis": {
                        "backgroundcolor": "#E5ECF6",
                        "gridcolor": "white",
                        "gridwidth": 2,
                        "linecolor": "white",
                        "showbackground": true,
                        "ticks": "",
                        "zerolinecolor": "white"
                      }
                    },
                    "shapedefaults": {
                      "line": {
                        "color": "#2a3f5f"
                      }
                    },
                    "ternary": {
                      "aaxis": {
                        "gridcolor": "white",
                        "linecolor": "white",
                        "ticks": ""
                      },
                      "baxis": {
                        "gridcolor": "white",
                        "linecolor": "white",
                        "ticks": ""
                      },
                      "bgcolor": "#E5ECF6",
                      "caxis": {
                        "gridcolor": "white",
                        "linecolor": "white",
                        "ticks": ""
                      }
                    },
                    "title": {
                      "x": 0.05
                    },
                    "xaxis": {
                      "automargin": true,
                      "gridcolor": "white",
                      "linecolor": "white",
                      "ticks": "",
                      "title": {
                        "standoff": 15
                      },
                      "zerolinecolor": "white",
                      "zerolinewidth": 2
                    },
                    "yaxis": {
                      "automargin": true,
                      "gridcolor": "white",
                      "linecolor": "white",
                      "ticks": "",
                      "title": {
                        "standoff": 15
                      },
                      "zerolinecolor": "white",
                      "zerolinewidth": 2
                    }
                  }
                },
                "title": {
                  "text": "Evolución de la posición de la cadera y la rodilla con respecto al tiempo (Video 2)"
                },
                "width": 800,
                "xaxis": {
                  "anchor": "y",
                  "domain": [
                    0,
                    1
                  ],
                  "range": [
                    0,
                    175
                  ],
                  "title": {
                    "text": "Tiempo"
                  }
                },
                "yaxis": {
                  "anchor": "x",
                  "autorange": "reversed",
                  "domain": [
                    0,
                    1
                  ],
                  "title": {
                    "text": "Posición"
                  }
                },
                "yaxis2": {
                  "autorange": "reversed",
                  "title": {
                    "text": "Posición"
                  }
                }
              }
            }
          },
          "metadata": {},
          "output_type": "display_data"
        },
        {
          "data": {
            "application/vnd.plotly.v1+json": {
              "config": {
                "plotlyServerURL": "https://plot.ly"
              },
              "data": [
                {
                  "mode": "lines",
                  "name": "Posición de la cadera (Video 1)",
                  "type": "scatter",
                  "x": [
                    null,
                    0.0179856115107913,
                    0.0359712230215827,
                    0.0539568345323741,
                    0.0719424460431654,
                    0.0899280575539568,
                    0.1079136690647482,
                    0.1258992805755395,
                    0.1438848920863309,
                    0.1618705035971223,
                    0.1798561151079136,
                    0.197841726618705,
                    0.2158273381294964,
                    0.2338129496402877,
                    0.2517985611510791,
                    0.2697841726618705,
                    0.2877697841726618,
                    0.3057553956834532,
                    0.3237410071942446,
                    0.3417266187050359,
                    0.3597122302158273,
                    0.3776978417266187,
                    0.39568345323741,
                    0.4136690647482014,
                    0.4316546762589928,
                    0.4496402877697841,
                    0.4676258992805755,
                    0.4856115107913669,
                    0.5035971223021583,
                    0.5215827338129496,
                    0.539568345323741,
                    0.5575539568345323,
                    0.5755395683453237,
                    0.5935251798561151,
                    0.6115107913669064,
                    0.6294964028776978,
                    0.6474820143884892,
                    0.6654676258992805,
                    0.6834532374100719,
                    0.7014388489208633,
                    0.7194244604316546,
                    0.737410071942446,
                    0.7553956834532374,
                    0.7733812949640287,
                    0.7913669064748201,
                    0.8093525179856115,
                    0.8273381294964028,
                    0.8453237410071942,
                    0.8633093525179856,
                    0.8812949640287769,
                    0.8992805755395683,
                    0.9172661870503596,
                    0.935251798561151,
                    0.9532374100719424,
                    0.9712230215827338,
                    0.9892086330935252,
                    1.0071942446043165,
                    1.0251798561151078,
                    1.0431654676258992,
                    1.0611510791366907,
                    1.079136690647482,
                    1.0971223021582732,
                    1.1151079136690647,
                    1.1330935251798562,
                    1.1510791366906474,
                    1.169064748201439,
                    1.1870503597122302,
                    1.2050359712230216,
                    1.223021582733813,
                    1.2410071942446042,
                    1.2589928057553956,
                    1.276978417266187,
                    1.2949640287769784,
                    1.3129496402877696,
                    1.330935251798561,
                    1.3489208633093526,
                    1.3669064748201438,
                    1.384892086330935,
                    1.4028776978417266,
                    1.420863309352518,
                    1.4388489208633093,
                    1.4568345323741003,
                    1.474820143884892,
                    1.4928057553956835,
                    1.5107913669064748,
                    1.528776978417266,
                    1.5467625899280577,
                    1.564748201438849,
                    1.5827338129496402,
                    1.6007194244604317,
                    1.618705035971223,
                    1.6366906474820144,
                    1.6546762589928057,
                    1.672661870503597,
                    1.6906474820143884,
                    1.70863309352518,
                    1.7266187050359711,
                    1.7446043165467624,
                    1.762589928057554,
                    1.7805755395683454,
                    1.7985611510791366,
                    1.816546762589928,
                    1.8345323741007196,
                    1.8525179856115108,
                    1.870503597122302,
                    1.888489208633093,
                    1.9064748201438848,
                    1.9244604316546765,
                    1.9424460431654675,
                    1.9604316546762588,
                    1.9784172661870505,
                    1.9964028776978415,
                    2.014388489208633,
                    2.0323741007194243,
                    2.0503597122302155,
                    2.068345323741007,
                    2.0863309352517985,
                    2.1043165467625897,
                    2.122302158273381,
                    2.1402877697841727,
                    2.158273381294964,
                    2.176258992805755,
                    2.1942446043165464,
                    2.212230215827338,
                    2.2302158273381294,
                    2.2482014388489207,
                    2.2661870503597124,
                    2.284172661870504,
                    2.302158273381295,
                    2.320143884892086,
                    2.3381294964028774,
                    2.356115107913669,
                    2.3741007194244603,
                    2.392086330935252,
                    2.4100719424460437,
                    2.4280575539568345,
                    2.446043165467626,
                    2.464028776978417,
                    2.4820143884892083,
                    2.5,
                    2.5179856115107917,
                    2.5359712230215825,
                    2.553956834532374,
                    2.571942446043165,
                    2.5899280575539567,
                    2.607913669064748,
                    2.6258992805755392,
                    2.643884892086331,
                    2.661870503597122,
                    2.679856115107913,
                    2.697841726618705,
                    2.7158273381294964,
                    2.733812949640288,
                    2.751798561151079,
                    2.76978417266187,
                    2.787769784172662,
                    2.805755395683453,
                    2.8237410071942444,
                    2.841726618705036,
                    2.8597122302158278,
                    2.8776978417266186,
                    2.89568345323741,
                    2.913669064748201,
                    2.931654676258993,
                    2.949640287769784,
                    2.9676258992805757,
                    2.985611510791367,
                    3.0035971223021583,
                    3.021582733812949,
                    3.0395683453237408,
                    3.057553956834532,
                    3.075539568345324,
                    3.093525179856115,
                    3.1115107913669062,
                    3.129496402877698,
                    3.147482014388489,
                    3.1654676258992804,
                    3.183453237410072,
                    3.201438848920863,
                    3.219424460431654,
                    3.237410071942446,
                    3.255395683453237,
                    3.273381294964029,
                    3.29136690647482,
                    3.309352517985612,
                    3.3273381294964026,
                    3.345323741007194,
                    3.3633093525179856,
                    3.381294964028777,
                    3.399280575539568,
                    3.41726618705036,
                    3.435251798561151,
                    3.4532374100719423,
                    3.471223021582733,
                    3.489208633093525,
                    3.5071942446043165,
                    3.525179856115108,
                    3.543165467625899,
                    3.5611510791366907,
                    3.579136690647482,
                    3.597122302158273,
                    3.615107913669065,
                    3.633093525179856,
                    3.651079136690648,
                    3.669064748201439,
                    3.68705035971223,
                    3.7050359712230216,
                    3.723021582733813,
                    3.741007194244604,
                    3.7589928057553954,
                    3.776978417266186,
                    3.7949640287769775,
                    3.8129496402877696,
                    3.830935251798561,
                    3.848920863309353,
                    3.866906474820144,
                    3.884892086330935,
                    3.9028776978417263,
                    3.9208633093525176,
                    3.938848920863309,
                    3.956834532374101,
                    3.974820143884892,
                    3.992805755395684,
                    4.010791366906474,
                    4.028776978417266,
                    4.046762589928058,
                    4.0647482014388485,
                    4.08273381294964,
                    4.100719424460431,
                    4.118705035971223,
                    4.136690647482014,
                    4.154676258992805,
                    4.172661870503597,
                    4.190647482014389,
                    4.2086330935251794,
                    4.226618705035971,
                    4.244604316546763,
                    4.262589928057554,
                    4.280575539568345,
                    4.298561151079136,
                    4.316546762589928,
                    4.33453237410072,
                    4.35251798561151,
                    4.370503597122302,
                    4.388489208633093,
                    4.406474820143885,
                    4.424460431654676,
                    4.442446043165467,
                    4.460431654676259,
                    4.4784172661870505,
                    4.496402877697841,
                    4.514388489208633,
                    4.532374100719425,
                    4.550359712230216
                  ],
                  "y": [
                    null,
                    null,
                    null,
                    null,
                    null,
                    null,
                    null,
                    null,
                    null,
                    null,
                    null,
                    null,
                    null,
                    null,
                    null,
                    null,
                    null,
                    null,
                    null,
                    null,
                    null,
                    null,
                    null,
                    null,
                    null,
                    null,
                    null,
                    null,
                    null,
                    null,
                    null,
                    null,
                    null,
                    null,
                    null,
                    null,
                    null,
                    null,
                    null,
                    null,
                    null,
                    null,
                    null,
                    null,
                    null,
                    null,
                    null,
                    null,
                    null,
                    0.6227225351333618,
                    0.6235052382946015,
                    0.624326331615448,
                    0.6251921617984771,
                    0.6260850238800049,
                    0.6269774854183197,
                    0.6279210364818573,
                    0.6289318680763245,
                    0.6300116813182831,
                    0.6311749410629273,
                    0.6323345053195953,
                    0.6334971034526825,
                    0.6346467995643615,
                    0.6358390235900879,
                    0.6370343148708344,
                    0.6382157731056214,
                    0.6394067001342774,
                    0.6406087005138397,
                    0.6418530213832855,
                    0.6431165635585785,
                    0.644394439458847,
                    0.6457046687602996,
                    0.6470437037944794,
                    0.6484301054477691,
                    0.6498387253284454,
                    0.6512862026691437,
                    0.6527061319351196,
                    0.6541357183456421,
                    0.6555979669094085,
                    0.6571099555492401,
                    0.6586762273311615,
                    0.6602608537673951,
                    0.6618234491348267,
                    0.6634114742279053,
                    0.6650053215026855,
                    0.6665841102600097,
                    0.6681867241859436,
                    0.6697619342803955,
                    0.6713582217693329,
                    0.6729428243637084,
                    0.6745166277885437,
                    0.6761223983764648,
                    0.677712504863739,
                    0.6793094933032989,
                    0.6809335660934448,
                    0.6825698804855347,
                    0.6842251944541932,
                    0.6859218978881836,
                    0.6876128721237182,
                    0.6892935943603515,
                    0.690903846025467,
                    0.6924638831615448,
                    0.6939806842803955,
                    0.6954419112205505,
                    0.6968988990783691,
                    0.6983621788024902,
                    0.6998075675964356,
                    0.7011932575702667,
                    0.7025217938423157,
                    0.703775292634964,
                    0.7050343036651612,
                    0.7063658785820007,
                    0.7077387714385986,
                    0.7091044700145721,
                    0.7104735505580902,
                    0.7118400728702545,
                    0.7131696057319641,
                    0.7144812417030334,
                    0.7157594299316407,
                    0.7170100617408752,
                    0.7182634818553925,
                    0.7194853603839875,
                    0.7207062554359436,
                    0.7218591964244843,
                    0.7229620742797852,
                    0.7240622222423554,
                    0.7251759600639344,
                    0.7262574994564056,
                    0.7273449873924256,
                    0.7283904612064361,
                    0.7294403493404389,
                    0.7304553043842316,
                    0.7314921009540558,
                    0.7325150561332703,
                    0.7334947001934051,
                    0.734448766708374,
                    0.7353835463523865,
                    0.7363126397132873,
                    0.7372150444984436,
                    0.7380415523052215,
                    0.7388490545749664,
                    0.7396116292476654,
                    0.7403892683982849,
                    0.7411578643321991,
                    0.7418713021278381,
                    0.7425624811649323,
                    0.743212502002716,
                    0.7438271045684814,
                    0.7444359838962555,
                    0.7450061702728271,
                    0.7455722939968109,
                    0.7461658275127411,
                    0.7467735290527344,
                    0.7473778021335602,
                    0.7479545366764069,
                    0.7485223281383514,
                    0.7490465700626373,
                    0.7495542740821839,
                    0.7500458884239197,
                    0.7505091309547425,
                    0.7509445893764496,
                    0.7512697446346283,
                    0.7514553880691528,
                    0.7515900826454163,
                    0.7517135870456696,
                    0.751765513420105,
                    0.7517868030071259,
                    0.7517086493968964,
                    0.7516138815879821,
                    0.7514798140525818,
                    0.7512343335151672,
                    0.7509739756584167,
                    0.7506726920604706,
                    0.7503644800186158,
                    0.7500107717514038,
                    0.7495889031887054,
                    0.7491293549537659,
                    0.7486076545715332,
                    0.7479786157608033,
                    0.747298378944397,
                    0.7464989161491394,
                    0.7456848573684692,
                    0.7447655951976776,
                    0.7437506663799286,
                    0.7426842164993286,
                    0.7415080857276917,
                    0.7403143966197967,
                    0.7390607690811157,
                    0.7377679777145386,
                    0.7364528429508209,
                    0.7350539624691009,
                    0.7335848903656006,
                    0.732044814825058,
                    0.730444254875183,
                    0.7287687230110168,
                    0.7270266425609588,
                    0.7251930391788483,
                    0.7232780921459198,
                    0.7213319492340088,
                    0.7193434309959411,
                    0.7172970998287201,
                    0.7151491141319275,
                    0.7128891015052795,
                    0.7105912327766418,
                    0.7082446479797363,
                    0.7058585226535797,
                    0.7034141337871551,
                    0.7009115076065063,
                    0.6983963656425476,
                    0.6958377397060395,
                    0.6932786965370178,
                    0.690776115655899,
                    0.6883380389213563,
                    0.6858757245540619,
                    0.6833968138694764,
                    0.6809882199764252,
                    0.6785765981674194,
                    0.676230070590973,
                    0.6738623714447022,
                    0.67152783036232,
                    0.6692664301395417,
                    0.6670212852954864,
                    0.6647951185703278,
                    0.662581969499588,
                    0.6603858470916748,
                    0.6581939291954041,
                    0.6560283279418946,
                    0.65392995595932,
                    0.6518737959861756,
                    0.6498477900028229,
                    0.6478432869911194,
                    0.6458565676212311,
                    0.6439419996738434,
                    0.6421198809146881,
                    0.6403567826747895,
                    0.6387118113040924,
                    0.637078742980957,
                    0.6355046892166137,
                    0.6339575636386872,
                    0.6324729692935943,
                    0.6310725164413452,
                    0.6297371995449066,
                    0.6284306597709656,
                    0.6271630990505218,
                    0.6259859311580658,
                    0.6248891437053681,
                    0.6238904058933258,
                    0.6229693257808685,
                    0.6220837891101837,
                    0.6212392973899842,
                    0.6204512929916381,
                    0.619743732213974,
                    0.619131817817688,
                    0.6185682284832,
                    0.6180589151382446
                  ]
                },
                {
                  "mode": "lines",
                  "name": "Posición de la cadera (Video 2)",
                  "type": "scatter",
                  "x": [
                    null,
                    0.0166833333333333,
                    0.0333666666666666,
                    0.05005,
                    0.0667333333333333,
                    0.0834166666666666,
                    0.1001,
                    0.1167833333333333,
                    0.1334666666666666,
                    0.15015,
                    0.1668333333333333,
                    0.1835166666666667,
                    0.2002,
                    0.2168833333333333,
                    0.2335666666666667,
                    0.25025,
                    0.2669333333333333,
                    0.2836166666666667,
                    0.3003,
                    0.3169833333333333,
                    0.3336666666666666,
                    0.35035,
                    0.3670333333333334,
                    0.3837166666666667,
                    0.4004,
                    0.4170833333333333,
                    0.4337666666666667,
                    0.45045,
                    0.4671333333333334,
                    0.4838166666666667,
                    0.5005000000000001,
                    0.5171833333333333,
                    0.5338666666666667,
                    0.5505500000000001,
                    0.5672333333333334,
                    0.5839166666666668,
                    0.6006,
                    0.6172833333333334,
                    0.6339666666666667,
                    0.6506500000000001,
                    0.6673333333333333,
                    0.6840166666666667,
                    0.7007000000000001,
                    0.7173833333333334,
                    0.7340666666666668,
                    0.75075,
                    0.7674333333333334,
                    0.7841166666666667,
                    0.8008000000000001,
                    0.8174833333333335,
                    0.8341666666666667,
                    0.8508500000000001,
                    0.8675333333333334,
                    0.8842166666666668,
                    0.9009,
                    0.9175833333333334,
                    0.9342666666666668,
                    0.95095,
                    0.9676333333333336,
                    0.9843166666666668,
                    1.001,
                    1.0176833333333335,
                    1.0343666666666669,
                    1.05105,
                    1.0677333333333334,
                    1.0844166666666668,
                    1.1011000000000002,
                    1.1177833333333334,
                    1.1344666666666667,
                    1.15115,
                    1.1678333333333335,
                    1.1845166666666669,
                    1.2012,
                    1.2178833333333334,
                    1.2345666666666668,
                    1.2512500000000002,
                    1.2679333333333334,
                    1.2846166666666667,
                    1.3013,
                    1.3179833333333335,
                    1.334666666666667,
                    1.35135,
                    1.3680333333333334,
                    1.3847166666666668,
                    1.4014000000000002,
                    1.4180833333333334,
                    1.4347666666666667,
                    1.45145,
                    1.4681333333333335,
                    1.484816666666667,
                    1.5015,
                    1.5181833333333334,
                    1.5348666666666668,
                    1.5515500000000002,
                    1.5682333333333334,
                    1.5849166666666668,
                    1.6016,
                    1.6182833333333335,
                    1.634966666666667,
                    1.65165,
                    1.6683333333333334,
                    1.6850166666666668,
                    1.7017000000000002,
                    1.7183833333333334,
                    1.7350666666666668,
                    1.75175,
                    1.7684333333333335,
                    1.785116666666667,
                    1.8018,
                    1.8184833333333332,
                    1.8351666666666668,
                    1.85185,
                    1.8685333333333336,
                    1.8852166666666668,
                    1.9019,
                    1.9185833333333333,
                    1.935266666666667,
                    1.95195,
                    1.9686333333333332,
                    1.9853166666666668,
                    2.002,
                    2.0186833333333336,
                    2.035366666666667,
                    2.0520500000000004,
                    2.0687333333333333,
                    2.0854166666666667,
                    2.1021,
                    2.118783333333333,
                    2.135466666666667,
                    2.15215,
                    2.1688333333333336,
                    2.185516666666667,
                    2.2022000000000004,
                    2.2188833333333333,
                    2.2355666666666667,
                    2.25225,
                    2.268933333333333,
                    2.285616666666667,
                    2.3023,
                    2.3189833333333336,
                    2.335666666666667,
                    2.3523500000000004,
                    2.3690333333333333,
                    2.3857166666666667,
                    2.4024,
                    2.419083333333333,
                    2.435766666666667,
                    2.45245,
                    2.4691333333333336,
                    2.485816666666667,
                    2.5025000000000004,
                    2.5191833333333333,
                    2.5358666666666667,
                    2.55255,
                    2.569233333333333,
                    2.585916666666667,
                    2.6026,
                    2.6192833333333336,
                    2.635966666666667,
                    2.6526500000000004,
                    2.6693333333333333,
                    2.6860166666666667,
                    2.7027,
                    2.719383333333333,
                    2.736066666666667,
                    2.7527500000000003,
                    2.7694333333333336,
                    2.786116666666667,
                    2.8028000000000004,
                    2.819483333333334,
                    2.8361666666666667,
                    2.85285,
                    2.869533333333333,
                    2.886216666666667,
                    2.9029000000000003,
                    2.9195833333333336
                  ],
                  "y": [
                    null,
                    null,
                    null,
                    null,
                    null,
                    null,
                    null,
                    null,
                    null,
                    null,
                    null,
                    null,
                    null,
                    null,
                    null,
                    null,
                    null,
                    null,
                    null,
                    null,
                    null,
                    null,
                    null,
                    null,
                    null,
                    null,
                    null,
                    null,
                    null,
                    null,
                    null,
                    null,
                    null,
                    null,
                    null,
                    null,
                    null,
                    null,
                    null,
                    null,
                    null,
                    null,
                    null,
                    null,
                    null,
                    null,
                    null,
                    null,
                    null,
                    0.5756119513511657,
                    0.5771057581901551,
                    0.5786152851581573,
                    0.5802292907238007,
                    0.5818287765979767,
                    0.5834521293640137,
                    0.5850330972671509,
                    0.5866268420219422,
                    0.5882011413574219,
                    0.5897868716716766,
                    0.591358562707901,
                    0.5929341781139373,
                    0.5945521104335785,
                    0.5962183332443237,
                    0.5979434716701507,
                    0.5997982585430145,
                    0.6016805851459504,
                    0.603572791814804,
                    0.6055878818035125,
                    0.6077504110336304,
                    0.6099263298511505,
                    0.6121978747844696,
                    0.6144598054885865,
                    0.6167361021041871,
                    0.6189251637458801,
                    0.6210335540771484,
                    0.6231410813331604,
                    0.6253060638904572,
                    0.6274551653861999,
                    0.6295749235153199,
                    0.6317618620395661,
                    0.6340098452568054,
                    0.6362938117980957,
                    0.6385598731040955,
                    0.6408376145362854,
                    0.6430686557292938,
                    0.6452710258960724,
                    0.6474113655090332,
                    0.649469747543335,
                    0.6515280246734619,
                    0.6534601056575775,
                    0.655286169052124,
                    0.6570201516151428,
                    0.6587341499328613,
                    0.6602491211891174,
                    0.6615383386611938,
                    0.6627317655086518,
                    0.6638190603256225,
                    0.6647941148281098,
                    0.6655994153022766,
                    0.666294070482254,
                    0.6669601082801819,
                    0.6675335443019867,
                    0.667983649969101,
                    0.6683565211296082,
                    0.6686134231090546,
                    0.6687939560413361,
                    0.6688920485973359,
                    0.6689235556125641,
                    0.6688681960105896,
                    0.6688142335414886,
                    0.6686465167999267,
                    0.668354126214981,
                    0.6679765474796295,
                    0.66744194149971,
                    0.6666967964172363,
                    0.6658793425559998,
                    0.6650437545776368,
                    0.6640128457546234,
                    0.6628331625461579,
                    0.6615830254554749,
                    0.6602589046955109,
                    0.6589287900924683,
                    0.6574955236911774,
                    0.6559465146064758,
                    0.6543093430995941,
                    0.6525662159919738,
                    0.6507569205760956,
                    0.6488634550571442,
                    0.6468246424198151,
                    0.644719444513321,
                    0.6425370800495148,
                    0.6402839136123657,
                    0.6380529630184174,
                    0.6357754242420196,
                    0.6334298622608184,
                    0.6310434257984161,
                    0.6286890375614166,
                    0.6263394558429718,
                    0.6239024841785431,
                    0.6215225327014923,
                    0.619186497926712,
                    0.6168989551067352,
                    0.6145895981788635,
                    0.612305463552475,
                    0.6100757217407227,
                    0.6077935981750489,
                    0.6055441343784332,
                    0.603341076374054,
                    0.6011775851249694,
                    0.5991830706596375,
                    0.5972626209259033,
                    0.5954096746444703,
                    0.5935891497135163,
                    0.5918579328060151,
                    0.5901899659633636,
                    0.5886311340332031,
                    0.5872661471366882,
                    0.5859767377376557,
                    0.5847264361381531,
                    0.5834570586681366,
                    0.5822583770751953,
                    0.5811015450954438,
                    0.579968090057373,
                    0.5788459181785583,
                    0.5778065025806427,
                    0.5768141341209412,
                    0.5758273839950562,
                    0.574910877943039,
                    0.5739626920223236,
                    0.5730475008487701,
                    0.5721587646007538,
                    0.5712684035301209,
                    0.5704649448394775,
                    0.5696963596343995,
                    0.5691010141372681,
                    0.568532155752182
                  ]
                }
              ],
              "layout": {
                "template": {
                  "data": {
                    "bar": [
                      {
                        "error_x": {
                          "color": "#2a3f5f"
                        },
                        "error_y": {
                          "color": "#2a3f5f"
                        },
                        "marker": {
                          "line": {
                            "color": "#E5ECF6",
                            "width": 0.5
                          },
                          "pattern": {
                            "fillmode": "overlay",
                            "size": 10,
                            "solidity": 0.2
                          }
                        },
                        "type": "bar"
                      }
                    ],
                    "barpolar": [
                      {
                        "marker": {
                          "line": {
                            "color": "#E5ECF6",
                            "width": 0.5
                          },
                          "pattern": {
                            "fillmode": "overlay",
                            "size": 10,
                            "solidity": 0.2
                          }
                        },
                        "type": "barpolar"
                      }
                    ],
                    "carpet": [
                      {
                        "aaxis": {
                          "endlinecolor": "#2a3f5f",
                          "gridcolor": "white",
                          "linecolor": "white",
                          "minorgridcolor": "white",
                          "startlinecolor": "#2a3f5f"
                        },
                        "baxis": {
                          "endlinecolor": "#2a3f5f",
                          "gridcolor": "white",
                          "linecolor": "white",
                          "minorgridcolor": "white",
                          "startlinecolor": "#2a3f5f"
                        },
                        "type": "carpet"
                      }
                    ],
                    "choropleth": [
                      {
                        "colorbar": {
                          "outlinewidth": 0,
                          "ticks": ""
                        },
                        "type": "choropleth"
                      }
                    ],
                    "contour": [
                      {
                        "colorbar": {
                          "outlinewidth": 0,
                          "ticks": ""
                        },
                        "colorscale": [
                          [
                            0,
                            "#0d0887"
                          ],
                          [
                            0.1111111111111111,
                            "#46039f"
                          ],
                          [
                            0.2222222222222222,
                            "#7201a8"
                          ],
                          [
                            0.3333333333333333,
                            "#9c179e"
                          ],
                          [
                            0.4444444444444444,
                            "#bd3786"
                          ],
                          [
                            0.5555555555555556,
                            "#d8576b"
                          ],
                          [
                            0.6666666666666666,
                            "#ed7953"
                          ],
                          [
                            0.7777777777777778,
                            "#fb9f3a"
                          ],
                          [
                            0.8888888888888888,
                            "#fdca26"
                          ],
                          [
                            1,
                            "#f0f921"
                          ]
                        ],
                        "type": "contour"
                      }
                    ],
                    "contourcarpet": [
                      {
                        "colorbar": {
                          "outlinewidth": 0,
                          "ticks": ""
                        },
                        "type": "contourcarpet"
                      }
                    ],
                    "heatmap": [
                      {
                        "colorbar": {
                          "outlinewidth": 0,
                          "ticks": ""
                        },
                        "colorscale": [
                          [
                            0,
                            "#0d0887"
                          ],
                          [
                            0.1111111111111111,
                            "#46039f"
                          ],
                          [
                            0.2222222222222222,
                            "#7201a8"
                          ],
                          [
                            0.3333333333333333,
                            "#9c179e"
                          ],
                          [
                            0.4444444444444444,
                            "#bd3786"
                          ],
                          [
                            0.5555555555555556,
                            "#d8576b"
                          ],
                          [
                            0.6666666666666666,
                            "#ed7953"
                          ],
                          [
                            0.7777777777777778,
                            "#fb9f3a"
                          ],
                          [
                            0.8888888888888888,
                            "#fdca26"
                          ],
                          [
                            1,
                            "#f0f921"
                          ]
                        ],
                        "type": "heatmap"
                      }
                    ],
                    "heatmapgl": [
                      {
                        "colorbar": {
                          "outlinewidth": 0,
                          "ticks": ""
                        },
                        "colorscale": [
                          [
                            0,
                            "#0d0887"
                          ],
                          [
                            0.1111111111111111,
                            "#46039f"
                          ],
                          [
                            0.2222222222222222,
                            "#7201a8"
                          ],
                          [
                            0.3333333333333333,
                            "#9c179e"
                          ],
                          [
                            0.4444444444444444,
                            "#bd3786"
                          ],
                          [
                            0.5555555555555556,
                            "#d8576b"
                          ],
                          [
                            0.6666666666666666,
                            "#ed7953"
                          ],
                          [
                            0.7777777777777778,
                            "#fb9f3a"
                          ],
                          [
                            0.8888888888888888,
                            "#fdca26"
                          ],
                          [
                            1,
                            "#f0f921"
                          ]
                        ],
                        "type": "heatmapgl"
                      }
                    ],
                    "histogram": [
                      {
                        "marker": {
                          "pattern": {
                            "fillmode": "overlay",
                            "size": 10,
                            "solidity": 0.2
                          }
                        },
                        "type": "histogram"
                      }
                    ],
                    "histogram2d": [
                      {
                        "colorbar": {
                          "outlinewidth": 0,
                          "ticks": ""
                        },
                        "colorscale": [
                          [
                            0,
                            "#0d0887"
                          ],
                          [
                            0.1111111111111111,
                            "#46039f"
                          ],
                          [
                            0.2222222222222222,
                            "#7201a8"
                          ],
                          [
                            0.3333333333333333,
                            "#9c179e"
                          ],
                          [
                            0.4444444444444444,
                            "#bd3786"
                          ],
                          [
                            0.5555555555555556,
                            "#d8576b"
                          ],
                          [
                            0.6666666666666666,
                            "#ed7953"
                          ],
                          [
                            0.7777777777777778,
                            "#fb9f3a"
                          ],
                          [
                            0.8888888888888888,
                            "#fdca26"
                          ],
                          [
                            1,
                            "#f0f921"
                          ]
                        ],
                        "type": "histogram2d"
                      }
                    ],
                    "histogram2dcontour": [
                      {
                        "colorbar": {
                          "outlinewidth": 0,
                          "ticks": ""
                        },
                        "colorscale": [
                          [
                            0,
                            "#0d0887"
                          ],
                          [
                            0.1111111111111111,
                            "#46039f"
                          ],
                          [
                            0.2222222222222222,
                            "#7201a8"
                          ],
                          [
                            0.3333333333333333,
                            "#9c179e"
                          ],
                          [
                            0.4444444444444444,
                            "#bd3786"
                          ],
                          [
                            0.5555555555555556,
                            "#d8576b"
                          ],
                          [
                            0.6666666666666666,
                            "#ed7953"
                          ],
                          [
                            0.7777777777777778,
                            "#fb9f3a"
                          ],
                          [
                            0.8888888888888888,
                            "#fdca26"
                          ],
                          [
                            1,
                            "#f0f921"
                          ]
                        ],
                        "type": "histogram2dcontour"
                      }
                    ],
                    "mesh3d": [
                      {
                        "colorbar": {
                          "outlinewidth": 0,
                          "ticks": ""
                        },
                        "type": "mesh3d"
                      }
                    ],
                    "parcoords": [
                      {
                        "line": {
                          "colorbar": {
                            "outlinewidth": 0,
                            "ticks": ""
                          }
                        },
                        "type": "parcoords"
                      }
                    ],
                    "pie": [
                      {
                        "automargin": true,
                        "type": "pie"
                      }
                    ],
                    "scatter": [
                      {
                        "fillpattern": {
                          "fillmode": "overlay",
                          "size": 10,
                          "solidity": 0.2
                        },
                        "type": "scatter"
                      }
                    ],
                    "scatter3d": [
                      {
                        "line": {
                          "colorbar": {
                            "outlinewidth": 0,
                            "ticks": ""
                          }
                        },
                        "marker": {
                          "colorbar": {
                            "outlinewidth": 0,
                            "ticks": ""
                          }
                        },
                        "type": "scatter3d"
                      }
                    ],
                    "scattercarpet": [
                      {
                        "marker": {
                          "colorbar": {
                            "outlinewidth": 0,
                            "ticks": ""
                          }
                        },
                        "type": "scattercarpet"
                      }
                    ],
                    "scattergeo": [
                      {
                        "marker": {
                          "colorbar": {
                            "outlinewidth": 0,
                            "ticks": ""
                          }
                        },
                        "type": "scattergeo"
                      }
                    ],
                    "scattergl": [
                      {
                        "marker": {
                          "colorbar": {
                            "outlinewidth": 0,
                            "ticks": ""
                          }
                        },
                        "type": "scattergl"
                      }
                    ],
                    "scattermapbox": [
                      {
                        "marker": {
                          "colorbar": {
                            "outlinewidth": 0,
                            "ticks": ""
                          }
                        },
                        "type": "scattermapbox"
                      }
                    ],
                    "scatterpolar": [
                      {
                        "marker": {
                          "colorbar": {
                            "outlinewidth": 0,
                            "ticks": ""
                          }
                        },
                        "type": "scatterpolar"
                      }
                    ],
                    "scatterpolargl": [
                      {
                        "marker": {
                          "colorbar": {
                            "outlinewidth": 0,
                            "ticks": ""
                          }
                        },
                        "type": "scatterpolargl"
                      }
                    ],
                    "scatterternary": [
                      {
                        "marker": {
                          "colorbar": {
                            "outlinewidth": 0,
                            "ticks": ""
                          }
                        },
                        "type": "scatterternary"
                      }
                    ],
                    "surface": [
                      {
                        "colorbar": {
                          "outlinewidth": 0,
                          "ticks": ""
                        },
                        "colorscale": [
                          [
                            0,
                            "#0d0887"
                          ],
                          [
                            0.1111111111111111,
                            "#46039f"
                          ],
                          [
                            0.2222222222222222,
                            "#7201a8"
                          ],
                          [
                            0.3333333333333333,
                            "#9c179e"
                          ],
                          [
                            0.4444444444444444,
                            "#bd3786"
                          ],
                          [
                            0.5555555555555556,
                            "#d8576b"
                          ],
                          [
                            0.6666666666666666,
                            "#ed7953"
                          ],
                          [
                            0.7777777777777778,
                            "#fb9f3a"
                          ],
                          [
                            0.8888888888888888,
                            "#fdca26"
                          ],
                          [
                            1,
                            "#f0f921"
                          ]
                        ],
                        "type": "surface"
                      }
                    ],
                    "table": [
                      {
                        "cells": {
                          "fill": {
                            "color": "#EBF0F8"
                          },
                          "line": {
                            "color": "white"
                          }
                        },
                        "header": {
                          "fill": {
                            "color": "#C8D4E3"
                          },
                          "line": {
                            "color": "white"
                          }
                        },
                        "type": "table"
                      }
                    ]
                  },
                  "layout": {
                    "annotationdefaults": {
                      "arrowcolor": "#2a3f5f",
                      "arrowhead": 0,
                      "arrowwidth": 1
                    },
                    "autotypenumbers": "strict",
                    "coloraxis": {
                      "colorbar": {
                        "outlinewidth": 0,
                        "ticks": ""
                      }
                    },
                    "colorscale": {
                      "diverging": [
                        [
                          0,
                          "#8e0152"
                        ],
                        [
                          0.1,
                          "#c51b7d"
                        ],
                        [
                          0.2,
                          "#de77ae"
                        ],
                        [
                          0.3,
                          "#f1b6da"
                        ],
                        [
                          0.4,
                          "#fde0ef"
                        ],
                        [
                          0.5,
                          "#f7f7f7"
                        ],
                        [
                          0.6,
                          "#e6f5d0"
                        ],
                        [
                          0.7,
                          "#b8e186"
                        ],
                        [
                          0.8,
                          "#7fbc41"
                        ],
                        [
                          0.9,
                          "#4d9221"
                        ],
                        [
                          1,
                          "#276419"
                        ]
                      ],
                      "sequential": [
                        [
                          0,
                          "#0d0887"
                        ],
                        [
                          0.1111111111111111,
                          "#46039f"
                        ],
                        [
                          0.2222222222222222,
                          "#7201a8"
                        ],
                        [
                          0.3333333333333333,
                          "#9c179e"
                        ],
                        [
                          0.4444444444444444,
                          "#bd3786"
                        ],
                        [
                          0.5555555555555556,
                          "#d8576b"
                        ],
                        [
                          0.6666666666666666,
                          "#ed7953"
                        ],
                        [
                          0.7777777777777778,
                          "#fb9f3a"
                        ],
                        [
                          0.8888888888888888,
                          "#fdca26"
                        ],
                        [
                          1,
                          "#f0f921"
                        ]
                      ],
                      "sequentialminus": [
                        [
                          0,
                          "#0d0887"
                        ],
                        [
                          0.1111111111111111,
                          "#46039f"
                        ],
                        [
                          0.2222222222222222,
                          "#7201a8"
                        ],
                        [
                          0.3333333333333333,
                          "#9c179e"
                        ],
                        [
                          0.4444444444444444,
                          "#bd3786"
                        ],
                        [
                          0.5555555555555556,
                          "#d8576b"
                        ],
                        [
                          0.6666666666666666,
                          "#ed7953"
                        ],
                        [
                          0.7777777777777778,
                          "#fb9f3a"
                        ],
                        [
                          0.8888888888888888,
                          "#fdca26"
                        ],
                        [
                          1,
                          "#f0f921"
                        ]
                      ]
                    },
                    "colorway": [
                      "#636efa",
                      "#EF553B",
                      "#00cc96",
                      "#ab63fa",
                      "#FFA15A",
                      "#19d3f3",
                      "#FF6692",
                      "#B6E880",
                      "#FF97FF",
                      "#FECB52"
                    ],
                    "font": {
                      "color": "#2a3f5f"
                    },
                    "geo": {
                      "bgcolor": "white",
                      "lakecolor": "white",
                      "landcolor": "#E5ECF6",
                      "showlakes": true,
                      "showland": true,
                      "subunitcolor": "white"
                    },
                    "hoverlabel": {
                      "align": "left"
                    },
                    "hovermode": "closest",
                    "mapbox": {
                      "style": "light"
                    },
                    "paper_bgcolor": "white",
                    "plot_bgcolor": "#E5ECF6",
                    "polar": {
                      "angularaxis": {
                        "gridcolor": "white",
                        "linecolor": "white",
                        "ticks": ""
                      },
                      "bgcolor": "#E5ECF6",
                      "radialaxis": {
                        "gridcolor": "white",
                        "linecolor": "white",
                        "ticks": ""
                      }
                    },
                    "scene": {
                      "xaxis": {
                        "backgroundcolor": "#E5ECF6",
                        "gridcolor": "white",
                        "gridwidth": 2,
                        "linecolor": "white",
                        "showbackground": true,
                        "ticks": "",
                        "zerolinecolor": "white"
                      },
                      "yaxis": {
                        "backgroundcolor": "#E5ECF6",
                        "gridcolor": "white",
                        "gridwidth": 2,
                        "linecolor": "white",
                        "showbackground": true,
                        "ticks": "",
                        "zerolinecolor": "white"
                      },
                      "zaxis": {
                        "backgroundcolor": "#E5ECF6",
                        "gridcolor": "white",
                        "gridwidth": 2,
                        "linecolor": "white",
                        "showbackground": true,
                        "ticks": "",
                        "zerolinecolor": "white"
                      }
                    },
                    "shapedefaults": {
                      "line": {
                        "color": "#2a3f5f"
                      }
                    },
                    "ternary": {
                      "aaxis": {
                        "gridcolor": "white",
                        "linecolor": "white",
                        "ticks": ""
                      },
                      "baxis": {
                        "gridcolor": "white",
                        "linecolor": "white",
                        "ticks": ""
                      },
                      "bgcolor": "#E5ECF6",
                      "caxis": {
                        "gridcolor": "white",
                        "linecolor": "white",
                        "ticks": ""
                      }
                    },
                    "title": {
                      "x": 0.05
                    },
                    "xaxis": {
                      "automargin": true,
                      "gridcolor": "white",
                      "linecolor": "white",
                      "ticks": "",
                      "title": {
                        "standoff": 15
                      },
                      "zerolinecolor": "white",
                      "zerolinewidth": 2
                    },
                    "yaxis": {
                      "automargin": true,
                      "gridcolor": "white",
                      "linecolor": "white",
                      "ticks": "",
                      "title": {
                        "standoff": 15
                      },
                      "zerolinecolor": "white",
                      "zerolinewidth": 2
                    }
                  }
                },
                "title": {
                  "text": "Posición de la cadera en todos los videos"
                },
                "xaxis": {
                  "title": {
                    "text": "Tiempo"
                  }
                },
                "yaxis": {
                  "title": {
                    "text": "Posición de la cadera"
                  }
                }
              }
            }
          },
          "metadata": {},
          "output_type": "display_data"
        },
        {
          "data": {
            "application/vnd.plotly.v1+json": {
              "config": {
                "plotlyServerURL": "https://plot.ly"
              },
              "data": [
                {
                  "mode": "lines",
                  "name": "Velocidad de la cadera (Video 1)",
                  "type": "scatter",
                  "x": [
                    null,
                    0.0179856115107913,
                    0.0359712230215827,
                    0.0539568345323741,
                    0.0719424460431654,
                    0.0899280575539568,
                    0.1079136690647482,
                    0.1258992805755395,
                    0.1438848920863309,
                    0.1618705035971223,
                    0.1798561151079136,
                    0.197841726618705,
                    0.2158273381294964,
                    0.2338129496402877,
                    0.2517985611510791,
                    0.2697841726618705,
                    0.2877697841726618,
                    0.3057553956834532,
                    0.3237410071942446,
                    0.3417266187050359,
                    0.3597122302158273,
                    0.3776978417266187,
                    0.39568345323741,
                    0.4136690647482014,
                    0.4316546762589928,
                    0.4496402877697841,
                    0.4676258992805755,
                    0.4856115107913669,
                    0.5035971223021583,
                    0.5215827338129496,
                    0.539568345323741,
                    0.5575539568345323,
                    0.5755395683453237,
                    0.5935251798561151,
                    0.6115107913669064,
                    0.6294964028776978,
                    0.6474820143884892,
                    0.6654676258992805,
                    0.6834532374100719,
                    0.7014388489208633,
                    0.7194244604316546,
                    0.737410071942446,
                    0.7553956834532374,
                    0.7733812949640287,
                    0.7913669064748201,
                    0.8093525179856115,
                    0.8273381294964028,
                    0.8453237410071942,
                    0.8633093525179856,
                    0.8812949640287769,
                    0.8992805755395683,
                    0.9172661870503596,
                    0.935251798561151,
                    0.9532374100719424,
                    0.9712230215827338,
                    0.9892086330935252,
                    1.0071942446043165,
                    1.0251798561151078,
                    1.0431654676258992,
                    1.0611510791366907,
                    1.079136690647482,
                    1.0971223021582732,
                    1.1151079136690647,
                    1.1330935251798562,
                    1.1510791366906474,
                    1.169064748201439,
                    1.1870503597122302,
                    1.2050359712230216,
                    1.223021582733813,
                    1.2410071942446042,
                    1.2589928057553956,
                    1.276978417266187,
                    1.2949640287769784,
                    1.3129496402877696,
                    1.330935251798561,
                    1.3489208633093526,
                    1.3669064748201438,
                    1.384892086330935,
                    1.4028776978417266,
                    1.420863309352518,
                    1.4388489208633093,
                    1.4568345323741003,
                    1.474820143884892,
                    1.4928057553956835,
                    1.5107913669064748,
                    1.528776978417266,
                    1.5467625899280577,
                    1.564748201438849,
                    1.5827338129496402,
                    1.6007194244604317,
                    1.618705035971223,
                    1.6366906474820144,
                    1.6546762589928057,
                    1.672661870503597,
                    1.6906474820143884,
                    1.70863309352518,
                    1.7266187050359711,
                    1.7446043165467624,
                    1.762589928057554,
                    1.7805755395683454,
                    1.7985611510791366,
                    1.816546762589928,
                    1.8345323741007196,
                    1.8525179856115108,
                    1.870503597122302,
                    1.888489208633093,
                    1.9064748201438848,
                    1.9244604316546765,
                    1.9424460431654675,
                    1.9604316546762588,
                    1.9784172661870505,
                    1.9964028776978415,
                    2.014388489208633,
                    2.0323741007194243,
                    2.0503597122302155,
                    2.068345323741007,
                    2.0863309352517985,
                    2.1043165467625897,
                    2.122302158273381,
                    2.1402877697841727,
                    2.158273381294964,
                    2.176258992805755,
                    2.1942446043165464,
                    2.212230215827338,
                    2.2302158273381294,
                    2.2482014388489207,
                    2.2661870503597124,
                    2.284172661870504,
                    2.302158273381295,
                    2.320143884892086,
                    2.3381294964028774,
                    2.356115107913669,
                    2.3741007194244603,
                    2.392086330935252,
                    2.4100719424460437,
                    2.4280575539568345,
                    2.446043165467626,
                    2.464028776978417,
                    2.4820143884892083,
                    2.5,
                    2.5179856115107917,
                    2.5359712230215825,
                    2.553956834532374,
                    2.571942446043165,
                    2.5899280575539567,
                    2.607913669064748,
                    2.6258992805755392,
                    2.643884892086331,
                    2.661870503597122,
                    2.679856115107913,
                    2.697841726618705,
                    2.7158273381294964,
                    2.733812949640288,
                    2.751798561151079,
                    2.76978417266187,
                    2.787769784172662,
                    2.805755395683453,
                    2.8237410071942444,
                    2.841726618705036,
                    2.8597122302158278,
                    2.8776978417266186,
                    2.89568345323741,
                    2.913669064748201,
                    2.931654676258993,
                    2.949640287769784,
                    2.9676258992805757,
                    2.985611510791367,
                    3.0035971223021583,
                    3.021582733812949,
                    3.0395683453237408,
                    3.057553956834532,
                    3.075539568345324,
                    3.093525179856115,
                    3.1115107913669062,
                    3.129496402877698,
                    3.147482014388489,
                    3.1654676258992804,
                    3.183453237410072,
                    3.201438848920863,
                    3.219424460431654,
                    3.237410071942446,
                    3.255395683453237,
                    3.273381294964029,
                    3.29136690647482,
                    3.309352517985612,
                    3.3273381294964026,
                    3.345323741007194,
                    3.3633093525179856,
                    3.381294964028777,
                    3.399280575539568,
                    3.41726618705036,
                    3.435251798561151,
                    3.4532374100719423,
                    3.471223021582733,
                    3.489208633093525,
                    3.5071942446043165,
                    3.525179856115108,
                    3.543165467625899,
                    3.5611510791366907,
                    3.579136690647482,
                    3.597122302158273,
                    3.615107913669065,
                    3.633093525179856,
                    3.651079136690648,
                    3.669064748201439,
                    3.68705035971223,
                    3.7050359712230216,
                    3.723021582733813,
                    3.741007194244604,
                    3.7589928057553954,
                    3.776978417266186,
                    3.7949640287769775,
                    3.8129496402877696,
                    3.830935251798561,
                    3.848920863309353,
                    3.866906474820144,
                    3.884892086330935,
                    3.9028776978417263,
                    3.9208633093525176,
                    3.938848920863309,
                    3.956834532374101,
                    3.974820143884892,
                    3.992805755395684,
                    4.010791366906474,
                    4.028776978417266,
                    4.046762589928058,
                    4.0647482014388485,
                    4.08273381294964,
                    4.100719424460431,
                    4.118705035971223,
                    4.136690647482014,
                    4.154676258992805,
                    4.172661870503597,
                    4.190647482014389,
                    4.2086330935251794,
                    4.226618705035971,
                    4.244604316546763,
                    4.262589928057554,
                    4.280575539568345,
                    4.298561151079136,
                    4.316546762589928,
                    4.33453237410072,
                    4.35251798561151,
                    4.370503597122302,
                    4.388489208633093,
                    4.406474820143885,
                    4.424460431654676,
                    4.442446043165467,
                    4.460431654676259,
                    4.4784172661870505,
                    4.496402877697841,
                    4.514388489208633,
                    4.532374100719425,
                    4.550359712230216
                  ],
                  "y": [
                    null,
                    null,
                    null,
                    null,
                    null,
                    null,
                    null,
                    null,
                    null,
                    null,
                    null,
                    null,
                    null,
                    null,
                    null,
                    null,
                    null,
                    null,
                    null,
                    null,
                    null,
                    null,
                    null,
                    null,
                    null,
                    null,
                    null,
                    null,
                    null,
                    null,
                    null,
                    null,
                    null,
                    null,
                    null,
                    null,
                    null,
                    null,
                    null,
                    null,
                    null,
                    null,
                    null,
                    null,
                    null,
                    null,
                    null,
                    null,
                    null,
                    null,
                    0.04351829576492307,
                    0.04565278863906858,
                    0.048140158176422095,
                    0.04964313173294065,
                    0.04962086153030393,
                    0.052461439132690406,
                    0.056202236652374234,
                    0.06003761625289914,
                    0.06467724180221554,
                    0.06447177267074582,
                    0.06464045619964597,
                    0.06392310380935666,
                    0.06628765583038328,
                    0.06645819520950315,
                    0.06568907785415647,
                    0.0662155427932739,
                    0.06683122110366818,
                    0.0691842403411865,
                    0.07025294494628903,
                    0.07104990005493161,
                    0.07284874916076657,
                    0.0744503479003906,
                    0.07708393192291257,
                    0.07831926536560055,
                    0.08047974014282223,
                    0.07894806718826292,
                    0.07948500442504879,
                    0.08130102014541622,
                    0.08406656837463376,
                    0.08708471107482907,
                    0.0881052298545837,
                    0.08688030242919918,
                    0.08829419517517087,
                    0.08861790847778316,
                    0.08778065490722653,
                    0.08910533428192136,
                    0.08758168125152582,
                    0.08875358438491818,
                    0.08810390424728391,
                    0.08750347042083736,
                    0.0892808446884155,
                    0.08840992069244381,
                    0.08879255723953244,
                    0.09029844713211055,
                    0.09097908020019528,
                    0.09203545665740963,
                    0.09433671092987056,
                    0.09401816749572749,
                    0.09344815635681149,
                    0.08952999258041379,
                    0.08673806476593013,
                    0.08433414220809934,
                    0.08124421787261961,
                    0.08100852489471431,
                    0.0813583526611328,
                    0.08036361694335933,
                    0.0770443625450134,
                    0.0738666167259216,
                    0.0696945328712463,
                    0.07000101327896116,
                    0.07403556537628171,
                    0.07633284282684323,
                    0.07593284082412717,
                    0.07612087821960448,
                    0.07597864055633542,
                    0.07392202711105343,
                    0.07292695999145506,
                    0.07106726551055904,
                    0.0695351285934448,
                    0.06969015836715696,
                    0.06793644618988035,
                    0.06788176488876341,
                    0.06410351896286008,
                    0.06132000875473021,
                    0.06116822671890257,
                    0.06192382287979124,
                    0.06013359022140501,
                    0.06046432924270628,
                    0.058128344058990464,
                    0.0583737802505493,
                    0.05643150043487547,
                    0.05764588928222655,
                    0.05687630796432494,
                    0.05446820974349974,
                    0.053046098232269266,
                    0.051973748207092274,
                    0.05165759086608886,
                    0.05017370605468749,
                    0.04595383405685424,
                    0.044897126197814934,
                    0.04239915180206299,
                    0.043236736774444576,
                    0.04273393392562866,
                    0.039667141437530515,
                    0.03842955446243286,
                    0.03614115858078003,
                    0.034171902656555175,
                    0.033853690624237064,
                    0.03170236253738403,
                    0.03147647905349732,
                    0.03300046348571778,
                    0.0337882056236267,
                    0.033597583293914796,
                    0.03206644058227539,
                    0.031569205284118655,
                    0.029147850990295408,
                    0.02822834348678589,
                    0.027333757400512693,
                    0.025756284713745123,
                    0.024211488246917726,
                    0.01807863235473633,
                    0.010321774959564213,
                    0.007489018440246588,
                    0.0068668446540832585,
                    0.002887106418609627,
                    0.0011837010383606034,
                    -0.004345340728759757,
                    -0.005269090175628651,
                    -0.007454154968261708,
                    -0.013648717880249012,
                    -0.014475896835327136,
                    -0.016751368045806868,
                    -0.01713658952713011,
                    -0.01966617965698241,
                    -0.023455892086029037,
                    -0.025550881862640366,
                    -0.029006541252136215,
                    -0.0349745578765869,
                    -0.03782116699218748,
                    -0.04445013141632078,
                    -0.04526166820526121,
                    -0.051110976696014374,
                    -0.056430042266845684,
                    -0.05929461336135861,
                    -0.06539287090301511,
                    -0.06636911439895628,
                    -0.06970169115066527,
                    -0.07187919998168943,
                    -0.07312149286270139,
                    -0.07777775478363035,
                    -0.08168040895462032,
                    -0.08562820005416868,
                    -0.0889911332130432,
                    -0.09315957164764402,
                    -0.09685967302322386,
                    -0.1019483480453491,
                    -0.10647105503082273,
                    -0.10820554590225218,
                    -0.11056161403656002,
                    -0.11377601289749142,
                    -0.11942800474166868,
                    -0.12565670204162596,
                    -0.12776150131225583,
                    -0.13047011470794675,
                    -0.13266856813430783,
                    -0.13590802097320553,
                    -0.13914601564407345,
                    -0.13984189319610593,
                    -0.14225960206985472,
                    -0.14228280019760128,
                    -0.13914349699020384,
                    -0.13555706644058224,
                    -0.13690467882156368,
                    -0.13782743406295772,
                    -0.13391782045364375,
                    -0.13408617258071898,
                    -0.13046693325042724,
                    -0.13164407253265378,
                    -0.1298004841804504,
                    -0.12573385238647458,
                    -0.12483005332946774,
                    -0.12377486991882321,
                    -0.12305108833312986,
                    -0.12210440587997434,
                    -0.12187063503265377,
                    -0.12040742969512937,
                    -0.11666948223114013,
                    -0.11432249450683592,
                    -0.11264593267440792,
                    -0.1114503674507141,
                    -0.11046159696578979,
                    -0.10644997787475585,
                    -0.1013098030090332,
                    -0.09802826213836667,
                    -0.09146040821075438,
                    -0.09079859876632689,
                    -0.08751738929748534,
                    -0.08602018213272093,
                    -0.08254344558715818,
                    -0.07786517858505247,
                    -0.07424361944198607,
                    -0.0726436114311218,
                    -0.07047637605667113,
                    -0.06545053482055663,
                    -0.060981382369995105,
                    -0.05552982234954833,
                    -0.0512120542526245,
                    -0.04923583889007568,
                    -0.04695373964309692,
                    -0.04381304454803466,
                    -0.03934037923812865,
                    -0.03402244043350219,
                    -0.03133556699752806,
                    -0.028317821979522696
                  ]
                },
                {
                  "mode": "lines",
                  "name": "Velocidad de la cadera (Video 2)",
                  "type": "scatter",
                  "x": [
                    null,
                    0.0166833333333333,
                    0.0333666666666666,
                    0.05005,
                    0.0667333333333333,
                    0.0834166666666666,
                    0.1001,
                    0.1167833333333333,
                    0.1334666666666666,
                    0.15015,
                    0.1668333333333333,
                    0.1835166666666667,
                    0.2002,
                    0.2168833333333333,
                    0.2335666666666667,
                    0.25025,
                    0.2669333333333333,
                    0.2836166666666667,
                    0.3003,
                    0.3169833333333333,
                    0.3336666666666666,
                    0.35035,
                    0.3670333333333334,
                    0.3837166666666667,
                    0.4004,
                    0.4170833333333333,
                    0.4337666666666667,
                    0.45045,
                    0.4671333333333334,
                    0.4838166666666667,
                    0.5005000000000001,
                    0.5171833333333333,
                    0.5338666666666667,
                    0.5505500000000001,
                    0.5672333333333334,
                    0.5839166666666668,
                    0.6006,
                    0.6172833333333334,
                    0.6339666666666667,
                    0.6506500000000001,
                    0.6673333333333333,
                    0.6840166666666667,
                    0.7007000000000001,
                    0.7173833333333334,
                    0.7340666666666668,
                    0.75075,
                    0.7674333333333334,
                    0.7841166666666667,
                    0.8008000000000001,
                    0.8174833333333335,
                    0.8341666666666667,
                    0.8508500000000001,
                    0.8675333333333334,
                    0.8842166666666668,
                    0.9009,
                    0.9175833333333334,
                    0.9342666666666668,
                    0.95095,
                    0.9676333333333336,
                    0.9843166666666668,
                    1.001,
                    1.0176833333333335,
                    1.0343666666666669,
                    1.05105,
                    1.0677333333333334,
                    1.0844166666666668,
                    1.1011000000000002,
                    1.1177833333333334,
                    1.1344666666666667,
                    1.15115,
                    1.1678333333333335,
                    1.1845166666666669,
                    1.2012,
                    1.2178833333333334,
                    1.2345666666666668,
                    1.2512500000000002,
                    1.2679333333333334,
                    1.2846166666666667,
                    1.3013,
                    1.3179833333333335,
                    1.334666666666667,
                    1.35135,
                    1.3680333333333334,
                    1.3847166666666668,
                    1.4014000000000002,
                    1.4180833333333334,
                    1.4347666666666667,
                    1.45145,
                    1.4681333333333335,
                    1.484816666666667,
                    1.5015,
                    1.5181833333333334,
                    1.5348666666666668,
                    1.5515500000000002,
                    1.5682333333333334,
                    1.5849166666666668,
                    1.6016,
                    1.6182833333333335,
                    1.634966666666667,
                    1.65165,
                    1.6683333333333334,
                    1.6850166666666668,
                    1.7017000000000002,
                    1.7183833333333334,
                    1.7350666666666668,
                    1.75175,
                    1.7684333333333335,
                    1.785116666666667,
                    1.8018,
                    1.8184833333333332,
                    1.8351666666666668,
                    1.85185,
                    1.8685333333333336,
                    1.8852166666666668,
                    1.9019,
                    1.9185833333333333,
                    1.935266666666667,
                    1.95195,
                    1.9686333333333332,
                    1.9853166666666668,
                    2.002,
                    2.0186833333333336,
                    2.035366666666667,
                    2.0520500000000004,
                    2.0687333333333333,
                    2.0854166666666667,
                    2.1021,
                    2.118783333333333,
                    2.135466666666667,
                    2.15215,
                    2.1688333333333336,
                    2.185516666666667,
                    2.2022000000000004,
                    2.2188833333333333,
                    2.2355666666666667,
                    2.25225,
                    2.268933333333333,
                    2.285616666666667,
                    2.3023,
                    2.3189833333333336,
                    2.335666666666667,
                    2.3523500000000004,
                    2.3690333333333333,
                    2.3857166666666667,
                    2.4024,
                    2.419083333333333,
                    2.435766666666667,
                    2.45245,
                    2.4691333333333336,
                    2.485816666666667,
                    2.5025000000000004,
                    2.5191833333333333,
                    2.5358666666666667,
                    2.55255,
                    2.569233333333333,
                    2.585916666666667,
                    2.6026,
                    2.6192833333333336,
                    2.635966666666667,
                    2.6526500000000004,
                    2.6693333333333333,
                    2.6860166666666667,
                    2.7027,
                    2.719383333333333,
                    2.736066666666667,
                    2.7527500000000003,
                    2.7694333333333336,
                    2.786116666666667,
                    2.8028000000000004,
                    2.819483333333334,
                    2.8361666666666667,
                    2.85285,
                    2.869533333333333,
                    2.886216666666667,
                    2.9029000000000003,
                    2.9195833333333336
                  ],
                  "y": [
                    null,
                    null,
                    null,
                    null,
                    null,
                    null,
                    null,
                    null,
                    null,
                    null,
                    null,
                    null,
                    null,
                    null,
                    null,
                    null,
                    null,
                    null,
                    null,
                    null,
                    null,
                    null,
                    null,
                    null,
                    null,
                    null,
                    null,
                    null,
                    null,
                    null,
                    null,
                    null,
                    null,
                    null,
                    null,
                    null,
                    null,
                    null,
                    null,
                    null,
                    null,
                    null,
                    null,
                    null,
                    null,
                    null,
                    null,
                    null,
                    null,
                    null,
                    0.08953887146788757,
                    0.09048113694319594,
                    0.09674359034825036,
                    0.09587327917139012,
                    0.0973038621001191,
                    0.09476331087735504,
                    0.09552915613134423,
                    0.09436359653225193,
                    0.09504877008520043,
                    0.09420725491854336,
                    0.0944424818803023,
                    0.09697896021824855,
                    0.09987349514956477,
                    0.1034049006489726,
                    0.11117603633549068,
                    0.1128267694067407,
                    0.11341898115007548,
                    0.12078461470780194,
                    0.12962213167539244,
                    0.1304247043468616,
                    0.1361565394596858,
                    0.1355802619850242,
                    0.13644135558045467,
                    0.13121248601557134,
                    0.12637704283326534,
                    0.12632531005066708,
                    0.12976918425355158,
                    0.12881727247209576,
                    0.12705842931787448,
                    0.13108522622854438,
                    0.13474424878557717,
                    0.13690109138603093,
                    0.13582785050947585,
                    0.13652795797342304,
                    0.13372874283766767,
                    0.13201019980690692,
                    0.12829208469295594,
                    0.12337954251558986,
                    0.1233732545530641,
                    0.11580904999693907,
                    0.10945434932346704,
                    0.10393501876236554,
                    0.10273716190120913,
                    0.09080746790745874,
                    0.07727577255203291,
                    0.07153407677070243,
                    0.06517251650174777,
                    0.05844482532390704,
                    0.04826975869132087,
                    0.0416376731255195,
                    0.03992234553014124,
                    0.0343717895187698,
                    0.02697936066618927,
                    0.022349919710721405,
                    0.015398720046737925,
                    0.010821154782107538,
                    0.0058796736862990525,
                    0.001888532381314975,
                    -0.0033182578606086254,
                    -0.003234513632424699,
                    -0.010052951542171203,
                    -0.01752590918755316,
                    -0.022632092029064674,
                    -0.032044314480685315,
                    -0.044664040907517764,
                    -0.04899823344075356,
                    -0.05008519350827392,
                    -0.06179273664415416,
                    -0.07071028222570884,
                    -0.07493329214883014,
                    -0.0793678777201192,
                    -0.0797271490335226,
                    -0.08591007400345013,
                    -0.09284769738470754,
                    -0.09813215825464816,
                    -0.10448314331390042,
                    -0.1084492756770207,
                    -0.11349443670038455,
                    -0.122206551688058,
                    -0.12618568870094746,
                    -0.1308110567715975,
                    -0.13505493129764518,
                    -0.13372331232457724,
                    -0.1365158107730892,
                    -0.14059312574632396,
                    -0.14304314459954104,
                    -0.14112217204792274,
                    -0.14083406903765175,
                    -0.1460722276380845,
                    -0.14265443418885795,
                    -0.14002206442239395,
                    -0.13711545374486347,
                    -0.13842299267962258,
                    -0.13691116641689605,
                    -0.13365085784729183,
                    -0.13679062331711253,
                    -0.13483299480213387,
                    -0.13205142883392237,
                    -0.1296797951499184,
                    -0.11955131660331851,
                    -0.11511187215189592,
                    -0.11106571117481147,
                    -0.10912237348375499,
                    -0.10376924520486835,
                    -0.09997803252655546,
                    -0.09343647933030103,
                    -0.08181739639449903,
                    -0.07728727666529026,
                    -0.07494315281733646,
                    -0.0760865616393494,
                    -0.07184904652994709,
                    -0.06934057820688831,
                    -0.0679393629213194,
                    -0.06726304967920262,
                    -0.062302633241697256,
                    -0.05948262495713513,
                    -0.05914586169140916,
                    -0.05493542769333936,
                    -0.05683432092199791,
                    -0.054856613799408586,
                    -0.05327090397700443,
                    -0.05336829594203403,
                    -0.0481593620765221,
                    -0.046069043261426065,
                    -0.03568504478309775,
                    -0.0340974056994641
                  ]
                }
              ],
              "layout": {
                "template": {
                  "data": {
                    "bar": [
                      {
                        "error_x": {
                          "color": "#2a3f5f"
                        },
                        "error_y": {
                          "color": "#2a3f5f"
                        },
                        "marker": {
                          "line": {
                            "color": "#E5ECF6",
                            "width": 0.5
                          },
                          "pattern": {
                            "fillmode": "overlay",
                            "size": 10,
                            "solidity": 0.2
                          }
                        },
                        "type": "bar"
                      }
                    ],
                    "barpolar": [
                      {
                        "marker": {
                          "line": {
                            "color": "#E5ECF6",
                            "width": 0.5
                          },
                          "pattern": {
                            "fillmode": "overlay",
                            "size": 10,
                            "solidity": 0.2
                          }
                        },
                        "type": "barpolar"
                      }
                    ],
                    "carpet": [
                      {
                        "aaxis": {
                          "endlinecolor": "#2a3f5f",
                          "gridcolor": "white",
                          "linecolor": "white",
                          "minorgridcolor": "white",
                          "startlinecolor": "#2a3f5f"
                        },
                        "baxis": {
                          "endlinecolor": "#2a3f5f",
                          "gridcolor": "white",
                          "linecolor": "white",
                          "minorgridcolor": "white",
                          "startlinecolor": "#2a3f5f"
                        },
                        "type": "carpet"
                      }
                    ],
                    "choropleth": [
                      {
                        "colorbar": {
                          "outlinewidth": 0,
                          "ticks": ""
                        },
                        "type": "choropleth"
                      }
                    ],
                    "contour": [
                      {
                        "colorbar": {
                          "outlinewidth": 0,
                          "ticks": ""
                        },
                        "colorscale": [
                          [
                            0,
                            "#0d0887"
                          ],
                          [
                            0.1111111111111111,
                            "#46039f"
                          ],
                          [
                            0.2222222222222222,
                            "#7201a8"
                          ],
                          [
                            0.3333333333333333,
                            "#9c179e"
                          ],
                          [
                            0.4444444444444444,
                            "#bd3786"
                          ],
                          [
                            0.5555555555555556,
                            "#d8576b"
                          ],
                          [
                            0.6666666666666666,
                            "#ed7953"
                          ],
                          [
                            0.7777777777777778,
                            "#fb9f3a"
                          ],
                          [
                            0.8888888888888888,
                            "#fdca26"
                          ],
                          [
                            1,
                            "#f0f921"
                          ]
                        ],
                        "type": "contour"
                      }
                    ],
                    "contourcarpet": [
                      {
                        "colorbar": {
                          "outlinewidth": 0,
                          "ticks": ""
                        },
                        "type": "contourcarpet"
                      }
                    ],
                    "heatmap": [
                      {
                        "colorbar": {
                          "outlinewidth": 0,
                          "ticks": ""
                        },
                        "colorscale": [
                          [
                            0,
                            "#0d0887"
                          ],
                          [
                            0.1111111111111111,
                            "#46039f"
                          ],
                          [
                            0.2222222222222222,
                            "#7201a8"
                          ],
                          [
                            0.3333333333333333,
                            "#9c179e"
                          ],
                          [
                            0.4444444444444444,
                            "#bd3786"
                          ],
                          [
                            0.5555555555555556,
                            "#d8576b"
                          ],
                          [
                            0.6666666666666666,
                            "#ed7953"
                          ],
                          [
                            0.7777777777777778,
                            "#fb9f3a"
                          ],
                          [
                            0.8888888888888888,
                            "#fdca26"
                          ],
                          [
                            1,
                            "#f0f921"
                          ]
                        ],
                        "type": "heatmap"
                      }
                    ],
                    "heatmapgl": [
                      {
                        "colorbar": {
                          "outlinewidth": 0,
                          "ticks": ""
                        },
                        "colorscale": [
                          [
                            0,
                            "#0d0887"
                          ],
                          [
                            0.1111111111111111,
                            "#46039f"
                          ],
                          [
                            0.2222222222222222,
                            "#7201a8"
                          ],
                          [
                            0.3333333333333333,
                            "#9c179e"
                          ],
                          [
                            0.4444444444444444,
                            "#bd3786"
                          ],
                          [
                            0.5555555555555556,
                            "#d8576b"
                          ],
                          [
                            0.6666666666666666,
                            "#ed7953"
                          ],
                          [
                            0.7777777777777778,
                            "#fb9f3a"
                          ],
                          [
                            0.8888888888888888,
                            "#fdca26"
                          ],
                          [
                            1,
                            "#f0f921"
                          ]
                        ],
                        "type": "heatmapgl"
                      }
                    ],
                    "histogram": [
                      {
                        "marker": {
                          "pattern": {
                            "fillmode": "overlay",
                            "size": 10,
                            "solidity": 0.2
                          }
                        },
                        "type": "histogram"
                      }
                    ],
                    "histogram2d": [
                      {
                        "colorbar": {
                          "outlinewidth": 0,
                          "ticks": ""
                        },
                        "colorscale": [
                          [
                            0,
                            "#0d0887"
                          ],
                          [
                            0.1111111111111111,
                            "#46039f"
                          ],
                          [
                            0.2222222222222222,
                            "#7201a8"
                          ],
                          [
                            0.3333333333333333,
                            "#9c179e"
                          ],
                          [
                            0.4444444444444444,
                            "#bd3786"
                          ],
                          [
                            0.5555555555555556,
                            "#d8576b"
                          ],
                          [
                            0.6666666666666666,
                            "#ed7953"
                          ],
                          [
                            0.7777777777777778,
                            "#fb9f3a"
                          ],
                          [
                            0.8888888888888888,
                            "#fdca26"
                          ],
                          [
                            1,
                            "#f0f921"
                          ]
                        ],
                        "type": "histogram2d"
                      }
                    ],
                    "histogram2dcontour": [
                      {
                        "colorbar": {
                          "outlinewidth": 0,
                          "ticks": ""
                        },
                        "colorscale": [
                          [
                            0,
                            "#0d0887"
                          ],
                          [
                            0.1111111111111111,
                            "#46039f"
                          ],
                          [
                            0.2222222222222222,
                            "#7201a8"
                          ],
                          [
                            0.3333333333333333,
                            "#9c179e"
                          ],
                          [
                            0.4444444444444444,
                            "#bd3786"
                          ],
                          [
                            0.5555555555555556,
                            "#d8576b"
                          ],
                          [
                            0.6666666666666666,
                            "#ed7953"
                          ],
                          [
                            0.7777777777777778,
                            "#fb9f3a"
                          ],
                          [
                            0.8888888888888888,
                            "#fdca26"
                          ],
                          [
                            1,
                            "#f0f921"
                          ]
                        ],
                        "type": "histogram2dcontour"
                      }
                    ],
                    "mesh3d": [
                      {
                        "colorbar": {
                          "outlinewidth": 0,
                          "ticks": ""
                        },
                        "type": "mesh3d"
                      }
                    ],
                    "parcoords": [
                      {
                        "line": {
                          "colorbar": {
                            "outlinewidth": 0,
                            "ticks": ""
                          }
                        },
                        "type": "parcoords"
                      }
                    ],
                    "pie": [
                      {
                        "automargin": true,
                        "type": "pie"
                      }
                    ],
                    "scatter": [
                      {
                        "fillpattern": {
                          "fillmode": "overlay",
                          "size": 10,
                          "solidity": 0.2
                        },
                        "type": "scatter"
                      }
                    ],
                    "scatter3d": [
                      {
                        "line": {
                          "colorbar": {
                            "outlinewidth": 0,
                            "ticks": ""
                          }
                        },
                        "marker": {
                          "colorbar": {
                            "outlinewidth": 0,
                            "ticks": ""
                          }
                        },
                        "type": "scatter3d"
                      }
                    ],
                    "scattercarpet": [
                      {
                        "marker": {
                          "colorbar": {
                            "outlinewidth": 0,
                            "ticks": ""
                          }
                        },
                        "type": "scattercarpet"
                      }
                    ],
                    "scattergeo": [
                      {
                        "marker": {
                          "colorbar": {
                            "outlinewidth": 0,
                            "ticks": ""
                          }
                        },
                        "type": "scattergeo"
                      }
                    ],
                    "scattergl": [
                      {
                        "marker": {
                          "colorbar": {
                            "outlinewidth": 0,
                            "ticks": ""
                          }
                        },
                        "type": "scattergl"
                      }
                    ],
                    "scattermapbox": [
                      {
                        "marker": {
                          "colorbar": {
                            "outlinewidth": 0,
                            "ticks": ""
                          }
                        },
                        "type": "scattermapbox"
                      }
                    ],
                    "scatterpolar": [
                      {
                        "marker": {
                          "colorbar": {
                            "outlinewidth": 0,
                            "ticks": ""
                          }
                        },
                        "type": "scatterpolar"
                      }
                    ],
                    "scatterpolargl": [
                      {
                        "marker": {
                          "colorbar": {
                            "outlinewidth": 0,
                            "ticks": ""
                          }
                        },
                        "type": "scatterpolargl"
                      }
                    ],
                    "scatterternary": [
                      {
                        "marker": {
                          "colorbar": {
                            "outlinewidth": 0,
                            "ticks": ""
                          }
                        },
                        "type": "scatterternary"
                      }
                    ],
                    "surface": [
                      {
                        "colorbar": {
                          "outlinewidth": 0,
                          "ticks": ""
                        },
                        "colorscale": [
                          [
                            0,
                            "#0d0887"
                          ],
                          [
                            0.1111111111111111,
                            "#46039f"
                          ],
                          [
                            0.2222222222222222,
                            "#7201a8"
                          ],
                          [
                            0.3333333333333333,
                            "#9c179e"
                          ],
                          [
                            0.4444444444444444,
                            "#bd3786"
                          ],
                          [
                            0.5555555555555556,
                            "#d8576b"
                          ],
                          [
                            0.6666666666666666,
                            "#ed7953"
                          ],
                          [
                            0.7777777777777778,
                            "#fb9f3a"
                          ],
                          [
                            0.8888888888888888,
                            "#fdca26"
                          ],
                          [
                            1,
                            "#f0f921"
                          ]
                        ],
                        "type": "surface"
                      }
                    ],
                    "table": [
                      {
                        "cells": {
                          "fill": {
                            "color": "#EBF0F8"
                          },
                          "line": {
                            "color": "white"
                          }
                        },
                        "header": {
                          "fill": {
                            "color": "#C8D4E3"
                          },
                          "line": {
                            "color": "white"
                          }
                        },
                        "type": "table"
                      }
                    ]
                  },
                  "layout": {
                    "annotationdefaults": {
                      "arrowcolor": "#2a3f5f",
                      "arrowhead": 0,
                      "arrowwidth": 1
                    },
                    "autotypenumbers": "strict",
                    "coloraxis": {
                      "colorbar": {
                        "outlinewidth": 0,
                        "ticks": ""
                      }
                    },
                    "colorscale": {
                      "diverging": [
                        [
                          0,
                          "#8e0152"
                        ],
                        [
                          0.1,
                          "#c51b7d"
                        ],
                        [
                          0.2,
                          "#de77ae"
                        ],
                        [
                          0.3,
                          "#f1b6da"
                        ],
                        [
                          0.4,
                          "#fde0ef"
                        ],
                        [
                          0.5,
                          "#f7f7f7"
                        ],
                        [
                          0.6,
                          "#e6f5d0"
                        ],
                        [
                          0.7,
                          "#b8e186"
                        ],
                        [
                          0.8,
                          "#7fbc41"
                        ],
                        [
                          0.9,
                          "#4d9221"
                        ],
                        [
                          1,
                          "#276419"
                        ]
                      ],
                      "sequential": [
                        [
                          0,
                          "#0d0887"
                        ],
                        [
                          0.1111111111111111,
                          "#46039f"
                        ],
                        [
                          0.2222222222222222,
                          "#7201a8"
                        ],
                        [
                          0.3333333333333333,
                          "#9c179e"
                        ],
                        [
                          0.4444444444444444,
                          "#bd3786"
                        ],
                        [
                          0.5555555555555556,
                          "#d8576b"
                        ],
                        [
                          0.6666666666666666,
                          "#ed7953"
                        ],
                        [
                          0.7777777777777778,
                          "#fb9f3a"
                        ],
                        [
                          0.8888888888888888,
                          "#fdca26"
                        ],
                        [
                          1,
                          "#f0f921"
                        ]
                      ],
                      "sequentialminus": [
                        [
                          0,
                          "#0d0887"
                        ],
                        [
                          0.1111111111111111,
                          "#46039f"
                        ],
                        [
                          0.2222222222222222,
                          "#7201a8"
                        ],
                        [
                          0.3333333333333333,
                          "#9c179e"
                        ],
                        [
                          0.4444444444444444,
                          "#bd3786"
                        ],
                        [
                          0.5555555555555556,
                          "#d8576b"
                        ],
                        [
                          0.6666666666666666,
                          "#ed7953"
                        ],
                        [
                          0.7777777777777778,
                          "#fb9f3a"
                        ],
                        [
                          0.8888888888888888,
                          "#fdca26"
                        ],
                        [
                          1,
                          "#f0f921"
                        ]
                      ]
                    },
                    "colorway": [
                      "#636efa",
                      "#EF553B",
                      "#00cc96",
                      "#ab63fa",
                      "#FFA15A",
                      "#19d3f3",
                      "#FF6692",
                      "#B6E880",
                      "#FF97FF",
                      "#FECB52"
                    ],
                    "font": {
                      "color": "#2a3f5f"
                    },
                    "geo": {
                      "bgcolor": "white",
                      "lakecolor": "white",
                      "landcolor": "#E5ECF6",
                      "showlakes": true,
                      "showland": true,
                      "subunitcolor": "white"
                    },
                    "hoverlabel": {
                      "align": "left"
                    },
                    "hovermode": "closest",
                    "mapbox": {
                      "style": "light"
                    },
                    "paper_bgcolor": "white",
                    "plot_bgcolor": "#E5ECF6",
                    "polar": {
                      "angularaxis": {
                        "gridcolor": "white",
                        "linecolor": "white",
                        "ticks": ""
                      },
                      "bgcolor": "#E5ECF6",
                      "radialaxis": {
                        "gridcolor": "white",
                        "linecolor": "white",
                        "ticks": ""
                      }
                    },
                    "scene": {
                      "xaxis": {
                        "backgroundcolor": "#E5ECF6",
                        "gridcolor": "white",
                        "gridwidth": 2,
                        "linecolor": "white",
                        "showbackground": true,
                        "ticks": "",
                        "zerolinecolor": "white"
                      },
                      "yaxis": {
                        "backgroundcolor": "#E5ECF6",
                        "gridcolor": "white",
                        "gridwidth": 2,
                        "linecolor": "white",
                        "showbackground": true,
                        "ticks": "",
                        "zerolinecolor": "white"
                      },
                      "zaxis": {
                        "backgroundcolor": "#E5ECF6",
                        "gridcolor": "white",
                        "gridwidth": 2,
                        "linecolor": "white",
                        "showbackground": true,
                        "ticks": "",
                        "zerolinecolor": "white"
                      }
                    },
                    "shapedefaults": {
                      "line": {
                        "color": "#2a3f5f"
                      }
                    },
                    "ternary": {
                      "aaxis": {
                        "gridcolor": "white",
                        "linecolor": "white",
                        "ticks": ""
                      },
                      "baxis": {
                        "gridcolor": "white",
                        "linecolor": "white",
                        "ticks": ""
                      },
                      "bgcolor": "#E5ECF6",
                      "caxis": {
                        "gridcolor": "white",
                        "linecolor": "white",
                        "ticks": ""
                      }
                    },
                    "title": {
                      "x": 0.05
                    },
                    "xaxis": {
                      "automargin": true,
                      "gridcolor": "white",
                      "linecolor": "white",
                      "ticks": "",
                      "title": {
                        "standoff": 15
                      },
                      "zerolinecolor": "white",
                      "zerolinewidth": 2
                    },
                    "yaxis": {
                      "automargin": true,
                      "gridcolor": "white",
                      "linecolor": "white",
                      "ticks": "",
                      "title": {
                        "standoff": 15
                      },
                      "zerolinecolor": "white",
                      "zerolinewidth": 2
                    }
                  }
                },
                "title": {
                  "text": "Velocidad de la cadera en todos los videos"
                },
                "xaxis": {
                  "title": {
                    "text": "Tiempo"
                  }
                },
                "yaxis": {
                  "title": {
                    "text": "Velocidad de la cadera"
                  }
                }
              }
            }
          },
          "metadata": {},
          "output_type": "display_data"
        },
        {
          "data": {
            "application/vnd.plotly.v1+json": {
              "config": {
                "plotlyServerURL": "https://plot.ly"
              },
              "data": [
                {
                  "mode": "lines",
                  "name": "Aceleración de la cadera (Video 1)",
                  "type": "scatter",
                  "x": [
                    null,
                    0.0179856115107913,
                    0.0359712230215827,
                    0.0539568345323741,
                    0.0719424460431654,
                    0.0899280575539568,
                    0.1079136690647482,
                    0.1258992805755395,
                    0.1438848920863309,
                    0.1618705035971223,
                    0.1798561151079136,
                    0.197841726618705,
                    0.2158273381294964,
                    0.2338129496402877,
                    0.2517985611510791,
                    0.2697841726618705,
                    0.2877697841726618,
                    0.3057553956834532,
                    0.3237410071942446,
                    0.3417266187050359,
                    0.3597122302158273,
                    0.3776978417266187,
                    0.39568345323741,
                    0.4136690647482014,
                    0.4316546762589928,
                    0.4496402877697841,
                    0.4676258992805755,
                    0.4856115107913669,
                    0.5035971223021583,
                    0.5215827338129496,
                    0.539568345323741,
                    0.5575539568345323,
                    0.5755395683453237,
                    0.5935251798561151,
                    0.6115107913669064,
                    0.6294964028776978,
                    0.6474820143884892,
                    0.6654676258992805,
                    0.6834532374100719,
                    0.7014388489208633,
                    0.7194244604316546,
                    0.737410071942446,
                    0.7553956834532374,
                    0.7733812949640287,
                    0.7913669064748201,
                    0.8093525179856115,
                    0.8273381294964028,
                    0.8453237410071942,
                    0.8633093525179856,
                    0.8812949640287769,
                    0.8992805755395683,
                    0.9172661870503596,
                    0.935251798561151,
                    0.9532374100719424,
                    0.9712230215827338,
                    0.9892086330935252,
                    1.0071942446043165,
                    1.0251798561151078,
                    1.0431654676258992,
                    1.0611510791366907,
                    1.079136690647482,
                    1.0971223021582732,
                    1.1151079136690647,
                    1.1330935251798562,
                    1.1510791366906474,
                    1.169064748201439,
                    1.1870503597122302,
                    1.2050359712230216,
                    1.223021582733813,
                    1.2410071942446042,
                    1.2589928057553956,
                    1.276978417266187,
                    1.2949640287769784,
                    1.3129496402877696,
                    1.330935251798561,
                    1.3489208633093526,
                    1.3669064748201438,
                    1.384892086330935,
                    1.4028776978417266,
                    1.420863309352518,
                    1.4388489208633093,
                    1.4568345323741003,
                    1.474820143884892,
                    1.4928057553956835,
                    1.5107913669064748,
                    1.528776978417266,
                    1.5467625899280577,
                    1.564748201438849,
                    1.5827338129496402,
                    1.6007194244604317,
                    1.618705035971223,
                    1.6366906474820144,
                    1.6546762589928057,
                    1.672661870503597,
                    1.6906474820143884,
                    1.70863309352518,
                    1.7266187050359711,
                    1.7446043165467624,
                    1.762589928057554,
                    1.7805755395683454,
                    1.7985611510791366,
                    1.816546762589928,
                    1.8345323741007196,
                    1.8525179856115108,
                    1.870503597122302,
                    1.888489208633093,
                    1.9064748201438848,
                    1.9244604316546765,
                    1.9424460431654675,
                    1.9604316546762588,
                    1.9784172661870505,
                    1.9964028776978415,
                    2.014388489208633,
                    2.0323741007194243,
                    2.0503597122302155,
                    2.068345323741007,
                    2.0863309352517985,
                    2.1043165467625897,
                    2.122302158273381,
                    2.1402877697841727,
                    2.158273381294964,
                    2.176258992805755,
                    2.1942446043165464,
                    2.212230215827338,
                    2.2302158273381294,
                    2.2482014388489207,
                    2.2661870503597124,
                    2.284172661870504,
                    2.302158273381295,
                    2.320143884892086,
                    2.3381294964028774,
                    2.356115107913669,
                    2.3741007194244603,
                    2.392086330935252,
                    2.4100719424460437,
                    2.4280575539568345,
                    2.446043165467626,
                    2.464028776978417,
                    2.4820143884892083,
                    2.5,
                    2.5179856115107917,
                    2.5359712230215825,
                    2.553956834532374,
                    2.571942446043165,
                    2.5899280575539567,
                    2.607913669064748,
                    2.6258992805755392,
                    2.643884892086331,
                    2.661870503597122,
                    2.679856115107913,
                    2.697841726618705,
                    2.7158273381294964,
                    2.733812949640288,
                    2.751798561151079,
                    2.76978417266187,
                    2.787769784172662,
                    2.805755395683453,
                    2.8237410071942444,
                    2.841726618705036,
                    2.8597122302158278,
                    2.8776978417266186,
                    2.89568345323741,
                    2.913669064748201,
                    2.931654676258993,
                    2.949640287769784,
                    2.9676258992805757,
                    2.985611510791367,
                    3.0035971223021583,
                    3.021582733812949,
                    3.0395683453237408,
                    3.057553956834532,
                    3.075539568345324,
                    3.093525179856115,
                    3.1115107913669062,
                    3.129496402877698,
                    3.147482014388489,
                    3.1654676258992804,
                    3.183453237410072,
                    3.201438848920863,
                    3.219424460431654,
                    3.237410071942446,
                    3.255395683453237,
                    3.273381294964029,
                    3.29136690647482,
                    3.309352517985612,
                    3.3273381294964026,
                    3.345323741007194,
                    3.3633093525179856,
                    3.381294964028777,
                    3.399280575539568,
                    3.41726618705036,
                    3.435251798561151,
                    3.4532374100719423,
                    3.471223021582733,
                    3.489208633093525,
                    3.5071942446043165,
                    3.525179856115108,
                    3.543165467625899,
                    3.5611510791366907,
                    3.579136690647482,
                    3.597122302158273,
                    3.615107913669065,
                    3.633093525179856,
                    3.651079136690648,
                    3.669064748201439,
                    3.68705035971223,
                    3.7050359712230216,
                    3.723021582733813,
                    3.741007194244604,
                    3.7589928057553954,
                    3.776978417266186,
                    3.7949640287769775,
                    3.8129496402877696,
                    3.830935251798561,
                    3.848920863309353,
                    3.866906474820144,
                    3.884892086330935,
                    3.9028776978417263,
                    3.9208633093525176,
                    3.938848920863309,
                    3.956834532374101,
                    3.974820143884892,
                    3.992805755395684,
                    4.010791366906474,
                    4.028776978417266,
                    4.046762589928058,
                    4.0647482014388485,
                    4.08273381294964,
                    4.100719424460431,
                    4.118705035971223,
                    4.136690647482014,
                    4.154676258992805,
                    4.172661870503597,
                    4.190647482014389,
                    4.2086330935251794,
                    4.226618705035971,
                    4.244604316546763,
                    4.262589928057554,
                    4.280575539568345,
                    4.298561151079136,
                    4.316546762589928,
                    4.33453237410072,
                    4.35251798561151,
                    4.370503597122302,
                    4.388489208633093,
                    4.406474820143885,
                    4.424460431654676,
                    4.442446043165467,
                    4.460431654676259,
                    4.4784172661870505,
                    4.496402877697841,
                    4.514388489208633,
                    4.532374100719425,
                    4.550359712230216
                  ],
                  "y": [
                    null,
                    null,
                    null,
                    null,
                    null,
                    null,
                    null,
                    null,
                    null,
                    null,
                    null,
                    null,
                    null,
                    null,
                    null,
                    null,
                    null,
                    null,
                    null,
                    null,
                    null,
                    null,
                    null,
                    null,
                    null,
                    null,
                    null,
                    null,
                    null,
                    null,
                    null,
                    null,
                    null,
                    null,
                    null,
                    null,
                    null,
                    null,
                    null,
                    null,
                    null,
                    null,
                    null,
                    null,
                    null,
                    null,
                    null,
                    null,
                    null,
                    null,
                    null,
                    0.11867780380249027,
                    0.1382977462768555,
                    0.08356532974243165,
                    -0.001238223266601537,
                    0.15793611469268806,
                    0.20798834209442144,
                    0.21324710578918463,
                    0.25796318054199224,
                    -0.01142408370971676,
                    0.009378804206848185,
                    -0.03988479290008542,
                    0.13146909236907964,
                    0.009481989479064961,
                    -0.04276292495727538,
                    0.029271450614929223,
                    0.03423171405792237,
                    0.13082786960601808,
                    0.0594199760437012,
                    0.04431070404052737,
                    0.10001601028442388,
                    0.08904888992309573,
                    0.1464272716522217,
                    0.06868453941345216,
                    0.12012239761352539,
                    -0.08516101627349855,
                    0.029853710365295428,
                    0.10097047405242923,
                    0.15376448154449465,
                    0.16780873413085942,
                    0.05674084415435795,
                    -0.06810596485137936,
                    0.07861243667602541,
                    0.017998459625244167,
                    -0.0465512985229492,
                    0.07365217323303225,
                    -0.08471510848999023,
                    0.06515781421661379,
                    -0.03612221565246583,
                    -0.033384120750427244,
                    0.09882200927734378,
                    -0.0484233741760254,
                    0.021274592018127446,
                    0.08372747802734373,
                    0.03784319858551026,
                    0.05873453102111816,
                    0.12794973754882816,
                    -0.01771101493835449,
                    -0.03169261932373047,
                    -0.21784990596771245,
                    -0.15523118648529052,
                    -0.1336580942153931,
                    -0.17179979305267334,
                    -0.01310452957153318,
                    0.019450423812866234,
                    -0.05530730590820314,
                    -0.18455054454803466,
                    -0.1766826675415039,
                    -0.2319678623199463,
                    0.017040310668945336,
                    0.22432109661102295,
                    0.12772862625122072,
                    -0.022240111351013198,
                    0.01045487918853758,
                    -0.007908414077758809,
                    -0.11434770755767826,
                    -0.055325731849670455,
                    -0.10339901313781745,
                    -0.0851868125915528,
                    0.008619655418395933,
                    -0.09750639705657964,
                    -0.0030402803421020865,
                    -0.21007047348022462,
                    -0.15476316757202152,
                    -0.008439081192016591,
                    0.042011146545410175,
                    -0.0995369358062744,
                    0.018389089584350593,
                    -0.12988077621459962,
                    0.013646252250671367,
                    -0.10799075775146486,
                    0.06752001991271973,
                    -0.042788721275329566,
                    -0.13389026107788088,
                    -0.07906940002441407,
                    -0.059622661399841306,
                    -0.017578348159790043,
                    -0.08250399551391602,
                    -0.2346248830795288,
                    -0.05875295696258544,
                    -0.13888737640380858,
                    0.04656972446441655,
                    -0.027955838394165,
                    -0.1705136623382568,
                    -0.06880983581542967,
                    -0.12723481101989745,
                    -0.10949062938690184,
                    -0.017692588996887172,
                    -0.1196138416290283,
                    -0.01255912170410153,
                    0.08473353443145754,
                    0.043798462867736844,
                    -0.010598601531982403,
                    -0.08513153476715087,
                    -0.027646282577514638,
                    -0.13462729873657225,
                    -0.0511246171951294,
                    -0.04973898639678956,
                    -0.08770748138427736,
                    -0.08589068355560306,
                    -0.34098678760528567,
                    -0.43128127117156995,
                    -0.15750126247406007,
                    -0.034592862510681145,
                    -0.22127344589233403,
                    -0.09470933914184572,
                    -0.3074147222518921,
                    -0.05136046924591064,
                    -0.12148960247039792,
                    -0.3444176979064942,
                    -0.045991149902343764,
                    -0.12651619930267333,
                    -0.021418314361572256,
                    -0.1406452112197876,
                    -0.2107080110549927,
                    -0.11648143157958989,
                    -0.19213466205596927,
                    -0.3318217243194581,
                    -0.15827146682739263,
                    -0.36857042198181156,
                    -0.045121445465087916,
                    -0.32522155208587655,
                    -0.2957400457382203,
                    -0.15927015285491947,
                    -0.3390631193161011,
                    -0.054279138374328684,
                    -0.1852912673950196,
                    -0.12106949100494395,
                    -0.06907148418426527,
                    -0.25888816280365007,
                    -0.21698757190704362,
                    -0.21949718513488783,
                    -0.186979083633423,
                    -0.23176517696380633,
                    -0.2057256364822389,
                    -0.28293033123016376,
                    -0.25146250839233414,
                    -0.09643769245147721,
                    -0.13099738826751728,
                    -0.17872057666778582,
                    -0.31425074653625507,
                    -0.34631556987762474,
                    -0.11702683944702162,
                    -0.1505989048004152,
                    -0.12223401050567642,
                    -0.18011357784271254,
                    -0.1800325037002565,
                    -0.03869079189300553,
                    -0.1344246133804323,
                    -0.001289815902710103,
                    0.17454525833129872,
                    0.19940553855895984,
                    -0.07492724838256853,
                    -0.05130519142150895,
                    0.21737451667785634,
                    -0.009360378265381008,
                    0.20122970676422106,
                    -0.06544894409179702,
                    0.10250351238250718,
                    0.226104727745056,
                    0.05025122756957992,
                    0.05866819763183578,
                    0.04024225616455061,
                    0.05263554439544661,
                    0.012997659111022783,
                    0.08135421676635728,
                    0.20782987899780256,
                    0.13049251747131332,
                    0.09321683788299541,
                    0.0664734264373777,
                    0.0549756389617918,
                    0.22304602146148664,
                    0.2857937225341795,
                    0.18245367240905744,
                    0.36517267837524403,
                    0.03679660511016834,
                    0.1824352464675902,
                    0.08324471836090076,
                    0.1933065519332885,
                    0.26011164531707753,
                    0.2013586883544921,
                    0.08896044540405264,
                    0.1204982868194579,
                    0.27943677272796624,
                    0.24848487625122062,
                    0.3031067371368408,
                    0.24006790618896473,
                    0.10987757415771476,
                    0.12688471813201896,
                    0.17462264728546134,
                    0.24868019123077384,
                    0.2956773975372314,
                    0.14939016304016103,
                    0.1677866230010986
                  ]
                },
                {
                  "mode": "lines",
                  "name": "Aceleración de la cadera (Video 2)",
                  "type": "scatter",
                  "x": [
                    null,
                    0.0166833333333333,
                    0.0333666666666666,
                    0.05005,
                    0.0667333333333333,
                    0.0834166666666666,
                    0.1001,
                    0.1167833333333333,
                    0.1334666666666666,
                    0.15015,
                    0.1668333333333333,
                    0.1835166666666667,
                    0.2002,
                    0.2168833333333333,
                    0.2335666666666667,
                    0.25025,
                    0.2669333333333333,
                    0.2836166666666667,
                    0.3003,
                    0.3169833333333333,
                    0.3336666666666666,
                    0.35035,
                    0.3670333333333334,
                    0.3837166666666667,
                    0.4004,
                    0.4170833333333333,
                    0.4337666666666667,
                    0.45045,
                    0.4671333333333334,
                    0.4838166666666667,
                    0.5005000000000001,
                    0.5171833333333333,
                    0.5338666666666667,
                    0.5505500000000001,
                    0.5672333333333334,
                    0.5839166666666668,
                    0.6006,
                    0.6172833333333334,
                    0.6339666666666667,
                    0.6506500000000001,
                    0.6673333333333333,
                    0.6840166666666667,
                    0.7007000000000001,
                    0.7173833333333334,
                    0.7340666666666668,
                    0.75075,
                    0.7674333333333334,
                    0.7841166666666667,
                    0.8008000000000001,
                    0.8174833333333335,
                    0.8341666666666667,
                    0.8508500000000001,
                    0.8675333333333334,
                    0.8842166666666668,
                    0.9009,
                    0.9175833333333334,
                    0.9342666666666668,
                    0.95095,
                    0.9676333333333336,
                    0.9843166666666668,
                    1.001,
                    1.0176833333333335,
                    1.0343666666666669,
                    1.05105,
                    1.0677333333333334,
                    1.0844166666666668,
                    1.1011000000000002,
                    1.1177833333333334,
                    1.1344666666666667,
                    1.15115,
                    1.1678333333333335,
                    1.1845166666666669,
                    1.2012,
                    1.2178833333333334,
                    1.2345666666666668,
                    1.2512500000000002,
                    1.2679333333333334,
                    1.2846166666666667,
                    1.3013,
                    1.3179833333333335,
                    1.334666666666667,
                    1.35135,
                    1.3680333333333334,
                    1.3847166666666668,
                    1.4014000000000002,
                    1.4180833333333334,
                    1.4347666666666667,
                    1.45145,
                    1.4681333333333335,
                    1.484816666666667,
                    1.5015,
                    1.5181833333333334,
                    1.5348666666666668,
                    1.5515500000000002,
                    1.5682333333333334,
                    1.5849166666666668,
                    1.6016,
                    1.6182833333333335,
                    1.634966666666667,
                    1.65165,
                    1.6683333333333334,
                    1.6850166666666668,
                    1.7017000000000002,
                    1.7183833333333334,
                    1.7350666666666668,
                    1.75175,
                    1.7684333333333335,
                    1.785116666666667,
                    1.8018,
                    1.8184833333333332,
                    1.8351666666666668,
                    1.85185,
                    1.8685333333333336,
                    1.8852166666666668,
                    1.9019,
                    1.9185833333333333,
                    1.935266666666667,
                    1.95195,
                    1.9686333333333332,
                    1.9853166666666668,
                    2.002,
                    2.0186833333333336,
                    2.035366666666667,
                    2.0520500000000004,
                    2.0687333333333333,
                    2.0854166666666667,
                    2.1021,
                    2.118783333333333,
                    2.135466666666667,
                    2.15215,
                    2.1688333333333336,
                    2.185516666666667,
                    2.2022000000000004,
                    2.2188833333333333,
                    2.2355666666666667,
                    2.25225,
                    2.268933333333333,
                    2.285616666666667,
                    2.3023,
                    2.3189833333333336,
                    2.335666666666667,
                    2.3523500000000004,
                    2.3690333333333333,
                    2.3857166666666667,
                    2.4024,
                    2.419083333333333,
                    2.435766666666667,
                    2.45245,
                    2.4691333333333336,
                    2.485816666666667,
                    2.5025000000000004,
                    2.5191833333333333,
                    2.5358666666666667,
                    2.55255,
                    2.569233333333333,
                    2.585916666666667,
                    2.6026,
                    2.6192833333333336,
                    2.635966666666667,
                    2.6526500000000004,
                    2.6693333333333333,
                    2.6860166666666667,
                    2.7027,
                    2.719383333333333,
                    2.736066666666667,
                    2.7527500000000003,
                    2.7694333333333336,
                    2.786116666666667,
                    2.8028000000000004,
                    2.819483333333334,
                    2.8361666666666667,
                    2.85285,
                    2.869533333333333,
                    2.886216666666667,
                    2.9029000000000003,
                    2.9195833333333336
                  ],
                  "y": [
                    null,
                    null,
                    null,
                    null,
                    null,
                    null,
                    null,
                    null,
                    null,
                    null,
                    null,
                    null,
                    null,
                    null,
                    null,
                    null,
                    null,
                    null,
                    null,
                    null,
                    null,
                    null,
                    null,
                    null,
                    null,
                    null,
                    null,
                    null,
                    null,
                    null,
                    null,
                    null,
                    null,
                    null,
                    null,
                    null,
                    null,
                    null,
                    null,
                    null,
                    null,
                    null,
                    null,
                    null,
                    null,
                    null,
                    null,
                    null,
                    null,
                    null,
                    null,
                    0.05647944906943332,
                    0.37537183247079403,
                    -0.052166504107507665,
                    0.08574922649724169,
                    -0.15228079257327007,
                    0.04590481042892133,
                    -0.06986371223330577,
                    0.04106934383307763,
                    -0.05044046952989476,
                    0.014099518187349034,
                    0.15203666361316054,
                    0.17349859728169253,
                    0.2116726573071616,
                    0.4658023388522316,
                    0.09894503923576614,
                    0.035497207392694304,
                    0.4414965169466401,
                    0.5297212967586717,
                    0.04810625403411486,
                    0.3435665402292216,
                    -0.03454210637332114,
                    0.051614001724102465,
                    -0.31341875513786405,
                    -0.28983675418417465,
                    -0.0031008660898061893,
                    0.2064260261469239,
                    -0.057057649238113024,
                    -0.10542516408918702,
                    0.24136644819200165,
                    0.21932203139057793,
                    0.12928127475247211,
                    -0.06433012247083442,
                    0.041964483353477536,
                    -0.16778512302229923,
                    -0.10300957227337128,
                    -0.2228640427942652,
                    -0.2944580725693961,
                    -0.00037690085069471915,
                    -0.4533988744930087,
                    -0.38090113926905317,
                    -0.33082900466142834,
                    -0.07179961205732806,
                    -0.7150665730519714,
                    -0.8110906306948545,
                    -0.34415758929053863,
                    -0.3813123038334472,
                    -0.40325821245798493,
                    -0.6098941038513185,
                    -0.39752760634174145,
                    -0.10281683888381153,
                    -0.3327006600222642,
                    -0.44310262852630516,
                    -0.2774889683597126,
                    -0.4166553245144941,
                    -0.2743795363414819,
                    -0.2961926730754339,
                    -0.23922924904999468,
                    -0.31209531919621997,
                    0.005019634056978504,
                    -0.40869757700778236,
                    -0.4479295291937239,
                    -0.30606490558510585,
                    -0.5641691779193194,
                    -0.7564271584514951,
                    -0.2597917602339145,
                    -0.06515245159962259,
                    -0.7017508373154985,
                    -0.5345182166766038,
                    -0.2531274679193593,
                    -0.26580932495239135,
                    -0.021534744060143468,
                    -0.37060489330234964,
                    -0.4158415613141307,
                    -0.3167509012951413,
                    -0.38067842513000627,
                    -0.2377302115756411,
                    -0.30240725414768294,
                    -0.5222046945658416,
                    -0.23850971106230495,
                    -0.2772448393996036,
                    -0.2543780934693916,
                    0.07981732106301374,
                    -0.16738252438633006,
                    -0.2443945038901963,
                    -0.14685427691610975,
                    0.11514320988721082,
                    0.017268911704554045,
                    -0.3139755404854808,
                    0.20486274420938375,
                    0.15778440158625387,
                    0.17422241823359488,
                    -0.07837396212342201,
                    0.09061895680678496,
                    0.19542309108516812,
                    -0.18819773045878374,
                    0.11734037052819207,
                    0.16672723086182656,
                    0.14215586517506384,
                    0.6071016111848081,
                    0.26610056651883696,
                    0.24252713149357255,
                    0.11648377768570423,
                    0.3208668299032949,
                    0.2272455151835901,
                    0.39210109068458093,
                    0.6964485276204988,
                    0.2715356481044221,
                    0.1405069239532748,
                    -0.06853599332744954,
                    0.2539969096544843,
                    0.15035774164188456,
                    0.08398892820592932,
                    0.04053825627073533,
                    0.29732765859173005,
                    0.16903146560811877,
                    0.020185610333225,
                    0.25237366621796986,
                    -0.11381977394556758,
                    0.11854388347188731,
                    0.09504754180244677,
                    -0.005837680221554668,
                    0.31222380812259287,
                    0.12529383507069125,
                    0.6224174912084899,
                    0.0951631818361827
                  ]
                }
              ],
              "layout": {
                "template": {
                  "data": {
                    "bar": [
                      {
                        "error_x": {
                          "color": "#2a3f5f"
                        },
                        "error_y": {
                          "color": "#2a3f5f"
                        },
                        "marker": {
                          "line": {
                            "color": "#E5ECF6",
                            "width": 0.5
                          },
                          "pattern": {
                            "fillmode": "overlay",
                            "size": 10,
                            "solidity": 0.2
                          }
                        },
                        "type": "bar"
                      }
                    ],
                    "barpolar": [
                      {
                        "marker": {
                          "line": {
                            "color": "#E5ECF6",
                            "width": 0.5
                          },
                          "pattern": {
                            "fillmode": "overlay",
                            "size": 10,
                            "solidity": 0.2
                          }
                        },
                        "type": "barpolar"
                      }
                    ],
                    "carpet": [
                      {
                        "aaxis": {
                          "endlinecolor": "#2a3f5f",
                          "gridcolor": "white",
                          "linecolor": "white",
                          "minorgridcolor": "white",
                          "startlinecolor": "#2a3f5f"
                        },
                        "baxis": {
                          "endlinecolor": "#2a3f5f",
                          "gridcolor": "white",
                          "linecolor": "white",
                          "minorgridcolor": "white",
                          "startlinecolor": "#2a3f5f"
                        },
                        "type": "carpet"
                      }
                    ],
                    "choropleth": [
                      {
                        "colorbar": {
                          "outlinewidth": 0,
                          "ticks": ""
                        },
                        "type": "choropleth"
                      }
                    ],
                    "contour": [
                      {
                        "colorbar": {
                          "outlinewidth": 0,
                          "ticks": ""
                        },
                        "colorscale": [
                          [
                            0,
                            "#0d0887"
                          ],
                          [
                            0.1111111111111111,
                            "#46039f"
                          ],
                          [
                            0.2222222222222222,
                            "#7201a8"
                          ],
                          [
                            0.3333333333333333,
                            "#9c179e"
                          ],
                          [
                            0.4444444444444444,
                            "#bd3786"
                          ],
                          [
                            0.5555555555555556,
                            "#d8576b"
                          ],
                          [
                            0.6666666666666666,
                            "#ed7953"
                          ],
                          [
                            0.7777777777777778,
                            "#fb9f3a"
                          ],
                          [
                            0.8888888888888888,
                            "#fdca26"
                          ],
                          [
                            1,
                            "#f0f921"
                          ]
                        ],
                        "type": "contour"
                      }
                    ],
                    "contourcarpet": [
                      {
                        "colorbar": {
                          "outlinewidth": 0,
                          "ticks": ""
                        },
                        "type": "contourcarpet"
                      }
                    ],
                    "heatmap": [
                      {
                        "colorbar": {
                          "outlinewidth": 0,
                          "ticks": ""
                        },
                        "colorscale": [
                          [
                            0,
                            "#0d0887"
                          ],
                          [
                            0.1111111111111111,
                            "#46039f"
                          ],
                          [
                            0.2222222222222222,
                            "#7201a8"
                          ],
                          [
                            0.3333333333333333,
                            "#9c179e"
                          ],
                          [
                            0.4444444444444444,
                            "#bd3786"
                          ],
                          [
                            0.5555555555555556,
                            "#d8576b"
                          ],
                          [
                            0.6666666666666666,
                            "#ed7953"
                          ],
                          [
                            0.7777777777777778,
                            "#fb9f3a"
                          ],
                          [
                            0.8888888888888888,
                            "#fdca26"
                          ],
                          [
                            1,
                            "#f0f921"
                          ]
                        ],
                        "type": "heatmap"
                      }
                    ],
                    "heatmapgl": [
                      {
                        "colorbar": {
                          "outlinewidth": 0,
                          "ticks": ""
                        },
                        "colorscale": [
                          [
                            0,
                            "#0d0887"
                          ],
                          [
                            0.1111111111111111,
                            "#46039f"
                          ],
                          [
                            0.2222222222222222,
                            "#7201a8"
                          ],
                          [
                            0.3333333333333333,
                            "#9c179e"
                          ],
                          [
                            0.4444444444444444,
                            "#bd3786"
                          ],
                          [
                            0.5555555555555556,
                            "#d8576b"
                          ],
                          [
                            0.6666666666666666,
                            "#ed7953"
                          ],
                          [
                            0.7777777777777778,
                            "#fb9f3a"
                          ],
                          [
                            0.8888888888888888,
                            "#fdca26"
                          ],
                          [
                            1,
                            "#f0f921"
                          ]
                        ],
                        "type": "heatmapgl"
                      }
                    ],
                    "histogram": [
                      {
                        "marker": {
                          "pattern": {
                            "fillmode": "overlay",
                            "size": 10,
                            "solidity": 0.2
                          }
                        },
                        "type": "histogram"
                      }
                    ],
                    "histogram2d": [
                      {
                        "colorbar": {
                          "outlinewidth": 0,
                          "ticks": ""
                        },
                        "colorscale": [
                          [
                            0,
                            "#0d0887"
                          ],
                          [
                            0.1111111111111111,
                            "#46039f"
                          ],
                          [
                            0.2222222222222222,
                            "#7201a8"
                          ],
                          [
                            0.3333333333333333,
                            "#9c179e"
                          ],
                          [
                            0.4444444444444444,
                            "#bd3786"
                          ],
                          [
                            0.5555555555555556,
                            "#d8576b"
                          ],
                          [
                            0.6666666666666666,
                            "#ed7953"
                          ],
                          [
                            0.7777777777777778,
                            "#fb9f3a"
                          ],
                          [
                            0.8888888888888888,
                            "#fdca26"
                          ],
                          [
                            1,
                            "#f0f921"
                          ]
                        ],
                        "type": "histogram2d"
                      }
                    ],
                    "histogram2dcontour": [
                      {
                        "colorbar": {
                          "outlinewidth": 0,
                          "ticks": ""
                        },
                        "colorscale": [
                          [
                            0,
                            "#0d0887"
                          ],
                          [
                            0.1111111111111111,
                            "#46039f"
                          ],
                          [
                            0.2222222222222222,
                            "#7201a8"
                          ],
                          [
                            0.3333333333333333,
                            "#9c179e"
                          ],
                          [
                            0.4444444444444444,
                            "#bd3786"
                          ],
                          [
                            0.5555555555555556,
                            "#d8576b"
                          ],
                          [
                            0.6666666666666666,
                            "#ed7953"
                          ],
                          [
                            0.7777777777777778,
                            "#fb9f3a"
                          ],
                          [
                            0.8888888888888888,
                            "#fdca26"
                          ],
                          [
                            1,
                            "#f0f921"
                          ]
                        ],
                        "type": "histogram2dcontour"
                      }
                    ],
                    "mesh3d": [
                      {
                        "colorbar": {
                          "outlinewidth": 0,
                          "ticks": ""
                        },
                        "type": "mesh3d"
                      }
                    ],
                    "parcoords": [
                      {
                        "line": {
                          "colorbar": {
                            "outlinewidth": 0,
                            "ticks": ""
                          }
                        },
                        "type": "parcoords"
                      }
                    ],
                    "pie": [
                      {
                        "automargin": true,
                        "type": "pie"
                      }
                    ],
                    "scatter": [
                      {
                        "fillpattern": {
                          "fillmode": "overlay",
                          "size": 10,
                          "solidity": 0.2
                        },
                        "type": "scatter"
                      }
                    ],
                    "scatter3d": [
                      {
                        "line": {
                          "colorbar": {
                            "outlinewidth": 0,
                            "ticks": ""
                          }
                        },
                        "marker": {
                          "colorbar": {
                            "outlinewidth": 0,
                            "ticks": ""
                          }
                        },
                        "type": "scatter3d"
                      }
                    ],
                    "scattercarpet": [
                      {
                        "marker": {
                          "colorbar": {
                            "outlinewidth": 0,
                            "ticks": ""
                          }
                        },
                        "type": "scattercarpet"
                      }
                    ],
                    "scattergeo": [
                      {
                        "marker": {
                          "colorbar": {
                            "outlinewidth": 0,
                            "ticks": ""
                          }
                        },
                        "type": "scattergeo"
                      }
                    ],
                    "scattergl": [
                      {
                        "marker": {
                          "colorbar": {
                            "outlinewidth": 0,
                            "ticks": ""
                          }
                        },
                        "type": "scattergl"
                      }
                    ],
                    "scattermapbox": [
                      {
                        "marker": {
                          "colorbar": {
                            "outlinewidth": 0,
                            "ticks": ""
                          }
                        },
                        "type": "scattermapbox"
                      }
                    ],
                    "scatterpolar": [
                      {
                        "marker": {
                          "colorbar": {
                            "outlinewidth": 0,
                            "ticks": ""
                          }
                        },
                        "type": "scatterpolar"
                      }
                    ],
                    "scatterpolargl": [
                      {
                        "marker": {
                          "colorbar": {
                            "outlinewidth": 0,
                            "ticks": ""
                          }
                        },
                        "type": "scatterpolargl"
                      }
                    ],
                    "scatterternary": [
                      {
                        "marker": {
                          "colorbar": {
                            "outlinewidth": 0,
                            "ticks": ""
                          }
                        },
                        "type": "scatterternary"
                      }
                    ],
                    "surface": [
                      {
                        "colorbar": {
                          "outlinewidth": 0,
                          "ticks": ""
                        },
                        "colorscale": [
                          [
                            0,
                            "#0d0887"
                          ],
                          [
                            0.1111111111111111,
                            "#46039f"
                          ],
                          [
                            0.2222222222222222,
                            "#7201a8"
                          ],
                          [
                            0.3333333333333333,
                            "#9c179e"
                          ],
                          [
                            0.4444444444444444,
                            "#bd3786"
                          ],
                          [
                            0.5555555555555556,
                            "#d8576b"
                          ],
                          [
                            0.6666666666666666,
                            "#ed7953"
                          ],
                          [
                            0.7777777777777778,
                            "#fb9f3a"
                          ],
                          [
                            0.8888888888888888,
                            "#fdca26"
                          ],
                          [
                            1,
                            "#f0f921"
                          ]
                        ],
                        "type": "surface"
                      }
                    ],
                    "table": [
                      {
                        "cells": {
                          "fill": {
                            "color": "#EBF0F8"
                          },
                          "line": {
                            "color": "white"
                          }
                        },
                        "header": {
                          "fill": {
                            "color": "#C8D4E3"
                          },
                          "line": {
                            "color": "white"
                          }
                        },
                        "type": "table"
                      }
                    ]
                  },
                  "layout": {
                    "annotationdefaults": {
                      "arrowcolor": "#2a3f5f",
                      "arrowhead": 0,
                      "arrowwidth": 1
                    },
                    "autotypenumbers": "strict",
                    "coloraxis": {
                      "colorbar": {
                        "outlinewidth": 0,
                        "ticks": ""
                      }
                    },
                    "colorscale": {
                      "diverging": [
                        [
                          0,
                          "#8e0152"
                        ],
                        [
                          0.1,
                          "#c51b7d"
                        ],
                        [
                          0.2,
                          "#de77ae"
                        ],
                        [
                          0.3,
                          "#f1b6da"
                        ],
                        [
                          0.4,
                          "#fde0ef"
                        ],
                        [
                          0.5,
                          "#f7f7f7"
                        ],
                        [
                          0.6,
                          "#e6f5d0"
                        ],
                        [
                          0.7,
                          "#b8e186"
                        ],
                        [
                          0.8,
                          "#7fbc41"
                        ],
                        [
                          0.9,
                          "#4d9221"
                        ],
                        [
                          1,
                          "#276419"
                        ]
                      ],
                      "sequential": [
                        [
                          0,
                          "#0d0887"
                        ],
                        [
                          0.1111111111111111,
                          "#46039f"
                        ],
                        [
                          0.2222222222222222,
                          "#7201a8"
                        ],
                        [
                          0.3333333333333333,
                          "#9c179e"
                        ],
                        [
                          0.4444444444444444,
                          "#bd3786"
                        ],
                        [
                          0.5555555555555556,
                          "#d8576b"
                        ],
                        [
                          0.6666666666666666,
                          "#ed7953"
                        ],
                        [
                          0.7777777777777778,
                          "#fb9f3a"
                        ],
                        [
                          0.8888888888888888,
                          "#fdca26"
                        ],
                        [
                          1,
                          "#f0f921"
                        ]
                      ],
                      "sequentialminus": [
                        [
                          0,
                          "#0d0887"
                        ],
                        [
                          0.1111111111111111,
                          "#46039f"
                        ],
                        [
                          0.2222222222222222,
                          "#7201a8"
                        ],
                        [
                          0.3333333333333333,
                          "#9c179e"
                        ],
                        [
                          0.4444444444444444,
                          "#bd3786"
                        ],
                        [
                          0.5555555555555556,
                          "#d8576b"
                        ],
                        [
                          0.6666666666666666,
                          "#ed7953"
                        ],
                        [
                          0.7777777777777778,
                          "#fb9f3a"
                        ],
                        [
                          0.8888888888888888,
                          "#fdca26"
                        ],
                        [
                          1,
                          "#f0f921"
                        ]
                      ]
                    },
                    "colorway": [
                      "#636efa",
                      "#EF553B",
                      "#00cc96",
                      "#ab63fa",
                      "#FFA15A",
                      "#19d3f3",
                      "#FF6692",
                      "#B6E880",
                      "#FF97FF",
                      "#FECB52"
                    ],
                    "font": {
                      "color": "#2a3f5f"
                    },
                    "geo": {
                      "bgcolor": "white",
                      "lakecolor": "white",
                      "landcolor": "#E5ECF6",
                      "showlakes": true,
                      "showland": true,
                      "subunitcolor": "white"
                    },
                    "hoverlabel": {
                      "align": "left"
                    },
                    "hovermode": "closest",
                    "mapbox": {
                      "style": "light"
                    },
                    "paper_bgcolor": "white",
                    "plot_bgcolor": "#E5ECF6",
                    "polar": {
                      "angularaxis": {
                        "gridcolor": "white",
                        "linecolor": "white",
                        "ticks": ""
                      },
                      "bgcolor": "#E5ECF6",
                      "radialaxis": {
                        "gridcolor": "white",
                        "linecolor": "white",
                        "ticks": ""
                      }
                    },
                    "scene": {
                      "xaxis": {
                        "backgroundcolor": "#E5ECF6",
                        "gridcolor": "white",
                        "gridwidth": 2,
                        "linecolor": "white",
                        "showbackground": true,
                        "ticks": "",
                        "zerolinecolor": "white"
                      },
                      "yaxis": {
                        "backgroundcolor": "#E5ECF6",
                        "gridcolor": "white",
                        "gridwidth": 2,
                        "linecolor": "white",
                        "showbackground": true,
                        "ticks": "",
                        "zerolinecolor": "white"
                      },
                      "zaxis": {
                        "backgroundcolor": "#E5ECF6",
                        "gridcolor": "white",
                        "gridwidth": 2,
                        "linecolor": "white",
                        "showbackground": true,
                        "ticks": "",
                        "zerolinecolor": "white"
                      }
                    },
                    "shapedefaults": {
                      "line": {
                        "color": "#2a3f5f"
                      }
                    },
                    "ternary": {
                      "aaxis": {
                        "gridcolor": "white",
                        "linecolor": "white",
                        "ticks": ""
                      },
                      "baxis": {
                        "gridcolor": "white",
                        "linecolor": "white",
                        "ticks": ""
                      },
                      "bgcolor": "#E5ECF6",
                      "caxis": {
                        "gridcolor": "white",
                        "linecolor": "white",
                        "ticks": ""
                      }
                    },
                    "title": {
                      "x": 0.05
                    },
                    "xaxis": {
                      "automargin": true,
                      "gridcolor": "white",
                      "linecolor": "white",
                      "ticks": "",
                      "title": {
                        "standoff": 15
                      },
                      "zerolinecolor": "white",
                      "zerolinewidth": 2
                    },
                    "yaxis": {
                      "automargin": true,
                      "gridcolor": "white",
                      "linecolor": "white",
                      "ticks": "",
                      "title": {
                        "standoff": 15
                      },
                      "zerolinecolor": "white",
                      "zerolinewidth": 2
                    }
                  }
                },
                "title": {
                  "text": "Aceleración de la cadera en todos los videos"
                },
                "xaxis": {
                  "title": {
                    "text": "Tiempo"
                  }
                },
                "yaxis": {
                  "title": {
                    "text": "Aceleración de la cadera"
                  }
                }
              }
            }
          },
          "metadata": {},
          "output_type": "display_data"
        }
      ],
      "source": [
        "import pandas as pd\n",
        "import plotly.graph_objs as go\n",
        "from plotly.subplots import make_subplots\n",
        "\n",
        "# Variables para almacenar trazas de velocidad y aceleración de todos los videos\n",
        "all_vel_traces = []\n",
        "all_acc_traces = []\n",
        "all_pos_traces = []\n",
        "\n",
        "for i, csv_path in enumerate(output_csv_paths):\n",
        "    df_completo = pd.read_csv(csv_path)\n",
        "    \n",
        "    window_size = 50\n",
        "    left_hip_y_smoothed = df_completo['LEFT_HIP_Y'].rolling(window=window_size).mean()\n",
        "    left_knee_y_smoothed = df_completo['LEFT_KNEE_Y'].rolling(window=window_size).mean()\n",
        "\n",
        "    #------------POSICIONES DE CADERA Y RODILLA----------------------\n",
        "    trace1 = go.Scatter(x=df_completo.index, y=left_hip_y_smoothed, mode='lines', name=f'Altura de la cadera (Video {i+1})', line=dict(color='blue'))\n",
        "    trace2 = go.Scatter(x=df_completo.index, y=left_knee_y_smoothed, mode='lines', name=f'Posición de la rodilla (Video {i+1})', line=dict(color='red'))\n",
        "\n",
        "    fig_posiciones = make_subplots(rows=1, cols=1, shared_xaxes=True, vertical_spacing=0.1)\n",
        "    fig_posiciones.add_trace(trace1, row=1, col=1)\n",
        "    fig_posiciones.add_trace(trace2, row=1, col=1)\n",
        "    fig_posiciones.update_xaxes(range=[0, df_completo.index.max()])\n",
        "\n",
        "    fig_posiciones.update_layout(\n",
        "        title=f'Evolución de la posición de la cadera y la rodilla con respecto al tiempo (Video {i+1})',\n",
        "        xaxis=dict(title='Tiempo'),\n",
        "        yaxis=dict(title='Posición', autorange='reversed'),  # Invertir eje Y\n",
        "        yaxis2=dict(title='Posición', autorange='reversed'),  # Invertir eje Y\n",
        "        legend=dict(x=0.7, y=1.1),\n",
        "        height=600,\n",
        "        width=800\n",
        "    )\n",
        "\n",
        "    fig_posiciones.show()\n",
        "\n",
        "    #-------------VELOCIDAD, POSICIÓN Y ACELERACION DE CADERA-------------------\n",
        "    velocidad_smoothed = df_completo['Velocidad(Cadera)_Y'].rolling(window=window_size).mean()\n",
        "    aceleracion_smoothed = df_completo['Aceleracion(Cadera)_Y'].rolling(window=window_size).mean()\n",
        "    posicion_cadera_smoothed = df_completo['LEFT_HIP_Y'].rolling(window=window_size).mean()\n",
        "\n",
        "    # Crear trazas para velocidad, posición y aceleración de cada video\n",
        "    vel_trace = go.Scatter(x=df_completo['Tiempo'], y=velocidad_smoothed, mode='lines', name=f'Velocidad de la cadera (Video {i+1})')\n",
        "    acc_trace = go.Scatter(x=df_completo['Tiempo'], y=aceleracion_smoothed, mode='lines', name=f'Aceleración de la cadera (Video {i+1})')\n",
        "    pos_trace = go.Scatter(x=df_completo['Tiempo'], y=posicion_cadera_smoothed, mode='lines', name=f'Posición de la cadera (Video {i+1})')\n",
        "\n",
        "    # Agregar las trazas a las listas de todas las trazas\n",
        "    all_vel_traces.append(vel_trace)\n",
        "    all_acc_traces.append(acc_trace)\n",
        "    all_pos_traces.append(pos_trace)\n",
        "\n",
        "# Crear figura para la posición de la cadera con todas las trazas superpuestas\n",
        "fig_pos = go.Figure()\n",
        "for trace in all_pos_traces:\n",
        "    fig_pos.add_trace(trace)\n",
        "fig_pos.update_xaxes(title_text='Tiempo')\n",
        "fig_pos.update_yaxes(title_text='Posición de la cadera')\n",
        "fig_pos.update_layout(title='Posición de la cadera en todos los videos')\n",
        "fig_pos.show()\n",
        "\n",
        "# Crear figura para la velocidad de la cadera con todas las trazas superpuestas\n",
        "fig_velocidad = go.Figure()\n",
        "for trace in all_vel_traces:\n",
        "    fig_velocidad.add_trace(trace)\n",
        "fig_velocidad.update_xaxes(title_text='Tiempo')\n",
        "fig_velocidad.update_yaxes(title_text='Velocidad de la cadera')\n",
        "fig_velocidad.update_layout(title='Velocidad de la cadera en todos los videos')\n",
        "fig_velocidad.show()\n",
        "\n",
        "# Crear figura para la aceleración de la cadera con todas las trazas superpuestas\n",
        "fig_aceleracion = go.Figure()\n",
        "for trace in all_acc_traces:\n",
        "    fig_aceleracion.add_trace(trace)\n",
        "fig_aceleracion.update_xaxes(title_text='Tiempo')\n",
        "fig_aceleracion.update_yaxes(title_text='Aceleración de la cadera')\n",
        "fig_aceleracion.update_layout(title='Aceleración de la cadera en todos los videos')\n",
        "fig_aceleracion.show()\n"
      ]
    },
    {
      "cell_type": "code",
      "execution_count": null,
      "metadata": {
        "colab": {
          "base_uri": "https://localhost:8080/"
        },
        "id": "OFoN9SHL-l8O",
        "outputId": "95785ef3-d7cc-4a2b-8479-53d36b5cccd0"
      },
      "outputs": [
        {
          "data": {
            "text/plain": [
              "0.1796517130576536"
            ]
          },
          "execution_count": 26,
          "metadata": {},
          "output_type": "execute_result"
        }
      ],
      "source": [
        "coordenadas_a_distancia((0.57, 0.322), (0.66, 0.293))"
      ]
    }
  ],
  "metadata": {
    "colab": {
      "provenance": []
    },
    "kernelspec": {
      "display_name": "Python 3",
      "name": "python3"
    },
    "language_info": {
      "codemirror_mode": {
        "name": "ipython",
        "version": 3
      },
      "file_extension": ".py",
      "mimetype": "text/x-python",
      "name": "python",
      "nbconvert_exporter": "python",
      "pygments_lexer": "ipython3",
      "version": "3.10.11"
    }
  },
  "nbformat": 4,
  "nbformat_minor": 0
}
