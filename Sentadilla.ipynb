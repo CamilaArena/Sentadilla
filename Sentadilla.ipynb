{
  "cells": [
    {
      "cell_type": "code",
      "execution_count": null,
      "metadata": {
        "id": "KVMPhypc9WG0"
      },
      "outputs": [],
      "source": [
        "%pip install mediapipe\n",
        "%pip install opencv-python"
      ]
    },
    {
      "cell_type": "code",
      "execution_count": 4,
      "metadata": {
        "id": "ZsNaOuEZ_55x"
      },
      "outputs": [],
      "source": [
        "import cv2\n",
        "import pandas as pd\n",
        "import mediapipe as mp\n",
        "import numpy as np\n",
        "import pandas as pd\n",
        "import matplotlib.pyplot as plt\n",
        "from plotly.subplots import make_subplots\n",
        "import plotly.express as px\n",
        "import plotly.graph_objects as go\n",
        "from scipy.signal import savgol_filter\n",
        "from scipy.interpolate import interp1d\n",
        "import math"
      ]
    },
    {
      "cell_type": "markdown",
      "metadata": {
        "id": "nDZniePjb73C"
      },
      "source": [
        "# Rutas\n",
        "Definición de las rutas de input y output"
      ]
    },
    {
      "cell_type": "code",
      "execution_count": 24,
      "metadata": {
        "id": "JCz2CKTYcAFg"
      },
      "outputs": [],
      "source": [
        "video_path = '/Users/camia/Desktop/proyecto/lat_tincho.mov'\n",
        "output_video_path = '/Users/camia/Desktop/proyecto/tracked_video.mp4'\n",
        "output_csv_path = '/Users/camia/Desktop/proyecto/pose_data.csv'"
      ]
    },
    {
      "cell_type": "markdown",
      "metadata": {
        "id": "Id245ec7bv0b"
      },
      "source": [
        "# Input usuario"
      ]
    },
    {
      "cell_type": "code",
      "execution_count": 6,
      "metadata": {
        "id": "hy06JpEJbxUL"
      },
      "outputs": [],
      "source": [
        "peso_persona = 65 #kg\n",
        "altura_persona = 176 #cm\n",
        "peso_pesa = 140 #kg"
      ]
    },
    {
      "cell_type": "markdown",
      "metadata": {
        "id": "4aZewwxEBz_O"
      },
      "source": [
        "# Crear columnas del dataframe\n",
        "\n",
        "Procesa el video y almacena los datos de las poses. Define las columnas para un DataFrame donde se guardarán las coordenadas de las articulaciones detectadas en cada cuadro del video."
      ]
    },
    {
      "cell_type": "code",
      "execution_count": null,
      "metadata": {
        "colab": {
          "base_uri": "https://localhost:8080/"
        },
        "id": "mFNyLuI-B522",
        "outputId": "880eb1a3-380b-406d-fe26-45c4638195fa"
      },
      "outputs": [],
      "source": [
        "mp_drawing = mp.solutions.drawing_utils\n",
        "mp_pose = mp.solutions.pose\n",
        "\n",
        "cap = cv2.VideoCapture(video_path)\n",
        "\n",
        "video_height = int(cap.get(cv2.CAP_PROP_FRAME_HEIGHT))\n",
        "video_width = int(cap.get(cv2.CAP_PROP_FRAME_WIDTH))\n",
        "video_fps = cap.get(cv2.CAP_PROP_FPS)\n",
        "tiempo_por_frame = 1/video_fps\n",
        "\n",
        "print(\"Width:\", video_width)\n",
        "print(\"Height:\", video_height)\n",
        "print(\"Frames per second:\", video_fps)\n",
        "print(\"tiempo_por_frame:\", tiempo_por_frame)\n",
        "\n",
        "# Defino cuales son las articulaciones que me interesa estudiar\n",
        "articulaciones = [\n",
        "    mp_pose.PoseLandmark.LEFT_WRIST,\n",
        "    mp_pose.PoseLandmark.RIGHT_WRIST,\n",
        "    mp_pose.PoseLandmark.LEFT_HIP,\n",
        "    mp_pose.PoseLandmark.RIGHT_HIP,\n",
        "    mp_pose.PoseLandmark.LEFT_KNEE,\n",
        "    mp_pose.PoseLandmark.RIGHT_KNEE,\n",
        "    mp_pose.PoseLandmark.LEFT_ANKLE,\n",
        "    mp_pose.PoseLandmark.RIGHT_ANKLE\n",
        "]\n",
        "\n",
        "columns = ['frame_number']\n",
        "for landmark in articulaciones:\n",
        "    columns.append(landmark.name + '_X')\n",
        "    columns.append(landmark.name + '_Y')\n",
        "    columns.append(landmark.name + '_Z')\n",
        "columns.append(\"Tiempo\")\n",
        "columns.append(\"VelocidadAngular\")\n",
        "columns.append(\"Velocidad(Rodilla)_X\")\n",
        "columns.append(\"Velocidad(Rodilla)_Y\")\n",
        "columns.append(\"Velocidad(Cadera)_X\")\n",
        "columns.append(\"Velocidad(Cadera)_Y\")\n",
        "columns.append(\"Aceleracion(Rodilla)_X\")\n",
        "columns.append(\"Aceleracion(Rodilla)_Y\")\n",
        "columns.append(\"Aceleracion(Cadera)_X\")\n",
        "columns.append(\"Aceleracion(Cadera)_Y\")\n",
        "columns.append(\"Torque(Rodilla)\")\n",
        "columns.append(\"Torque(Cadera)\")\n",
        "\n",
        "df_completo = pd.DataFrame(columns=columns)\n",
        "\n",
        "pose = mp_pose.Pose(min_detection_confidence=0.5, min_tracking_confidence=0.5)\n",
        "\n",
        "video_writer = cv2.VideoWriter(output_video_path, cv2.VideoWriter_fourcc(*'mp4v'), video_fps, (int(cap.get(3)), int(cap.get(4))))"
      ]
    },
    {
      "cell_type": "markdown",
      "metadata": {
        "id": "a8mI-HB8E5BK"
      },
      "source": [
        "# Calcular ángulo\n",
        "Esta función toma tres puntos y calcula el ángulo formado por los segmentos de línea que conectan estos puntos."
      ]
    },
    {
      "cell_type": "code",
      "execution_count": 8,
      "metadata": {
        "id": "1raudG1LFygC"
      },
      "outputs": [],
      "source": [
        "def calculate_angle(a, b, c):\n",
        "  #articulaciones convertidas en arreglos para poder usar sus datos en las coordenadas X e Y\n",
        "  art_1 = np.array(a)\n",
        "  art_2 = np.array(b)\n",
        "  art_3 = np.array(c)\n",
        "\n",
        "  radians = np.arctan2(c[1]-b[1], c[0]-b[0]) - np.arctan2(a[1]-b[1], a[0]-b[0])\n",
        "\n",
        "  #El ángulo calculado se convierte de radianes a grados y se toma el valor absoluto --> Grados = Radianes * 180 / π\n",
        "  angle = np.abs(radians*180.0/np.pi)\n",
        "\n",
        "  #Se normaliza el ángulo calculado para asegurarse de que esté en el rango de 0 a 180 grados.\n",
        "  if angle>180.0:\n",
        "    angle = 360-angle\n",
        "\n",
        "  return angle"
      ]
    },
    {
      "cell_type": "markdown",
      "metadata": {
        "id": "bUKj8O5kHJ09"
      },
      "source": [
        "# Extraer posiciones\n",
        "Toma un conjunto de landmarks y una lista de nombres de articulaciones. Luego, itera sobre cada nombre de parte del cuerpo proporcionado y extrae las coordenadas (x, y, z) del landmark correspondiente a esa parte del cuerpo. Estas coordenadas se agrupan en una lista y se devuelve una lista que contiene todas estas listas de coordenadas."
      ]
    },
    {
      "cell_type": "code",
      "execution_count": 9,
      "metadata": {
        "id": "eFtMNHSNHNnE"
      },
      "outputs": [
        {
          "name": "stderr",
          "output_type": "stream",
          "text": [
            "INFO: Created TensorFlow Lite XNNPACK delegate for CPU.\n"
          ]
        }
      ],
      "source": [
        "# formato output:([[x1, y1, z1], [x2, y2, z2], [x3, y3, z3]]).\n",
        "def extraer_posiciones(df, frame_number, *articulaciones):\n",
        "    data = []\n",
        "    # Buscar la fila correspondiente al número de frame\n",
        "    row = df[df['frame_number'] == frame_number]\n",
        "\n",
        "    for articulacion in articulaciones:\n",
        "        x = row[articulacion+ '_X'].iloc[0]\n",
        "        y = row[articulacion+ '_Y'].iloc[0]\n",
        "        z = row[articulacion+ '_Z'].iloc[0]\n",
        "\n",
        "        data.append([x, y, z])\n",
        "    return data"
      ]
    },
    {
      "cell_type": "markdown",
      "metadata": {
        "id": "seofBpbQGctX"
      },
      "source": [
        "# Extraer velocidad\n",
        "\n",
        "Dado un dataframe y un numero de frame, retorna la velocidad instantánea correspondiente a la fila con el numero de frame pasado por parámetro."
      ]
    },
    {
      "cell_type": "code",
      "execution_count": 10,
      "metadata": {
        "id": "_RqfbXCtoXRz"
      },
      "outputs": [],
      "source": [
        "def extraer_velocidad(df, frame_number):\n",
        "    # Buscar la fila correspondiente al número de frame\n",
        "    row = df[df['frame_number'] == frame_number]\n",
        "    return row[\"Velocidad(Cadera)\"].iloc[0]"
      ]
    },
    {
      "cell_type": "markdown",
      "metadata": {
        "id": "oqNhNlPrYKPq"
      },
      "source": [
        "# Convertir coordenadas normalizadas a metros"
      ]
    },
    {
      "cell_type": "code",
      "execution_count": 11,
      "metadata": {
        "id": "LyEQOtuxYTPO"
      },
      "outputs": [],
      "source": [
        "def coordenadas_a_distancia(a, b):\n",
        "    # Calcula la diferencia en coordenadas normalizadas\n",
        "    dx = b[0] - a[0]\n",
        "    dy = b[1] - a[1]\n",
        "\n",
        "    # Relación pixel-distancia en el eje x y en el eje y\n",
        "    # primer coordenada: proporción de x\n",
        "    # segunda coordenada: porporcion de y\n",
        "    #escala_x, escala_y = obtener_escala()\n",
        "    relacion_pixel_distancia = (0.58/0.292, 0.614)\n",
        "    #relacion_pixel_distancia = (escala_x, escala_y)\n",
        "\n",
        "\n",
        "    # Convierte la diferencia en píxeles a distancia real usando la relación pixel-distancia\n",
        "    distancia_x = dx * relacion_pixel_distancia[0]\n",
        "    distancia_y = dy * relacion_pixel_distancia[1]\n",
        "\n",
        "    # Calcula la distancia euclidiana en el mundo real\n",
        "    return (distancia_x**2 + distancia_y**2)**0.5\n"
      ]
    },
    {
      "cell_type": "markdown",
      "metadata": {
        "id": "GHR-CQI4Z_JV"
      },
      "source": [
        "# Velocidad angular\n",
        "Calcula la velocidad angular entre tres puntos a, b y c\n",
        "\n",
        "\n",
        "Retorna la velocidad angular en radianes por segundo.\n",
        "\n",
        "La velocidad angular (ω) es una medida de la rapidez con la que un objeto rota alrededor de un eje específico.\n",
        "\n",
        "Se define como el cambio en el ángulo (θ) que recorre el objeto por unidad de tiempo."
      ]
    },
    {
      "cell_type": "code",
      "execution_count": 12,
      "metadata": {
        "id": "sBWY6u8LaCbm"
      },
      "outputs": [],
      "source": [
        "def velocidad_angular(angulo_inicial, angulo_final, delta_tiempo):\n",
        "    # Calcular el cambio en el ángulo\n",
        "    delta_theta = angulo_final - angulo_inicial\n",
        "\n",
        "    # Calcular la velocidad angular\n",
        "    # Recordar que omega = theta punto = vel angular = Delta theta / Delta t\n",
        "    # Donde Delta theta es el cambio en rotación angular y Delta t es el cambio en el tiempo\n",
        "    # ENTONCES: la velocidad angular se calcula dividiendo la diferencia total del ángulo (delta_theta) por el tiempo transcurrido entre las mediciones (1 / frame_rate).\n",
        "    angular_velocity = delta_theta / delta_tiempo\n",
        "    return angular_velocity"
      ]
    },
    {
      "cell_type": "markdown",
      "metadata": {
        "id": "Z25IwCrZK7tu"
      },
      "source": [
        "# Centro de Masa\n",
        "\n",
        "---\n",
        "\n",
        "\n",
        "Es el punto donde se puede considerar que toda la masa del objeto está distribuida uniformemente.\n",
        "\n",
        "Centro de masa = (sumatoria de las masas * sumatoria de las posiciones)/masa total\n",
        "\n",
        "\n"
      ]
    },
    {
      "cell_type": "code",
      "execution_count": 13,
      "metadata": {
        "id": "TnAOibp6LDJ_"
      },
      "outputs": [],
      "source": [
        "def obtenerCentroDeMasa():\n",
        "   # suponiendo que la persona pesa 65kg y la barra viendo los discos pesa otros 60kg\n",
        "    masaTotal = 125 # en kilos\n",
        "    SumatoriaX = 0\n",
        "    SumatoriaY = 0\n",
        "\n",
        "    while cap.isOpened():\n",
        "        ret, frame = cap.read()\n",
        "\n",
        "        if not ret:\n",
        "            break\n",
        "\n",
        "        for landmark in mp_pose.PoseLandmark:\n",
        "            SumatoriaX += masaTotal*results.pose_landmarks.landmark[landmark].x\n",
        "            SumatoriaY += masaTotal*results.pose_landmarks.landmark[landmark].y\n",
        "\n",
        "    SumatoriaX /= masaTotal\n",
        "    SumatoriaY /= masaTotal\n",
        "\n",
        "    # preguntar si lo que vamos a retornar nos va a dar la posicion de un frame o que nos de una coordenada\n",
        "    # deberia dar coordenada\n",
        "    return (SumatoriaX , SumatoriaY)"
      ]
    },
    {
      "cell_type": "markdown",
      "metadata": {
        "id": "Cvq7b-RgIZFY"
      },
      "source": [
        "# Dibujar diagrama"
      ]
    },
    {
      "cell_type": "code",
      "execution_count": 14,
      "metadata": {
        "id": "8d6B6KSwIcW3"
      },
      "outputs": [],
      "source": [
        "def diagrama_cuerpo(frame_number):\n",
        "  #centro = obtenerCentroDeMasa()\n",
        "  left_wrist, right_wrist, left_ankle =  extraer_posiciones(df_completo, frame_number, 'LEFT_WRIST', 'RIGHT_WRIST', 'LEFT_ANKLE')\n",
        "  print()\n",
        "  centro = ( (left_wrist[0] + right_wrist[0]) / 2 , (left_wrist[1] + left_ankle[1]) / 2 )\n",
        "  cv2.circle(image, (int(centro[0] * video_width) , int(centro[1] * video_height)) , 20, (255,0,255), -1,3)\n",
        "  # Grafico Peso\n",
        "  cv2.arrowedLine(image, (int(centro[0] * video_width) , int(centro[1] * video_height)) , (int(centro[0]* video_width) , int(centro[1]* video_height + video_height/6) ) , (255,0,0), 4)\n",
        "  # Grafico normal\n",
        "  cv2.arrowedLine(image, (int(centro[0] * video_width) , int(centro[1] * video_height)) , (int(centro[0]* video_width) , int(centro[1]* video_height - video_height/6) ) , (255,0,0), 4)\n",
        "  textoPeso =  str(peso_persona + peso_pesa)+\" Peso\"\n",
        "  textoNormal =  str(peso_persona + peso_pesa)+\" Normal\"\n",
        "\n",
        "  cv2.putText(image, textoPeso, (int(centro[0]* video_width) , int(centro[1]* video_height + video_height/6) ), cv2.FONT_HERSHEY_SIMPLEX, 2, (255, 255, 255), 4, cv2.LINE_AA)\n",
        "  cv2.putText(image, textoPeso, (int(centro[0]* video_width) , int(centro[1]* video_height - video_height/6) ), cv2.FONT_HERSHEY_SIMPLEX, 2, (255, 255, 255), 4, cv2.LINE_AA)\n",
        "  #cv2.line(image, int(centro[0]) * video_width , int(centro[0]-20) * video_width , (255,0,0), 4) #peso\n",
        "\n"
      ]
    },
    {
      "cell_type": "markdown",
      "metadata": {
        "id": "_AZtT7fVclH2"
      },
      "source": [
        "# Diagrama de cuerpo libre / Peso, Normal y Fuerza\n"
      ]
    },
    {
      "cell_type": "code",
      "execution_count": null,
      "metadata": {
        "colab": {
          "base_uri": "https://localhost:8080/",
          "height": 327
        },
        "id": "4l2D0_JAc0cM",
        "outputId": "64ab59e5-1af1-43f9-8b35-74ed9067cb61"
      },
      "outputs": [],
      "source": [
        "import matplotlib.pyplot as plt\n",
        "\n",
        "def diagramaDeCuerpo():\n",
        "    # Valores fijos se encuentran declarados al inicio\n",
        "    # Valor de la gravedad / aceleracion m/s2\n",
        "    g = 9.81\n",
        "    # Peso del cuerpo = 637\n",
        "    # Peso de la barra / Evaluamos la barra y sus discos como un cuerpo = 1372N\n",
        "    peso_barra = peso_barra * g\n",
        "\n",
        "    # Normal de la barra = 1372N\n",
        "    normal_barra = peso_barra\n",
        "    # Normal del cuerpo = 2009\n",
        "    normal_cuerpo = normal_barra + peso_persona\n",
        "\n",
        "    # Tomaremos un valor estático para simular la fuerza realizada por la persona para levantar la barra. Se aplica sobre el cuerpo\n",
        "    # Segunda ley de Newton: sumatoria de fuerzas = masa * aceleracion. La fuerza debe ser mayor que 1372N\n",
        "    fuerza_empuje = 1400\n",
        "\n",
        "    if normal_cuerpo > 0:\n",
        "        normal_direccion_cuerpo = \"Upward\"\n",
        "        peso_direccion_cuerpo = \"Upward\"\n",
        "    else:\n",
        "        normal_direccion_cuerpo = \"Downward\"\n",
        "        peso_direccion_cuerpo = \"Downward\"\n",
        "\n",
        "    if normal_barra > 0:\n",
        "        normal_direccion_barra = \"Upward\"\n",
        "        peso_direccion_barra = \"Upward\"\n",
        "    else:\n",
        "        normal_direccion_barra = \"Downward\"\n",
        "        peso_direccion_barra = \"Downward\"\n",
        "\n",
        "    if fuerza_empuje > 0:\n",
        "        fuerza_direccion_cuerpo = \"Upward\"\n",
        "    else:\n",
        "        fuerza_direccion_cuerpo = \"Downward\"\n",
        "\n",
        "    return normal_direccion_cuerpo, peso_direccion_cuerpo, normal_direccion_barra, peso_direccion_barra, fuerza_direccion_cuerpo\n",
        "\n",
        "def generate_free_body_diagrams():\n",
        "    # Figura y ejes\n",
        "    fig, axs = plt.subplots(1, 3, figsize=(15, 5))\n",
        "\n",
        "    # Diagrama de cuerpo libre de la barra\n",
        "    axs[0].arrow(0, 0, 0, -1372, head_width=50, head_length=100, fc='red', ec='red')\n",
        "    axs[0].arrow(0, 0, 0, -637, head_width=50, head_length=100, fc='blue', ec='blue')\n",
        "    axs[0].set_xlim(-2000, 2000)\n",
        "    axs[0].set_ylim(-2000, 2000)\n",
        "    axs[0].set_xlabel('X')\n",
        "    axs[0].set_ylabel('Y')\n",
        "    axs[0].set_title('Diagrama de Cuerpo libre - Barra')\n",
        "\n",
        "    # Diagrama de cuerpo libre para el cuerpo\n",
        "    axs[1].arrow(0, 0, 0, -2009, head_width=50, head_length=100, fc='red', ec='red')\n",
        "    axs[1].arrow(0, 0, 0, -1400, head_width=50, head_length=100, fc='green', ec='green')\n",
        "    axs[1].arrow(0, 0, 0, -637, head_width=50, head_length=100, fc='blue', ec='blue')\n",
        "    axs[1].set_xlim(-2000, 2000)\n",
        "    axs[1].set_ylim(-2000, 2000)\n",
        "    axs[1].set_xlabel('X')\n",
        "    axs[1].set_ylabel('Y')\n",
        "    axs[1].set_title('Diagrama de cuerpo libre - Cuerpo')\n",
        "\n",
        "    # Diagrama de cuerpo libre del cuerpo con la barra encima\n",
        "    axs[2].arrow(0, 0, 0, -2009, head_width=50, head_length=100, fc='red', ec='red')\n",
        "    axs[2].arrow(0, 0, 0, -2772, head_width=50, head_length=100, fc='green', ec='green')\n",
        "    axs[2].arrow(0, 0, 0, -1372, head_width=50, head_length=100, fc='blue', ec='blue')\n",
        "    axs[2].arrow(0, -1372, 0, -637, head_width=50, head_length=100, fc='blue', ec='blue')\n",
        "    axs[2].set_xlim(-2000, 2000)\n",
        "    axs[2].set_ylim(-4000, 0)\n",
        "    axs[2].set_xlabel('X')\n",
        "    axs[2].set_ylabel('Y')\n",
        "    axs[2].set_title('Diagrama de cuerpo libre - Cuerpo con la barra')\n",
        "\n",
        "    plt.tight_layout()\n",
        "    plt.show()\n",
        "\n",
        "#Funciones para ejecutar el codigo\n",
        "diagramaDeCuerpo()\n",
        "generate_free_body_diagrams()"
      ]
    },
    {
      "cell_type": "markdown",
      "metadata": {
        "id": "8V7Xh4zgcIBI"
      },
      "source": [
        "# Vector Velocidad Instantánea\n",
        "\n",
        "La velocidad instantánea es la velocidad de un objeto en un momento específico en el tiempo.\n",
        "\n",
        "Se calcula como v(t) = dx / dt\n",
        "\n"
      ]
    },
    {
      "cell_type": "code",
      "execution_count": 16,
      "metadata": {
        "id": "XLWt9_vI3Bkj"
      },
      "outputs": [],
      "source": [
        "def velocidad_instantanea(pos_anterior, pos_actual, tiempo):\n",
        "  dx = pos_actual[0] - pos_anterior[0]\n",
        "  dy = pos_actual[1] - pos_anterior[1]\n",
        "  return (dx/tiempo, dy/tiempo)"
      ]
    },
    {
      "cell_type": "markdown",
      "metadata": {
        "id": "RjG5v51-OcfU"
      },
      "source": [
        "# Vector Aceleración instantanea\n",
        "\n",
        "La aceleración instantánea es la tasa de cambio instantánea de la velocidad de un objeto en un punto específico de su trayectoria.\n",
        "\n",
        "a(t) = dv / dt\n"
      ]
    },
    {
      "cell_type": "code",
      "execution_count": 17,
      "metadata": {
        "id": "RkzEeU77OeT8"
      },
      "outputs": [],
      "source": [
        "def aceleracion_instantanea(vel_actual_x, vel_anterior_x, vel_actual_y, vel_anterior_y, tiempo):\n",
        "  dvx = vel_actual_x - vel_anterior_x\n",
        "  dvy = vel_actual_y - vel_anterior_y\n",
        "  return (dvx/tiempo, dvy/tiempo)\n",
        "#df_completo[\"frame_number\"] == frame_number, \"Velocidad(Cadera)\"]"
      ]
    },
    {
      "cell_type": "markdown",
      "metadata": {
        "id": "h_-0vbswLuAg"
      },
      "source": [
        "# Cálculo de Torque\n",
        "\n",
        "Se analiza los torques de cadera y rodilla durante una sentadilla. Primero, identifica las posiciones de las articulaciones de la cadera, rodilla y tobillo.\n",
        "\n",
        "Luego, calcula las distancias y ángulos entre las articulaciones, y utiliza estas medidas para estimar el torque generado por cada articulación.\n",
        "\n",
        "TORQUE = F x brazo momento\n",
        "\n",
        "Brazo momento = distancia entre articulación y carga (es la distancia desde el punto donde se aplica una fuerza hasta el punto de giro, en este caso el punto de giro es la cadera y la rodilla, y el punto de fuerza se hace desde la muñeca)\n",
        "F = 2/3 de lo que pesa la persona (cabeza y torso) + peso de carga"
      ]
    },
    {
      "cell_type": "code",
      "execution_count": 18,
      "metadata": {
        "id": "9KOLVys_LvtS"
      },
      "outputs": [],
      "source": [
        "def calcular_torques(a, b, c, d):\n",
        "   # left_wrist, left_hip, left_knee, left_ankle = extraer_posiciones(landmarks,frame_number ,'LEFT_WRIST', 'LEFT_HIP', 'LEFT_KNEE', 'LEFT_ANKLE')\n",
        "    e = (a[0], b[1])\n",
        "    r = (a[0], c[1])\n",
        "    #distancia_a_b = coordenadas_a_distancia(a, b)\n",
        "    #distancia_b_c = coordenadas_a_distancia(b, c)\n",
        "    #distancia_c_d = coordenadas_a_distancia(c, d)\n",
        "    # Perpendicular a la fuerza\n",
        "    distancia_b_e = coordenadas_a_distancia(b, e)\n",
        "    distancia_c_r = coordenadas_a_distancia(c, r)\n",
        "\n",
        "\n",
        "    #angulo_a_b_c = calculate_angle(a, b, c)\n",
        "    #angulo_a_b_e = calculate_angle(a, b, e)\n",
        "\n",
        "    # La biomecanica de la rodilla funciona al revez que en el resto del cuerpo.\n",
        "    #angulo_b_c_d = 180 - calculate_angle(b, c, d)\n",
        "    # print(\"angulo de 90:\", calculate_angle(a,e,b))\n",
        "    # print(\"distancia_b_e \", distancia_b_e)\n",
        "    # print(\"(a[0] - b[0]) \", (a[0] - b[0]) * video_width)\n",
        "    # print(\"brazo calculado con angulo\", distancia_a_b * math.cos(calculate_angle(a,b,e)))\n",
        "\n",
        "    start_point_torque_cadera = (int(b[0] * video_width), int(b[1] * video_height))\n",
        "    end_point_torque_cadera = (int(e[0] * video_width), int(e[1] * video_height))\n",
        "    cv2.line(image, start_point_torque_cadera, end_point_torque_cadera,(0,255,0), 3)\n",
        "\n",
        "    start_point_torque_rodilla = (int(c[0] * video_width), int(c[1] * video_height))\n",
        "    end_point_torque_rodilla = (int(r[0] * video_width), int(r[1] * video_height))\n",
        "    cv2.line(image, start_point_torque_rodilla, end_point_torque_rodilla,(0,255,255), 3)\n",
        "    # Torque en N.m\n",
        "    torque_cadera = (peso_persona * 2/3 + peso_pesa) * distancia_b_e\n",
        "    torque_rodilla = (peso_persona * 2/3 + peso_pesa) * distancia_c_r\n",
        "    return [torque_rodilla, torque_cadera]\n",
        "    # Comparar resultados de los torques y mostrar algo en el video"
      ]
    },
    {
      "cell_type": "markdown",
      "metadata": {
        "id": "kXCWwpSCltcX"
      },
      "source": [
        "# Visualizar trackeo articulaciones relevantes"
      ]
    },
    {
      "cell_type": "code",
      "execution_count": 20,
      "metadata": {
        "id": "RXU62R7VlyHB"
      },
      "outputs": [],
      "source": [
        "def dibujar_articulaciones_relevantes(articulacion1,articulacion2,articulacion3,articulacion4):\n",
        "    art1 = np.array(articulacion1);\n",
        "    art2 = np.array(articulacion2);\n",
        "    art3 = np.array(articulacion3);\n",
        "    art4 = np.array(articulacion4);\n",
        "    angle = calculate_angle(articulacion1,articulacion2,articulacion3)\n",
        "    color = (0, 0, 255)\n",
        "    #Dibujo el primer tramo de la pierna\n",
        "    i1 = (int(art1[0] * video_width), int(art1[1] * video_height))\n",
        "    f1 = (int(art2[0] * video_width), int(art2[1] * video_height))\n",
        "    cv2.line(image, i1, f1, color, 5)\n",
        "\n",
        "    #Dibujo el segundo tramo de la pierna\n",
        "    i2 = (int(art2[0] * video_width), int(art2[1] * video_height))\n",
        "    f2 = (int(art3[0] * video_width), int(art3[1] * video_height))\n",
        "    cv2.line(image, i2, f2, color, 5)\n",
        "\n",
        "    i3 = (int(art3[0] * video_width), int(art3[1] * video_height))\n",
        "    f3 = (int(art4[0] * video_width), int(art4[1] * video_height))\n",
        "    cv2.line(image, i3, f3, color, 5)"
      ]
    },
    {
      "cell_type": "markdown",
      "metadata": {
        "id": "OTxz5LYP3j-b"
      },
      "source": [
        "# Visualizar esfuerzo piernas"
      ]
    },
    {
      "cell_type": "code",
      "execution_count": 22,
      "metadata": {
        "id": "9Z6jVeo03pQP"
      },
      "outputs": [],
      "source": [
        "def dibujar_piernas(articulacion1, articulacion2, articulacion3):\n",
        "    art1 = np.array(articulacion1);\n",
        "    art2 = np.array(articulacion2);\n",
        "    art3 = np.array(articulacion3);\n",
        "    #angle = calculate_angle(articulacion1,articulacion2,articulacion3)\n",
        "\n",
        "    torques = calcular_torques(pos_actual_wrist, pos_actual_left_hip, pos_actual_left_knee, pos_actual_left_ankle)\n",
        "    df_completo.loc[df_completo[\"frame_number\"] == frame_number, \"Torque(Rodilla)\"] = torques[0]\n",
        "    df_completo.loc[df_completo[\"frame_number\"] == frame_number, \"Torque(Cadera)\"] = torques[1]\n",
        "    #Dibujo el primer tramo de la pierna\n",
        "    centro_art2 = (int(art2[0] * video_width), int(art2[1] * video_height))\n",
        "    centro_art3 = (int(art3[0] * video_width), int(art3[1] * video_height))\n",
        "    #f1 = (int(art2[0] * video_width), int(art2[1] * video_height))\n",
        "\n",
        "    if(torques[0] >= torques[1] * 3/4):\n",
        "      cv2.circle(image, centro_art2,20, (255,0,0), -1,3)\n",
        "      cv2.circle(image, centro_art3,20, (255,0,0), -1,3)\n",
        "    else:\n",
        "      if(torques[1] * 1/4 < torques[0] < torques[1] * 3/4):\n",
        "        color = (255,255,0)\n",
        "        cv2.circle(image, centro_art2,20, (255,0,0), -1,3)\n",
        "        cv2.circle(image, centro_art3,20, (255,255,0), -1,3)\n",
        "      else:\n",
        "        cv2.circle(image, centro_art2,20, (255,0,0), -1,3)\n",
        "        cv2.circle(image, centro_art3,20, (0,255,0), -1,3)\n",
        "\n",
        "    # Dibujo el segundo tramo de la pierna\n",
        "    # f2 = (int(art3[0] * video_width), int(art3[1] * video_height))\n",
        "    # cv2.circle(image, centro_art3,20, color, 3, 20)"
      ]
    },
    {
      "cell_type": "markdown",
      "metadata": {
        "id": "lcwAXzBxGWiM"
      },
      "source": [
        "# **Código para recorrer frames del video y realizar cálculos**\n",
        "\n",
        "Este bloque de código recorre cada frame del video, procesa la imagen utilizando MediaPipe para detectar landmarks de la pose, y guarda los datos en un DataFrame. Luego, calcula el ángulo entre las articulaciones de la cadera, la rodilla y el tobillo. Después, dibuja los landmarks detectados en el video y guarda el video procesado en el archivo de salida. Finalmente, libera los recursos utilizados y guarda los datos de la pose en un archivo CSV."
      ]
    },
    {
      "cell_type": "code",
      "execution_count": null,
      "metadata": {
        "id": "z_fLUC5GGiCA"
      },
      "outputs": [],
      "source": [
        "# Recorro todos los frames del video\n",
        "frame_number = 0\n",
        "\n",
        "while cap.isOpened():\n",
        "    ret, frame = cap.read()\n",
        "\n",
        "    if not ret:\n",
        "        break\n",
        "\n",
        "    # Convertir la imagen a RGB (el fotograma)\n",
        "    image = cv2.cvtColor(frame, cv2.COLOR_BGR2RGB)\n",
        "    # Procesar la imagen con MediaPipe y guardar los resultados\n",
        "    results = pose.process(image)\n",
        "    # Recolectar y guardar los datos de la pose en el dataframe\n",
        "    pose_row = {'frame_number': frame_number}\n",
        "\n",
        "    # Extraer posiciones\n",
        "    if results.pose_landmarks:\n",
        "        landmarks = results.pose_landmarks.landmark\n",
        "\n",
        "        #Por cada articulacion, guarda en su posicion de X, Y, Z el resultado\n",
        "        for landmark in articulaciones:\n",
        "            pose_row[landmark.name + '_X'] = results.pose_landmarks.landmark[landmark].x\n",
        "            pose_row[landmark.name + '_Y'] = results.pose_landmarks.landmark[landmark].y\n",
        "            pose_row[landmark.name + '_Z'] = results.pose_landmarks.landmark[landmark].z\n",
        "    else:\n",
        "        ##for landmark in mp_pose.PoseLandmark:\n",
        "        for landmark in articulaciones:\n",
        "            pose_row[landmark.name + '_X'] = None\n",
        "            pose_row[landmark.name + '_Y'] = None\n",
        "            pose_row[landmark.name + '_Z'] = None\n",
        "\n",
        "    pose_row_df = pd.DataFrame(pose_row, index = [pose_row['frame_number']])\n",
        "    df_completo = pd.concat([df_completo, pose_row_df], ignore_index = True)\n",
        "\n",
        "    #Agrego los landmarks al gráfico\n",
        "    mp_drawing.draw_landmarks(image, results.pose_landmarks, mp_pose.POSE_CONNECTIONS,\n",
        "                              mp_drawing.DrawingSpec(color=(245, 117, 66), thickness=5, circle_radius=5),\n",
        "                              mp_drawing.DrawingSpec(color=(245, 66, 230), thickness=5, circle_radius=5)\n",
        "                              )\n",
        "\n",
        "    if(frame_number>0):\n",
        "      # Crear una lista de tiempo para cada cuadro del video\n",
        "      # df_completo.append(\"Tiempo\")\n",
        "      # Agregar la lista de tiempo como una columna al DataFrame\n",
        "      # fila = df_completo[df_completo['frame_number'] == frame_number]\n",
        "      # fila[\"Tiempo\"] = tiempo_por_frame * frame_number  #df_completo['Tiempo'] = tiempo_por_frame * frame_number\n",
        "      df_completo.loc[df_completo[\"frame_number\"] == frame_number, \"Tiempo\"] = tiempo_por_frame * frame_number\n",
        "      # print(\"tiempo en cada frame\",tiempo_por_frame * frame_number)\n",
        "      previous_frame = frame_number - 1\n",
        "\n",
        "      pos_prev_left_hip, pos_prev_left_knee, pos_prev_left_ankle = extraer_posiciones(df_completo, previous_frame, 'RIGHT_HIP', 'RIGHT_KNEE', 'RIGHT_ANKLE')\n",
        "\n",
        "      pos_actual_wrist, pos_actual_left_hip, pos_actual_left_knee, pos_actual_left_ankle = extraer_posiciones(df_completo, frame_number,'RIGHT_WRIST', 'RIGHT_HIP', 'RIGHT_KNEE', 'RIGHT_ANKLE')\n",
        "      dibujar_articulaciones_relevantes(pos_actual_wrist,pos_actual_left_hip,pos_actual_left_knee,pos_actual_left_ankle)\n",
        "      diagrama_cuerpo(frame_number)\n",
        "      #---------------VELOCIDAD ANGULAR------------\n",
        "      angulo_anterior = calculate_angle((pos_prev_left_hip[0], pos_prev_left_hip[1]), (pos_prev_left_knee[0], pos_prev_left_knee[1]), (pos_prev_left_ankle[0], pos_prev_left_ankle[1]))\n",
        "      angulo_actual = calculate_angle((pos_actual_left_hip[0], pos_actual_left_hip[1]), (pos_actual_left_knee[0], pos_actual_left_knee[1]), (pos_actual_left_ankle[0], pos_actual_left_ankle[1]))\n",
        "      vel_angular = velocidad_angular(angulo_anterior, angulo_actual, tiempo_por_frame)\n",
        "      # print(\"angulo anterior en frame: \",angulo_anterior, \" numero: \",frame_number)\n",
        "      # print(\"angulo angulo_actual\",angulo_actual)\n",
        "      df_completo.loc[df_completo[\"frame_number\"] == frame_number, \"VelocidadAngular\"] = vel_angular\n",
        "\n",
        "      #---------------Velocidad instantanea---------\n",
        "      velocidad_cadera = velocidad_instantanea(pos_prev_left_hip, pos_actual_left_hip, tiempo_por_frame)\n",
        "      velocidad_rodilla = velocidad_instantanea(pos_prev_left_knee, pos_actual_left_knee, tiempo_por_frame)\n",
        "      #velocidad_cadera_str = ','.join(map(str, velocidad_cadera))\n",
        "      #velocidad_rodilla_str = ','.join(map(str, velocidad_rodilla))\n",
        "      df_completo.loc[df_completo[\"frame_number\"] == frame_number, \"Velocidad(Cadera)_X\"] = velocidad_cadera[0]\n",
        "      df_completo.loc[df_completo[\"frame_number\"] == frame_number, \"Velocidad(Cadera)_Y\"] = velocidad_cadera[1]\n",
        "      df_completo.loc[df_completo[\"frame_number\"] == frame_number, \"Velocidad(Rodilla)_X\"] = velocidad_rodilla[0]\n",
        "      df_completo.loc[df_completo[\"frame_number\"] == frame_number, \"Velocidad(Rodilla)_Y\"] = velocidad_rodilla[1]\n",
        "\n",
        "      #---------------Aceleracion instantanea---------\n",
        "      aceleracion_actual_cadera = aceleracion_instantanea(df_completo.loc[df_completo[\"frame_number\"], \"Velocidad(Cadera)_X\"].iloc[0], df_completo.loc[df_completo[\"frame_number\"] == frame_number - 1, \"Velocidad(Cadera)_X\"].iloc[0],df_completo.loc[df_completo[\"frame_number\"], \"Velocidad(Cadera)_Y\"].iloc[0], df_completo.loc[df_completo[\"frame_number\"] == frame_number - 1, \"Velocidad(Cadera)_Y\"].iloc[0],tiempo_por_frame)\n",
        "      aceleracion_actual_rodilla = aceleracion_instantanea(df_completo.loc[df_completo[\"frame_number\"], \"Velocidad(Rodilla)_X\"].iloc[0], df_completo.loc[df_completo[\"frame_number\"] == frame_number - 1, \"Velocidad(Rodilla)_X\"].iloc[0],df_completo.loc[df_completo[\"frame_number\"], \"Velocidad(Rodilla)_Y\"].iloc[0], df_completo.loc[df_completo[\"frame_number\"] == frame_number - 1, \"Velocidad(Rodilla)_Y\"].iloc[0],tiempo_por_frame)\n",
        "      #aceleracion_actual_rodilla = aceleracion_instantanea(df_completo.loc[df_completo[\"frame_number\"], \"Velocidad(Rodilla)_X\"].iloc[0], df_completo.loc[df_completo[\"frame_number\"] == frame_number - 1, \"Velocidad(Rodilla)\"].iloc[0], tiempo_por_frame)\n",
        "      #print(\"aceleracion_actual_cadera\",df_completo.loc[df_completo[\"frame_number\"], \"Velocidad(Cadera)_X\"].iloc[0])\n",
        "      #print(\"aceleracion_actual_rodilla\",aceleracion_actual_rodilla)\n",
        "\n",
        "      # velocidad_actual_cadera =\n",
        "      # aceleracion_cadera = aceleracion_instantanea()\n",
        "      df_completo.loc[df_completo[\"frame_number\"] == frame_number, \"Aceleracion(Rodilla)_X\"] = aceleracion_actual_rodilla[0]\n",
        "      df_completo.loc[df_completo[\"frame_number\"] == frame_number, \"Aceleracion(Rodilla)_Y\"] = aceleracion_actual_rodilla[1]\n",
        "      df_completo.loc[df_completo[\"frame_number\"] == frame_number, \"Aceleracion(Cadera)_X\"] = aceleracion_actual_cadera[0]\n",
        "      df_completo.loc[df_completo[\"frame_number\"] == frame_number, \"Aceleracion(Cadera)_Y\"] = aceleracion_actual_cadera[1]\n",
        "\n",
        "      #--------------Torque------------------------\n",
        "      #torques = calcular_torques(pos_actual_wrist,pos_actual_left_hip,pos_actual_left_knee,pos_actual_left_ankle)\n",
        "      #df_completo.loc[df_completo[\"frame_number\"] == frame_number, \"Torque(Rodilla)\"] = torques[0]\n",
        "      #df_completo.loc[df_completo[\"frame_number\"] == frame_number, \"Torque(Cadera)\"] = torques[1]\n",
        "      dibujar_piernas(pos_actual_wrist,pos_actual_left_hip,pos_actual_left_knee)\n",
        "\n",
        "    else:\n",
        "        df_completo.loc[df_completo[\"frame_number\"] == frame_number, \"Tiempo\"] = 0\n",
        "        df_completo.loc[df_completo[\"frame_number\"] == frame_number, \"VelocidadAngular\"] = 0\n",
        "        df_completo.loc[df_completo[\"frame_number\"] == frame_number, \"Velocidad(Cadera)_X\"] = 0\n",
        "        df_completo.loc[df_completo[\"frame_number\"] == frame_number, \"Velocidad(Cadera)_Y\"] = 0\n",
        "        df_completo.loc[df_completo[\"frame_number\"] == frame_number, \"Velocidad(Rodilla)_X\"] = 0\n",
        "        df_completo.loc[df_completo[\"frame_number\"] == frame_number, \"Velocidad(Rodilla)_Y\"] = 0\n",
        "    # Guardar el cuadro procesado en el video de salida\n",
        "    video_writer.write(cv2.cvtColor(image, cv2.COLOR_RGB2BGR))\n",
        "\n",
        "    frame_number += 1\n",
        "\n",
        "if pose._graph is not None:\n",
        "    pose.close()\n",
        "\n",
        "video_writer.release()\n",
        "cap.release()\n",
        "\n",
        "# Guardar el dataframe como CSV\n",
        "df_completo.to_csv(output_csv_path, index=False)\n",
        "\n",
        "df = pd.read_csv(output_csv_path, index_col=[0]) # Leo los datos del csv\n",
        "pd.options.display.max_columns = None\n",
        "\n",
        "print(\"Proceso completado. Video trackeado guardado en:\", output_video_path)\n",
        "print(\"Datos de la pose guardados en:\", output_csv_path)"
      ]
    },
    {
      "cell_type": "markdown",
      "metadata": {
        "id": "cNuPININJeV9"
      },
      "source": [
        "# Gráficos"
      ]
    },
    {
      "cell_type": "code",
      "execution_count": null,
      "metadata": {
        "colab": {
          "base_uri": "https://localhost:8080/",
          "height": 1000
        },
        "id": "Cbb8cEz6E342",
        "outputId": "418c9d65-dd60-4f05-8f14-527714914a7b"
      },
      "outputs": [
        {
          "data": {
            "application/vnd.plotly.v1+json": {
              "config": {
                "plotlyServerURL": "https://plot.ly"
              },
              "data": [
                {
                  "line": {
                    "color": "blue"
                  },
                  "mode": "lines",
                  "name": "Altura de la cadera",
                  "type": "scatter",
                  "x": [
                    0,
                    1,
                    2,
                    3,
                    4,
                    5,
                    6,
                    7,
                    8,
                    9,
                    10,
                    11,
                    12,
                    13,
                    14,
                    15,
                    16,
                    17,
                    18,
                    19,
                    20,
                    21,
                    22,
                    23,
                    24,
                    25,
                    26,
                    27,
                    28,
                    29,
                    30,
                    31,
                    32,
                    33,
                    34,
                    35,
                    36,
                    37,
                    38,
                    39,
                    40,
                    41,
                    42,
                    43,
                    44,
                    45,
                    46,
                    47,
                    48,
                    49,
                    50,
                    51,
                    52,
                    53,
                    54,
                    55,
                    56,
                    57,
                    58,
                    59,
                    60,
                    61,
                    62,
                    63,
                    64,
                    65,
                    66,
                    67,
                    68,
                    69,
                    70,
                    71,
                    72,
                    73,
                    74,
                    75,
                    76,
                    77,
                    78,
                    79,
                    80,
                    81,
                    82,
                    83,
                    84,
                    85,
                    86,
                    87,
                    88,
                    89,
                    90,
                    91,
                    92,
                    93,
                    94,
                    95,
                    96,
                    97,
                    98,
                    99,
                    100,
                    101,
                    102,
                    103,
                    104,
                    105,
                    106,
                    107,
                    108,
                    109,
                    110,
                    111,
                    112,
                    113,
                    114,
                    115,
                    116,
                    117,
                    118,
                    119,
                    120,
                    121,
                    122,
                    123,
                    124,
                    125,
                    126,
                    127,
                    128,
                    129,
                    130,
                    131,
                    132,
                    133,
                    134,
                    135,
                    136,
                    137,
                    138,
                    139,
                    140,
                    141,
                    142,
                    143,
                    144,
                    145,
                    146,
                    147,
                    148,
                    149,
                    150,
                    151,
                    152,
                    153,
                    154,
                    155,
                    156,
                    157,
                    158,
                    159,
                    160,
                    161,
                    162,
                    163,
                    164,
                    165,
                    166,
                    167,
                    168,
                    169,
                    170,
                    171,
                    172,
                    173,
                    174,
                    175,
                    176,
                    177,
                    178,
                    179,
                    180,
                    181,
                    182,
                    183,
                    184,
                    185,
                    186,
                    187,
                    188,
                    189,
                    190,
                    191,
                    192,
                    193,
                    194,
                    195,
                    196,
                    197,
                    198,
                    199,
                    200,
                    201,
                    202,
                    203,
                    204,
                    205,
                    206,
                    207,
                    208,
                    209,
                    210,
                    211,
                    212,
                    213,
                    214,
                    215,
                    216,
                    217,
                    218,
                    219,
                    220,
                    221,
                    222,
                    223,
                    224,
                    225,
                    226,
                    227,
                    228,
                    229,
                    230,
                    231,
                    232,
                    233,
                    234,
                    235,
                    236,
                    237,
                    238,
                    239,
                    240,
                    241,
                    242,
                    243,
                    244,
                    245,
                    246,
                    247,
                    248,
                    249,
                    250,
                    251,
                    252,
                    253
                  ],
                  "xaxis": "x",
                  "y": [
                    null,
                    null,
                    null,
                    null,
                    null,
                    null,
                    null,
                    null,
                    null,
                    null,
                    null,
                    null,
                    null,
                    null,
                    null,
                    null,
                    null,
                    null,
                    null,
                    null,
                    null,
                    null,
                    null,
                    null,
                    null,
                    null,
                    null,
                    null,
                    null,
                    null,
                    null,
                    null,
                    null,
                    null,
                    null,
                    null,
                    null,
                    null,
                    null,
                    null,
                    null,
                    null,
                    null,
                    null,
                    null,
                    null,
                    null,
                    null,
                    null,
                    0.6227225351333618,
                    0.6235052382946015,
                    0.624326331615448,
                    0.6251921617984771,
                    0.6260850238800049,
                    0.6269774854183197,
                    0.6279210364818573,
                    0.6289318680763245,
                    0.6300116813182831,
                    0.6311749410629273,
                    0.6323345053195953,
                    0.6334971034526825,
                    0.6346467995643615,
                    0.6358390235900879,
                    0.6370343148708344,
                    0.6382157731056214,
                    0.6394067001342774,
                    0.6406087005138397,
                    0.6418530213832855,
                    0.6431165635585785,
                    0.644394439458847,
                    0.6457046687602996,
                    0.6470437037944794,
                    0.6484301054477691,
                    0.6498387253284454,
                    0.6512862026691437,
                    0.6527061319351196,
                    0.6541357183456421,
                    0.6555979669094085,
                    0.6571099555492401,
                    0.6586762273311615,
                    0.6602608537673951,
                    0.6618234491348267,
                    0.6634114742279053,
                    0.6650053215026855,
                    0.6665841102600097,
                    0.6681867241859436,
                    0.6697619342803955,
                    0.6713582217693329,
                    0.6729428243637084,
                    0.6745166277885437,
                    0.6761223983764648,
                    0.677712504863739,
                    0.6793094933032989,
                    0.6809335660934448,
                    0.6825698804855347,
                    0.6842251944541932,
                    0.6859218978881836,
                    0.6876128721237182,
                    0.6892935943603515,
                    0.690903846025467,
                    0.6924638831615448,
                    0.6939806842803955,
                    0.6954419112205505,
                    0.6968988990783691,
                    0.6983621788024902,
                    0.6998075675964356,
                    0.7011932575702667,
                    0.7025217938423157,
                    0.703775292634964,
                    0.7050343036651612,
                    0.7063658785820007,
                    0.7077387714385986,
                    0.7091044700145721,
                    0.7104735505580902,
                    0.7118400728702545,
                    0.7131696057319641,
                    0.7144812417030334,
                    0.7157594299316407,
                    0.7170100617408752,
                    0.7182634818553925,
                    0.7194853603839875,
                    0.7207062554359436,
                    0.7218591964244843,
                    0.7229620742797852,
                    0.7240622222423554,
                    0.7251759600639344,
                    0.7262574994564056,
                    0.7273449873924256,
                    0.7283904612064361,
                    0.7294403493404389,
                    0.7304553043842316,
                    0.7314921009540558,
                    0.7325150561332703,
                    0.7334947001934051,
                    0.734448766708374,
                    0.7353835463523865,
                    0.7363126397132873,
                    0.7372150444984436,
                    0.7380415523052215,
                    0.7388490545749664,
                    0.7396116292476654,
                    0.7403892683982849,
                    0.7411578643321991,
                    0.7418713021278381,
                    0.7425624811649323,
                    0.743212502002716,
                    0.7438271045684814,
                    0.7444359838962555,
                    0.7450061702728271,
                    0.7455722939968109,
                    0.7461658275127411,
                    0.7467735290527344,
                    0.7473778021335602,
                    0.7479545366764069,
                    0.7485223281383514,
                    0.7490465700626373,
                    0.7495542740821839,
                    0.7500458884239197,
                    0.7505091309547425,
                    0.7509445893764496,
                    0.7512697446346283,
                    0.7514553880691528,
                    0.7515900826454163,
                    0.7517135870456696,
                    0.751765513420105,
                    0.7517868030071259,
                    0.7517086493968964,
                    0.7516138815879821,
                    0.7514798140525818,
                    0.7512343335151672,
                    0.7509739756584167,
                    0.7506726920604706,
                    0.7503644800186158,
                    0.7500107717514038,
                    0.7495889031887054,
                    0.7491293549537659,
                    0.7486076545715332,
                    0.7479786157608033,
                    0.747298378944397,
                    0.7464989161491394,
                    0.7456848573684692,
                    0.7447655951976776,
                    0.7437506663799286,
                    0.7426842164993286,
                    0.7415080857276917,
                    0.7403143966197967,
                    0.7390607690811157,
                    0.7377679777145386,
                    0.7364528429508209,
                    0.7350539624691009,
                    0.7335848903656006,
                    0.732044814825058,
                    0.730444254875183,
                    0.7287687230110168,
                    0.7270266425609588,
                    0.7251930391788483,
                    0.7232780921459198,
                    0.7213319492340088,
                    0.7193434309959411,
                    0.7172970998287201,
                    0.7151491141319275,
                    0.7128891015052795,
                    0.7105912327766418,
                    0.7082446479797363,
                    0.7058585226535797,
                    0.7034141337871551,
                    0.7009115076065063,
                    0.6983963656425476,
                    0.6958377397060395,
                    0.6932786965370178,
                    0.690776115655899,
                    0.6883380389213563,
                    0.6858757245540619,
                    0.6833968138694764,
                    0.6809882199764252,
                    0.6785765981674194,
                    0.676230070590973,
                    0.6738623714447022,
                    0.67152783036232,
                    0.6692664301395417,
                    0.6670212852954864,
                    0.6647951185703278,
                    0.662581969499588,
                    0.6603858470916748,
                    0.6581939291954041,
                    0.6560283279418946,
                    0.65392995595932,
                    0.6518737959861756,
                    0.6498477900028229,
                    0.6478432869911194,
                    0.6458565676212311,
                    0.6439419996738434,
                    0.6421198809146881,
                    0.6403567826747895,
                    0.6387118113040924,
                    0.637078742980957,
                    0.6355046892166137,
                    0.6339575636386872,
                    0.6324729692935943,
                    0.6310725164413452,
                    0.6297371995449066,
                    0.6284306597709656,
                    0.6271630990505218,
                    0.6259859311580658,
                    0.6248891437053681,
                    0.6238904058933258,
                    0.6229693257808685,
                    0.6220837891101837,
                    0.6212392973899842,
                    0.6204512929916381,
                    0.619743732213974,
                    0.619131817817688,
                    0.6185682284832,
                    0.6180589151382446
                  ],
                  "yaxis": "y"
                },
                {
                  "line": {
                    "color": "red"
                  },
                  "mode": "lines",
                  "name": "Posición de la rodilla",
                  "type": "scatter",
                  "x": [
                    0,
                    1,
                    2,
                    3,
                    4,
                    5,
                    6,
                    7,
                    8,
                    9,
                    10,
                    11,
                    12,
                    13,
                    14,
                    15,
                    16,
                    17,
                    18,
                    19,
                    20,
                    21,
                    22,
                    23,
                    24,
                    25,
                    26,
                    27,
                    28,
                    29,
                    30,
                    31,
                    32,
                    33,
                    34,
                    35,
                    36,
                    37,
                    38,
                    39,
                    40,
                    41,
                    42,
                    43,
                    44,
                    45,
                    46,
                    47,
                    48,
                    49,
                    50,
                    51,
                    52,
                    53,
                    54,
                    55,
                    56,
                    57,
                    58,
                    59,
                    60,
                    61,
                    62,
                    63,
                    64,
                    65,
                    66,
                    67,
                    68,
                    69,
                    70,
                    71,
                    72,
                    73,
                    74,
                    75,
                    76,
                    77,
                    78,
                    79,
                    80,
                    81,
                    82,
                    83,
                    84,
                    85,
                    86,
                    87,
                    88,
                    89,
                    90,
                    91,
                    92,
                    93,
                    94,
                    95,
                    96,
                    97,
                    98,
                    99,
                    100,
                    101,
                    102,
                    103,
                    104,
                    105,
                    106,
                    107,
                    108,
                    109,
                    110,
                    111,
                    112,
                    113,
                    114,
                    115,
                    116,
                    117,
                    118,
                    119,
                    120,
                    121,
                    122,
                    123,
                    124,
                    125,
                    126,
                    127,
                    128,
                    129,
                    130,
                    131,
                    132,
                    133,
                    134,
                    135,
                    136,
                    137,
                    138,
                    139,
                    140,
                    141,
                    142,
                    143,
                    144,
                    145,
                    146,
                    147,
                    148,
                    149,
                    150,
                    151,
                    152,
                    153,
                    154,
                    155,
                    156,
                    157,
                    158,
                    159,
                    160,
                    161,
                    162,
                    163,
                    164,
                    165,
                    166,
                    167,
                    168,
                    169,
                    170,
                    171,
                    172,
                    173,
                    174,
                    175,
                    176,
                    177,
                    178,
                    179,
                    180,
                    181,
                    182,
                    183,
                    184,
                    185,
                    186,
                    187,
                    188,
                    189,
                    190,
                    191,
                    192,
                    193,
                    194,
                    195,
                    196,
                    197,
                    198,
                    199,
                    200,
                    201,
                    202,
                    203,
                    204,
                    205,
                    206,
                    207,
                    208,
                    209,
                    210,
                    211,
                    212,
                    213,
                    214,
                    215,
                    216,
                    217,
                    218,
                    219,
                    220,
                    221,
                    222,
                    223,
                    224,
                    225,
                    226,
                    227,
                    228,
                    229,
                    230,
                    231,
                    232,
                    233,
                    234,
                    235,
                    236,
                    237,
                    238,
                    239,
                    240,
                    241,
                    242,
                    243,
                    244,
                    245,
                    246,
                    247,
                    248,
                    249,
                    250,
                    251,
                    252,
                    253
                  ],
                  "xaxis": "x",
                  "y": [
                    null,
                    null,
                    null,
                    null,
                    null,
                    null,
                    null,
                    null,
                    null,
                    null,
                    null,
                    null,
                    null,
                    null,
                    null,
                    null,
                    null,
                    null,
                    null,
                    null,
                    null,
                    null,
                    null,
                    null,
                    null,
                    null,
                    null,
                    null,
                    null,
                    null,
                    null,
                    null,
                    null,
                    null,
                    null,
                    null,
                    null,
                    null,
                    null,
                    null,
                    null,
                    null,
                    null,
                    null,
                    null,
                    null,
                    null,
                    null,
                    null,
                    0.7345612168312072,
                    0.734711993932724,
                    0.7348768472671509,
                    0.7350316035747528,
                    0.7351821744441986,
                    0.7353682494163514,
                    0.7355718886852265,
                    0.7358676719665528,
                    0.736165338754654,
                    0.7364574873447418,
                    0.7367335820198059,
                    0.7370247018337249,
                    0.7372959232330323,
                    0.7376994323730469,
                    0.7380377233028412,
                    0.7383455169200898,
                    0.738645042181015,
                    0.7389198887348175,
                    0.7392057299613952,
                    0.7394463288784027,
                    0.739686119556427,
                    0.7399090671539307,
                    0.7401177120208741,
                    0.7403536856174469,
                    0.7405959260463715,
                    0.7408496797084808,
                    0.7412002336978912,
                    0.7415310859680175,
                    0.7418102931976318,
                    0.742118375301361,
                    0.7425589716434479,
                    0.7429119050502777,
                    0.743231371641159,
                    0.7435458087921143,
                    0.7439367139339447,
                    0.7443277096748352,
                    0.744616585969925,
                    0.7449286389350891,
                    0.7452281844615937,
                    0.7455735504627228,
                    0.7459063673019409,
                    0.7462321722507477,
                    0.7465587997436524,
                    0.7468814420700073,
                    0.7471935904026031,
                    0.7475338113307953,
                    0.7479053783416748,
                    0.7482968723773956,
                    0.7486876618862152,
                    0.7490762209892273,
                    0.7493864715099334,
                    0.749664865732193,
                    0.7498690998554229,
                    0.7499779307842255,
                    0.7500998079776764,
                    0.7502305114269257,
                    0.7503582906723022,
                    0.7503965282440186,
                    0.7504446744918823,
                    0.7504925966262818,
                    0.7505418574810028,
                    0.7506326806545257,
                    0.7507506382465362,
                    0.7507326626777648,
                    0.7507336616516114,
                    0.7507810354232788,
                    0.7508281314373016,
                    0.7508676719665527,
                    0.7508872747421265,
                    0.75094198346138,
                    0.7509798049926758,
                    0.7510106694698334,
                    0.7510640728473663,
                    0.7510902774333954,
                    0.7511111283302307,
                    0.7511206448078156,
                    0.7510422492027282,
                    0.7510197031497955,
                    0.7510597383975983,
                    0.7510918176174164,
                    0.7510885441303253,
                    0.7511434626579284,
                    0.7512094807624817,
                    0.7513418376445771,
                    0.7513959288597107,
                    0.7514481008052826,
                    0.7517634761333466,
                    0.7520046997070312,
                    0.7522979688644409,
                    0.7524412858486176,
                    0.7525882399082184,
                    0.7528326821327209,
                    0.753022962808609,
                    0.7531463778018952,
                    0.753244218826294,
                    0.7533388292789459,
                    0.7534141981601715,
                    0.7534833633899689,
                    0.7535453963279725,
                    0.7537135815620423,
                    0.7539331924915313,
                    0.7540851056575775,
                    0.7542467153072357,
                    0.7544796800613404,
                    0.7547049617767334,
                    0.7549208235740662,
                    0.7551299941539764,
                    0.755338042974472,
                    0.7555435216426849,
                    0.7557512831687927,
                    0.7559418189525604,
                    0.7560771870613098,
                    0.7561462152004242,
                    0.7562253069877625,
                    0.7563050878047943,
                    0.7563701748847962,
                    0.7564339745044708,
                    0.756554092168808,
                    0.7566864824295044,
                    0.7567772686481475,
                    0.7568617975711822,
                    0.7569868278503418,
                    0.7571353554725647,
                    0.7572957968711853,
                    0.757455608844757,
                    0.7576197719573975,
                    0.7577818191051483,
                    0.7579238605499268,
                    0.7580593752861023,
                    0.7581028342247009,
                    0.7580683600902557,
                    0.758050549030304,
                    0.7580077302455902,
                    0.7578914070129394,
                    0.7577690768241883,
                    0.7576225340366364,
                    0.7573329818248749,
                    0.7570472943782807,
                    0.756655638217926,
                    0.75630202293396,
                    0.7559411239624023,
                    0.755449925661087,
                    0.7549263870716095,
                    0.7544897282123566,
                    0.7540203237533569,
                    0.7534951412677765,
                    0.7528338742256164,
                    0.7521200120449066,
                    0.7514279305934906,
                    0.7505687808990479,
                    0.7497432959079743,
                    0.7490567922592163,
                    0.7484482526779175,
                    0.7478805661201477,
                    0.7473214960098267,
                    0.7467609906196594,
                    0.7461883056163788,
                    0.7455638718605041,
                    0.7449163663387298,
                    0.7442543542385102,
                    0.7436093378067017,
                    0.743004765510559,
                    0.7424686980247498,
                    0.7419324803352356,
                    0.741430104970932,
                    0.7409852695465088,
                    0.7405403089523316,
                    0.7400487208366394,
                    0.7395679569244384,
                    0.7391518712043762,
                    0.7387603461742401,
                    0.738366996049881,
                    0.7379448413848877,
                    0.7375665605068207,
                    0.7371835172176361,
                    0.736790087223053,
                    0.7363890838623047,
                    0.7359590828418732,
                    0.735500602722168,
                    0.7350951778888702,
                    0.7346454071998596,
                    0.7341683602333069,
                    0.7337259709835052,
                    0.7333518707752228,
                    0.7329763090610504,
                    0.7326276981830597,
                    0.7322169840335846,
                    0.7317498052120208,
                    0.7313425004482269,
                    0.7310029089450836,
                    0.7306310248374939,
                    0.730296231508255,
                    0.7300509059429169,
                    0.7297727954387665,
                    0.7295763444900513,
                    0.7294205617904663,
                    0.729434118270874,
                    0.729503127336502,
                    0.7295630002021789,
                    0.7296585607528686,
                    0.729736784696579,
                    0.7298008561134338,
                    0.729848918914795,
                    0.7298901510238648,
                    0.7299325776100158
                  ],
                  "yaxis": "y"
                }
              ],
              "layout": {
                "height": 600,
                "legend": {
                  "x": 0.7,
                  "y": 1.1
                },
                "template": {
                  "data": {
                    "bar": [
                      {
                        "error_x": {
                          "color": "#2a3f5f"
                        },
                        "error_y": {
                          "color": "#2a3f5f"
                        },
                        "marker": {
                          "line": {
                            "color": "#E5ECF6",
                            "width": 0.5
                          },
                          "pattern": {
                            "fillmode": "overlay",
                            "size": 10,
                            "solidity": 0.2
                          }
                        },
                        "type": "bar"
                      }
                    ],
                    "barpolar": [
                      {
                        "marker": {
                          "line": {
                            "color": "#E5ECF6",
                            "width": 0.5
                          },
                          "pattern": {
                            "fillmode": "overlay",
                            "size": 10,
                            "solidity": 0.2
                          }
                        },
                        "type": "barpolar"
                      }
                    ],
                    "carpet": [
                      {
                        "aaxis": {
                          "endlinecolor": "#2a3f5f",
                          "gridcolor": "white",
                          "linecolor": "white",
                          "minorgridcolor": "white",
                          "startlinecolor": "#2a3f5f"
                        },
                        "baxis": {
                          "endlinecolor": "#2a3f5f",
                          "gridcolor": "white",
                          "linecolor": "white",
                          "minorgridcolor": "white",
                          "startlinecolor": "#2a3f5f"
                        },
                        "type": "carpet"
                      }
                    ],
                    "choropleth": [
                      {
                        "colorbar": {
                          "outlinewidth": 0,
                          "ticks": ""
                        },
                        "type": "choropleth"
                      }
                    ],
                    "contour": [
                      {
                        "colorbar": {
                          "outlinewidth": 0,
                          "ticks": ""
                        },
                        "colorscale": [
                          [
                            0,
                            "#0d0887"
                          ],
                          [
                            0.1111111111111111,
                            "#46039f"
                          ],
                          [
                            0.2222222222222222,
                            "#7201a8"
                          ],
                          [
                            0.3333333333333333,
                            "#9c179e"
                          ],
                          [
                            0.4444444444444444,
                            "#bd3786"
                          ],
                          [
                            0.5555555555555556,
                            "#d8576b"
                          ],
                          [
                            0.6666666666666666,
                            "#ed7953"
                          ],
                          [
                            0.7777777777777778,
                            "#fb9f3a"
                          ],
                          [
                            0.8888888888888888,
                            "#fdca26"
                          ],
                          [
                            1,
                            "#f0f921"
                          ]
                        ],
                        "type": "contour"
                      }
                    ],
                    "contourcarpet": [
                      {
                        "colorbar": {
                          "outlinewidth": 0,
                          "ticks": ""
                        },
                        "type": "contourcarpet"
                      }
                    ],
                    "heatmap": [
                      {
                        "colorbar": {
                          "outlinewidth": 0,
                          "ticks": ""
                        },
                        "colorscale": [
                          [
                            0,
                            "#0d0887"
                          ],
                          [
                            0.1111111111111111,
                            "#46039f"
                          ],
                          [
                            0.2222222222222222,
                            "#7201a8"
                          ],
                          [
                            0.3333333333333333,
                            "#9c179e"
                          ],
                          [
                            0.4444444444444444,
                            "#bd3786"
                          ],
                          [
                            0.5555555555555556,
                            "#d8576b"
                          ],
                          [
                            0.6666666666666666,
                            "#ed7953"
                          ],
                          [
                            0.7777777777777778,
                            "#fb9f3a"
                          ],
                          [
                            0.8888888888888888,
                            "#fdca26"
                          ],
                          [
                            1,
                            "#f0f921"
                          ]
                        ],
                        "type": "heatmap"
                      }
                    ],
                    "heatmapgl": [
                      {
                        "colorbar": {
                          "outlinewidth": 0,
                          "ticks": ""
                        },
                        "colorscale": [
                          [
                            0,
                            "#0d0887"
                          ],
                          [
                            0.1111111111111111,
                            "#46039f"
                          ],
                          [
                            0.2222222222222222,
                            "#7201a8"
                          ],
                          [
                            0.3333333333333333,
                            "#9c179e"
                          ],
                          [
                            0.4444444444444444,
                            "#bd3786"
                          ],
                          [
                            0.5555555555555556,
                            "#d8576b"
                          ],
                          [
                            0.6666666666666666,
                            "#ed7953"
                          ],
                          [
                            0.7777777777777778,
                            "#fb9f3a"
                          ],
                          [
                            0.8888888888888888,
                            "#fdca26"
                          ],
                          [
                            1,
                            "#f0f921"
                          ]
                        ],
                        "type": "heatmapgl"
                      }
                    ],
                    "histogram": [
                      {
                        "marker": {
                          "pattern": {
                            "fillmode": "overlay",
                            "size": 10,
                            "solidity": 0.2
                          }
                        },
                        "type": "histogram"
                      }
                    ],
                    "histogram2d": [
                      {
                        "colorbar": {
                          "outlinewidth": 0,
                          "ticks": ""
                        },
                        "colorscale": [
                          [
                            0,
                            "#0d0887"
                          ],
                          [
                            0.1111111111111111,
                            "#46039f"
                          ],
                          [
                            0.2222222222222222,
                            "#7201a8"
                          ],
                          [
                            0.3333333333333333,
                            "#9c179e"
                          ],
                          [
                            0.4444444444444444,
                            "#bd3786"
                          ],
                          [
                            0.5555555555555556,
                            "#d8576b"
                          ],
                          [
                            0.6666666666666666,
                            "#ed7953"
                          ],
                          [
                            0.7777777777777778,
                            "#fb9f3a"
                          ],
                          [
                            0.8888888888888888,
                            "#fdca26"
                          ],
                          [
                            1,
                            "#f0f921"
                          ]
                        ],
                        "type": "histogram2d"
                      }
                    ],
                    "histogram2dcontour": [
                      {
                        "colorbar": {
                          "outlinewidth": 0,
                          "ticks": ""
                        },
                        "colorscale": [
                          [
                            0,
                            "#0d0887"
                          ],
                          [
                            0.1111111111111111,
                            "#46039f"
                          ],
                          [
                            0.2222222222222222,
                            "#7201a8"
                          ],
                          [
                            0.3333333333333333,
                            "#9c179e"
                          ],
                          [
                            0.4444444444444444,
                            "#bd3786"
                          ],
                          [
                            0.5555555555555556,
                            "#d8576b"
                          ],
                          [
                            0.6666666666666666,
                            "#ed7953"
                          ],
                          [
                            0.7777777777777778,
                            "#fb9f3a"
                          ],
                          [
                            0.8888888888888888,
                            "#fdca26"
                          ],
                          [
                            1,
                            "#f0f921"
                          ]
                        ],
                        "type": "histogram2dcontour"
                      }
                    ],
                    "mesh3d": [
                      {
                        "colorbar": {
                          "outlinewidth": 0,
                          "ticks": ""
                        },
                        "type": "mesh3d"
                      }
                    ],
                    "parcoords": [
                      {
                        "line": {
                          "colorbar": {
                            "outlinewidth": 0,
                            "ticks": ""
                          }
                        },
                        "type": "parcoords"
                      }
                    ],
                    "pie": [
                      {
                        "automargin": true,
                        "type": "pie"
                      }
                    ],
                    "scatter": [
                      {
                        "fillpattern": {
                          "fillmode": "overlay",
                          "size": 10,
                          "solidity": 0.2
                        },
                        "type": "scatter"
                      }
                    ],
                    "scatter3d": [
                      {
                        "line": {
                          "colorbar": {
                            "outlinewidth": 0,
                            "ticks": ""
                          }
                        },
                        "marker": {
                          "colorbar": {
                            "outlinewidth": 0,
                            "ticks": ""
                          }
                        },
                        "type": "scatter3d"
                      }
                    ],
                    "scattercarpet": [
                      {
                        "marker": {
                          "colorbar": {
                            "outlinewidth": 0,
                            "ticks": ""
                          }
                        },
                        "type": "scattercarpet"
                      }
                    ],
                    "scattergeo": [
                      {
                        "marker": {
                          "colorbar": {
                            "outlinewidth": 0,
                            "ticks": ""
                          }
                        },
                        "type": "scattergeo"
                      }
                    ],
                    "scattergl": [
                      {
                        "marker": {
                          "colorbar": {
                            "outlinewidth": 0,
                            "ticks": ""
                          }
                        },
                        "type": "scattergl"
                      }
                    ],
                    "scattermapbox": [
                      {
                        "marker": {
                          "colorbar": {
                            "outlinewidth": 0,
                            "ticks": ""
                          }
                        },
                        "type": "scattermapbox"
                      }
                    ],
                    "scatterpolar": [
                      {
                        "marker": {
                          "colorbar": {
                            "outlinewidth": 0,
                            "ticks": ""
                          }
                        },
                        "type": "scatterpolar"
                      }
                    ],
                    "scatterpolargl": [
                      {
                        "marker": {
                          "colorbar": {
                            "outlinewidth": 0,
                            "ticks": ""
                          }
                        },
                        "type": "scatterpolargl"
                      }
                    ],
                    "scatterternary": [
                      {
                        "marker": {
                          "colorbar": {
                            "outlinewidth": 0,
                            "ticks": ""
                          }
                        },
                        "type": "scatterternary"
                      }
                    ],
                    "surface": [
                      {
                        "colorbar": {
                          "outlinewidth": 0,
                          "ticks": ""
                        },
                        "colorscale": [
                          [
                            0,
                            "#0d0887"
                          ],
                          [
                            0.1111111111111111,
                            "#46039f"
                          ],
                          [
                            0.2222222222222222,
                            "#7201a8"
                          ],
                          [
                            0.3333333333333333,
                            "#9c179e"
                          ],
                          [
                            0.4444444444444444,
                            "#bd3786"
                          ],
                          [
                            0.5555555555555556,
                            "#d8576b"
                          ],
                          [
                            0.6666666666666666,
                            "#ed7953"
                          ],
                          [
                            0.7777777777777778,
                            "#fb9f3a"
                          ],
                          [
                            0.8888888888888888,
                            "#fdca26"
                          ],
                          [
                            1,
                            "#f0f921"
                          ]
                        ],
                        "type": "surface"
                      }
                    ],
                    "table": [
                      {
                        "cells": {
                          "fill": {
                            "color": "#EBF0F8"
                          },
                          "line": {
                            "color": "white"
                          }
                        },
                        "header": {
                          "fill": {
                            "color": "#C8D4E3"
                          },
                          "line": {
                            "color": "white"
                          }
                        },
                        "type": "table"
                      }
                    ]
                  },
                  "layout": {
                    "annotationdefaults": {
                      "arrowcolor": "#2a3f5f",
                      "arrowhead": 0,
                      "arrowwidth": 1
                    },
                    "autotypenumbers": "strict",
                    "coloraxis": {
                      "colorbar": {
                        "outlinewidth": 0,
                        "ticks": ""
                      }
                    },
                    "colorscale": {
                      "diverging": [
                        [
                          0,
                          "#8e0152"
                        ],
                        [
                          0.1,
                          "#c51b7d"
                        ],
                        [
                          0.2,
                          "#de77ae"
                        ],
                        [
                          0.3,
                          "#f1b6da"
                        ],
                        [
                          0.4,
                          "#fde0ef"
                        ],
                        [
                          0.5,
                          "#f7f7f7"
                        ],
                        [
                          0.6,
                          "#e6f5d0"
                        ],
                        [
                          0.7,
                          "#b8e186"
                        ],
                        [
                          0.8,
                          "#7fbc41"
                        ],
                        [
                          0.9,
                          "#4d9221"
                        ],
                        [
                          1,
                          "#276419"
                        ]
                      ],
                      "sequential": [
                        [
                          0,
                          "#0d0887"
                        ],
                        [
                          0.1111111111111111,
                          "#46039f"
                        ],
                        [
                          0.2222222222222222,
                          "#7201a8"
                        ],
                        [
                          0.3333333333333333,
                          "#9c179e"
                        ],
                        [
                          0.4444444444444444,
                          "#bd3786"
                        ],
                        [
                          0.5555555555555556,
                          "#d8576b"
                        ],
                        [
                          0.6666666666666666,
                          "#ed7953"
                        ],
                        [
                          0.7777777777777778,
                          "#fb9f3a"
                        ],
                        [
                          0.8888888888888888,
                          "#fdca26"
                        ],
                        [
                          1,
                          "#f0f921"
                        ]
                      ],
                      "sequentialminus": [
                        [
                          0,
                          "#0d0887"
                        ],
                        [
                          0.1111111111111111,
                          "#46039f"
                        ],
                        [
                          0.2222222222222222,
                          "#7201a8"
                        ],
                        [
                          0.3333333333333333,
                          "#9c179e"
                        ],
                        [
                          0.4444444444444444,
                          "#bd3786"
                        ],
                        [
                          0.5555555555555556,
                          "#d8576b"
                        ],
                        [
                          0.6666666666666666,
                          "#ed7953"
                        ],
                        [
                          0.7777777777777778,
                          "#fb9f3a"
                        ],
                        [
                          0.8888888888888888,
                          "#fdca26"
                        ],
                        [
                          1,
                          "#f0f921"
                        ]
                      ]
                    },
                    "colorway": [
                      "#636efa",
                      "#EF553B",
                      "#00cc96",
                      "#ab63fa",
                      "#FFA15A",
                      "#19d3f3",
                      "#FF6692",
                      "#B6E880",
                      "#FF97FF",
                      "#FECB52"
                    ],
                    "font": {
                      "color": "#2a3f5f"
                    },
                    "geo": {
                      "bgcolor": "white",
                      "lakecolor": "white",
                      "landcolor": "#E5ECF6",
                      "showlakes": true,
                      "showland": true,
                      "subunitcolor": "white"
                    },
                    "hoverlabel": {
                      "align": "left"
                    },
                    "hovermode": "closest",
                    "mapbox": {
                      "style": "light"
                    },
                    "paper_bgcolor": "white",
                    "plot_bgcolor": "#E5ECF6",
                    "polar": {
                      "angularaxis": {
                        "gridcolor": "white",
                        "linecolor": "white",
                        "ticks": ""
                      },
                      "bgcolor": "#E5ECF6",
                      "radialaxis": {
                        "gridcolor": "white",
                        "linecolor": "white",
                        "ticks": ""
                      }
                    },
                    "scene": {
                      "xaxis": {
                        "backgroundcolor": "#E5ECF6",
                        "gridcolor": "white",
                        "gridwidth": 2,
                        "linecolor": "white",
                        "showbackground": true,
                        "ticks": "",
                        "zerolinecolor": "white"
                      },
                      "yaxis": {
                        "backgroundcolor": "#E5ECF6",
                        "gridcolor": "white",
                        "gridwidth": 2,
                        "linecolor": "white",
                        "showbackground": true,
                        "ticks": "",
                        "zerolinecolor": "white"
                      },
                      "zaxis": {
                        "backgroundcolor": "#E5ECF6",
                        "gridcolor": "white",
                        "gridwidth": 2,
                        "linecolor": "white",
                        "showbackground": true,
                        "ticks": "",
                        "zerolinecolor": "white"
                      }
                    },
                    "shapedefaults": {
                      "line": {
                        "color": "#2a3f5f"
                      }
                    },
                    "ternary": {
                      "aaxis": {
                        "gridcolor": "white",
                        "linecolor": "white",
                        "ticks": ""
                      },
                      "baxis": {
                        "gridcolor": "white",
                        "linecolor": "white",
                        "ticks": ""
                      },
                      "bgcolor": "#E5ECF6",
                      "caxis": {
                        "gridcolor": "white",
                        "linecolor": "white",
                        "ticks": ""
                      }
                    },
                    "title": {
                      "x": 0.05
                    },
                    "xaxis": {
                      "automargin": true,
                      "gridcolor": "white",
                      "linecolor": "white",
                      "ticks": "",
                      "title": {
                        "standoff": 15
                      },
                      "zerolinecolor": "white",
                      "zerolinewidth": 2
                    },
                    "yaxis": {
                      "automargin": true,
                      "gridcolor": "white",
                      "linecolor": "white",
                      "ticks": "",
                      "title": {
                        "standoff": 15
                      },
                      "zerolinecolor": "white",
                      "zerolinewidth": 2
                    }
                  }
                },
                "title": {
                  "text": "Evolución de la posición de la cadera y la rodilla con respecto al tiempo"
                },
                "width": 800,
                "xaxis": {
                  "anchor": "y",
                  "domain": [
                    0,
                    1
                  ],
                  "title": {
                    "text": "Tiempo"
                  }
                },
                "yaxis": {
                  "anchor": "x",
                  "autorange": "reversed",
                  "domain": [
                    0,
                    1
                  ],
                  "title": {
                    "text": "Posición"
                  }
                },
                "yaxis2": {
                  "autorange": "reversed",
                  "title": {
                    "text": "Posición"
                  }
                }
              }
            }
          },
          "metadata": {},
          "output_type": "display_data"
        },
        {
          "data": {
            "application/vnd.plotly.v1+json": {
              "config": {
                "plotlyServerURL": "https://plot.ly"
              },
              "data": [
                {
                  "hovertemplate": "Tiempo=%{x}<br>Velocidad(Cadera)_Y=%{y}<extra></extra>",
                  "legendgroup": "",
                  "line": {
                    "color": "#636efa",
                    "dash": "solid"
                  },
                  "marker": {
                    "symbol": "circle"
                  },
                  "mode": "lines",
                  "name": "",
                  "orientation": "v",
                  "showlegend": false,
                  "type": "scatter",
                  "x": [
                    0,
                    0.017985611510791366,
                    0.03597122302158273,
                    0.0539568345323741,
                    0.07194244604316546,
                    0.08992805755395683,
                    0.1079136690647482,
                    0.12589928057553956,
                    0.14388489208633093,
                    0.1618705035971223,
                    0.17985611510791366,
                    0.19784172661870503,
                    0.2158273381294964,
                    0.23381294964028776,
                    0.2517985611510791,
                    0.2697841726618705,
                    0.28776978417266186,
                    0.3057553956834532,
                    0.3237410071942446,
                    0.34172661870503596,
                    0.3597122302158273,
                    0.3776978417266187,
                    0.39568345323741005,
                    0.4136690647482014,
                    0.4316546762589928,
                    0.44964028776978415,
                    0.4676258992805755,
                    0.4856115107913669,
                    0.5035971223021583,
                    0.5215827338129496,
                    0.539568345323741,
                    0.5575539568345323,
                    0.5755395683453237,
                    0.5935251798561151,
                    0.6115107913669064,
                    0.6294964028776978,
                    0.6474820143884892,
                    0.6654676258992805,
                    0.6834532374100719,
                    0.7014388489208633,
                    0.7194244604316546,
                    0.737410071942446,
                    0.7553956834532374,
                    0.7733812949640287,
                    0.7913669064748201,
                    0.8093525179856115,
                    0.8273381294964028,
                    0.8453237410071942,
                    0.8633093525179856,
                    0.8812949640287769,
                    0.8992805755395683,
                    0.9172661870503597,
                    0.935251798561151,
                    0.9532374100719424,
                    0.9712230215827338,
                    0.9892086330935251,
                    1.0071942446043165,
                    1.0251798561151078,
                    1.0431654676258992,
                    1.0611510791366907,
                    1.079136690647482,
                    1.0971223021582732,
                    1.1151079136690647,
                    1.1330935251798562,
                    1.1510791366906474,
                    1.1690647482014387,
                    1.1870503597122302,
                    1.2050359712230216,
                    1.223021582733813,
                    1.2410071942446042,
                    1.2589928057553956,
                    1.276978417266187,
                    1.2949640287769784,
                    1.3129496402877696,
                    1.330935251798561,
                    1.3489208633093526,
                    1.3669064748201438,
                    1.384892086330935,
                    1.4028776978417266,
                    1.420863309352518,
                    1.4388489208633093,
                    1.4568345323741005,
                    1.474820143884892,
                    1.4928057553956835,
                    1.5107913669064748,
                    1.528776978417266,
                    1.5467625899280575,
                    1.564748201438849,
                    1.5827338129496402,
                    1.6007194244604315,
                    1.618705035971223,
                    1.6366906474820144,
                    1.6546762589928057,
                    1.672661870503597,
                    1.6906474820143884,
                    1.70863309352518,
                    1.7266187050359711,
                    1.7446043165467624,
                    1.7625899280575539,
                    1.7805755395683454,
                    1.7985611510791366,
                    1.8165467625899279,
                    1.8345323741007193,
                    1.8525179856115108,
                    1.870503597122302,
                    1.8884892086330933,
                    1.9064748201438848,
                    1.9244604316546763,
                    1.9424460431654675,
                    1.9604316546762588,
                    1.9784172661870503,
                    1.9964028776978417,
                    2.014388489208633,
                    2.0323741007194243,
                    2.0503597122302155,
                    2.068345323741007,
                    2.0863309352517985,
                    2.1043165467625897,
                    2.1223021582733814,
                    2.1402877697841727,
                    2.158273381294964,
                    2.176258992805755,
                    2.1942446043165464,
                    2.212230215827338,
                    2.2302158273381294,
                    2.2482014388489207,
                    2.2661870503597124,
                    2.2841726618705036,
                    2.302158273381295,
                    2.320143884892086,
                    2.3381294964028774,
                    2.356115107913669,
                    2.3741007194244603,
                    2.3920863309352516,
                    2.4100719424460433,
                    2.4280575539568345,
                    2.446043165467626,
                    2.464028776978417,
                    2.4820143884892083,
                    2.5,
                    2.5179856115107913,
                    2.5359712230215825,
                    2.553956834532374,
                    2.5719424460431655,
                    2.5899280575539567,
                    2.607913669064748,
                    2.6258992805755392,
                    2.643884892086331,
                    2.661870503597122,
                    2.6798561151079134,
                    2.697841726618705,
                    2.7158273381294964,
                    2.7338129496402876,
                    2.751798561151079,
                    2.76978417266187,
                    2.787769784172662,
                    2.805755395683453,
                    2.8237410071942444,
                    2.841726618705036,
                    2.8597122302158273,
                    2.8776978417266186,
                    2.89568345323741,
                    2.913669064748201,
                    2.931654676258993,
                    2.949640287769784,
                    2.9676258992805753,
                    2.985611510791367,
                    3.0035971223021583,
                    3.0215827338129495,
                    3.0395683453237408,
                    3.057553956834532,
                    3.0755395683453237,
                    3.093525179856115,
                    3.1115107913669062,
                    3.129496402877698,
                    3.147482014388489,
                    3.1654676258992804,
                    3.1834532374100717,
                    3.201438848920863,
                    3.2194244604316546,
                    3.237410071942446,
                    3.255395683453237,
                    3.273381294964029,
                    3.29136690647482,
                    3.3093525179856114,
                    3.3273381294964026,
                    3.345323741007194,
                    3.3633093525179856,
                    3.381294964028777,
                    3.399280575539568,
                    3.41726618705036,
                    3.435251798561151,
                    3.4532374100719423,
                    3.4712230215827335,
                    3.489208633093525,
                    3.5071942446043165,
                    3.5251798561151078,
                    3.543165467625899,
                    3.5611510791366907,
                    3.579136690647482,
                    3.597122302158273,
                    3.6151079136690645,
                    3.6330935251798557,
                    3.6510791366906474,
                    3.6690647482014387,
                    3.68705035971223,
                    3.7050359712230216,
                    3.723021582733813,
                    3.741007194244604,
                    3.7589928057553954,
                    3.7769784172661867,
                    3.7949640287769784,
                    3.8129496402877696,
                    3.830935251798561,
                    3.8489208633093526,
                    3.866906474820144,
                    3.884892086330935,
                    3.9028776978417263,
                    3.9208633093525176,
                    3.9388489208633093,
                    3.9568345323741005,
                    3.974820143884892,
                    3.9928057553956835,
                    4.010791366906474,
                    4.028776978417266,
                    4.046762589928058,
                    4.0647482014388485,
                    4.08273381294964,
                    4.100719424460431,
                    4.118705035971223,
                    4.136690647482014,
                    4.154676258992805,
                    4.172661870503597,
                    4.190647482014389,
                    4.2086330935251794,
                    4.226618705035971,
                    4.244604316546763,
                    4.262589928057554,
                    4.280575539568345,
                    4.298561151079136,
                    4.316546762589928,
                    4.33453237410072,
                    4.35251798561151,
                    4.370503597122302,
                    4.388489208633093,
                    4.406474820143885,
                    4.424460431654676,
                    4.442446043165467,
                    4.460431654676259,
                    4.4784172661870505,
                    4.496402877697841,
                    4.514388489208633,
                    4.532374100719425,
                    4.5503597122302155
                  ],
                  "xaxis": "x",
                  "y": [
                    0,
                    0.09533436298370362,
                    0.055900859832763675,
                    0.003383612632751465,
                    0.0015377044677734376,
                    -0.0017531156539916993,
                    0.006167387962341309,
                    -0.027635598182678224,
                    -0.009710073471069336,
                    0.012536931037902833,
                    0.0011333942413330079,
                    0.03678560256958008,
                    0.003807806968688965,
                    0.051678800582885744,
                    0.06353304386138917,
                    0.08539230823516845,
                    0.10130622386932374,
                    -0.00522620677947998,
                    0.05006818771362305,
                    0.07397220134735108,
                    0.0020944595336914065,
                    -0.025945448875427247,
                    0.0287325382232666,
                    0.09092671871185302,
                    0.027923917770385744,
                    0.047304296493530275,
                    0.07314038276672363,
                    0.011864185333251953,
                    0.046608352661132814,
                    -0.009113550186157227,
                    0.022879981994628908,
                    0.08358616828918457,
                    0.06114695072174073,
                    0.07531769275665283,
                    0.08022575378417969,
                    0.06663165092468262,
                    0.051158499717712407,
                    0.02060987949371338,
                    0.12500145435333251,
                    0.08328790664672851,
                    0.05062494277954102,
                    0.08287034034729004,
                    0.04067625999450684,
                    0.08180322647094727,
                    0.09031031131744385,
                    0.09003524780273438,
                    -0.00844411849975586,
                    0.03629512786865235,
                    0.10348021984100342,
                    0.2157392740249634,
                    0.17149381637573244,
                    0.13868503570556642,
                    0.15771081447601318,
                    0.10315544605255128,
                    0.03320977687835693,
                    0.2657047271728516,
                    0.13408517837524414,
                    0.0527691125869751,
                    0.1987748146057129,
                    0.040136075019836424,
                    0.09645781517028809,
                    0.005799531936645508,
                    0.07955632209777833,
                    0.030485653877258302,
                    0.007360434532165528,
                    0.05114524364471436,
                    0.12828896045684815,
                    0.06611466407775879,
                    0.18858752250671387,
                    0.17867860794067383,
                    0.08216776847839356,
                    0.15390632152557374,
                    0.10129296779632568,
                    0.12280094623565674,
                    0.17876808643341066,
                    -0.06840133666992188,
                    0.15968596935272217,
                    0.14364280700683593,
                    0.08020255565643311,
                    0.06937234401702881,
                    0.16131978034973146,
                    0.06165730953216553,
                    0.19858922958374026,
                    -0.014929652214050293,
                    0.06799702644348145,
                    0.1404348373413086,
                    0.012967753410339357,
                    0.13840334415435793,
                    0.12965102195739747,
                    0.16585998535156252,
                    0.10885887145996094,
                    0.01700754165649414,
                    0.07057533264160157,
                    0.30516805648803713,
                    -0.032344818115234375,
                    0.081730318069458,
                    0.2588082551956177,
                    -0.028712654113769533,
                    0.11428391933441162,
                    0.1185457468032837,
                    0.08682065010070801,
                    0.051549553871154785,
                    0.051987004280090336,
                    0.1424133062362671,
                    -0.035403656959533694,
                    0.09146027565002442,
                    0.060861945152282715,
                    -0.012858390808105469,
                    0.06689677238464356,
                    0.03289163112640381,
                    0.13572561740875244,
                    0.12324502468109132,
                    0.062025165557861334,
                    0.03897948265075684,
                    0.08186950683593751,
                    0.09110236167907715,
                    0.04279723167419434,
                    0.05667302608489991,
                    0.07180483341217041,
                    0.1199575185775757,
                    -0.02261486053466797,
                    0.07338893413543701,
                    0.015121865272521974,
                    0.07145354747772217,
                    0.10541229248046875,
                    0.02604155540466309,
                    -0.020623135566711425,
                    0.03779637813568115,
                    -0.007927131652832032,
                    0.10481245517730714,
                    0.07551321983337403,
                    0.08028209209442139,
                    0.007638812065124512,
                    -0.013481426239013673,
                    -0.007446599006652833,
                    0.025411891937255862,
                    -0.0072444438934326175,
                    -0.0040629863739013675,
                    -0.004000020027160644,
                    0.02267451286315918,
                    0.03508219718933105,
                    0.006038141250610352,
                    0.043652248382568364,
                    0.000507044792175293,
                    -0.0011698484420776367,
                    -0.001179790496826172,
                    -0.0016802072525024414,
                    -0.013633871078491212,
                    -0.0016802072525024414,
                    -0.07414121627807617,
                    -0.004185605049133301,
                    -0.05309720039367676,
                    -0.049902486801147464,
                    -0.042329955101013186,
                    -0.048845314979553224,
                    -0.0369612455368042,
                    0.00433804988861084,
                    0.003264307975769043,
                    -0.028868412971496584,
                    -0.04266135692596436,
                    -0.10663185119628907,
                    -0.12430219650268555,
                    -0.04773180484771729,
                    0.002535223960876465,
                    -0.18983027935028077,
                    -0.06775841712951661,
                    -0.0961496114730835,
                    -0.0900418758392334,
                    -0.20844843387603762,
                    -0.31492784023284914,
                    -0.0007257699966430664,
                    0.03998363018035889,
                    -0.07863171100616455,
                    -0.28787219524383545,
                    -0.14147212505340576,
                    -0.25145113468170166,
                    -0.14190957546234131,
                    -0.20746417045593263,
                    -0.19967291355133057,
                    -0.18581700325012207,
                    0.02768199443817139,
                    -0.15880775451660156,
                    -0.24825310707092285,
                    -0.14220120906829833,
                    -0.29782419204711913,
                    -0.13954336643218995,
                    -0.16210520267486572,
                    -0.1239774227142334,
                    -0.24207909107208253,
                    -0.2798158168792725,
                    -0.18501501083374025,
                    -0.2625696659088135,
                    -0.13629231452941895,
                    -0.256355881690979,
                    -0.19233236312866211,
                    -0.2025395393371582,
                    -0.13450937271118166,
                    -0.024669551849365236,
                    -0.13903632164001464,
                    -0.28149602413177494,
                    -0.21256775856018068,
                    -0.32691464424133304,
                    -0.2227484226226807,
                    -0.10422255992889405,
                    -0.241790771484375,
                    -0.1784433126449585,
                    -0.21444680690765383,
                    -0.1130610466003418,
                    -0.12198238372802735,
                    -0.12783162593841554,
                    -0.08081896305084228,
                    -0.01401498317718506,
                    -0.14975385665893556,
                    0.026687788963317874,
                    0.0041425228118896484,
                    -0.10566415786743165,
                    -0.007274270057678223,
                    -0.12362613677978516,
                    -0.10071964263916017,
                    -0.012116050720214844,
                    -0.0006760597229003906,
                    -0.03385601043701172,
                    0.009766411781311036,
                    -0.09401538372039796,
                    -0.08191590309143067,
                    0.025266075134277345,
                    0.011771392822265626,
                    -0.1405210018157959,
                    -0.03108217716217041,
                    -0.10222089290618896,
                    0.014482259750366211,
                    0.016010022163391115,
                    0.04218745231628418,
                    0.0026611566543579103,
                    0.006061339378356934,
                    0.03547656536102295,
                    0.004699277877807617,
                    -0.03503248691558838,
                    -0.029375457763671876,
                    0.00003314018249511719,
                    -0.007814455032348634,
                    -0.020752382278442384,
                    -0.002263474464416504,
                    0.08711559772491455,
                    0.04041445255279541,
                    0.028795504570007326,
                    0.01717987060546875,
                    0.008129286766052247,
                    -0.0005169868469238281,
                    0.010230374336242676,
                    0.00035791397094726564,
                    -0.0002286672592163086,
                    0.013633871078491212,
                    0.01984434127807617
                  ],
                  "yaxis": "y"
                }
              ],
              "layout": {
                "legend": {
                  "tracegroupgap": 0
                },
                "template": {
                  "data": {
                    "bar": [
                      {
                        "error_x": {
                          "color": "#2a3f5f"
                        },
                        "error_y": {
                          "color": "#2a3f5f"
                        },
                        "marker": {
                          "line": {
                            "color": "#E5ECF6",
                            "width": 0.5
                          },
                          "pattern": {
                            "fillmode": "overlay",
                            "size": 10,
                            "solidity": 0.2
                          }
                        },
                        "type": "bar"
                      }
                    ],
                    "barpolar": [
                      {
                        "marker": {
                          "line": {
                            "color": "#E5ECF6",
                            "width": 0.5
                          },
                          "pattern": {
                            "fillmode": "overlay",
                            "size": 10,
                            "solidity": 0.2
                          }
                        },
                        "type": "barpolar"
                      }
                    ],
                    "carpet": [
                      {
                        "aaxis": {
                          "endlinecolor": "#2a3f5f",
                          "gridcolor": "white",
                          "linecolor": "white",
                          "minorgridcolor": "white",
                          "startlinecolor": "#2a3f5f"
                        },
                        "baxis": {
                          "endlinecolor": "#2a3f5f",
                          "gridcolor": "white",
                          "linecolor": "white",
                          "minorgridcolor": "white",
                          "startlinecolor": "#2a3f5f"
                        },
                        "type": "carpet"
                      }
                    ],
                    "choropleth": [
                      {
                        "colorbar": {
                          "outlinewidth": 0,
                          "ticks": ""
                        },
                        "type": "choropleth"
                      }
                    ],
                    "contour": [
                      {
                        "colorbar": {
                          "outlinewidth": 0,
                          "ticks": ""
                        },
                        "colorscale": [
                          [
                            0,
                            "#0d0887"
                          ],
                          [
                            0.1111111111111111,
                            "#46039f"
                          ],
                          [
                            0.2222222222222222,
                            "#7201a8"
                          ],
                          [
                            0.3333333333333333,
                            "#9c179e"
                          ],
                          [
                            0.4444444444444444,
                            "#bd3786"
                          ],
                          [
                            0.5555555555555556,
                            "#d8576b"
                          ],
                          [
                            0.6666666666666666,
                            "#ed7953"
                          ],
                          [
                            0.7777777777777778,
                            "#fb9f3a"
                          ],
                          [
                            0.8888888888888888,
                            "#fdca26"
                          ],
                          [
                            1,
                            "#f0f921"
                          ]
                        ],
                        "type": "contour"
                      }
                    ],
                    "contourcarpet": [
                      {
                        "colorbar": {
                          "outlinewidth": 0,
                          "ticks": ""
                        },
                        "type": "contourcarpet"
                      }
                    ],
                    "heatmap": [
                      {
                        "colorbar": {
                          "outlinewidth": 0,
                          "ticks": ""
                        },
                        "colorscale": [
                          [
                            0,
                            "#0d0887"
                          ],
                          [
                            0.1111111111111111,
                            "#46039f"
                          ],
                          [
                            0.2222222222222222,
                            "#7201a8"
                          ],
                          [
                            0.3333333333333333,
                            "#9c179e"
                          ],
                          [
                            0.4444444444444444,
                            "#bd3786"
                          ],
                          [
                            0.5555555555555556,
                            "#d8576b"
                          ],
                          [
                            0.6666666666666666,
                            "#ed7953"
                          ],
                          [
                            0.7777777777777778,
                            "#fb9f3a"
                          ],
                          [
                            0.8888888888888888,
                            "#fdca26"
                          ],
                          [
                            1,
                            "#f0f921"
                          ]
                        ],
                        "type": "heatmap"
                      }
                    ],
                    "heatmapgl": [
                      {
                        "colorbar": {
                          "outlinewidth": 0,
                          "ticks": ""
                        },
                        "colorscale": [
                          [
                            0,
                            "#0d0887"
                          ],
                          [
                            0.1111111111111111,
                            "#46039f"
                          ],
                          [
                            0.2222222222222222,
                            "#7201a8"
                          ],
                          [
                            0.3333333333333333,
                            "#9c179e"
                          ],
                          [
                            0.4444444444444444,
                            "#bd3786"
                          ],
                          [
                            0.5555555555555556,
                            "#d8576b"
                          ],
                          [
                            0.6666666666666666,
                            "#ed7953"
                          ],
                          [
                            0.7777777777777778,
                            "#fb9f3a"
                          ],
                          [
                            0.8888888888888888,
                            "#fdca26"
                          ],
                          [
                            1,
                            "#f0f921"
                          ]
                        ],
                        "type": "heatmapgl"
                      }
                    ],
                    "histogram": [
                      {
                        "marker": {
                          "pattern": {
                            "fillmode": "overlay",
                            "size": 10,
                            "solidity": 0.2
                          }
                        },
                        "type": "histogram"
                      }
                    ],
                    "histogram2d": [
                      {
                        "colorbar": {
                          "outlinewidth": 0,
                          "ticks": ""
                        },
                        "colorscale": [
                          [
                            0,
                            "#0d0887"
                          ],
                          [
                            0.1111111111111111,
                            "#46039f"
                          ],
                          [
                            0.2222222222222222,
                            "#7201a8"
                          ],
                          [
                            0.3333333333333333,
                            "#9c179e"
                          ],
                          [
                            0.4444444444444444,
                            "#bd3786"
                          ],
                          [
                            0.5555555555555556,
                            "#d8576b"
                          ],
                          [
                            0.6666666666666666,
                            "#ed7953"
                          ],
                          [
                            0.7777777777777778,
                            "#fb9f3a"
                          ],
                          [
                            0.8888888888888888,
                            "#fdca26"
                          ],
                          [
                            1,
                            "#f0f921"
                          ]
                        ],
                        "type": "histogram2d"
                      }
                    ],
                    "histogram2dcontour": [
                      {
                        "colorbar": {
                          "outlinewidth": 0,
                          "ticks": ""
                        },
                        "colorscale": [
                          [
                            0,
                            "#0d0887"
                          ],
                          [
                            0.1111111111111111,
                            "#46039f"
                          ],
                          [
                            0.2222222222222222,
                            "#7201a8"
                          ],
                          [
                            0.3333333333333333,
                            "#9c179e"
                          ],
                          [
                            0.4444444444444444,
                            "#bd3786"
                          ],
                          [
                            0.5555555555555556,
                            "#d8576b"
                          ],
                          [
                            0.6666666666666666,
                            "#ed7953"
                          ],
                          [
                            0.7777777777777778,
                            "#fb9f3a"
                          ],
                          [
                            0.8888888888888888,
                            "#fdca26"
                          ],
                          [
                            1,
                            "#f0f921"
                          ]
                        ],
                        "type": "histogram2dcontour"
                      }
                    ],
                    "mesh3d": [
                      {
                        "colorbar": {
                          "outlinewidth": 0,
                          "ticks": ""
                        },
                        "type": "mesh3d"
                      }
                    ],
                    "parcoords": [
                      {
                        "line": {
                          "colorbar": {
                            "outlinewidth": 0,
                            "ticks": ""
                          }
                        },
                        "type": "parcoords"
                      }
                    ],
                    "pie": [
                      {
                        "automargin": true,
                        "type": "pie"
                      }
                    ],
                    "scatter": [
                      {
                        "fillpattern": {
                          "fillmode": "overlay",
                          "size": 10,
                          "solidity": 0.2
                        },
                        "type": "scatter"
                      }
                    ],
                    "scatter3d": [
                      {
                        "line": {
                          "colorbar": {
                            "outlinewidth": 0,
                            "ticks": ""
                          }
                        },
                        "marker": {
                          "colorbar": {
                            "outlinewidth": 0,
                            "ticks": ""
                          }
                        },
                        "type": "scatter3d"
                      }
                    ],
                    "scattercarpet": [
                      {
                        "marker": {
                          "colorbar": {
                            "outlinewidth": 0,
                            "ticks": ""
                          }
                        },
                        "type": "scattercarpet"
                      }
                    ],
                    "scattergeo": [
                      {
                        "marker": {
                          "colorbar": {
                            "outlinewidth": 0,
                            "ticks": ""
                          }
                        },
                        "type": "scattergeo"
                      }
                    ],
                    "scattergl": [
                      {
                        "marker": {
                          "colorbar": {
                            "outlinewidth": 0,
                            "ticks": ""
                          }
                        },
                        "type": "scattergl"
                      }
                    ],
                    "scattermapbox": [
                      {
                        "marker": {
                          "colorbar": {
                            "outlinewidth": 0,
                            "ticks": ""
                          }
                        },
                        "type": "scattermapbox"
                      }
                    ],
                    "scatterpolar": [
                      {
                        "marker": {
                          "colorbar": {
                            "outlinewidth": 0,
                            "ticks": ""
                          }
                        },
                        "type": "scatterpolar"
                      }
                    ],
                    "scatterpolargl": [
                      {
                        "marker": {
                          "colorbar": {
                            "outlinewidth": 0,
                            "ticks": ""
                          }
                        },
                        "type": "scatterpolargl"
                      }
                    ],
                    "scatterternary": [
                      {
                        "marker": {
                          "colorbar": {
                            "outlinewidth": 0,
                            "ticks": ""
                          }
                        },
                        "type": "scatterternary"
                      }
                    ],
                    "surface": [
                      {
                        "colorbar": {
                          "outlinewidth": 0,
                          "ticks": ""
                        },
                        "colorscale": [
                          [
                            0,
                            "#0d0887"
                          ],
                          [
                            0.1111111111111111,
                            "#46039f"
                          ],
                          [
                            0.2222222222222222,
                            "#7201a8"
                          ],
                          [
                            0.3333333333333333,
                            "#9c179e"
                          ],
                          [
                            0.4444444444444444,
                            "#bd3786"
                          ],
                          [
                            0.5555555555555556,
                            "#d8576b"
                          ],
                          [
                            0.6666666666666666,
                            "#ed7953"
                          ],
                          [
                            0.7777777777777778,
                            "#fb9f3a"
                          ],
                          [
                            0.8888888888888888,
                            "#fdca26"
                          ],
                          [
                            1,
                            "#f0f921"
                          ]
                        ],
                        "type": "surface"
                      }
                    ],
                    "table": [
                      {
                        "cells": {
                          "fill": {
                            "color": "#EBF0F8"
                          },
                          "line": {
                            "color": "white"
                          }
                        },
                        "header": {
                          "fill": {
                            "color": "#C8D4E3"
                          },
                          "line": {
                            "color": "white"
                          }
                        },
                        "type": "table"
                      }
                    ]
                  },
                  "layout": {
                    "annotationdefaults": {
                      "arrowcolor": "#2a3f5f",
                      "arrowhead": 0,
                      "arrowwidth": 1
                    },
                    "autotypenumbers": "strict",
                    "coloraxis": {
                      "colorbar": {
                        "outlinewidth": 0,
                        "ticks": ""
                      }
                    },
                    "colorscale": {
                      "diverging": [
                        [
                          0,
                          "#8e0152"
                        ],
                        [
                          0.1,
                          "#c51b7d"
                        ],
                        [
                          0.2,
                          "#de77ae"
                        ],
                        [
                          0.3,
                          "#f1b6da"
                        ],
                        [
                          0.4,
                          "#fde0ef"
                        ],
                        [
                          0.5,
                          "#f7f7f7"
                        ],
                        [
                          0.6,
                          "#e6f5d0"
                        ],
                        [
                          0.7,
                          "#b8e186"
                        ],
                        [
                          0.8,
                          "#7fbc41"
                        ],
                        [
                          0.9,
                          "#4d9221"
                        ],
                        [
                          1,
                          "#276419"
                        ]
                      ],
                      "sequential": [
                        [
                          0,
                          "#0d0887"
                        ],
                        [
                          0.1111111111111111,
                          "#46039f"
                        ],
                        [
                          0.2222222222222222,
                          "#7201a8"
                        ],
                        [
                          0.3333333333333333,
                          "#9c179e"
                        ],
                        [
                          0.4444444444444444,
                          "#bd3786"
                        ],
                        [
                          0.5555555555555556,
                          "#d8576b"
                        ],
                        [
                          0.6666666666666666,
                          "#ed7953"
                        ],
                        [
                          0.7777777777777778,
                          "#fb9f3a"
                        ],
                        [
                          0.8888888888888888,
                          "#fdca26"
                        ],
                        [
                          1,
                          "#f0f921"
                        ]
                      ],
                      "sequentialminus": [
                        [
                          0,
                          "#0d0887"
                        ],
                        [
                          0.1111111111111111,
                          "#46039f"
                        ],
                        [
                          0.2222222222222222,
                          "#7201a8"
                        ],
                        [
                          0.3333333333333333,
                          "#9c179e"
                        ],
                        [
                          0.4444444444444444,
                          "#bd3786"
                        ],
                        [
                          0.5555555555555556,
                          "#d8576b"
                        ],
                        [
                          0.6666666666666666,
                          "#ed7953"
                        ],
                        [
                          0.7777777777777778,
                          "#fb9f3a"
                        ],
                        [
                          0.8888888888888888,
                          "#fdca26"
                        ],
                        [
                          1,
                          "#f0f921"
                        ]
                      ]
                    },
                    "colorway": [
                      "#636efa",
                      "#EF553B",
                      "#00cc96",
                      "#ab63fa",
                      "#FFA15A",
                      "#19d3f3",
                      "#FF6692",
                      "#B6E880",
                      "#FF97FF",
                      "#FECB52"
                    ],
                    "font": {
                      "color": "#2a3f5f"
                    },
                    "geo": {
                      "bgcolor": "white",
                      "lakecolor": "white",
                      "landcolor": "#E5ECF6",
                      "showlakes": true,
                      "showland": true,
                      "subunitcolor": "white"
                    },
                    "hoverlabel": {
                      "align": "left"
                    },
                    "hovermode": "closest",
                    "mapbox": {
                      "style": "light"
                    },
                    "paper_bgcolor": "white",
                    "plot_bgcolor": "#E5ECF6",
                    "polar": {
                      "angularaxis": {
                        "gridcolor": "white",
                        "linecolor": "white",
                        "ticks": ""
                      },
                      "bgcolor": "#E5ECF6",
                      "radialaxis": {
                        "gridcolor": "white",
                        "linecolor": "white",
                        "ticks": ""
                      }
                    },
                    "scene": {
                      "xaxis": {
                        "backgroundcolor": "#E5ECF6",
                        "gridcolor": "white",
                        "gridwidth": 2,
                        "linecolor": "white",
                        "showbackground": true,
                        "ticks": "",
                        "zerolinecolor": "white"
                      },
                      "yaxis": {
                        "backgroundcolor": "#E5ECF6",
                        "gridcolor": "white",
                        "gridwidth": 2,
                        "linecolor": "white",
                        "showbackground": true,
                        "ticks": "",
                        "zerolinecolor": "white"
                      },
                      "zaxis": {
                        "backgroundcolor": "#E5ECF6",
                        "gridcolor": "white",
                        "gridwidth": 2,
                        "linecolor": "white",
                        "showbackground": true,
                        "ticks": "",
                        "zerolinecolor": "white"
                      }
                    },
                    "shapedefaults": {
                      "line": {
                        "color": "#2a3f5f"
                      }
                    },
                    "ternary": {
                      "aaxis": {
                        "gridcolor": "white",
                        "linecolor": "white",
                        "ticks": ""
                      },
                      "baxis": {
                        "gridcolor": "white",
                        "linecolor": "white",
                        "ticks": ""
                      },
                      "bgcolor": "#E5ECF6",
                      "caxis": {
                        "gridcolor": "white",
                        "linecolor": "white",
                        "ticks": ""
                      }
                    },
                    "title": {
                      "x": 0.05
                    },
                    "xaxis": {
                      "automargin": true,
                      "gridcolor": "white",
                      "linecolor": "white",
                      "ticks": "",
                      "title": {
                        "standoff": 15
                      },
                      "zerolinecolor": "white",
                      "zerolinewidth": 2
                    },
                    "yaxis": {
                      "automargin": true,
                      "gridcolor": "white",
                      "linecolor": "white",
                      "ticks": "",
                      "title": {
                        "standoff": 15
                      },
                      "zerolinecolor": "white",
                      "zerolinewidth": 2
                    }
                  }
                },
                "title": {
                  "text": "Evolución de la velocidad de la cadera"
                },
                "xaxis": {
                  "anchor": "y",
                  "domain": [
                    0,
                    1
                  ],
                  "title": {
                    "text": "Tiempo"
                  }
                },
                "yaxis": {
                  "anchor": "x",
                  "domain": [
                    0,
                    1
                  ],
                  "title": {
                    "text": "Velocidad de la cadera"
                  }
                }
              }
            }
          },
          "metadata": {},
          "output_type": "display_data"
        },
        {
          "data": {
            "application/vnd.plotly.v1+json": {
              "config": {
                "plotlyServerURL": "https://plot.ly"
              },
              "data": [
                {
                  "hovertemplate": "Tiempo=%{x}<br>Aceleracion(Cadera)_Y=%{y}<extra></extra>",
                  "legendgroup": "",
                  "line": {
                    "color": "#636efa",
                    "dash": "solid"
                  },
                  "marker": {
                    "symbol": "circle"
                  },
                  "mode": "lines",
                  "name": "",
                  "orientation": "v",
                  "showlegend": false,
                  "type": "scatter",
                  "x": [
                    0,
                    0.017985611510791366,
                    0.03597122302158273,
                    0.0539568345323741,
                    0.07194244604316546,
                    0.08992805755395683,
                    0.1079136690647482,
                    0.12589928057553956,
                    0.14388489208633093,
                    0.1618705035971223,
                    0.17985611510791366,
                    0.19784172661870503,
                    0.2158273381294964,
                    0.23381294964028776,
                    0.2517985611510791,
                    0.2697841726618705,
                    0.28776978417266186,
                    0.3057553956834532,
                    0.3237410071942446,
                    0.34172661870503596,
                    0.3597122302158273,
                    0.3776978417266187,
                    0.39568345323741005,
                    0.4136690647482014,
                    0.4316546762589928,
                    0.44964028776978415,
                    0.4676258992805755,
                    0.4856115107913669,
                    0.5035971223021583,
                    0.5215827338129496,
                    0.539568345323741,
                    0.5575539568345323,
                    0.5755395683453237,
                    0.5935251798561151,
                    0.6115107913669064,
                    0.6294964028776978,
                    0.6474820143884892,
                    0.6654676258992805,
                    0.6834532374100719,
                    0.7014388489208633,
                    0.7194244604316546,
                    0.737410071942446,
                    0.7553956834532374,
                    0.7733812949640287,
                    0.7913669064748201,
                    0.8093525179856115,
                    0.8273381294964028,
                    0.8453237410071942,
                    0.8633093525179856,
                    0.8812949640287769,
                    0.8992805755395683,
                    0.9172661870503597,
                    0.935251798561151,
                    0.9532374100719424,
                    0.9712230215827338,
                    0.9892086330935251,
                    1.0071942446043165,
                    1.0251798561151078,
                    1.0431654676258992,
                    1.0611510791366907,
                    1.079136690647482,
                    1.0971223021582732,
                    1.1151079136690647,
                    1.1330935251798562,
                    1.1510791366906474,
                    1.1690647482014387,
                    1.1870503597122302,
                    1.2050359712230216,
                    1.223021582733813,
                    1.2410071942446042,
                    1.2589928057553956,
                    1.276978417266187,
                    1.2949640287769784,
                    1.3129496402877696,
                    1.330935251798561,
                    1.3489208633093526,
                    1.3669064748201438,
                    1.384892086330935,
                    1.4028776978417266,
                    1.420863309352518,
                    1.4388489208633093,
                    1.4568345323741005,
                    1.474820143884892,
                    1.4928057553956835,
                    1.5107913669064748,
                    1.528776978417266,
                    1.5467625899280575,
                    1.564748201438849,
                    1.5827338129496402,
                    1.6007194244604315,
                    1.618705035971223,
                    1.6366906474820144,
                    1.6546762589928057,
                    1.672661870503597,
                    1.6906474820143884,
                    1.70863309352518,
                    1.7266187050359711,
                    1.7446043165467624,
                    1.7625899280575539,
                    1.7805755395683454,
                    1.7985611510791366,
                    1.8165467625899279,
                    1.8345323741007193,
                    1.8525179856115108,
                    1.870503597122302,
                    1.8884892086330933,
                    1.9064748201438848,
                    1.9244604316546763,
                    1.9424460431654675,
                    1.9604316546762588,
                    1.9784172661870503,
                    1.9964028776978417,
                    2.014388489208633,
                    2.0323741007194243,
                    2.0503597122302155,
                    2.068345323741007,
                    2.0863309352517985,
                    2.1043165467625897,
                    2.1223021582733814,
                    2.1402877697841727,
                    2.158273381294964,
                    2.176258992805755,
                    2.1942446043165464,
                    2.212230215827338,
                    2.2302158273381294,
                    2.2482014388489207,
                    2.2661870503597124,
                    2.2841726618705036,
                    2.302158273381295,
                    2.320143884892086,
                    2.3381294964028774,
                    2.356115107913669,
                    2.3741007194244603,
                    2.3920863309352516,
                    2.4100719424460433,
                    2.4280575539568345,
                    2.446043165467626,
                    2.464028776978417,
                    2.4820143884892083,
                    2.5,
                    2.5179856115107913,
                    2.5359712230215825,
                    2.553956834532374,
                    2.5719424460431655,
                    2.5899280575539567,
                    2.607913669064748,
                    2.6258992805755392,
                    2.643884892086331,
                    2.661870503597122,
                    2.6798561151079134,
                    2.697841726618705,
                    2.7158273381294964,
                    2.7338129496402876,
                    2.751798561151079,
                    2.76978417266187,
                    2.787769784172662,
                    2.805755395683453,
                    2.8237410071942444,
                    2.841726618705036,
                    2.8597122302158273,
                    2.8776978417266186,
                    2.89568345323741,
                    2.913669064748201,
                    2.931654676258993,
                    2.949640287769784,
                    2.9676258992805753,
                    2.985611510791367,
                    3.0035971223021583,
                    3.0215827338129495,
                    3.0395683453237408,
                    3.057553956834532,
                    3.0755395683453237,
                    3.093525179856115,
                    3.1115107913669062,
                    3.129496402877698,
                    3.147482014388489,
                    3.1654676258992804,
                    3.1834532374100717,
                    3.201438848920863,
                    3.2194244604316546,
                    3.237410071942446,
                    3.255395683453237,
                    3.273381294964029,
                    3.29136690647482,
                    3.3093525179856114,
                    3.3273381294964026,
                    3.345323741007194,
                    3.3633093525179856,
                    3.381294964028777,
                    3.399280575539568,
                    3.41726618705036,
                    3.435251798561151,
                    3.4532374100719423,
                    3.4712230215827335,
                    3.489208633093525,
                    3.5071942446043165,
                    3.5251798561151078,
                    3.543165467625899,
                    3.5611510791366907,
                    3.579136690647482,
                    3.597122302158273,
                    3.6151079136690645,
                    3.6330935251798557,
                    3.6510791366906474,
                    3.6690647482014387,
                    3.68705035971223,
                    3.7050359712230216,
                    3.723021582733813,
                    3.741007194244604,
                    3.7589928057553954,
                    3.7769784172661867,
                    3.7949640287769784,
                    3.8129496402877696,
                    3.830935251798561,
                    3.8489208633093526,
                    3.866906474820144,
                    3.884892086330935,
                    3.9028776978417263,
                    3.9208633093525176,
                    3.9388489208633093,
                    3.9568345323741005,
                    3.974820143884892,
                    3.9928057553956835,
                    4.010791366906474,
                    4.028776978417266,
                    4.046762589928058,
                    4.0647482014388485,
                    4.08273381294964,
                    4.100719424460431,
                    4.118705035971223,
                    4.136690647482014,
                    4.154676258992805,
                    4.172661870503597,
                    4.190647482014389,
                    4.2086330935251794,
                    4.226618705035971,
                    4.244604316546763,
                    4.262589928057554,
                    4.280575539568345,
                    4.298561151079136,
                    4.316546762589928,
                    4.33453237410072,
                    4.35251798561151,
                    4.370503597122302,
                    4.388489208633093,
                    4.406474820143885,
                    4.424460431654676,
                    4.442446043165467,
                    4.460431654676259,
                    4.4784172661870505,
                    4.496402877697841,
                    4.514388489208633,
                    4.532374100719425,
                    4.5503597122302155
                  ],
                  "xaxis": "x",
                  "y": [
                    null,
                    0,
                    -5.300590581893922,
                    -3.1080878067016604,
                    -0.18812886238098148,
                    -0.08549636840820313,
                    0.09747323036193849,
                    -0.3429067707061768,
                    1.5365392589569093,
                    0.5398800849914551,
                    -0.6970533657073975,
                    -0.06301671981811524,
                    -2.0452795028686523,
                    -0.21171406745910645,
                    -2.8733413124084475,
                    -3.532437238693238,
                    -4.7478123378753665,
                    -5.6326260471344005,
                    0.2905770969390869,
                    -2.7837912368774416,
                    -4.11285439491272,
                    -0.1164519500732422,
                    1.442566957473755,
                    -1.5975291252136232,
                    -5.055525560379029,
                    -1.5525698280334475,
                    -2.6301188850402832,
                    -4.066605281829834,
                    -0.6596487045288086,
                    -2.5914244079589848,
                    0.5067133903503418,
                    -1.2721269989013673,
                    -4.647390956878662,
                    -3.3997704601287846,
                    -4.187663717269897,
                    -4.460551910400391,
                    -3.704719791412354,
                    -2.84441258430481,
                    -1.145909299850464,
                    -6.950080862045288,
                    -4.630807609558105,
                    -2.814746818542481,
                    -4.607590923309327,
                    -2.26160005569458,
                    -4.5482593917846685,
                    -5.021253309249879,
                    -5.0059597778320315,
                    0.46949298858642585,
                    -2.0180091094970707,
                    -5.75350022315979,
                    -11.995103635787965,
                    -9.535056190490725,
                    -7.710887985229493,
                    -8.768721284866333,
                    -5.735442800521851,
                    -1.8464635944366454,
                    -14.77318283081055,
                    -7.455135917663575,
                    -2.9339626598358155,
                    -11.051879692077637,
                    -2.2315657711029053,
                    -5.363054523468018,
                    -0.32245397567749023,
                    -4.423331508636475,
                    -1.6950023555755618,
                    -0.40924015998840335,
                    -2.8436755466461183,
                    -7.132866201400757,
                    -3.6759753227233887,
                    -10.485466251373293,
                    -9.934530601501466,
                    -4.568527927398683,
                    -8.5571914768219,
                    -5.631889009475708,
                    -6.827732610702515,
                    -9.939505605697633,
                    3.8031143188476566,
                    -8.878539896011352,
                    -7.986540069580078,
                    -4.4592620944976815,
                    -3.857102327346802,
                    -8.96937978744507,
                    -3.4281464099884036,
                    -11.041561164855958,
                    0.8300886631011963,
                    -3.7806346702575686,
                    -7.808176956176759,
                    -0.7210070896148683,
                    -7.695225934982301,
                    -7.2085968208313,
                    -9.221815185546877,
                    -6.052553253173828,
                    -0.9456193161010743,
                    -3.9239884948730475,
                    -16.967343940734864,
                    1.7983718872070313,
                    -4.544205684661866,
                    -14.389738988876344,
                    1.596423568725586,
                    -6.354185914993287,
                    -6.591143522262574,
                    -4.827228145599365,
                    -2.8661551952362063,
                    -2.890477437973023,
                    -7.918179826736451,
                    1.9684433269500734,
                    -5.0851913261413575,
                    -3.3839241504669193,
                    0.7149265289306641,
                    -3.719460544586182,
                    -1.8287746906280518,
                    -7.5463443279266365,
                    -6.852423372268677,
                    -3.44859920501709,
                    -2.1672592353820805,
                    -4.551944580078126,
                    -5.06529130935669,
                    -2.3795260810852055,
                    -3.151020250320435,
                    -3.9923487377166746,
                    -6.669638032913209,
                    1.257386245727539,
                    -4.080424737930298,
                    -0.8407757091522218,
                    -3.972817239761353,
                    -5.860923461914063,
                    -1.4479104804992677,
                    1.1466463375091553,
                    -2.1014786243438723,
                    0.440748519897461,
                    -5.827572507858277,
                    -4.198535022735596,
                    -4.463684320449829,
                    -0.4247179508209229,
                    0.7495672988891603,
                    0.4140309047698975,
                    -1.412901191711426,
                    0.40279108047485357,
                    0.22590204238891604,
                    0.22240111351013184,
                    -1.2607029151916505,
                    -1.9505701637268067,
                    -0.3357206535339356,
                    -2.4270650100708013,
                    -0.028191690444946294,
                    0.0650435733795166,
                    0.06559635162353517,
                    0.09341952323913574,
                    0.7580432319641114,
                    0.09341952323913574,
                    4.122251625061035,
                    0.23271964073181153,
                    2.9522043418884283,
                    2.774578266143799,
                    2.353545503616333,
                    2.7157995128631596,
                    2.055045251846314,
                    -0.24119557380676274,
                    -0.1814955234527588,
                    1.6050837612152102,
                    2.3719714450836182,
                    5.928730926513673,
                    6.911202125549317,
                    2.6538883495330814,
                    -0.14095845222473144,
                    10.554563531875612,
                    3.7673679924011236,
                    5.345918397903443,
                    5.006328296661377,
                    11.589732923507691,
                    17.509987916946415,
                    0.04035281181335449,
                    -2.223089838027954,
                    4.371923131942749,
                    16.005694055557253,
                    7.865850152969361,
                    13.980683088302612,
                    7.890172395706178,
                    11.535007877349855,
                    11.10181399345398,
                    10.331425380706788,
                    -1.5391188907623292,
                    8.829711151123048,
                    13.802872753143312,
                    7.906387224197387,
                    16.559025077819825,
                    7.758611173629761,
                    9.013049268722535,
                    6.8931447029113775,
                    13.459597463607789,
                    15.557759418487551,
                    10.286834602355958,
                    14.59887342453003,
                    7.577852687835694,
                    14.253387022018433,
                    10.693679389953614,
                    11.261198387145997,
                    7.4787211227417005,
                    1.3716270828247072,
                    7.730419483184814,
                    15.651178941726688,
                    11.818767375946045,
                    18.17645421981812,
                    12.384812297821046,
                    5.79477433204651,
                    13.443566894531251,
                    9.921448183059693,
                    11.923242464065554,
                    6.286194190979004,
                    6.782220535278321,
                    7.107438402175904,
                    4.4935343456268315,
                    0.7792330646514893,
                    8.326314430236817,
                    -1.4838410663604737,
                    -0.23032426834106445,
                    5.8749271774292,
                    0.4044494152069092,
                    6.873613204956055,
                    5.600012130737306,
                    0.6736524200439453,
                    0.03758892059326172,
                    1.8823941802978517,
                    -0.5430124950408937,
                    5.227255334854127,
                    4.554524211883545,
                    -1.4047937774658203,
                    -0.6544894409179688,
                    7.812967700958253,
                    1.7281690502166749,
                    5.683481645584107,
                    -0.8052136421203614,
                    -0.890157232284546,
                    -2.3456223487854007,
                    -0.1479603099822998,
                    -0.33701046943664553,
                    -1.972497034072876,
                    -0.26127985000610354,
                    1.9478062725067138,
                    1.6332754516601564,
                    -0.0018425941467285158,
                    0.4344836997985841,
                    1.1538324546813965,
                    0.12584918022155764,
                    -4.8436272335052495,
                    -2.247043561935425,
                    -1.6010300540924074,
                    -0.9552008056640626,
                    -0.45198834419250494,
                    0.028744468688964846,
                    -0.5688088130950928,
                    -0.01990001678466797,
                    0.01271389961242676,
                    -0.7580432319641114
                  ],
                  "yaxis": "y"
                }
              ],
              "layout": {
                "legend": {
                  "tracegroupgap": 0
                },
                "template": {
                  "data": {
                    "bar": [
                      {
                        "error_x": {
                          "color": "#2a3f5f"
                        },
                        "error_y": {
                          "color": "#2a3f5f"
                        },
                        "marker": {
                          "line": {
                            "color": "#E5ECF6",
                            "width": 0.5
                          },
                          "pattern": {
                            "fillmode": "overlay",
                            "size": 10,
                            "solidity": 0.2
                          }
                        },
                        "type": "bar"
                      }
                    ],
                    "barpolar": [
                      {
                        "marker": {
                          "line": {
                            "color": "#E5ECF6",
                            "width": 0.5
                          },
                          "pattern": {
                            "fillmode": "overlay",
                            "size": 10,
                            "solidity": 0.2
                          }
                        },
                        "type": "barpolar"
                      }
                    ],
                    "carpet": [
                      {
                        "aaxis": {
                          "endlinecolor": "#2a3f5f",
                          "gridcolor": "white",
                          "linecolor": "white",
                          "minorgridcolor": "white",
                          "startlinecolor": "#2a3f5f"
                        },
                        "baxis": {
                          "endlinecolor": "#2a3f5f",
                          "gridcolor": "white",
                          "linecolor": "white",
                          "minorgridcolor": "white",
                          "startlinecolor": "#2a3f5f"
                        },
                        "type": "carpet"
                      }
                    ],
                    "choropleth": [
                      {
                        "colorbar": {
                          "outlinewidth": 0,
                          "ticks": ""
                        },
                        "type": "choropleth"
                      }
                    ],
                    "contour": [
                      {
                        "colorbar": {
                          "outlinewidth": 0,
                          "ticks": ""
                        },
                        "colorscale": [
                          [
                            0,
                            "#0d0887"
                          ],
                          [
                            0.1111111111111111,
                            "#46039f"
                          ],
                          [
                            0.2222222222222222,
                            "#7201a8"
                          ],
                          [
                            0.3333333333333333,
                            "#9c179e"
                          ],
                          [
                            0.4444444444444444,
                            "#bd3786"
                          ],
                          [
                            0.5555555555555556,
                            "#d8576b"
                          ],
                          [
                            0.6666666666666666,
                            "#ed7953"
                          ],
                          [
                            0.7777777777777778,
                            "#fb9f3a"
                          ],
                          [
                            0.8888888888888888,
                            "#fdca26"
                          ],
                          [
                            1,
                            "#f0f921"
                          ]
                        ],
                        "type": "contour"
                      }
                    ],
                    "contourcarpet": [
                      {
                        "colorbar": {
                          "outlinewidth": 0,
                          "ticks": ""
                        },
                        "type": "contourcarpet"
                      }
                    ],
                    "heatmap": [
                      {
                        "colorbar": {
                          "outlinewidth": 0,
                          "ticks": ""
                        },
                        "colorscale": [
                          [
                            0,
                            "#0d0887"
                          ],
                          [
                            0.1111111111111111,
                            "#46039f"
                          ],
                          [
                            0.2222222222222222,
                            "#7201a8"
                          ],
                          [
                            0.3333333333333333,
                            "#9c179e"
                          ],
                          [
                            0.4444444444444444,
                            "#bd3786"
                          ],
                          [
                            0.5555555555555556,
                            "#d8576b"
                          ],
                          [
                            0.6666666666666666,
                            "#ed7953"
                          ],
                          [
                            0.7777777777777778,
                            "#fb9f3a"
                          ],
                          [
                            0.8888888888888888,
                            "#fdca26"
                          ],
                          [
                            1,
                            "#f0f921"
                          ]
                        ],
                        "type": "heatmap"
                      }
                    ],
                    "heatmapgl": [
                      {
                        "colorbar": {
                          "outlinewidth": 0,
                          "ticks": ""
                        },
                        "colorscale": [
                          [
                            0,
                            "#0d0887"
                          ],
                          [
                            0.1111111111111111,
                            "#46039f"
                          ],
                          [
                            0.2222222222222222,
                            "#7201a8"
                          ],
                          [
                            0.3333333333333333,
                            "#9c179e"
                          ],
                          [
                            0.4444444444444444,
                            "#bd3786"
                          ],
                          [
                            0.5555555555555556,
                            "#d8576b"
                          ],
                          [
                            0.6666666666666666,
                            "#ed7953"
                          ],
                          [
                            0.7777777777777778,
                            "#fb9f3a"
                          ],
                          [
                            0.8888888888888888,
                            "#fdca26"
                          ],
                          [
                            1,
                            "#f0f921"
                          ]
                        ],
                        "type": "heatmapgl"
                      }
                    ],
                    "histogram": [
                      {
                        "marker": {
                          "pattern": {
                            "fillmode": "overlay",
                            "size": 10,
                            "solidity": 0.2
                          }
                        },
                        "type": "histogram"
                      }
                    ],
                    "histogram2d": [
                      {
                        "colorbar": {
                          "outlinewidth": 0,
                          "ticks": ""
                        },
                        "colorscale": [
                          [
                            0,
                            "#0d0887"
                          ],
                          [
                            0.1111111111111111,
                            "#46039f"
                          ],
                          [
                            0.2222222222222222,
                            "#7201a8"
                          ],
                          [
                            0.3333333333333333,
                            "#9c179e"
                          ],
                          [
                            0.4444444444444444,
                            "#bd3786"
                          ],
                          [
                            0.5555555555555556,
                            "#d8576b"
                          ],
                          [
                            0.6666666666666666,
                            "#ed7953"
                          ],
                          [
                            0.7777777777777778,
                            "#fb9f3a"
                          ],
                          [
                            0.8888888888888888,
                            "#fdca26"
                          ],
                          [
                            1,
                            "#f0f921"
                          ]
                        ],
                        "type": "histogram2d"
                      }
                    ],
                    "histogram2dcontour": [
                      {
                        "colorbar": {
                          "outlinewidth": 0,
                          "ticks": ""
                        },
                        "colorscale": [
                          [
                            0,
                            "#0d0887"
                          ],
                          [
                            0.1111111111111111,
                            "#46039f"
                          ],
                          [
                            0.2222222222222222,
                            "#7201a8"
                          ],
                          [
                            0.3333333333333333,
                            "#9c179e"
                          ],
                          [
                            0.4444444444444444,
                            "#bd3786"
                          ],
                          [
                            0.5555555555555556,
                            "#d8576b"
                          ],
                          [
                            0.6666666666666666,
                            "#ed7953"
                          ],
                          [
                            0.7777777777777778,
                            "#fb9f3a"
                          ],
                          [
                            0.8888888888888888,
                            "#fdca26"
                          ],
                          [
                            1,
                            "#f0f921"
                          ]
                        ],
                        "type": "histogram2dcontour"
                      }
                    ],
                    "mesh3d": [
                      {
                        "colorbar": {
                          "outlinewidth": 0,
                          "ticks": ""
                        },
                        "type": "mesh3d"
                      }
                    ],
                    "parcoords": [
                      {
                        "line": {
                          "colorbar": {
                            "outlinewidth": 0,
                            "ticks": ""
                          }
                        },
                        "type": "parcoords"
                      }
                    ],
                    "pie": [
                      {
                        "automargin": true,
                        "type": "pie"
                      }
                    ],
                    "scatter": [
                      {
                        "fillpattern": {
                          "fillmode": "overlay",
                          "size": 10,
                          "solidity": 0.2
                        },
                        "type": "scatter"
                      }
                    ],
                    "scatter3d": [
                      {
                        "line": {
                          "colorbar": {
                            "outlinewidth": 0,
                            "ticks": ""
                          }
                        },
                        "marker": {
                          "colorbar": {
                            "outlinewidth": 0,
                            "ticks": ""
                          }
                        },
                        "type": "scatter3d"
                      }
                    ],
                    "scattercarpet": [
                      {
                        "marker": {
                          "colorbar": {
                            "outlinewidth": 0,
                            "ticks": ""
                          }
                        },
                        "type": "scattercarpet"
                      }
                    ],
                    "scattergeo": [
                      {
                        "marker": {
                          "colorbar": {
                            "outlinewidth": 0,
                            "ticks": ""
                          }
                        },
                        "type": "scattergeo"
                      }
                    ],
                    "scattergl": [
                      {
                        "marker": {
                          "colorbar": {
                            "outlinewidth": 0,
                            "ticks": ""
                          }
                        },
                        "type": "scattergl"
                      }
                    ],
                    "scattermapbox": [
                      {
                        "marker": {
                          "colorbar": {
                            "outlinewidth": 0,
                            "ticks": ""
                          }
                        },
                        "type": "scattermapbox"
                      }
                    ],
                    "scatterpolar": [
                      {
                        "marker": {
                          "colorbar": {
                            "outlinewidth": 0,
                            "ticks": ""
                          }
                        },
                        "type": "scatterpolar"
                      }
                    ],
                    "scatterpolargl": [
                      {
                        "marker": {
                          "colorbar": {
                            "outlinewidth": 0,
                            "ticks": ""
                          }
                        },
                        "type": "scatterpolargl"
                      }
                    ],
                    "scatterternary": [
                      {
                        "marker": {
                          "colorbar": {
                            "outlinewidth": 0,
                            "ticks": ""
                          }
                        },
                        "type": "scatterternary"
                      }
                    ],
                    "surface": [
                      {
                        "colorbar": {
                          "outlinewidth": 0,
                          "ticks": ""
                        },
                        "colorscale": [
                          [
                            0,
                            "#0d0887"
                          ],
                          [
                            0.1111111111111111,
                            "#46039f"
                          ],
                          [
                            0.2222222222222222,
                            "#7201a8"
                          ],
                          [
                            0.3333333333333333,
                            "#9c179e"
                          ],
                          [
                            0.4444444444444444,
                            "#bd3786"
                          ],
                          [
                            0.5555555555555556,
                            "#d8576b"
                          ],
                          [
                            0.6666666666666666,
                            "#ed7953"
                          ],
                          [
                            0.7777777777777778,
                            "#fb9f3a"
                          ],
                          [
                            0.8888888888888888,
                            "#fdca26"
                          ],
                          [
                            1,
                            "#f0f921"
                          ]
                        ],
                        "type": "surface"
                      }
                    ],
                    "table": [
                      {
                        "cells": {
                          "fill": {
                            "color": "#EBF0F8"
                          },
                          "line": {
                            "color": "white"
                          }
                        },
                        "header": {
                          "fill": {
                            "color": "#C8D4E3"
                          },
                          "line": {
                            "color": "white"
                          }
                        },
                        "type": "table"
                      }
                    ]
                  },
                  "layout": {
                    "annotationdefaults": {
                      "arrowcolor": "#2a3f5f",
                      "arrowhead": 0,
                      "arrowwidth": 1
                    },
                    "autotypenumbers": "strict",
                    "coloraxis": {
                      "colorbar": {
                        "outlinewidth": 0,
                        "ticks": ""
                      }
                    },
                    "colorscale": {
                      "diverging": [
                        [
                          0,
                          "#8e0152"
                        ],
                        [
                          0.1,
                          "#c51b7d"
                        ],
                        [
                          0.2,
                          "#de77ae"
                        ],
                        [
                          0.3,
                          "#f1b6da"
                        ],
                        [
                          0.4,
                          "#fde0ef"
                        ],
                        [
                          0.5,
                          "#f7f7f7"
                        ],
                        [
                          0.6,
                          "#e6f5d0"
                        ],
                        [
                          0.7,
                          "#b8e186"
                        ],
                        [
                          0.8,
                          "#7fbc41"
                        ],
                        [
                          0.9,
                          "#4d9221"
                        ],
                        [
                          1,
                          "#276419"
                        ]
                      ],
                      "sequential": [
                        [
                          0,
                          "#0d0887"
                        ],
                        [
                          0.1111111111111111,
                          "#46039f"
                        ],
                        [
                          0.2222222222222222,
                          "#7201a8"
                        ],
                        [
                          0.3333333333333333,
                          "#9c179e"
                        ],
                        [
                          0.4444444444444444,
                          "#bd3786"
                        ],
                        [
                          0.5555555555555556,
                          "#d8576b"
                        ],
                        [
                          0.6666666666666666,
                          "#ed7953"
                        ],
                        [
                          0.7777777777777778,
                          "#fb9f3a"
                        ],
                        [
                          0.8888888888888888,
                          "#fdca26"
                        ],
                        [
                          1,
                          "#f0f921"
                        ]
                      ],
                      "sequentialminus": [
                        [
                          0,
                          "#0d0887"
                        ],
                        [
                          0.1111111111111111,
                          "#46039f"
                        ],
                        [
                          0.2222222222222222,
                          "#7201a8"
                        ],
                        [
                          0.3333333333333333,
                          "#9c179e"
                        ],
                        [
                          0.4444444444444444,
                          "#bd3786"
                        ],
                        [
                          0.5555555555555556,
                          "#d8576b"
                        ],
                        [
                          0.6666666666666666,
                          "#ed7953"
                        ],
                        [
                          0.7777777777777778,
                          "#fb9f3a"
                        ],
                        [
                          0.8888888888888888,
                          "#fdca26"
                        ],
                        [
                          1,
                          "#f0f921"
                        ]
                      ]
                    },
                    "colorway": [
                      "#636efa",
                      "#EF553B",
                      "#00cc96",
                      "#ab63fa",
                      "#FFA15A",
                      "#19d3f3",
                      "#FF6692",
                      "#B6E880",
                      "#FF97FF",
                      "#FECB52"
                    ],
                    "font": {
                      "color": "#2a3f5f"
                    },
                    "geo": {
                      "bgcolor": "white",
                      "lakecolor": "white",
                      "landcolor": "#E5ECF6",
                      "showlakes": true,
                      "showland": true,
                      "subunitcolor": "white"
                    },
                    "hoverlabel": {
                      "align": "left"
                    },
                    "hovermode": "closest",
                    "mapbox": {
                      "style": "light"
                    },
                    "paper_bgcolor": "white",
                    "plot_bgcolor": "#E5ECF6",
                    "polar": {
                      "angularaxis": {
                        "gridcolor": "white",
                        "linecolor": "white",
                        "ticks": ""
                      },
                      "bgcolor": "#E5ECF6",
                      "radialaxis": {
                        "gridcolor": "white",
                        "linecolor": "white",
                        "ticks": ""
                      }
                    },
                    "scene": {
                      "xaxis": {
                        "backgroundcolor": "#E5ECF6",
                        "gridcolor": "white",
                        "gridwidth": 2,
                        "linecolor": "white",
                        "showbackground": true,
                        "ticks": "",
                        "zerolinecolor": "white"
                      },
                      "yaxis": {
                        "backgroundcolor": "#E5ECF6",
                        "gridcolor": "white",
                        "gridwidth": 2,
                        "linecolor": "white",
                        "showbackground": true,
                        "ticks": "",
                        "zerolinecolor": "white"
                      },
                      "zaxis": {
                        "backgroundcolor": "#E5ECF6",
                        "gridcolor": "white",
                        "gridwidth": 2,
                        "linecolor": "white",
                        "showbackground": true,
                        "ticks": "",
                        "zerolinecolor": "white"
                      }
                    },
                    "shapedefaults": {
                      "line": {
                        "color": "#2a3f5f"
                      }
                    },
                    "ternary": {
                      "aaxis": {
                        "gridcolor": "white",
                        "linecolor": "white",
                        "ticks": ""
                      },
                      "baxis": {
                        "gridcolor": "white",
                        "linecolor": "white",
                        "ticks": ""
                      },
                      "bgcolor": "#E5ECF6",
                      "caxis": {
                        "gridcolor": "white",
                        "linecolor": "white",
                        "ticks": ""
                      }
                    },
                    "title": {
                      "x": 0.05
                    },
                    "xaxis": {
                      "automargin": true,
                      "gridcolor": "white",
                      "linecolor": "white",
                      "ticks": "",
                      "title": {
                        "standoff": 15
                      },
                      "zerolinecolor": "white",
                      "zerolinewidth": 2
                    },
                    "yaxis": {
                      "automargin": true,
                      "gridcolor": "white",
                      "linecolor": "white",
                      "ticks": "",
                      "title": {
                        "standoff": 15
                      },
                      "zerolinecolor": "white",
                      "zerolinewidth": 2
                    }
                  }
                },
                "title": {
                  "text": "Evolución de la aceleración de la cadera"
                },
                "xaxis": {
                  "anchor": "y",
                  "domain": [
                    0,
                    1
                  ],
                  "title": {
                    "text": "Tiempo"
                  }
                },
                "yaxis": {
                  "anchor": "x",
                  "domain": [
                    0,
                    1
                  ],
                  "title": {
                    "text": "Aceleración de la cadera"
                  }
                }
              }
            }
          },
          "metadata": {},
          "output_type": "display_data"
        }
      ],
      "source": [
        "#-------------------VERSION CON PLOTLY---------------------------\n",
        "\n",
        "window_size = 50\n",
        "left_hip_y_smoothed = df_completo['LEFT_HIP_Y'].rolling(window=window_size).mean()\n",
        "left_knee_y_smoothed = df_completo['LEFT_KNEE_Y'].rolling(window=window_size).mean()\n",
        "\n",
        "#------------POSICIONES DE CADERA Y RODILLA----------------------\n",
        "trace1 = go.Scatter(x=df_completo.index, y=left_hip_y_smoothed, mode='lines', name='Altura de la cadera', line=dict(color='blue'))\n",
        "trace2 = go.Scatter(x=df_completo.index, y=left_knee_y_smoothed, mode='lines', name='Posición de la rodilla', line=dict(color='red'))\n",
        "\n",
        "fig_posiciones = make_subplots(rows=1, cols=1, shared_xaxes=True, vertical_spacing=0.1)\n",
        "fig_posiciones.add_trace(trace1, row=1, col=1)\n",
        "fig_posiciones.add_trace(trace2, row=1, col=1)\n",
        "\n",
        "fig_posiciones.update_layout(\n",
        "    title='Evolución de la posición de la cadera y la rodilla con respecto al tiempo',\n",
        "    xaxis=dict(title='Tiempo'),\n",
        "    yaxis=dict(title='Posición', autorange='reversed'),  # Invertir eje Y\n",
        "    yaxis2=dict(title='Posición', autorange='reversed'),  # Invertir eje Y\n",
        "    legend=dict(x=0.7, y=1.1),\n",
        "    height=600,\n",
        "    width=800\n",
        ")\n",
        "\n",
        "\n",
        "#------------VELOCIDAD----------------------\n",
        "# Crear figura para la velocidad de la cadera\n",
        "fig_velocidad = px.line(df_completo, x='Tiempo', y='Velocidad(Cadera)_Y', title='Evolución de la velocidad de la cadera')\n",
        "fig_velocidad.update_xaxes(title_text='Tiempo')\n",
        "fig_velocidad.update_yaxes(title_text='Velocidad de la cadera')\n",
        "\n",
        "\n",
        "#-----------ACELERACIÓN---------------------\n",
        "# Crear figura para la aceleración de la cadera\n",
        "fig_aceleracion = px.line(df_completo, x='Tiempo', y='Aceleracion(Cadera)_Y', title='Evolución de la aceleración de la cadera')\n",
        "fig_aceleracion.update_xaxes(title_text='Tiempo')\n",
        "fig_aceleracion.update_yaxes(title_text='Aceleración de la cadera')\n",
        "\n",
        "# Mostrar las figuras\n",
        "fig_posiciones.show()\n",
        "fig_velocidad.show()\n",
        "fig_aceleracion.show()"
      ]
    },
    {
      "cell_type": "code",
      "execution_count": null,
      "metadata": {
        "colab": {
          "base_uri": "https://localhost:8080/"
        },
        "id": "OFoN9SHL-l8O",
        "outputId": "95785ef3-d7cc-4a2b-8479-53d36b5cccd0"
      },
      "outputs": [
        {
          "data": {
            "text/plain": [
              "0.1796517130576536"
            ]
          },
          "execution_count": 26,
          "metadata": {},
          "output_type": "execute_result"
        }
      ],
      "source": [
        "coordenadas_a_distancia((0.57, 0.322), (0.66, 0.293))"
      ]
    }
  ],
  "metadata": {
    "colab": {
      "provenance": []
    },
    "kernelspec": {
      "display_name": "Python 3",
      "name": "python3"
    },
    "language_info": {
      "codemirror_mode": {
        "name": "ipython",
        "version": 3
      },
      "file_extension": ".py",
      "mimetype": "text/x-python",
      "name": "python",
      "nbconvert_exporter": "python",
      "pygments_lexer": "ipython3",
      "version": "3.11.7"
    }
  },
  "nbformat": 4,
  "nbformat_minor": 0
}
